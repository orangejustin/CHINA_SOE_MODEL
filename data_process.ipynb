{
 "cells": [
  {
   "cell_type": "code",
   "execution_count": 1,
   "metadata": {
    "collapsed": true
   },
   "outputs": [],
   "source": [
    "import pandas as pd\n",
    "from googletrans import Translator"
   ]
  },
  {
   "cell_type": "markdown",
   "source": [
    "### dataframe of Power Cell"
   ],
   "metadata": {
    "collapsed": false
   }
  },
  {
   "cell_type": "code",
   "execution_count": 2,
   "outputs": [],
   "source": [
    "power_sale = \"raw data/Power Sale.csv\"\n",
    "power_sale = pd.read_csv(power_sale, header=None)"
   ],
   "metadata": {
    "collapsed": false
   }
  },
  {
   "cell_type": "code",
   "execution_count": 3,
   "outputs": [
    {
     "data": {
      "text/plain": "      0      1                2     3             4             5   \\\n0    NaN    NaN              NaN   NaN          2021           NaN   \n1   电厂分类     电厂             所在电网  地理位置  总发电量\\n(亿千瓦时)  总售电量\\n(亿千瓦时)   \n2     燃煤   准能电力             华北电网   内蒙古          36.3          32.9   \n3     燃煤  国华准格尔             华北电网   内蒙古           NaN           NaN   \n4     燃煤   国华呼电             华北电网   内蒙古           NaN           NaN   \n5     燃煤   神东电力  西北/华北/\\n陕西省地方电网   内蒙古         240.3         222.1   \n6     燃煤   胜利能源             华北电网   内蒙古           9.4           8.4   \n7     燃煤   沧东电力             华北电网    河北         114.4         108.8   \n8     燃煤   三河电力             华北电网    河北           NaN           NaN   \n9     燃煤   定州电力             华北电网    河北         117.6         108.8   \n10    燃煤   台山电力             南方电网    广东         267.1         252.4   \n11    燃煤   惠州热电             南方电网    广东          38.0          34.3   \n12    燃煤   浙能电力             华东电网    浙江           NaN           NaN   \n13    燃煤   舟山电力             华东电网    浙江           NaN           NaN   \n14    燃煤   神皖能源             华东电网    安徽           NaN           NaN   \n15    燃煤   太仓电力             华东电网    江苏           NaN           NaN   \n16    燃煤  陈家港电力             华东电网    江苏           NaN           NaN   \n17    燃煤   徐州电力             华东电网    江苏           NaN           NaN   \n18    燃煤   绥中电力             华东电网    辽宁           NaN           NaN   \n19    燃煤   福建能源             华东电网    福建         171.9         164.6   \n20    燃煤   锦界能源             华北电网    陕西         214.5         198.3   \n21    燃煤   神木电力             西北电网    陕西           NaN           NaN   \n22    燃煤   寿光电力             华北电网    山东         109.8         104.7   \n23    燃煤   国华宁东             浙江电网    宁夏           NaN           NaN   \n24    燃煤   宁东电力             西北电网    宁夏           NaN           NaN   \n25    燃煤   盘山电力             华北电网    天津           NaN           NaN   \n26    燃煤   九江电力             华中电网    江西         120.5         115.0   \n27    燃煤   四川能源             四川电网    四川          61.0          56.1   \n28    燃煤   孟津电力             华中电网    河南          48.8          45.6   \n29    燃煤   柳州电力             广西电网    广西          40.8          38.7   \n30    燃煤   永州电力             湖南电网    湖南          10.6          10.2   \n31    燃煤  南苏EMM              PLN    印尼          17.6          15.5   \n32    燃气   北京燃气             华北电网    北京          38.5          37.7   \n33    燃气   余姚电力             华东电网    浙江           NaN           NaN   \n34    水电   四川能源          四川省地方电网    四川           7.4           7.2   \n35    风能   珠海风能             南方电网    广东           NaN           NaN   \n\n              6                7              8              9   ...  \\\n0            NaN              NaN            NaN            NaN  ...   \n1   平均利用小时\\n(小时)  售电标准煤耗\\n(克/千瓦时)  售电电价\\n(元/兆瓦时)  年底总装机容量\\n(兆瓦)  ...   \n2        5,504.0            347.0          299.0          660.0  ...   \n3            NaN              NaN            NaN            NaN  ...   \n4            NaN              NaN            NaN            NaN  ...   \n5        4,792.0            320.0          323.0        5,014.0  ...   \n6          712.0            352.0          278.0        1,320.0  ...   \n7        4,539.0            297.0          323.0        2,520.0  ...   \n8            NaN              NaN            NaN            NaN  ...   \n9        4,666.0            304.0          324.0        2,520.0  ...   \n10       5,218.0            307.0          394.0        5,120.0  ...   \n11       5,760.0            307.0          371.0          660.0  ...   \n12           NaN              NaN            NaN            NaN  ...   \n13           NaN              NaN            NaN            NaN  ...   \n14           NaN              NaN            NaN            NaN  ...   \n15           NaN              NaN            NaN            NaN  ...   \n16           NaN              NaN            NaN            NaN  ...   \n17           NaN              NaN            NaN            NaN  ...   \n18           NaN              NaN            NaN            NaN  ...   \n19       6,014.0            294.0          357.0        3,810.0  ...   \n20       5,765.0            312.0          267.0        3,720.0  ...   \n21           NaN              NaN            NaN            NaN  ...   \n22       5,434.0            275.0          357.0        2,020.0  ...   \n23           NaN              NaN            NaN            NaN  ...   \n24           NaN              NaN            NaN            NaN  ...   \n25           NaN              NaN            NaN            NaN  ...   \n26       6,023.0            276.0          364.0        2,000.0  ...   \n27       3,468.0            325.0          424.0        3,260.0  ...   \n28       4,068.0            303.0          295.0        1,200.0  ...   \n29       5,826.0            314.0          366.0          700.0  ...   \n30         664.0            280.0          467.0        2,000.0  ...   \n31       5,858.0            365.0          465.0          300.0  ...   \n32       4,057.0            193.0          565.0          950.0  ...   \n33           NaN              NaN            NaN            NaN  ...   \n34       5,921.0               /           224.0          125.0  ...   \n35           NaN              NaN            NaN            NaN  ...   \n\n               25             26              27            28            29  \\\n0             NaN            NaN             NaN          2018           NaN   \n1   售电电价\\n(元/兆瓦时)  年底总装机容量\\n(兆瓦)  年底权益装机容量\\n(兆瓦)  总发电量\\n(亿千瓦时)  总售电量\\n(亿千瓦时)   \n2           230.0            660             381            33            29   \n3             NaN            NaN             NaN            71            65   \n4             NaN            NaN             NaN            60            54   \n5           294.0          5,814           5,328           335           307   \n6            -              -               -              NaN          -      \n7           318.0          2,520           1,285           132           126   \n8             NaN            NaN             NaN            68            64   \n9           315.0          2,520           1,021           139           129   \n10          391.0          5,090           4,072           239           226   \n11          377.0            660             660            34            31   \n12            NaN            NaN             NaN           224           212   \n13            NaN            NaN             NaN            48            44   \n14            NaN            NaN             NaN           237           226   \n15            NaN            NaN             NaN            71            68   \n16            NaN            NaN             NaN            69            66   \n17            NaN            NaN             NaN            93            88   \n18            NaN            NaN             NaN           176           165   \n19          345.0          2,810           1,375           156           149   \n20          272.0          2,400           1,680           165           152   \n21            NaN            NaN             NaN             1             1   \n22          348.0          2,020           1,212            34            30   \n23            NaN            NaN             NaN            50            48   \n24            NaN            NaN             NaN           115           110   \n25            NaN            NaN             NaN            69            65   \n26          359.0          2,000           2,000            28            25   \n27          392.0          1,260             604            51            48   \n28          308.0          1,200             612            20            19   \n29          344.0            700             490            57            55   \n30           -              -               -              NaN          -      \n31          523.0            300             210            16            14   \n32          573.0            950             950            39            38   \n33            NaN            NaN             NaN            19            19   \n34          556.0            125              48             7             7   \n35            NaN            NaN             NaN            –             –    \n\n              30               31             32             33  \\\n0            NaN              NaN            NaN            NaN   \n1   平均利用小时\\n(小时)  售电标准煤耗\\n(克/千瓦时)  售电电价\\n(元/兆瓦时)  年底总装机容量\\n(兆瓦)   \n2          3,392              367            213            960   \n3          5,411              310            236          1,320   \n4          5,019              321            236          1,200   \n5          3,723              337            255          8,984   \n6            NaN              NaN           -              -      \n7          5,244              300            315          2,520   \n8          5,119              291            327          1,330   \n9          5,522              307            320          2,520   \n10         4,694              309            354          5,090   \n11         5,187              324            358            660   \n12         4,944              299            353          4,520   \n13         5,236              331            361            910   \n14         5,066              299            322          5,920   \n15         5,608              294            309          1,260   \n16         5,187              284            318          1,320   \n17         4,651              289            340          2,000   \n18         4,672              310            309          3,760   \n19         5,241              282            341          2,800   \n20         6,892              322            267          2,400   \n21            –               377            306             –    \n22         2,659              332            386          1,260   \n23         4,197              307            300          1,200   \n24         5,705              280            339          2,020   \n25         5,202              302            226          1,320   \n26         4,207              363            234            660   \n27         4,807              312            355          1,060   \n28         2,832              321            345            700   \n29         2,857              281            354          2,000   \n30           NaN              NaN           -              -      \n31         5,302              367            510            300   \n32         4,131              200            589            950   \n33         2,474              232            503            780   \n34         5,517               –             222            125   \n35            –                –              –              –    \n\n                34  \n0              NaN  \n1   年底权益装机容量\\n(兆瓦)  \n2              554  \n3              639  \n4              960  \n5            8,726  \n6             -     \n7            1,285  \n8              512  \n9            1,021  \n10           4,072  \n11             660  \n12           2,712  \n13             464  \n14           3,019  \n15             630  \n16             726  \n17           2,000  \n18           1,880  \n19           1,375  \n20           1,680  \n21              –   \n22             604  \n23             612  \n24           1,212  \n25             749  \n26             660  \n27             482  \n28             490  \n29           2,000  \n30            -     \n31             210  \n32             950  \n33             624  \n34              48  \n35              –   \n\n[36 rows x 35 columns]",
      "text/html": "<div>\n<style scoped>\n    .dataframe tbody tr th:only-of-type {\n        vertical-align: middle;\n    }\n\n    .dataframe tbody tr th {\n        vertical-align: top;\n    }\n\n    .dataframe thead th {\n        text-align: right;\n    }\n</style>\n<table border=\"1\" class=\"dataframe\">\n  <thead>\n    <tr style=\"text-align: right;\">\n      <th></th>\n      <th>0</th>\n      <th>1</th>\n      <th>2</th>\n      <th>3</th>\n      <th>4</th>\n      <th>5</th>\n      <th>6</th>\n      <th>7</th>\n      <th>8</th>\n      <th>9</th>\n      <th>...</th>\n      <th>25</th>\n      <th>26</th>\n      <th>27</th>\n      <th>28</th>\n      <th>29</th>\n      <th>30</th>\n      <th>31</th>\n      <th>32</th>\n      <th>33</th>\n      <th>34</th>\n    </tr>\n  </thead>\n  <tbody>\n    <tr>\n      <th>0</th>\n      <td>NaN</td>\n      <td>NaN</td>\n      <td>NaN</td>\n      <td>NaN</td>\n      <td>2021</td>\n      <td>NaN</td>\n      <td>NaN</td>\n      <td>NaN</td>\n      <td>NaN</td>\n      <td>NaN</td>\n      <td>...</td>\n      <td>NaN</td>\n      <td>NaN</td>\n      <td>NaN</td>\n      <td>2018</td>\n      <td>NaN</td>\n      <td>NaN</td>\n      <td>NaN</td>\n      <td>NaN</td>\n      <td>NaN</td>\n      <td>NaN</td>\n    </tr>\n    <tr>\n      <th>1</th>\n      <td>电厂分类</td>\n      <td>电厂</td>\n      <td>所在电网</td>\n      <td>地理位置</td>\n      <td>总发电量\\n(亿千瓦时)</td>\n      <td>总售电量\\n(亿千瓦时)</td>\n      <td>平均利用小时\\n(小时)</td>\n      <td>售电标准煤耗\\n(克/千瓦时)</td>\n      <td>售电电价\\n(元/兆瓦时)</td>\n      <td>年底总装机容量\\n(兆瓦)</td>\n      <td>...</td>\n      <td>售电电价\\n(元/兆瓦时)</td>\n      <td>年底总装机容量\\n(兆瓦)</td>\n      <td>年底权益装机容量\\n(兆瓦)</td>\n      <td>总发电量\\n(亿千瓦时)</td>\n      <td>总售电量\\n(亿千瓦时)</td>\n      <td>平均利用小时\\n(小时)</td>\n      <td>售电标准煤耗\\n(克/千瓦时)</td>\n      <td>售电电价\\n(元/兆瓦时)</td>\n      <td>年底总装机容量\\n(兆瓦)</td>\n      <td>年底权益装机容量\\n(兆瓦)</td>\n    </tr>\n    <tr>\n      <th>2</th>\n      <td>燃煤</td>\n      <td>准能电力</td>\n      <td>华北电网</td>\n      <td>内蒙古</td>\n      <td>36.3</td>\n      <td>32.9</td>\n      <td>5,504.0</td>\n      <td>347.0</td>\n      <td>299.0</td>\n      <td>660.0</td>\n      <td>...</td>\n      <td>230.0</td>\n      <td>660</td>\n      <td>381</td>\n      <td>33</td>\n      <td>29</td>\n      <td>3,392</td>\n      <td>367</td>\n      <td>213</td>\n      <td>960</td>\n      <td>554</td>\n    </tr>\n    <tr>\n      <th>3</th>\n      <td>燃煤</td>\n      <td>国华准格尔</td>\n      <td>华北电网</td>\n      <td>内蒙古</td>\n      <td>NaN</td>\n      <td>NaN</td>\n      <td>NaN</td>\n      <td>NaN</td>\n      <td>NaN</td>\n      <td>NaN</td>\n      <td>...</td>\n      <td>NaN</td>\n      <td>NaN</td>\n      <td>NaN</td>\n      <td>71</td>\n      <td>65</td>\n      <td>5,411</td>\n      <td>310</td>\n      <td>236</td>\n      <td>1,320</td>\n      <td>639</td>\n    </tr>\n    <tr>\n      <th>4</th>\n      <td>燃煤</td>\n      <td>国华呼电</td>\n      <td>华北电网</td>\n      <td>内蒙古</td>\n      <td>NaN</td>\n      <td>NaN</td>\n      <td>NaN</td>\n      <td>NaN</td>\n      <td>NaN</td>\n      <td>NaN</td>\n      <td>...</td>\n      <td>NaN</td>\n      <td>NaN</td>\n      <td>NaN</td>\n      <td>60</td>\n      <td>54</td>\n      <td>5,019</td>\n      <td>321</td>\n      <td>236</td>\n      <td>1,200</td>\n      <td>960</td>\n    </tr>\n    <tr>\n      <th>5</th>\n      <td>燃煤</td>\n      <td>神东电力</td>\n      <td>西北/华北/\\n陕西省地方电网</td>\n      <td>内蒙古</td>\n      <td>240.3</td>\n      <td>222.1</td>\n      <td>4,792.0</td>\n      <td>320.0</td>\n      <td>323.0</td>\n      <td>5,014.0</td>\n      <td>...</td>\n      <td>294.0</td>\n      <td>5,814</td>\n      <td>5,328</td>\n      <td>335</td>\n      <td>307</td>\n      <td>3,723</td>\n      <td>337</td>\n      <td>255</td>\n      <td>8,984</td>\n      <td>8,726</td>\n    </tr>\n    <tr>\n      <th>6</th>\n      <td>燃煤</td>\n      <td>胜利能源</td>\n      <td>华北电网</td>\n      <td>内蒙古</td>\n      <td>9.4</td>\n      <td>8.4</td>\n      <td>712.0</td>\n      <td>352.0</td>\n      <td>278.0</td>\n      <td>1,320.0</td>\n      <td>...</td>\n      <td>-</td>\n      <td>-</td>\n      <td>-</td>\n      <td>NaN</td>\n      <td>-</td>\n      <td>NaN</td>\n      <td>NaN</td>\n      <td>-</td>\n      <td>-</td>\n      <td>-</td>\n    </tr>\n    <tr>\n      <th>7</th>\n      <td>燃煤</td>\n      <td>沧东电力</td>\n      <td>华北电网</td>\n      <td>河北</td>\n      <td>114.4</td>\n      <td>108.8</td>\n      <td>4,539.0</td>\n      <td>297.0</td>\n      <td>323.0</td>\n      <td>2,520.0</td>\n      <td>...</td>\n      <td>318.0</td>\n      <td>2,520</td>\n      <td>1,285</td>\n      <td>132</td>\n      <td>126</td>\n      <td>5,244</td>\n      <td>300</td>\n      <td>315</td>\n      <td>2,520</td>\n      <td>1,285</td>\n    </tr>\n    <tr>\n      <th>8</th>\n      <td>燃煤</td>\n      <td>三河电力</td>\n      <td>华北电网</td>\n      <td>河北</td>\n      <td>NaN</td>\n      <td>NaN</td>\n      <td>NaN</td>\n      <td>NaN</td>\n      <td>NaN</td>\n      <td>NaN</td>\n      <td>...</td>\n      <td>NaN</td>\n      <td>NaN</td>\n      <td>NaN</td>\n      <td>68</td>\n      <td>64</td>\n      <td>5,119</td>\n      <td>291</td>\n      <td>327</td>\n      <td>1,330</td>\n      <td>512</td>\n    </tr>\n    <tr>\n      <th>9</th>\n      <td>燃煤</td>\n      <td>定州电力</td>\n      <td>华北电网</td>\n      <td>河北</td>\n      <td>117.6</td>\n      <td>108.8</td>\n      <td>4,666.0</td>\n      <td>304.0</td>\n      <td>324.0</td>\n      <td>2,520.0</td>\n      <td>...</td>\n      <td>315.0</td>\n      <td>2,520</td>\n      <td>1,021</td>\n      <td>139</td>\n      <td>129</td>\n      <td>5,522</td>\n      <td>307</td>\n      <td>320</td>\n      <td>2,520</td>\n      <td>1,021</td>\n    </tr>\n    <tr>\n      <th>10</th>\n      <td>燃煤</td>\n      <td>台山电力</td>\n      <td>南方电网</td>\n      <td>广东</td>\n      <td>267.1</td>\n      <td>252.4</td>\n      <td>5,218.0</td>\n      <td>307.0</td>\n      <td>394.0</td>\n      <td>5,120.0</td>\n      <td>...</td>\n      <td>391.0</td>\n      <td>5,090</td>\n      <td>4,072</td>\n      <td>239</td>\n      <td>226</td>\n      <td>4,694</td>\n      <td>309</td>\n      <td>354</td>\n      <td>5,090</td>\n      <td>4,072</td>\n    </tr>\n    <tr>\n      <th>11</th>\n      <td>燃煤</td>\n      <td>惠州热电</td>\n      <td>南方电网</td>\n      <td>广东</td>\n      <td>38.0</td>\n      <td>34.3</td>\n      <td>5,760.0</td>\n      <td>307.0</td>\n      <td>371.0</td>\n      <td>660.0</td>\n      <td>...</td>\n      <td>377.0</td>\n      <td>660</td>\n      <td>660</td>\n      <td>34</td>\n      <td>31</td>\n      <td>5,187</td>\n      <td>324</td>\n      <td>358</td>\n      <td>660</td>\n      <td>660</td>\n    </tr>\n    <tr>\n      <th>12</th>\n      <td>燃煤</td>\n      <td>浙能电力</td>\n      <td>华东电网</td>\n      <td>浙江</td>\n      <td>NaN</td>\n      <td>NaN</td>\n      <td>NaN</td>\n      <td>NaN</td>\n      <td>NaN</td>\n      <td>NaN</td>\n      <td>...</td>\n      <td>NaN</td>\n      <td>NaN</td>\n      <td>NaN</td>\n      <td>224</td>\n      <td>212</td>\n      <td>4,944</td>\n      <td>299</td>\n      <td>353</td>\n      <td>4,520</td>\n      <td>2,712</td>\n    </tr>\n    <tr>\n      <th>13</th>\n      <td>燃煤</td>\n      <td>舟山电力</td>\n      <td>华东电网</td>\n      <td>浙江</td>\n      <td>NaN</td>\n      <td>NaN</td>\n      <td>NaN</td>\n      <td>NaN</td>\n      <td>NaN</td>\n      <td>NaN</td>\n      <td>...</td>\n      <td>NaN</td>\n      <td>NaN</td>\n      <td>NaN</td>\n      <td>48</td>\n      <td>44</td>\n      <td>5,236</td>\n      <td>331</td>\n      <td>361</td>\n      <td>910</td>\n      <td>464</td>\n    </tr>\n    <tr>\n      <th>14</th>\n      <td>燃煤</td>\n      <td>神皖能源</td>\n      <td>华东电网</td>\n      <td>安徽</td>\n      <td>NaN</td>\n      <td>NaN</td>\n      <td>NaN</td>\n      <td>NaN</td>\n      <td>NaN</td>\n      <td>NaN</td>\n      <td>...</td>\n      <td>NaN</td>\n      <td>NaN</td>\n      <td>NaN</td>\n      <td>237</td>\n      <td>226</td>\n      <td>5,066</td>\n      <td>299</td>\n      <td>322</td>\n      <td>5,920</td>\n      <td>3,019</td>\n    </tr>\n    <tr>\n      <th>15</th>\n      <td>燃煤</td>\n      <td>太仓电力</td>\n      <td>华东电网</td>\n      <td>江苏</td>\n      <td>NaN</td>\n      <td>NaN</td>\n      <td>NaN</td>\n      <td>NaN</td>\n      <td>NaN</td>\n      <td>NaN</td>\n      <td>...</td>\n      <td>NaN</td>\n      <td>NaN</td>\n      <td>NaN</td>\n      <td>71</td>\n      <td>68</td>\n      <td>5,608</td>\n      <td>294</td>\n      <td>309</td>\n      <td>1,260</td>\n      <td>630</td>\n    </tr>\n    <tr>\n      <th>16</th>\n      <td>燃煤</td>\n      <td>陈家港电力</td>\n      <td>华东电网</td>\n      <td>江苏</td>\n      <td>NaN</td>\n      <td>NaN</td>\n      <td>NaN</td>\n      <td>NaN</td>\n      <td>NaN</td>\n      <td>NaN</td>\n      <td>...</td>\n      <td>NaN</td>\n      <td>NaN</td>\n      <td>NaN</td>\n      <td>69</td>\n      <td>66</td>\n      <td>5,187</td>\n      <td>284</td>\n      <td>318</td>\n      <td>1,320</td>\n      <td>726</td>\n    </tr>\n    <tr>\n      <th>17</th>\n      <td>燃煤</td>\n      <td>徐州电力</td>\n      <td>华东电网</td>\n      <td>江苏</td>\n      <td>NaN</td>\n      <td>NaN</td>\n      <td>NaN</td>\n      <td>NaN</td>\n      <td>NaN</td>\n      <td>NaN</td>\n      <td>...</td>\n      <td>NaN</td>\n      <td>NaN</td>\n      <td>NaN</td>\n      <td>93</td>\n      <td>88</td>\n      <td>4,651</td>\n      <td>289</td>\n      <td>340</td>\n      <td>2,000</td>\n      <td>2,000</td>\n    </tr>\n    <tr>\n      <th>18</th>\n      <td>燃煤</td>\n      <td>绥中电力</td>\n      <td>华东电网</td>\n      <td>辽宁</td>\n      <td>NaN</td>\n      <td>NaN</td>\n      <td>NaN</td>\n      <td>NaN</td>\n      <td>NaN</td>\n      <td>NaN</td>\n      <td>...</td>\n      <td>NaN</td>\n      <td>NaN</td>\n      <td>NaN</td>\n      <td>176</td>\n      <td>165</td>\n      <td>4,672</td>\n      <td>310</td>\n      <td>309</td>\n      <td>3,760</td>\n      <td>1,880</td>\n    </tr>\n    <tr>\n      <th>19</th>\n      <td>燃煤</td>\n      <td>福建能源</td>\n      <td>华东电网</td>\n      <td>福建</td>\n      <td>171.9</td>\n      <td>164.6</td>\n      <td>6,014.0</td>\n      <td>294.0</td>\n      <td>357.0</td>\n      <td>3,810.0</td>\n      <td>...</td>\n      <td>345.0</td>\n      <td>2,810</td>\n      <td>1,375</td>\n      <td>156</td>\n      <td>149</td>\n      <td>5,241</td>\n      <td>282</td>\n      <td>341</td>\n      <td>2,800</td>\n      <td>1,375</td>\n    </tr>\n    <tr>\n      <th>20</th>\n      <td>燃煤</td>\n      <td>锦界能源</td>\n      <td>华北电网</td>\n      <td>陕西</td>\n      <td>214.5</td>\n      <td>198.3</td>\n      <td>5,765.0</td>\n      <td>312.0</td>\n      <td>267.0</td>\n      <td>3,720.0</td>\n      <td>...</td>\n      <td>272.0</td>\n      <td>2,400</td>\n      <td>1,680</td>\n      <td>165</td>\n      <td>152</td>\n      <td>6,892</td>\n      <td>322</td>\n      <td>267</td>\n      <td>2,400</td>\n      <td>1,680</td>\n    </tr>\n    <tr>\n      <th>21</th>\n      <td>燃煤</td>\n      <td>神木电力</td>\n      <td>西北电网</td>\n      <td>陕西</td>\n      <td>NaN</td>\n      <td>NaN</td>\n      <td>NaN</td>\n      <td>NaN</td>\n      <td>NaN</td>\n      <td>NaN</td>\n      <td>...</td>\n      <td>NaN</td>\n      <td>NaN</td>\n      <td>NaN</td>\n      <td>1</td>\n      <td>1</td>\n      <td>–</td>\n      <td>377</td>\n      <td>306</td>\n      <td>–</td>\n      <td>–</td>\n    </tr>\n    <tr>\n      <th>22</th>\n      <td>燃煤</td>\n      <td>寿光电力</td>\n      <td>华北电网</td>\n      <td>山东</td>\n      <td>109.8</td>\n      <td>104.7</td>\n      <td>5,434.0</td>\n      <td>275.0</td>\n      <td>357.0</td>\n      <td>2,020.0</td>\n      <td>...</td>\n      <td>348.0</td>\n      <td>2,020</td>\n      <td>1,212</td>\n      <td>34</td>\n      <td>30</td>\n      <td>2,659</td>\n      <td>332</td>\n      <td>386</td>\n      <td>1,260</td>\n      <td>604</td>\n    </tr>\n    <tr>\n      <th>23</th>\n      <td>燃煤</td>\n      <td>国华宁东</td>\n      <td>浙江电网</td>\n      <td>宁夏</td>\n      <td>NaN</td>\n      <td>NaN</td>\n      <td>NaN</td>\n      <td>NaN</td>\n      <td>NaN</td>\n      <td>NaN</td>\n      <td>...</td>\n      <td>NaN</td>\n      <td>NaN</td>\n      <td>NaN</td>\n      <td>50</td>\n      <td>48</td>\n      <td>4,197</td>\n      <td>307</td>\n      <td>300</td>\n      <td>1,200</td>\n      <td>612</td>\n    </tr>\n    <tr>\n      <th>24</th>\n      <td>燃煤</td>\n      <td>宁东电力</td>\n      <td>西北电网</td>\n      <td>宁夏</td>\n      <td>NaN</td>\n      <td>NaN</td>\n      <td>NaN</td>\n      <td>NaN</td>\n      <td>NaN</td>\n      <td>NaN</td>\n      <td>...</td>\n      <td>NaN</td>\n      <td>NaN</td>\n      <td>NaN</td>\n      <td>115</td>\n      <td>110</td>\n      <td>5,705</td>\n      <td>280</td>\n      <td>339</td>\n      <td>2,020</td>\n      <td>1,212</td>\n    </tr>\n    <tr>\n      <th>25</th>\n      <td>燃煤</td>\n      <td>盘山电力</td>\n      <td>华北电网</td>\n      <td>天津</td>\n      <td>NaN</td>\n      <td>NaN</td>\n      <td>NaN</td>\n      <td>NaN</td>\n      <td>NaN</td>\n      <td>NaN</td>\n      <td>...</td>\n      <td>NaN</td>\n      <td>NaN</td>\n      <td>NaN</td>\n      <td>69</td>\n      <td>65</td>\n      <td>5,202</td>\n      <td>302</td>\n      <td>226</td>\n      <td>1,320</td>\n      <td>749</td>\n    </tr>\n    <tr>\n      <th>26</th>\n      <td>燃煤</td>\n      <td>九江电力</td>\n      <td>华中电网</td>\n      <td>江西</td>\n      <td>120.5</td>\n      <td>115.0</td>\n      <td>6,023.0</td>\n      <td>276.0</td>\n      <td>364.0</td>\n      <td>2,000.0</td>\n      <td>...</td>\n      <td>359.0</td>\n      <td>2,000</td>\n      <td>2,000</td>\n      <td>28</td>\n      <td>25</td>\n      <td>4,207</td>\n      <td>363</td>\n      <td>234</td>\n      <td>660</td>\n      <td>660</td>\n    </tr>\n    <tr>\n      <th>27</th>\n      <td>燃煤</td>\n      <td>四川能源</td>\n      <td>四川电网</td>\n      <td>四川</td>\n      <td>61.0</td>\n      <td>56.1</td>\n      <td>3,468.0</td>\n      <td>325.0</td>\n      <td>424.0</td>\n      <td>3,260.0</td>\n      <td>...</td>\n      <td>392.0</td>\n      <td>1,260</td>\n      <td>604</td>\n      <td>51</td>\n      <td>48</td>\n      <td>4,807</td>\n      <td>312</td>\n      <td>355</td>\n      <td>1,060</td>\n      <td>482</td>\n    </tr>\n    <tr>\n      <th>28</th>\n      <td>燃煤</td>\n      <td>孟津电力</td>\n      <td>华中电网</td>\n      <td>河南</td>\n      <td>48.8</td>\n      <td>45.6</td>\n      <td>4,068.0</td>\n      <td>303.0</td>\n      <td>295.0</td>\n      <td>1,200.0</td>\n      <td>...</td>\n      <td>308.0</td>\n      <td>1,200</td>\n      <td>612</td>\n      <td>20</td>\n      <td>19</td>\n      <td>2,832</td>\n      <td>321</td>\n      <td>345</td>\n      <td>700</td>\n      <td>490</td>\n    </tr>\n    <tr>\n      <th>29</th>\n      <td>燃煤</td>\n      <td>柳州电力</td>\n      <td>广西电网</td>\n      <td>广西</td>\n      <td>40.8</td>\n      <td>38.7</td>\n      <td>5,826.0</td>\n      <td>314.0</td>\n      <td>366.0</td>\n      <td>700.0</td>\n      <td>...</td>\n      <td>344.0</td>\n      <td>700</td>\n      <td>490</td>\n      <td>57</td>\n      <td>55</td>\n      <td>2,857</td>\n      <td>281</td>\n      <td>354</td>\n      <td>2,000</td>\n      <td>2,000</td>\n    </tr>\n    <tr>\n      <th>30</th>\n      <td>燃煤</td>\n      <td>永州电力</td>\n      <td>湖南电网</td>\n      <td>湖南</td>\n      <td>10.6</td>\n      <td>10.2</td>\n      <td>664.0</td>\n      <td>280.0</td>\n      <td>467.0</td>\n      <td>2,000.0</td>\n      <td>...</td>\n      <td>-</td>\n      <td>-</td>\n      <td>-</td>\n      <td>NaN</td>\n      <td>-</td>\n      <td>NaN</td>\n      <td>NaN</td>\n      <td>-</td>\n      <td>-</td>\n      <td>-</td>\n    </tr>\n    <tr>\n      <th>31</th>\n      <td>燃煤</td>\n      <td>南苏EMM</td>\n      <td>PLN</td>\n      <td>印尼</td>\n      <td>17.6</td>\n      <td>15.5</td>\n      <td>5,858.0</td>\n      <td>365.0</td>\n      <td>465.0</td>\n      <td>300.0</td>\n      <td>...</td>\n      <td>523.0</td>\n      <td>300</td>\n      <td>210</td>\n      <td>16</td>\n      <td>14</td>\n      <td>5,302</td>\n      <td>367</td>\n      <td>510</td>\n      <td>300</td>\n      <td>210</td>\n    </tr>\n    <tr>\n      <th>32</th>\n      <td>燃气</td>\n      <td>北京燃气</td>\n      <td>华北电网</td>\n      <td>北京</td>\n      <td>38.5</td>\n      <td>37.7</td>\n      <td>4,057.0</td>\n      <td>193.0</td>\n      <td>565.0</td>\n      <td>950.0</td>\n      <td>...</td>\n      <td>573.0</td>\n      <td>950</td>\n      <td>950</td>\n      <td>39</td>\n      <td>38</td>\n      <td>4,131</td>\n      <td>200</td>\n      <td>589</td>\n      <td>950</td>\n      <td>950</td>\n    </tr>\n    <tr>\n      <th>33</th>\n      <td>燃气</td>\n      <td>余姚电力</td>\n      <td>华东电网</td>\n      <td>浙江</td>\n      <td>NaN</td>\n      <td>NaN</td>\n      <td>NaN</td>\n      <td>NaN</td>\n      <td>NaN</td>\n      <td>NaN</td>\n      <td>...</td>\n      <td>NaN</td>\n      <td>NaN</td>\n      <td>NaN</td>\n      <td>19</td>\n      <td>19</td>\n      <td>2,474</td>\n      <td>232</td>\n      <td>503</td>\n      <td>780</td>\n      <td>624</td>\n    </tr>\n    <tr>\n      <th>34</th>\n      <td>水电</td>\n      <td>四川能源</td>\n      <td>四川省地方电网</td>\n      <td>四川</td>\n      <td>7.4</td>\n      <td>7.2</td>\n      <td>5,921.0</td>\n      <td>/</td>\n      <td>224.0</td>\n      <td>125.0</td>\n      <td>...</td>\n      <td>556.0</td>\n      <td>125</td>\n      <td>48</td>\n      <td>7</td>\n      <td>7</td>\n      <td>5,517</td>\n      <td>–</td>\n      <td>222</td>\n      <td>125</td>\n      <td>48</td>\n    </tr>\n    <tr>\n      <th>35</th>\n      <td>风能</td>\n      <td>珠海风能</td>\n      <td>南方电网</td>\n      <td>广东</td>\n      <td>NaN</td>\n      <td>NaN</td>\n      <td>NaN</td>\n      <td>NaN</td>\n      <td>NaN</td>\n      <td>NaN</td>\n      <td>...</td>\n      <td>NaN</td>\n      <td>NaN</td>\n      <td>NaN</td>\n      <td>–</td>\n      <td>–</td>\n      <td>–</td>\n      <td>–</td>\n      <td>–</td>\n      <td>–</td>\n      <td>–</td>\n    </tr>\n  </tbody>\n</table>\n<p>36 rows × 35 columns</p>\n</div>"
     },
     "execution_count": 3,
     "metadata": {},
     "output_type": "execute_result"
    }
   ],
   "source": [
    "power_sale"
   ],
   "metadata": {
    "collapsed": false
   }
  },
  {
   "cell_type": "code",
   "execution_count": 4,
   "outputs": [],
   "source": [
    "power_sale.loc[0] = power_sale.loc[0].fillna(method='ffill').fillna('')\n",
    "power_sale.columns = power_sale.loc[0]\n",
    "# power_sale = power_sale.drop(columns=['Remove'])\n",
    "power_sale.iloc[1] = power_sale.iloc[1].str.replace('\\n', ' ')\n",
    "power_sale.columns = power_sale.iloc[1] + ' ' + power_sale.iloc[0]\n",
    "power_sale = power_sale.drop(index = [0,1])\n",
    "power_sale = power_sale.reset_index(drop=True)\n",
    "# replace other symbol of None value to None\n",
    "power_sale = power_sale.replace(['-','/','  -   ',' – '], None)"
   ],
   "metadata": {
    "collapsed": false
   }
  },
  {
   "cell_type": "code",
   "execution_count": 5,
   "outputs": [
    {
     "data": {
      "text/plain": "   电厂分类     电厂             所在电网  地理位置  总发电量 (亿千瓦时) 2021 总售电量 (亿千瓦时) 2021  \\\n0     燃煤   准能电力             华北电网   内蒙古             36.3             32.9   \n1     燃煤  国华准格尔             华北电网   内蒙古              NaN              NaN   \n2     燃煤   国华呼电             华北电网   内蒙古              NaN              NaN   \n3     燃煤   神东电力  西北/华北/\\n陕西省地方电网   内蒙古            240.3            222.1   \n4     燃煤   胜利能源             华北电网   内蒙古              9.4              8.4   \n5     燃煤   沧东电力             华北电网    河北            114.4            108.8   \n6     燃煤   三河电力             华北电网    河北              NaN              NaN   \n7     燃煤   定州电力             华北电网    河北            117.6            108.8   \n8     燃煤   台山电力             南方电网    广东            267.1            252.4   \n9     燃煤   惠州热电             南方电网    广东             38.0             34.3   \n10    燃煤   浙能电力             华东电网    浙江              NaN              NaN   \n11    燃煤   舟山电力             华东电网    浙江              NaN              NaN   \n12    燃煤   神皖能源             华东电网    安徽              NaN              NaN   \n13    燃煤   太仓电力             华东电网    江苏              NaN              NaN   \n14    燃煤  陈家港电力             华东电网    江苏              NaN              NaN   \n15    燃煤   徐州电力             华东电网    江苏              NaN              NaN   \n16    燃煤   绥中电力             华东电网    辽宁              NaN              NaN   \n17    燃煤   福建能源             华东电网    福建            171.9            164.6   \n18    燃煤   锦界能源             华北电网    陕西            214.5            198.3   \n19    燃煤   神木电力             西北电网    陕西              NaN              NaN   \n20    燃煤   寿光电力             华北电网    山东            109.8            104.7   \n21    燃煤   国华宁东             浙江电网    宁夏              NaN              NaN   \n22    燃煤   宁东电力             西北电网    宁夏              NaN              NaN   \n23    燃煤   盘山电力             华北电网    天津              NaN              NaN   \n24    燃煤   九江电力             华中电网    江西            120.5            115.0   \n25    燃煤   四川能源             四川电网    四川             61.0             56.1   \n26    燃煤   孟津电力             华中电网    河南             48.8             45.6   \n27    燃煤   柳州电力             广西电网    广西             40.8             38.7   \n28    燃煤   永州电力             湖南电网    湖南             10.6             10.2   \n29    燃煤  南苏EMM              PLN    印尼             17.6             15.5   \n30    燃气   北京燃气             华北电网    北京             38.5             37.7   \n31    燃气   余姚电力             华东电网    浙江              NaN              NaN   \n32    水电   四川能源          四川省地方电网    四川              7.4              7.2   \n33    风能   珠海风能             南方电网    广东              NaN              NaN   \n\n   平均利用小时 (小时) 2021 售电标准煤耗 (克/千瓦时) 2021 售电电价 (元/兆瓦时) 2021 年底总装机容量 (兆瓦) 2021  \\\n0           5,504.0               347.0             299.0             660.0   \n1               NaN                 NaN               NaN               NaN   \n2               NaN                 NaN               NaN               NaN   \n3           4,792.0               320.0             323.0           5,014.0   \n4             712.0               352.0             278.0           1,320.0   \n5           4,539.0               297.0             323.0           2,520.0   \n6               NaN                 NaN               NaN               NaN   \n7           4,666.0               304.0             324.0           2,520.0   \n8           5,218.0               307.0             394.0           5,120.0   \n9           5,760.0               307.0             371.0             660.0   \n10              NaN                 NaN               NaN               NaN   \n11              NaN                 NaN               NaN               NaN   \n12              NaN                 NaN               NaN               NaN   \n13              NaN                 NaN               NaN               NaN   \n14              NaN                 NaN               NaN               NaN   \n15              NaN                 NaN               NaN               NaN   \n16              NaN                 NaN               NaN               NaN   \n17          6,014.0               294.0             357.0           3,810.0   \n18          5,765.0               312.0             267.0           3,720.0   \n19              NaN                 NaN               NaN               NaN   \n20          5,434.0               275.0             357.0           2,020.0   \n21              NaN                 NaN               NaN               NaN   \n22              NaN                 NaN               NaN               NaN   \n23              NaN                 NaN               NaN               NaN   \n24          6,023.0               276.0             364.0           2,000.0   \n25          3,468.0               325.0             424.0           3,260.0   \n26          4,068.0               303.0             295.0           1,200.0   \n27          5,826.0               314.0             366.0             700.0   \n28            664.0               280.0             467.0           2,000.0   \n29          5,858.0               365.0             465.0             300.0   \n30          4,057.0               193.0             565.0             950.0   \n31              NaN                 NaN               NaN               NaN   \n32          5,921.0                  /              224.0             125.0   \n33              NaN                 NaN               NaN               NaN   \n\n    ... 售电电价 (元/兆瓦时) 2019 年底总装机容量 (兆瓦) 2019 年底权益装机容量 (兆瓦) 2019  \\\n0   ...             230.0               660                381   \n1   ...               NaN               NaN                NaN   \n2   ...               NaN               NaN                NaN   \n3   ...             294.0             5,814              5,328   \n4   ...              None              None               None   \n5   ...             318.0             2,520              1,285   \n6   ...               NaN               NaN                NaN   \n7   ...             315.0             2,520              1,021   \n8   ...             391.0             5,090              4,072   \n9   ...             377.0               660                660   \n10  ...               NaN               NaN                NaN   \n11  ...               NaN               NaN                NaN   \n12  ...               NaN               NaN                NaN   \n13  ...               NaN               NaN                NaN   \n14  ...               NaN               NaN                NaN   \n15  ...               NaN               NaN                NaN   \n16  ...               NaN               NaN                NaN   \n17  ...             345.0             2,810              1,375   \n18  ...             272.0             2,400              1,680   \n19  ...               NaN               NaN                NaN   \n20  ...             348.0             2,020              1,212   \n21  ...               NaN               NaN                NaN   \n22  ...               NaN               NaN                NaN   \n23  ...               NaN               NaN                NaN   \n24  ...             359.0             2,000              2,000   \n25  ...             392.0             1,260                604   \n26  ...             308.0             1,200                612   \n27  ...             344.0               700                490   \n28  ...              None              None               None   \n29  ...             523.0               300                210   \n30  ...             573.0               950                950   \n31  ...               NaN               NaN                NaN   \n32  ...             556.0               125                 48   \n33  ...               NaN               NaN                NaN   \n\n   总发电量 (亿千瓦时) 2018 总售电量 (亿千瓦时) 2018 平均利用小时 (小时) 2018 售电标准煤耗 (克/千瓦时) 2018  \\\n0                33               29            3,392                 367   \n1                71               65            5,411                 310   \n2                60               54            5,019                 321   \n3               335              307            3,723                 337   \n4               NaN             None              NaN                 NaN   \n5               132              126            5,244                 300   \n6                68               64            5,119                 291   \n7               139              129            5,522                 307   \n8               239              226            4,694                 309   \n9                34               31            5,187                 324   \n10              224              212            4,944                 299   \n11               48               44            5,236                 331   \n12              237              226            5,066                 299   \n13               71               68            5,608                 294   \n14               69               66            5,187                 284   \n15               93               88            4,651                 289   \n16              176              165            4,672                 310   \n17              156              149            5,241                 282   \n18              165              152            6,892                 322   \n19                1                1             None                 377   \n20               34               30            2,659                 332   \n21               50               48            4,197                 307   \n22              115              110            5,705                 280   \n23               69               65            5,202                 302   \n24               28               25            4,207                 363   \n25               51               48            4,807                 312   \n26               20               19            2,832                 321   \n27               57               55            2,857                 281   \n28              NaN             None              NaN                 NaN   \n29               16               14            5,302                 367   \n30               39               38            4,131                 200   \n31               19               19            2,474                 232   \n32                7                7            5,517                None   \n33             None             None             None                None   \n\n   售电电价 (元/兆瓦时) 2018 年底总装机容量 (兆瓦) 2018 年底权益装机容量 (兆瓦) 2018  \n0                213               960                554  \n1                236             1,320                639  \n2                236             1,200                960  \n3                255             8,984              8,726  \n4               None              None               None  \n5                315             2,520              1,285  \n6                327             1,330                512  \n7                320             2,520              1,021  \n8                354             5,090              4,072  \n9                358               660                660  \n10               353             4,520              2,712  \n11               361               910                464  \n12               322             5,920              3,019  \n13               309             1,260                630  \n14               318             1,320                726  \n15               340             2,000              2,000  \n16               309             3,760              1,880  \n17               341             2,800              1,375  \n18               267             2,400              1,680  \n19               306              None               None  \n20               386             1,260                604  \n21               300             1,200                612  \n22               339             2,020              1,212  \n23               226             1,320                749  \n24               234               660                660  \n25               355             1,060                482  \n26               345               700                490  \n27               354             2,000              2,000  \n28              None              None               None  \n29               510               300                210  \n30               589               950                950  \n31               503               780                624  \n32               222               125                 48  \n33              None              None               None  \n\n[34 rows x 35 columns]",
      "text/html": "<div>\n<style scoped>\n    .dataframe tbody tr th:only-of-type {\n        vertical-align: middle;\n    }\n\n    .dataframe tbody tr th {\n        vertical-align: top;\n    }\n\n    .dataframe thead th {\n        text-align: right;\n    }\n</style>\n<table border=\"1\" class=\"dataframe\">\n  <thead>\n    <tr style=\"text-align: right;\">\n      <th></th>\n      <th>电厂分类</th>\n      <th>电厂</th>\n      <th>所在电网</th>\n      <th>地理位置</th>\n      <th>总发电量 (亿千瓦时) 2021</th>\n      <th>总售电量 (亿千瓦时) 2021</th>\n      <th>平均利用小时 (小时) 2021</th>\n      <th>售电标准煤耗 (克/千瓦时) 2021</th>\n      <th>售电电价 (元/兆瓦时) 2021</th>\n      <th>年底总装机容量 (兆瓦) 2021</th>\n      <th>...</th>\n      <th>售电电价 (元/兆瓦时) 2019</th>\n      <th>年底总装机容量 (兆瓦) 2019</th>\n      <th>年底权益装机容量 (兆瓦) 2019</th>\n      <th>总发电量 (亿千瓦时) 2018</th>\n      <th>总售电量 (亿千瓦时) 2018</th>\n      <th>平均利用小时 (小时) 2018</th>\n      <th>售电标准煤耗 (克/千瓦时) 2018</th>\n      <th>售电电价 (元/兆瓦时) 2018</th>\n      <th>年底总装机容量 (兆瓦) 2018</th>\n      <th>年底权益装机容量 (兆瓦) 2018</th>\n    </tr>\n  </thead>\n  <tbody>\n    <tr>\n      <th>0</th>\n      <td>燃煤</td>\n      <td>准能电力</td>\n      <td>华北电网</td>\n      <td>内蒙古</td>\n      <td>36.3</td>\n      <td>32.9</td>\n      <td>5,504.0</td>\n      <td>347.0</td>\n      <td>299.0</td>\n      <td>660.0</td>\n      <td>...</td>\n      <td>230.0</td>\n      <td>660</td>\n      <td>381</td>\n      <td>33</td>\n      <td>29</td>\n      <td>3,392</td>\n      <td>367</td>\n      <td>213</td>\n      <td>960</td>\n      <td>554</td>\n    </tr>\n    <tr>\n      <th>1</th>\n      <td>燃煤</td>\n      <td>国华准格尔</td>\n      <td>华北电网</td>\n      <td>内蒙古</td>\n      <td>NaN</td>\n      <td>NaN</td>\n      <td>NaN</td>\n      <td>NaN</td>\n      <td>NaN</td>\n      <td>NaN</td>\n      <td>...</td>\n      <td>NaN</td>\n      <td>NaN</td>\n      <td>NaN</td>\n      <td>71</td>\n      <td>65</td>\n      <td>5,411</td>\n      <td>310</td>\n      <td>236</td>\n      <td>1,320</td>\n      <td>639</td>\n    </tr>\n    <tr>\n      <th>2</th>\n      <td>燃煤</td>\n      <td>国华呼电</td>\n      <td>华北电网</td>\n      <td>内蒙古</td>\n      <td>NaN</td>\n      <td>NaN</td>\n      <td>NaN</td>\n      <td>NaN</td>\n      <td>NaN</td>\n      <td>NaN</td>\n      <td>...</td>\n      <td>NaN</td>\n      <td>NaN</td>\n      <td>NaN</td>\n      <td>60</td>\n      <td>54</td>\n      <td>5,019</td>\n      <td>321</td>\n      <td>236</td>\n      <td>1,200</td>\n      <td>960</td>\n    </tr>\n    <tr>\n      <th>3</th>\n      <td>燃煤</td>\n      <td>神东电力</td>\n      <td>西北/华北/\\n陕西省地方电网</td>\n      <td>内蒙古</td>\n      <td>240.3</td>\n      <td>222.1</td>\n      <td>4,792.0</td>\n      <td>320.0</td>\n      <td>323.0</td>\n      <td>5,014.0</td>\n      <td>...</td>\n      <td>294.0</td>\n      <td>5,814</td>\n      <td>5,328</td>\n      <td>335</td>\n      <td>307</td>\n      <td>3,723</td>\n      <td>337</td>\n      <td>255</td>\n      <td>8,984</td>\n      <td>8,726</td>\n    </tr>\n    <tr>\n      <th>4</th>\n      <td>燃煤</td>\n      <td>胜利能源</td>\n      <td>华北电网</td>\n      <td>内蒙古</td>\n      <td>9.4</td>\n      <td>8.4</td>\n      <td>712.0</td>\n      <td>352.0</td>\n      <td>278.0</td>\n      <td>1,320.0</td>\n      <td>...</td>\n      <td>None</td>\n      <td>None</td>\n      <td>None</td>\n      <td>NaN</td>\n      <td>None</td>\n      <td>NaN</td>\n      <td>NaN</td>\n      <td>None</td>\n      <td>None</td>\n      <td>None</td>\n    </tr>\n    <tr>\n      <th>5</th>\n      <td>燃煤</td>\n      <td>沧东电力</td>\n      <td>华北电网</td>\n      <td>河北</td>\n      <td>114.4</td>\n      <td>108.8</td>\n      <td>4,539.0</td>\n      <td>297.0</td>\n      <td>323.0</td>\n      <td>2,520.0</td>\n      <td>...</td>\n      <td>318.0</td>\n      <td>2,520</td>\n      <td>1,285</td>\n      <td>132</td>\n      <td>126</td>\n      <td>5,244</td>\n      <td>300</td>\n      <td>315</td>\n      <td>2,520</td>\n      <td>1,285</td>\n    </tr>\n    <tr>\n      <th>6</th>\n      <td>燃煤</td>\n      <td>三河电力</td>\n      <td>华北电网</td>\n      <td>河北</td>\n      <td>NaN</td>\n      <td>NaN</td>\n      <td>NaN</td>\n      <td>NaN</td>\n      <td>NaN</td>\n      <td>NaN</td>\n      <td>...</td>\n      <td>NaN</td>\n      <td>NaN</td>\n      <td>NaN</td>\n      <td>68</td>\n      <td>64</td>\n      <td>5,119</td>\n      <td>291</td>\n      <td>327</td>\n      <td>1,330</td>\n      <td>512</td>\n    </tr>\n    <tr>\n      <th>7</th>\n      <td>燃煤</td>\n      <td>定州电力</td>\n      <td>华北电网</td>\n      <td>河北</td>\n      <td>117.6</td>\n      <td>108.8</td>\n      <td>4,666.0</td>\n      <td>304.0</td>\n      <td>324.0</td>\n      <td>2,520.0</td>\n      <td>...</td>\n      <td>315.0</td>\n      <td>2,520</td>\n      <td>1,021</td>\n      <td>139</td>\n      <td>129</td>\n      <td>5,522</td>\n      <td>307</td>\n      <td>320</td>\n      <td>2,520</td>\n      <td>1,021</td>\n    </tr>\n    <tr>\n      <th>8</th>\n      <td>燃煤</td>\n      <td>台山电力</td>\n      <td>南方电网</td>\n      <td>广东</td>\n      <td>267.1</td>\n      <td>252.4</td>\n      <td>5,218.0</td>\n      <td>307.0</td>\n      <td>394.0</td>\n      <td>5,120.0</td>\n      <td>...</td>\n      <td>391.0</td>\n      <td>5,090</td>\n      <td>4,072</td>\n      <td>239</td>\n      <td>226</td>\n      <td>4,694</td>\n      <td>309</td>\n      <td>354</td>\n      <td>5,090</td>\n      <td>4,072</td>\n    </tr>\n    <tr>\n      <th>9</th>\n      <td>燃煤</td>\n      <td>惠州热电</td>\n      <td>南方电网</td>\n      <td>广东</td>\n      <td>38.0</td>\n      <td>34.3</td>\n      <td>5,760.0</td>\n      <td>307.0</td>\n      <td>371.0</td>\n      <td>660.0</td>\n      <td>...</td>\n      <td>377.0</td>\n      <td>660</td>\n      <td>660</td>\n      <td>34</td>\n      <td>31</td>\n      <td>5,187</td>\n      <td>324</td>\n      <td>358</td>\n      <td>660</td>\n      <td>660</td>\n    </tr>\n    <tr>\n      <th>10</th>\n      <td>燃煤</td>\n      <td>浙能电力</td>\n      <td>华东电网</td>\n      <td>浙江</td>\n      <td>NaN</td>\n      <td>NaN</td>\n      <td>NaN</td>\n      <td>NaN</td>\n      <td>NaN</td>\n      <td>NaN</td>\n      <td>...</td>\n      <td>NaN</td>\n      <td>NaN</td>\n      <td>NaN</td>\n      <td>224</td>\n      <td>212</td>\n      <td>4,944</td>\n      <td>299</td>\n      <td>353</td>\n      <td>4,520</td>\n      <td>2,712</td>\n    </tr>\n    <tr>\n      <th>11</th>\n      <td>燃煤</td>\n      <td>舟山电力</td>\n      <td>华东电网</td>\n      <td>浙江</td>\n      <td>NaN</td>\n      <td>NaN</td>\n      <td>NaN</td>\n      <td>NaN</td>\n      <td>NaN</td>\n      <td>NaN</td>\n      <td>...</td>\n      <td>NaN</td>\n      <td>NaN</td>\n      <td>NaN</td>\n      <td>48</td>\n      <td>44</td>\n      <td>5,236</td>\n      <td>331</td>\n      <td>361</td>\n      <td>910</td>\n      <td>464</td>\n    </tr>\n    <tr>\n      <th>12</th>\n      <td>燃煤</td>\n      <td>神皖能源</td>\n      <td>华东电网</td>\n      <td>安徽</td>\n      <td>NaN</td>\n      <td>NaN</td>\n      <td>NaN</td>\n      <td>NaN</td>\n      <td>NaN</td>\n      <td>NaN</td>\n      <td>...</td>\n      <td>NaN</td>\n      <td>NaN</td>\n      <td>NaN</td>\n      <td>237</td>\n      <td>226</td>\n      <td>5,066</td>\n      <td>299</td>\n      <td>322</td>\n      <td>5,920</td>\n      <td>3,019</td>\n    </tr>\n    <tr>\n      <th>13</th>\n      <td>燃煤</td>\n      <td>太仓电力</td>\n      <td>华东电网</td>\n      <td>江苏</td>\n      <td>NaN</td>\n      <td>NaN</td>\n      <td>NaN</td>\n      <td>NaN</td>\n      <td>NaN</td>\n      <td>NaN</td>\n      <td>...</td>\n      <td>NaN</td>\n      <td>NaN</td>\n      <td>NaN</td>\n      <td>71</td>\n      <td>68</td>\n      <td>5,608</td>\n      <td>294</td>\n      <td>309</td>\n      <td>1,260</td>\n      <td>630</td>\n    </tr>\n    <tr>\n      <th>14</th>\n      <td>燃煤</td>\n      <td>陈家港电力</td>\n      <td>华东电网</td>\n      <td>江苏</td>\n      <td>NaN</td>\n      <td>NaN</td>\n      <td>NaN</td>\n      <td>NaN</td>\n      <td>NaN</td>\n      <td>NaN</td>\n      <td>...</td>\n      <td>NaN</td>\n      <td>NaN</td>\n      <td>NaN</td>\n      <td>69</td>\n      <td>66</td>\n      <td>5,187</td>\n      <td>284</td>\n      <td>318</td>\n      <td>1,320</td>\n      <td>726</td>\n    </tr>\n    <tr>\n      <th>15</th>\n      <td>燃煤</td>\n      <td>徐州电力</td>\n      <td>华东电网</td>\n      <td>江苏</td>\n      <td>NaN</td>\n      <td>NaN</td>\n      <td>NaN</td>\n      <td>NaN</td>\n      <td>NaN</td>\n      <td>NaN</td>\n      <td>...</td>\n      <td>NaN</td>\n      <td>NaN</td>\n      <td>NaN</td>\n      <td>93</td>\n      <td>88</td>\n      <td>4,651</td>\n      <td>289</td>\n      <td>340</td>\n      <td>2,000</td>\n      <td>2,000</td>\n    </tr>\n    <tr>\n      <th>16</th>\n      <td>燃煤</td>\n      <td>绥中电力</td>\n      <td>华东电网</td>\n      <td>辽宁</td>\n      <td>NaN</td>\n      <td>NaN</td>\n      <td>NaN</td>\n      <td>NaN</td>\n      <td>NaN</td>\n      <td>NaN</td>\n      <td>...</td>\n      <td>NaN</td>\n      <td>NaN</td>\n      <td>NaN</td>\n      <td>176</td>\n      <td>165</td>\n      <td>4,672</td>\n      <td>310</td>\n      <td>309</td>\n      <td>3,760</td>\n      <td>1,880</td>\n    </tr>\n    <tr>\n      <th>17</th>\n      <td>燃煤</td>\n      <td>福建能源</td>\n      <td>华东电网</td>\n      <td>福建</td>\n      <td>171.9</td>\n      <td>164.6</td>\n      <td>6,014.0</td>\n      <td>294.0</td>\n      <td>357.0</td>\n      <td>3,810.0</td>\n      <td>...</td>\n      <td>345.0</td>\n      <td>2,810</td>\n      <td>1,375</td>\n      <td>156</td>\n      <td>149</td>\n      <td>5,241</td>\n      <td>282</td>\n      <td>341</td>\n      <td>2,800</td>\n      <td>1,375</td>\n    </tr>\n    <tr>\n      <th>18</th>\n      <td>燃煤</td>\n      <td>锦界能源</td>\n      <td>华北电网</td>\n      <td>陕西</td>\n      <td>214.5</td>\n      <td>198.3</td>\n      <td>5,765.0</td>\n      <td>312.0</td>\n      <td>267.0</td>\n      <td>3,720.0</td>\n      <td>...</td>\n      <td>272.0</td>\n      <td>2,400</td>\n      <td>1,680</td>\n      <td>165</td>\n      <td>152</td>\n      <td>6,892</td>\n      <td>322</td>\n      <td>267</td>\n      <td>2,400</td>\n      <td>1,680</td>\n    </tr>\n    <tr>\n      <th>19</th>\n      <td>燃煤</td>\n      <td>神木电力</td>\n      <td>西北电网</td>\n      <td>陕西</td>\n      <td>NaN</td>\n      <td>NaN</td>\n      <td>NaN</td>\n      <td>NaN</td>\n      <td>NaN</td>\n      <td>NaN</td>\n      <td>...</td>\n      <td>NaN</td>\n      <td>NaN</td>\n      <td>NaN</td>\n      <td>1</td>\n      <td>1</td>\n      <td>None</td>\n      <td>377</td>\n      <td>306</td>\n      <td>None</td>\n      <td>None</td>\n    </tr>\n    <tr>\n      <th>20</th>\n      <td>燃煤</td>\n      <td>寿光电力</td>\n      <td>华北电网</td>\n      <td>山东</td>\n      <td>109.8</td>\n      <td>104.7</td>\n      <td>5,434.0</td>\n      <td>275.0</td>\n      <td>357.0</td>\n      <td>2,020.0</td>\n      <td>...</td>\n      <td>348.0</td>\n      <td>2,020</td>\n      <td>1,212</td>\n      <td>34</td>\n      <td>30</td>\n      <td>2,659</td>\n      <td>332</td>\n      <td>386</td>\n      <td>1,260</td>\n      <td>604</td>\n    </tr>\n    <tr>\n      <th>21</th>\n      <td>燃煤</td>\n      <td>国华宁东</td>\n      <td>浙江电网</td>\n      <td>宁夏</td>\n      <td>NaN</td>\n      <td>NaN</td>\n      <td>NaN</td>\n      <td>NaN</td>\n      <td>NaN</td>\n      <td>NaN</td>\n      <td>...</td>\n      <td>NaN</td>\n      <td>NaN</td>\n      <td>NaN</td>\n      <td>50</td>\n      <td>48</td>\n      <td>4,197</td>\n      <td>307</td>\n      <td>300</td>\n      <td>1,200</td>\n      <td>612</td>\n    </tr>\n    <tr>\n      <th>22</th>\n      <td>燃煤</td>\n      <td>宁东电力</td>\n      <td>西北电网</td>\n      <td>宁夏</td>\n      <td>NaN</td>\n      <td>NaN</td>\n      <td>NaN</td>\n      <td>NaN</td>\n      <td>NaN</td>\n      <td>NaN</td>\n      <td>...</td>\n      <td>NaN</td>\n      <td>NaN</td>\n      <td>NaN</td>\n      <td>115</td>\n      <td>110</td>\n      <td>5,705</td>\n      <td>280</td>\n      <td>339</td>\n      <td>2,020</td>\n      <td>1,212</td>\n    </tr>\n    <tr>\n      <th>23</th>\n      <td>燃煤</td>\n      <td>盘山电力</td>\n      <td>华北电网</td>\n      <td>天津</td>\n      <td>NaN</td>\n      <td>NaN</td>\n      <td>NaN</td>\n      <td>NaN</td>\n      <td>NaN</td>\n      <td>NaN</td>\n      <td>...</td>\n      <td>NaN</td>\n      <td>NaN</td>\n      <td>NaN</td>\n      <td>69</td>\n      <td>65</td>\n      <td>5,202</td>\n      <td>302</td>\n      <td>226</td>\n      <td>1,320</td>\n      <td>749</td>\n    </tr>\n    <tr>\n      <th>24</th>\n      <td>燃煤</td>\n      <td>九江电力</td>\n      <td>华中电网</td>\n      <td>江西</td>\n      <td>120.5</td>\n      <td>115.0</td>\n      <td>6,023.0</td>\n      <td>276.0</td>\n      <td>364.0</td>\n      <td>2,000.0</td>\n      <td>...</td>\n      <td>359.0</td>\n      <td>2,000</td>\n      <td>2,000</td>\n      <td>28</td>\n      <td>25</td>\n      <td>4,207</td>\n      <td>363</td>\n      <td>234</td>\n      <td>660</td>\n      <td>660</td>\n    </tr>\n    <tr>\n      <th>25</th>\n      <td>燃煤</td>\n      <td>四川能源</td>\n      <td>四川电网</td>\n      <td>四川</td>\n      <td>61.0</td>\n      <td>56.1</td>\n      <td>3,468.0</td>\n      <td>325.0</td>\n      <td>424.0</td>\n      <td>3,260.0</td>\n      <td>...</td>\n      <td>392.0</td>\n      <td>1,260</td>\n      <td>604</td>\n      <td>51</td>\n      <td>48</td>\n      <td>4,807</td>\n      <td>312</td>\n      <td>355</td>\n      <td>1,060</td>\n      <td>482</td>\n    </tr>\n    <tr>\n      <th>26</th>\n      <td>燃煤</td>\n      <td>孟津电力</td>\n      <td>华中电网</td>\n      <td>河南</td>\n      <td>48.8</td>\n      <td>45.6</td>\n      <td>4,068.0</td>\n      <td>303.0</td>\n      <td>295.0</td>\n      <td>1,200.0</td>\n      <td>...</td>\n      <td>308.0</td>\n      <td>1,200</td>\n      <td>612</td>\n      <td>20</td>\n      <td>19</td>\n      <td>2,832</td>\n      <td>321</td>\n      <td>345</td>\n      <td>700</td>\n      <td>490</td>\n    </tr>\n    <tr>\n      <th>27</th>\n      <td>燃煤</td>\n      <td>柳州电力</td>\n      <td>广西电网</td>\n      <td>广西</td>\n      <td>40.8</td>\n      <td>38.7</td>\n      <td>5,826.0</td>\n      <td>314.0</td>\n      <td>366.0</td>\n      <td>700.0</td>\n      <td>...</td>\n      <td>344.0</td>\n      <td>700</td>\n      <td>490</td>\n      <td>57</td>\n      <td>55</td>\n      <td>2,857</td>\n      <td>281</td>\n      <td>354</td>\n      <td>2,000</td>\n      <td>2,000</td>\n    </tr>\n    <tr>\n      <th>28</th>\n      <td>燃煤</td>\n      <td>永州电力</td>\n      <td>湖南电网</td>\n      <td>湖南</td>\n      <td>10.6</td>\n      <td>10.2</td>\n      <td>664.0</td>\n      <td>280.0</td>\n      <td>467.0</td>\n      <td>2,000.0</td>\n      <td>...</td>\n      <td>None</td>\n      <td>None</td>\n      <td>None</td>\n      <td>NaN</td>\n      <td>None</td>\n      <td>NaN</td>\n      <td>NaN</td>\n      <td>None</td>\n      <td>None</td>\n      <td>None</td>\n    </tr>\n    <tr>\n      <th>29</th>\n      <td>燃煤</td>\n      <td>南苏EMM</td>\n      <td>PLN</td>\n      <td>印尼</td>\n      <td>17.6</td>\n      <td>15.5</td>\n      <td>5,858.0</td>\n      <td>365.0</td>\n      <td>465.0</td>\n      <td>300.0</td>\n      <td>...</td>\n      <td>523.0</td>\n      <td>300</td>\n      <td>210</td>\n      <td>16</td>\n      <td>14</td>\n      <td>5,302</td>\n      <td>367</td>\n      <td>510</td>\n      <td>300</td>\n      <td>210</td>\n    </tr>\n    <tr>\n      <th>30</th>\n      <td>燃气</td>\n      <td>北京燃气</td>\n      <td>华北电网</td>\n      <td>北京</td>\n      <td>38.5</td>\n      <td>37.7</td>\n      <td>4,057.0</td>\n      <td>193.0</td>\n      <td>565.0</td>\n      <td>950.0</td>\n      <td>...</td>\n      <td>573.0</td>\n      <td>950</td>\n      <td>950</td>\n      <td>39</td>\n      <td>38</td>\n      <td>4,131</td>\n      <td>200</td>\n      <td>589</td>\n      <td>950</td>\n      <td>950</td>\n    </tr>\n    <tr>\n      <th>31</th>\n      <td>燃气</td>\n      <td>余姚电力</td>\n      <td>华东电网</td>\n      <td>浙江</td>\n      <td>NaN</td>\n      <td>NaN</td>\n      <td>NaN</td>\n      <td>NaN</td>\n      <td>NaN</td>\n      <td>NaN</td>\n      <td>...</td>\n      <td>NaN</td>\n      <td>NaN</td>\n      <td>NaN</td>\n      <td>19</td>\n      <td>19</td>\n      <td>2,474</td>\n      <td>232</td>\n      <td>503</td>\n      <td>780</td>\n      <td>624</td>\n    </tr>\n    <tr>\n      <th>32</th>\n      <td>水电</td>\n      <td>四川能源</td>\n      <td>四川省地方电网</td>\n      <td>四川</td>\n      <td>7.4</td>\n      <td>7.2</td>\n      <td>5,921.0</td>\n      <td>/</td>\n      <td>224.0</td>\n      <td>125.0</td>\n      <td>...</td>\n      <td>556.0</td>\n      <td>125</td>\n      <td>48</td>\n      <td>7</td>\n      <td>7</td>\n      <td>5,517</td>\n      <td>None</td>\n      <td>222</td>\n      <td>125</td>\n      <td>48</td>\n    </tr>\n    <tr>\n      <th>33</th>\n      <td>风能</td>\n      <td>珠海风能</td>\n      <td>南方电网</td>\n      <td>广东</td>\n      <td>NaN</td>\n      <td>NaN</td>\n      <td>NaN</td>\n      <td>NaN</td>\n      <td>NaN</td>\n      <td>NaN</td>\n      <td>...</td>\n      <td>NaN</td>\n      <td>NaN</td>\n      <td>NaN</td>\n      <td>None</td>\n      <td>None</td>\n      <td>None</td>\n      <td>None</td>\n      <td>None</td>\n      <td>None</td>\n      <td>None</td>\n    </tr>\n  </tbody>\n</table>\n<p>34 rows × 35 columns</p>\n</div>"
     },
     "execution_count": 5,
     "metadata": {},
     "output_type": "execute_result"
    }
   ],
   "source": [
    "power_sale"
   ],
   "metadata": {
    "collapsed": false
   }
  },
  {
   "cell_type": "code",
   "execution_count": 6,
   "outputs": [
    {
     "data": {
      "text/plain": "1276.5"
     },
     "execution_count": 6,
     "metadata": {},
     "output_type": "execute_result"
    }
   ],
   "source": [
    "power_sale['总售电量 (亿千瓦时) 2020'].astype(float).sum()"
   ],
   "metadata": {
    "collapsed": false
   }
  },
  {
   "cell_type": "code",
   "execution_count": 7,
   "outputs": [],
   "source": [
    "# dataframe forming"
   ],
   "metadata": {
    "collapsed": false
   }
  },
  {
   "cell_type": "code",
   "execution_count": 8,
   "outputs": [],
   "source": [
    "def translate_col(df):\n",
    "    df = df.copy()\n",
    "    translator = Translator()\n",
    "    translate_list = []\n",
    "    for i in df.columns:\n",
    "        translate_list.append(translator.translate(i).text)\n",
    "\n",
    "    return translate_list"
   ],
   "metadata": {
    "collapsed": false
   }
  },
  {
   "cell_type": "code",
   "execution_count": 9,
   "outputs": [],
   "source": [
    "power_sale.columns = translate_col(power_sale)"
   ],
   "metadata": {
    "collapsed": false
   }
  },
  {
   "cell_type": "code",
   "execution_count": 10,
   "outputs": [
    {
     "data": {
      "text/plain": "   Power Plant Classification power plant       Power grid  \\\n0                          燃煤        准能电力             华北电网   \n1                          燃煤       国华准格尔             华北电网   \n2                          燃煤        国华呼电             华北电网   \n3                          燃煤        神东电力  西北/华北/\\n陕西省地方电网   \n4                          燃煤        胜利能源             华北电网   \n5                          燃煤        沧东电力             华北电网   \n6                          燃煤        三河电力             华北电网   \n7                          燃煤        定州电力             华北电网   \n8                          燃煤        台山电力             南方电网   \n9                          燃煤        惠州热电             南方电网   \n10                         燃煤        浙能电力             华东电网   \n11                         燃煤        舟山电力             华东电网   \n12                         燃煤        神皖能源             华东电网   \n13                         燃煤        太仓电力             华东电网   \n14                         燃煤       陈家港电力             华东电网   \n15                         燃煤        徐州电力             华东电网   \n16                         燃煤        绥中电力             华东电网   \n17                         燃煤        福建能源             华东电网   \n18                         燃煤        锦界能源             华北电网   \n19                         燃煤        神木电力             西北电网   \n20                         燃煤        寿光电力             华北电网   \n21                         燃煤        国华宁东             浙江电网   \n22                         燃煤        宁东电力             西北电网   \n23                         燃煤        盘山电力             华北电网   \n24                         燃煤        九江电力             华中电网   \n25                         燃煤        四川能源             四川电网   \n26                         燃煤        孟津电力             华中电网   \n27                         燃煤        柳州电力             广西电网   \n28                         燃煤        永州电力             湖南电网   \n29                         燃煤       南苏EMM              PLN   \n30                         燃气        北京燃气             华北电网   \n31                         燃气        余姚电力             华东电网   \n32                         水电        四川能源          四川省地方电网   \n33                         风能        珠海风能             南方电网   \n\n   geographic location Total power generation (100 million kWh) 2021  \\\n0                  内蒙古                                          36.3   \n1                  内蒙古                                           NaN   \n2                  内蒙古                                           NaN   \n3                  内蒙古                                         240.3   \n4                  内蒙古                                           9.4   \n5                   河北                                         114.4   \n6                   河北                                           NaN   \n7                   河北                                         117.6   \n8                   广东                                         267.1   \n9                   广东                                          38.0   \n10                  浙江                                           NaN   \n11                  浙江                                           NaN   \n12                  安徽                                           NaN   \n13                  江苏                                           NaN   \n14                  江苏                                           NaN   \n15                  江苏                                           NaN   \n16                  辽宁                                           NaN   \n17                  福建                                         171.9   \n18                  陕西                                         214.5   \n19                  陕西                                           NaN   \n20                  山东                                         109.8   \n21                  宁夏                                           NaN   \n22                  宁夏                                           NaN   \n23                  天津                                           NaN   \n24                  江西                                         120.5   \n25                  四川                                          61.0   \n26                  河南                                          48.8   \n27                  广西                                          40.8   \n28                  湖南                                          10.6   \n29                  印尼                                          17.6   \n30                  北京                                          38.5   \n31                  浙江                                           NaN   \n32                  四川                                           7.4   \n33                  广东                                           NaN   \n\n   Total electricity sales (100 million kWh) 2021  \\\n0                                            32.9   \n1                                             NaN   \n2                                             NaN   \n3                                           222.1   \n4                                             8.4   \n5                                           108.8   \n6                                             NaN   \n7                                           108.8   \n8                                           252.4   \n9                                            34.3   \n10                                            NaN   \n11                                            NaN   \n12                                            NaN   \n13                                            NaN   \n14                                            NaN   \n15                                            NaN   \n16                                            NaN   \n17                                          164.6   \n18                                          198.3   \n19                                            NaN   \n20                                          104.7   \n21                                            NaN   \n22                                            NaN   \n23                                            NaN   \n24                                          115.0   \n25                                           56.1   \n26                                           45.6   \n27                                           38.7   \n28                                           10.2   \n29                                           15.5   \n30                                           37.7   \n31                                            NaN   \n32                                            7.2   \n33                                            NaN   \n\n   Average utilization hours (hours) 2021  \\\n0                                 5,504.0   \n1                                     NaN   \n2                                     NaN   \n3                                 4,792.0   \n4                                   712.0   \n5                                 4,539.0   \n6                                     NaN   \n7                                 4,666.0   \n8                                 5,218.0   \n9                                 5,760.0   \n10                                    NaN   \n11                                    NaN   \n12                                    NaN   \n13                                    NaN   \n14                                    NaN   \n15                                    NaN   \n16                                    NaN   \n17                                6,014.0   \n18                                5,765.0   \n19                                    NaN   \n20                                5,434.0   \n21                                    NaN   \n22                                    NaN   \n23                                    NaN   \n24                                6,023.0   \n25                                3,468.0   \n26                                4,068.0   \n27                                5,826.0   \n28                                  664.0   \n29                                5,858.0   \n30                                4,057.0   \n31                                    NaN   \n32                                5,921.0   \n33                                    NaN   \n\n   Standard coal consumption for electricity sales (g/kWh) 2021  \\\n0                                               347.0             \n1                                                 NaN             \n2                                                 NaN             \n3                                               320.0             \n4                                               352.0             \n5                                               297.0             \n6                                                 NaN             \n7                                               304.0             \n8                                               307.0             \n9                                               307.0             \n10                                                NaN             \n11                                                NaN             \n12                                                NaN             \n13                                                NaN             \n14                                                NaN             \n15                                                NaN             \n16                                                NaN             \n17                                              294.0             \n18                                              312.0             \n19                                                NaN             \n20                                              275.0             \n21                                                NaN             \n22                                                NaN             \n23                                                NaN             \n24                                              276.0             \n25                                              325.0             \n26                                              303.0             \n27                                              314.0             \n28                                              280.0             \n29                                              365.0             \n30                                              193.0             \n31                                                NaN             \n32                                                 /              \n33                                                NaN             \n\n   Electricity sales price (yuan/MWh) 2021  \\\n0                                    299.0   \n1                                      NaN   \n2                                      NaN   \n3                                    323.0   \n4                                    278.0   \n5                                    323.0   \n6                                      NaN   \n7                                    324.0   \n8                                    394.0   \n9                                    371.0   \n10                                     NaN   \n11                                     NaN   \n12                                     NaN   \n13                                     NaN   \n14                                     NaN   \n15                                     NaN   \n16                                     NaN   \n17                                   357.0   \n18                                   267.0   \n19                                     NaN   \n20                                   357.0   \n21                                     NaN   \n22                                     NaN   \n23                                     NaN   \n24                                   364.0   \n25                                   424.0   \n26                                   295.0   \n27                                   366.0   \n28                                   467.0   \n29                                   465.0   \n30                                   565.0   \n31                                     NaN   \n32                                   224.0   \n33                                     NaN   \n\n   Total installed capacity by the end of the year (MW) 2021  ...  \\\n0                                               660.0         ...   \n1                                                 NaN         ...   \n2                                                 NaN         ...   \n3                                             5,014.0         ...   \n4                                             1,320.0         ...   \n5                                             2,520.0         ...   \n6                                                 NaN         ...   \n7                                             2,520.0         ...   \n8                                             5,120.0         ...   \n9                                               660.0         ...   \n10                                                NaN         ...   \n11                                                NaN         ...   \n12                                                NaN         ...   \n13                                                NaN         ...   \n14                                                NaN         ...   \n15                                                NaN         ...   \n16                                                NaN         ...   \n17                                            3,810.0         ...   \n18                                            3,720.0         ...   \n19                                                NaN         ...   \n20                                            2,020.0         ...   \n21                                                NaN         ...   \n22                                                NaN         ...   \n23                                                NaN         ...   \n24                                            2,000.0         ...   \n25                                            3,260.0         ...   \n26                                            1,200.0         ...   \n27                                              700.0         ...   \n28                                            2,000.0         ...   \n29                                              300.0         ...   \n30                                              950.0         ...   \n31                                                NaN         ...   \n32                                              125.0         ...   \n33                                                NaN         ...   \n\n   Electricity Sales Price (RMB/MWh) 2019  \\\n0                                   230.0   \n1                                     NaN   \n2                                     NaN   \n3                                   294.0   \n4                                    None   \n5                                   318.0   \n6                                     NaN   \n7                                   315.0   \n8                                   391.0   \n9                                   377.0   \n10                                    NaN   \n11                                    NaN   \n12                                    NaN   \n13                                    NaN   \n14                                    NaN   \n15                                    NaN   \n16                                    NaN   \n17                                  345.0   \n18                                  272.0   \n19                                    NaN   \n20                                  348.0   \n21                                    NaN   \n22                                    NaN   \n23                                    NaN   \n24                                  359.0   \n25                                  392.0   \n26                                  308.0   \n27                                  344.0   \n28                                   None   \n29                                  523.0   \n30                                  573.0   \n31                                    NaN   \n32                                  556.0   \n33                                    NaN   \n\n   Total installed capacity at the end of the year (MW) 2019  \\\n0                                                 660          \n1                                                 NaN          \n2                                                 NaN          \n3                                               5,814          \n4                                                None          \n5                                               2,520          \n6                                                 NaN          \n7                                               2,520          \n8                                               5,090          \n9                                                 660          \n10                                                NaN          \n11                                                NaN          \n12                                                NaN          \n13                                                NaN          \n14                                                NaN          \n15                                                NaN          \n16                                                NaN          \n17                                              2,810          \n18                                              2,400          \n19                                                NaN          \n20                                              2,020          \n21                                                NaN          \n22                                                NaN          \n23                                                NaN          \n24                                              2,000          \n25                                              1,260          \n26                                              1,200          \n27                                                700          \n28                                               None          \n29                                                300          \n30                                                950          \n31                                                NaN          \n32                                                125          \n33                                                NaN          \n\n   Equity installed capacity at the end of the year (MW) 2019  \\\n0                                                 381           \n1                                                 NaN           \n2                                                 NaN           \n3                                               5,328           \n4                                                None           \n5                                               1,285           \n6                                                 NaN           \n7                                               1,021           \n8                                               4,072           \n9                                                 660           \n10                                                NaN           \n11                                                NaN           \n12                                                NaN           \n13                                                NaN           \n14                                                NaN           \n15                                                NaN           \n16                                                NaN           \n17                                              1,375           \n18                                              1,680           \n19                                                NaN           \n20                                              1,212           \n21                                                NaN           \n22                                                NaN           \n23                                                NaN           \n24                                              2,000           \n25                                                604           \n26                                                612           \n27                                                490           \n28                                               None           \n29                                                210           \n30                                                950           \n31                                                NaN           \n32                                                 48           \n33                                                NaN           \n\n   Total power generation (100 million kWh) 2018  \\\n0                                             33   \n1                                             71   \n2                                             60   \n3                                            335   \n4                                            NaN   \n5                                            132   \n6                                             68   \n7                                            139   \n8                                            239   \n9                                             34   \n10                                           224   \n11                                            48   \n12                                           237   \n13                                            71   \n14                                            69   \n15                                            93   \n16                                           176   \n17                                           156   \n18                                           165   \n19                                             1   \n20                                            34   \n21                                            50   \n22                                           115   \n23                                            69   \n24                                            28   \n25                                            51   \n26                                            20   \n27                                            57   \n28                                           NaN   \n29                                            16   \n30                                            39   \n31                                            19   \n32                                             7   \n33                                          None   \n\n   Total electricity sales (100 million kWh) 2018  \\\n0                                              29   \n1                                              65   \n2                                              54   \n3                                             307   \n4                                            None   \n5                                             126   \n6                                              64   \n7                                             129   \n8                                             226   \n9                                              31   \n10                                            212   \n11                                             44   \n12                                            226   \n13                                             68   \n14                                             66   \n15                                             88   \n16                                            165   \n17                                            149   \n18                                            152   \n19                                              1   \n20                                             30   \n21                                             48   \n22                                            110   \n23                                             65   \n24                                             25   \n25                                             48   \n26                                             19   \n27                                             55   \n28                                           None   \n29                                             14   \n30                                             38   \n31                                             19   \n32                                              7   \n33                                           None   \n\n   Average utilization hours (hours) 2018  \\\n0                                   3,392   \n1                                   5,411   \n2                                   5,019   \n3                                   3,723   \n4                                     NaN   \n5                                   5,244   \n6                                   5,119   \n7                                   5,522   \n8                                   4,694   \n9                                   5,187   \n10                                  4,944   \n11                                  5,236   \n12                                  5,066   \n13                                  5,608   \n14                                  5,187   \n15                                  4,651   \n16                                  4,672   \n17                                  5,241   \n18                                  6,892   \n19                                   None   \n20                                  2,659   \n21                                  4,197   \n22                                  5,705   \n23                                  5,202   \n24                                  4,207   \n25                                  4,807   \n26                                  2,832   \n27                                  2,857   \n28                                    NaN   \n29                                  5,302   \n30                                  4,131   \n31                                  2,474   \n32                                  5,517   \n33                                   None   \n\n   Standard coal consumption for electricity sales (g/kWh) 2018  \\\n0                                                 367             \n1                                                 310             \n2                                                 321             \n3                                                 337             \n4                                                 NaN             \n5                                                 300             \n6                                                 291             \n7                                                 307             \n8                                                 309             \n9                                                 324             \n10                                                299             \n11                                                331             \n12                                                299             \n13                                                294             \n14                                                284             \n15                                                289             \n16                                                310             \n17                                                282             \n18                                                322             \n19                                                377             \n20                                                332             \n21                                                307             \n22                                                280             \n23                                                302             \n24                                                363             \n25                                                312             \n26                                                321             \n27                                                281             \n28                                                NaN             \n29                                                367             \n30                                                200             \n31                                                232             \n32                                               None             \n33                                               None             \n\n   Electricity Sales Price (RMB/MWh) 2018  \\\n0                                     213   \n1                                     236   \n2                                     236   \n3                                     255   \n4                                    None   \n5                                     315   \n6                                     327   \n7                                     320   \n8                                     354   \n9                                     358   \n10                                    353   \n11                                    361   \n12                                    322   \n13                                    309   \n14                                    318   \n15                                    340   \n16                                    309   \n17                                    341   \n18                                    267   \n19                                    306   \n20                                    386   \n21                                    300   \n22                                    339   \n23                                    226   \n24                                    234   \n25                                    355   \n26                                    345   \n27                                    354   \n28                                   None   \n29                                    510   \n30                                    589   \n31                                    503   \n32                                    222   \n33                                   None   \n\n   Total installed capacity at the end of the year (MW) 2018  \\\n0                                                 960          \n1                                               1,320          \n2                                               1,200          \n3                                               8,984          \n4                                                None          \n5                                               2,520          \n6                                               1,330          \n7                                               2,520          \n8                                               5,090          \n9                                                 660          \n10                                              4,520          \n11                                                910          \n12                                              5,920          \n13                                              1,260          \n14                                              1,320          \n15                                              2,000          \n16                                              3,760          \n17                                              2,800          \n18                                              2,400          \n19                                               None          \n20                                              1,260          \n21                                              1,200          \n22                                              2,020          \n23                                              1,320          \n24                                                660          \n25                                              1,060          \n26                                                700          \n27                                              2,000          \n28                                               None          \n29                                                300          \n30                                                950          \n31                                                780          \n32                                                125          \n33                                               None          \n\n   Equity installed capacity at the end of the year (MW) 2018  \n0                                                 554          \n1                                                 639          \n2                                                 960          \n3                                               8,726          \n4                                                None          \n5                                               1,285          \n6                                                 512          \n7                                               1,021          \n8                                               4,072          \n9                                                 660          \n10                                              2,712          \n11                                                464          \n12                                              3,019          \n13                                                630          \n14                                                726          \n15                                              2,000          \n16                                              1,880          \n17                                              1,375          \n18                                              1,680          \n19                                               None          \n20                                                604          \n21                                                612          \n22                                              1,212          \n23                                                749          \n24                                                660          \n25                                                482          \n26                                                490          \n27                                              2,000          \n28                                               None          \n29                                                210          \n30                                                950          \n31                                                624          \n32                                                 48          \n33                                               None          \n\n[34 rows x 35 columns]",
      "text/html": "<div>\n<style scoped>\n    .dataframe tbody tr th:only-of-type {\n        vertical-align: middle;\n    }\n\n    .dataframe tbody tr th {\n        vertical-align: top;\n    }\n\n    .dataframe thead th {\n        text-align: right;\n    }\n</style>\n<table border=\"1\" class=\"dataframe\">\n  <thead>\n    <tr style=\"text-align: right;\">\n      <th></th>\n      <th>Power Plant Classification</th>\n      <th>power plant</th>\n      <th>Power grid</th>\n      <th>geographic location</th>\n      <th>Total power generation (100 million kWh) 2021</th>\n      <th>Total electricity sales (100 million kWh) 2021</th>\n      <th>Average utilization hours (hours) 2021</th>\n      <th>Standard coal consumption for electricity sales (g/kWh) 2021</th>\n      <th>Electricity sales price (yuan/MWh) 2021</th>\n      <th>Total installed capacity by the end of the year (MW) 2021</th>\n      <th>...</th>\n      <th>Electricity Sales Price (RMB/MWh) 2019</th>\n      <th>Total installed capacity at the end of the year (MW) 2019</th>\n      <th>Equity installed capacity at the end of the year (MW) 2019</th>\n      <th>Total power generation (100 million kWh) 2018</th>\n      <th>Total electricity sales (100 million kWh) 2018</th>\n      <th>Average utilization hours (hours) 2018</th>\n      <th>Standard coal consumption for electricity sales (g/kWh) 2018</th>\n      <th>Electricity Sales Price (RMB/MWh) 2018</th>\n      <th>Total installed capacity at the end of the year (MW) 2018</th>\n      <th>Equity installed capacity at the end of the year (MW) 2018</th>\n    </tr>\n  </thead>\n  <tbody>\n    <tr>\n      <th>0</th>\n      <td>燃煤</td>\n      <td>准能电力</td>\n      <td>华北电网</td>\n      <td>内蒙古</td>\n      <td>36.3</td>\n      <td>32.9</td>\n      <td>5,504.0</td>\n      <td>347.0</td>\n      <td>299.0</td>\n      <td>660.0</td>\n      <td>...</td>\n      <td>230.0</td>\n      <td>660</td>\n      <td>381</td>\n      <td>33</td>\n      <td>29</td>\n      <td>3,392</td>\n      <td>367</td>\n      <td>213</td>\n      <td>960</td>\n      <td>554</td>\n    </tr>\n    <tr>\n      <th>1</th>\n      <td>燃煤</td>\n      <td>国华准格尔</td>\n      <td>华北电网</td>\n      <td>内蒙古</td>\n      <td>NaN</td>\n      <td>NaN</td>\n      <td>NaN</td>\n      <td>NaN</td>\n      <td>NaN</td>\n      <td>NaN</td>\n      <td>...</td>\n      <td>NaN</td>\n      <td>NaN</td>\n      <td>NaN</td>\n      <td>71</td>\n      <td>65</td>\n      <td>5,411</td>\n      <td>310</td>\n      <td>236</td>\n      <td>1,320</td>\n      <td>639</td>\n    </tr>\n    <tr>\n      <th>2</th>\n      <td>燃煤</td>\n      <td>国华呼电</td>\n      <td>华北电网</td>\n      <td>内蒙古</td>\n      <td>NaN</td>\n      <td>NaN</td>\n      <td>NaN</td>\n      <td>NaN</td>\n      <td>NaN</td>\n      <td>NaN</td>\n      <td>...</td>\n      <td>NaN</td>\n      <td>NaN</td>\n      <td>NaN</td>\n      <td>60</td>\n      <td>54</td>\n      <td>5,019</td>\n      <td>321</td>\n      <td>236</td>\n      <td>1,200</td>\n      <td>960</td>\n    </tr>\n    <tr>\n      <th>3</th>\n      <td>燃煤</td>\n      <td>神东电力</td>\n      <td>西北/华北/\\n陕西省地方电网</td>\n      <td>内蒙古</td>\n      <td>240.3</td>\n      <td>222.1</td>\n      <td>4,792.0</td>\n      <td>320.0</td>\n      <td>323.0</td>\n      <td>5,014.0</td>\n      <td>...</td>\n      <td>294.0</td>\n      <td>5,814</td>\n      <td>5,328</td>\n      <td>335</td>\n      <td>307</td>\n      <td>3,723</td>\n      <td>337</td>\n      <td>255</td>\n      <td>8,984</td>\n      <td>8,726</td>\n    </tr>\n    <tr>\n      <th>4</th>\n      <td>燃煤</td>\n      <td>胜利能源</td>\n      <td>华北电网</td>\n      <td>内蒙古</td>\n      <td>9.4</td>\n      <td>8.4</td>\n      <td>712.0</td>\n      <td>352.0</td>\n      <td>278.0</td>\n      <td>1,320.0</td>\n      <td>...</td>\n      <td>None</td>\n      <td>None</td>\n      <td>None</td>\n      <td>NaN</td>\n      <td>None</td>\n      <td>NaN</td>\n      <td>NaN</td>\n      <td>None</td>\n      <td>None</td>\n      <td>None</td>\n    </tr>\n    <tr>\n      <th>5</th>\n      <td>燃煤</td>\n      <td>沧东电力</td>\n      <td>华北电网</td>\n      <td>河北</td>\n      <td>114.4</td>\n      <td>108.8</td>\n      <td>4,539.0</td>\n      <td>297.0</td>\n      <td>323.0</td>\n      <td>2,520.0</td>\n      <td>...</td>\n      <td>318.0</td>\n      <td>2,520</td>\n      <td>1,285</td>\n      <td>132</td>\n      <td>126</td>\n      <td>5,244</td>\n      <td>300</td>\n      <td>315</td>\n      <td>2,520</td>\n      <td>1,285</td>\n    </tr>\n    <tr>\n      <th>6</th>\n      <td>燃煤</td>\n      <td>三河电力</td>\n      <td>华北电网</td>\n      <td>河北</td>\n      <td>NaN</td>\n      <td>NaN</td>\n      <td>NaN</td>\n      <td>NaN</td>\n      <td>NaN</td>\n      <td>NaN</td>\n      <td>...</td>\n      <td>NaN</td>\n      <td>NaN</td>\n      <td>NaN</td>\n      <td>68</td>\n      <td>64</td>\n      <td>5,119</td>\n      <td>291</td>\n      <td>327</td>\n      <td>1,330</td>\n      <td>512</td>\n    </tr>\n    <tr>\n      <th>7</th>\n      <td>燃煤</td>\n      <td>定州电力</td>\n      <td>华北电网</td>\n      <td>河北</td>\n      <td>117.6</td>\n      <td>108.8</td>\n      <td>4,666.0</td>\n      <td>304.0</td>\n      <td>324.0</td>\n      <td>2,520.0</td>\n      <td>...</td>\n      <td>315.0</td>\n      <td>2,520</td>\n      <td>1,021</td>\n      <td>139</td>\n      <td>129</td>\n      <td>5,522</td>\n      <td>307</td>\n      <td>320</td>\n      <td>2,520</td>\n      <td>1,021</td>\n    </tr>\n    <tr>\n      <th>8</th>\n      <td>燃煤</td>\n      <td>台山电力</td>\n      <td>南方电网</td>\n      <td>广东</td>\n      <td>267.1</td>\n      <td>252.4</td>\n      <td>5,218.0</td>\n      <td>307.0</td>\n      <td>394.0</td>\n      <td>5,120.0</td>\n      <td>...</td>\n      <td>391.0</td>\n      <td>5,090</td>\n      <td>4,072</td>\n      <td>239</td>\n      <td>226</td>\n      <td>4,694</td>\n      <td>309</td>\n      <td>354</td>\n      <td>5,090</td>\n      <td>4,072</td>\n    </tr>\n    <tr>\n      <th>9</th>\n      <td>燃煤</td>\n      <td>惠州热电</td>\n      <td>南方电网</td>\n      <td>广东</td>\n      <td>38.0</td>\n      <td>34.3</td>\n      <td>5,760.0</td>\n      <td>307.0</td>\n      <td>371.0</td>\n      <td>660.0</td>\n      <td>...</td>\n      <td>377.0</td>\n      <td>660</td>\n      <td>660</td>\n      <td>34</td>\n      <td>31</td>\n      <td>5,187</td>\n      <td>324</td>\n      <td>358</td>\n      <td>660</td>\n      <td>660</td>\n    </tr>\n    <tr>\n      <th>10</th>\n      <td>燃煤</td>\n      <td>浙能电力</td>\n      <td>华东电网</td>\n      <td>浙江</td>\n      <td>NaN</td>\n      <td>NaN</td>\n      <td>NaN</td>\n      <td>NaN</td>\n      <td>NaN</td>\n      <td>NaN</td>\n      <td>...</td>\n      <td>NaN</td>\n      <td>NaN</td>\n      <td>NaN</td>\n      <td>224</td>\n      <td>212</td>\n      <td>4,944</td>\n      <td>299</td>\n      <td>353</td>\n      <td>4,520</td>\n      <td>2,712</td>\n    </tr>\n    <tr>\n      <th>11</th>\n      <td>燃煤</td>\n      <td>舟山电力</td>\n      <td>华东电网</td>\n      <td>浙江</td>\n      <td>NaN</td>\n      <td>NaN</td>\n      <td>NaN</td>\n      <td>NaN</td>\n      <td>NaN</td>\n      <td>NaN</td>\n      <td>...</td>\n      <td>NaN</td>\n      <td>NaN</td>\n      <td>NaN</td>\n      <td>48</td>\n      <td>44</td>\n      <td>5,236</td>\n      <td>331</td>\n      <td>361</td>\n      <td>910</td>\n      <td>464</td>\n    </tr>\n    <tr>\n      <th>12</th>\n      <td>燃煤</td>\n      <td>神皖能源</td>\n      <td>华东电网</td>\n      <td>安徽</td>\n      <td>NaN</td>\n      <td>NaN</td>\n      <td>NaN</td>\n      <td>NaN</td>\n      <td>NaN</td>\n      <td>NaN</td>\n      <td>...</td>\n      <td>NaN</td>\n      <td>NaN</td>\n      <td>NaN</td>\n      <td>237</td>\n      <td>226</td>\n      <td>5,066</td>\n      <td>299</td>\n      <td>322</td>\n      <td>5,920</td>\n      <td>3,019</td>\n    </tr>\n    <tr>\n      <th>13</th>\n      <td>燃煤</td>\n      <td>太仓电力</td>\n      <td>华东电网</td>\n      <td>江苏</td>\n      <td>NaN</td>\n      <td>NaN</td>\n      <td>NaN</td>\n      <td>NaN</td>\n      <td>NaN</td>\n      <td>NaN</td>\n      <td>...</td>\n      <td>NaN</td>\n      <td>NaN</td>\n      <td>NaN</td>\n      <td>71</td>\n      <td>68</td>\n      <td>5,608</td>\n      <td>294</td>\n      <td>309</td>\n      <td>1,260</td>\n      <td>630</td>\n    </tr>\n    <tr>\n      <th>14</th>\n      <td>燃煤</td>\n      <td>陈家港电力</td>\n      <td>华东电网</td>\n      <td>江苏</td>\n      <td>NaN</td>\n      <td>NaN</td>\n      <td>NaN</td>\n      <td>NaN</td>\n      <td>NaN</td>\n      <td>NaN</td>\n      <td>...</td>\n      <td>NaN</td>\n      <td>NaN</td>\n      <td>NaN</td>\n      <td>69</td>\n      <td>66</td>\n      <td>5,187</td>\n      <td>284</td>\n      <td>318</td>\n      <td>1,320</td>\n      <td>726</td>\n    </tr>\n    <tr>\n      <th>15</th>\n      <td>燃煤</td>\n      <td>徐州电力</td>\n      <td>华东电网</td>\n      <td>江苏</td>\n      <td>NaN</td>\n      <td>NaN</td>\n      <td>NaN</td>\n      <td>NaN</td>\n      <td>NaN</td>\n      <td>NaN</td>\n      <td>...</td>\n      <td>NaN</td>\n      <td>NaN</td>\n      <td>NaN</td>\n      <td>93</td>\n      <td>88</td>\n      <td>4,651</td>\n      <td>289</td>\n      <td>340</td>\n      <td>2,000</td>\n      <td>2,000</td>\n    </tr>\n    <tr>\n      <th>16</th>\n      <td>燃煤</td>\n      <td>绥中电力</td>\n      <td>华东电网</td>\n      <td>辽宁</td>\n      <td>NaN</td>\n      <td>NaN</td>\n      <td>NaN</td>\n      <td>NaN</td>\n      <td>NaN</td>\n      <td>NaN</td>\n      <td>...</td>\n      <td>NaN</td>\n      <td>NaN</td>\n      <td>NaN</td>\n      <td>176</td>\n      <td>165</td>\n      <td>4,672</td>\n      <td>310</td>\n      <td>309</td>\n      <td>3,760</td>\n      <td>1,880</td>\n    </tr>\n    <tr>\n      <th>17</th>\n      <td>燃煤</td>\n      <td>福建能源</td>\n      <td>华东电网</td>\n      <td>福建</td>\n      <td>171.9</td>\n      <td>164.6</td>\n      <td>6,014.0</td>\n      <td>294.0</td>\n      <td>357.0</td>\n      <td>3,810.0</td>\n      <td>...</td>\n      <td>345.0</td>\n      <td>2,810</td>\n      <td>1,375</td>\n      <td>156</td>\n      <td>149</td>\n      <td>5,241</td>\n      <td>282</td>\n      <td>341</td>\n      <td>2,800</td>\n      <td>1,375</td>\n    </tr>\n    <tr>\n      <th>18</th>\n      <td>燃煤</td>\n      <td>锦界能源</td>\n      <td>华北电网</td>\n      <td>陕西</td>\n      <td>214.5</td>\n      <td>198.3</td>\n      <td>5,765.0</td>\n      <td>312.0</td>\n      <td>267.0</td>\n      <td>3,720.0</td>\n      <td>...</td>\n      <td>272.0</td>\n      <td>2,400</td>\n      <td>1,680</td>\n      <td>165</td>\n      <td>152</td>\n      <td>6,892</td>\n      <td>322</td>\n      <td>267</td>\n      <td>2,400</td>\n      <td>1,680</td>\n    </tr>\n    <tr>\n      <th>19</th>\n      <td>燃煤</td>\n      <td>神木电力</td>\n      <td>西北电网</td>\n      <td>陕西</td>\n      <td>NaN</td>\n      <td>NaN</td>\n      <td>NaN</td>\n      <td>NaN</td>\n      <td>NaN</td>\n      <td>NaN</td>\n      <td>...</td>\n      <td>NaN</td>\n      <td>NaN</td>\n      <td>NaN</td>\n      <td>1</td>\n      <td>1</td>\n      <td>None</td>\n      <td>377</td>\n      <td>306</td>\n      <td>None</td>\n      <td>None</td>\n    </tr>\n    <tr>\n      <th>20</th>\n      <td>燃煤</td>\n      <td>寿光电力</td>\n      <td>华北电网</td>\n      <td>山东</td>\n      <td>109.8</td>\n      <td>104.7</td>\n      <td>5,434.0</td>\n      <td>275.0</td>\n      <td>357.0</td>\n      <td>2,020.0</td>\n      <td>...</td>\n      <td>348.0</td>\n      <td>2,020</td>\n      <td>1,212</td>\n      <td>34</td>\n      <td>30</td>\n      <td>2,659</td>\n      <td>332</td>\n      <td>386</td>\n      <td>1,260</td>\n      <td>604</td>\n    </tr>\n    <tr>\n      <th>21</th>\n      <td>燃煤</td>\n      <td>国华宁东</td>\n      <td>浙江电网</td>\n      <td>宁夏</td>\n      <td>NaN</td>\n      <td>NaN</td>\n      <td>NaN</td>\n      <td>NaN</td>\n      <td>NaN</td>\n      <td>NaN</td>\n      <td>...</td>\n      <td>NaN</td>\n      <td>NaN</td>\n      <td>NaN</td>\n      <td>50</td>\n      <td>48</td>\n      <td>4,197</td>\n      <td>307</td>\n      <td>300</td>\n      <td>1,200</td>\n      <td>612</td>\n    </tr>\n    <tr>\n      <th>22</th>\n      <td>燃煤</td>\n      <td>宁东电力</td>\n      <td>西北电网</td>\n      <td>宁夏</td>\n      <td>NaN</td>\n      <td>NaN</td>\n      <td>NaN</td>\n      <td>NaN</td>\n      <td>NaN</td>\n      <td>NaN</td>\n      <td>...</td>\n      <td>NaN</td>\n      <td>NaN</td>\n      <td>NaN</td>\n      <td>115</td>\n      <td>110</td>\n      <td>5,705</td>\n      <td>280</td>\n      <td>339</td>\n      <td>2,020</td>\n      <td>1,212</td>\n    </tr>\n    <tr>\n      <th>23</th>\n      <td>燃煤</td>\n      <td>盘山电力</td>\n      <td>华北电网</td>\n      <td>天津</td>\n      <td>NaN</td>\n      <td>NaN</td>\n      <td>NaN</td>\n      <td>NaN</td>\n      <td>NaN</td>\n      <td>NaN</td>\n      <td>...</td>\n      <td>NaN</td>\n      <td>NaN</td>\n      <td>NaN</td>\n      <td>69</td>\n      <td>65</td>\n      <td>5,202</td>\n      <td>302</td>\n      <td>226</td>\n      <td>1,320</td>\n      <td>749</td>\n    </tr>\n    <tr>\n      <th>24</th>\n      <td>燃煤</td>\n      <td>九江电力</td>\n      <td>华中电网</td>\n      <td>江西</td>\n      <td>120.5</td>\n      <td>115.0</td>\n      <td>6,023.0</td>\n      <td>276.0</td>\n      <td>364.0</td>\n      <td>2,000.0</td>\n      <td>...</td>\n      <td>359.0</td>\n      <td>2,000</td>\n      <td>2,000</td>\n      <td>28</td>\n      <td>25</td>\n      <td>4,207</td>\n      <td>363</td>\n      <td>234</td>\n      <td>660</td>\n      <td>660</td>\n    </tr>\n    <tr>\n      <th>25</th>\n      <td>燃煤</td>\n      <td>四川能源</td>\n      <td>四川电网</td>\n      <td>四川</td>\n      <td>61.0</td>\n      <td>56.1</td>\n      <td>3,468.0</td>\n      <td>325.0</td>\n      <td>424.0</td>\n      <td>3,260.0</td>\n      <td>...</td>\n      <td>392.0</td>\n      <td>1,260</td>\n      <td>604</td>\n      <td>51</td>\n      <td>48</td>\n      <td>4,807</td>\n      <td>312</td>\n      <td>355</td>\n      <td>1,060</td>\n      <td>482</td>\n    </tr>\n    <tr>\n      <th>26</th>\n      <td>燃煤</td>\n      <td>孟津电力</td>\n      <td>华中电网</td>\n      <td>河南</td>\n      <td>48.8</td>\n      <td>45.6</td>\n      <td>4,068.0</td>\n      <td>303.0</td>\n      <td>295.0</td>\n      <td>1,200.0</td>\n      <td>...</td>\n      <td>308.0</td>\n      <td>1,200</td>\n      <td>612</td>\n      <td>20</td>\n      <td>19</td>\n      <td>2,832</td>\n      <td>321</td>\n      <td>345</td>\n      <td>700</td>\n      <td>490</td>\n    </tr>\n    <tr>\n      <th>27</th>\n      <td>燃煤</td>\n      <td>柳州电力</td>\n      <td>广西电网</td>\n      <td>广西</td>\n      <td>40.8</td>\n      <td>38.7</td>\n      <td>5,826.0</td>\n      <td>314.0</td>\n      <td>366.0</td>\n      <td>700.0</td>\n      <td>...</td>\n      <td>344.0</td>\n      <td>700</td>\n      <td>490</td>\n      <td>57</td>\n      <td>55</td>\n      <td>2,857</td>\n      <td>281</td>\n      <td>354</td>\n      <td>2,000</td>\n      <td>2,000</td>\n    </tr>\n    <tr>\n      <th>28</th>\n      <td>燃煤</td>\n      <td>永州电力</td>\n      <td>湖南电网</td>\n      <td>湖南</td>\n      <td>10.6</td>\n      <td>10.2</td>\n      <td>664.0</td>\n      <td>280.0</td>\n      <td>467.0</td>\n      <td>2,000.0</td>\n      <td>...</td>\n      <td>None</td>\n      <td>None</td>\n      <td>None</td>\n      <td>NaN</td>\n      <td>None</td>\n      <td>NaN</td>\n      <td>NaN</td>\n      <td>None</td>\n      <td>None</td>\n      <td>None</td>\n    </tr>\n    <tr>\n      <th>29</th>\n      <td>燃煤</td>\n      <td>南苏EMM</td>\n      <td>PLN</td>\n      <td>印尼</td>\n      <td>17.6</td>\n      <td>15.5</td>\n      <td>5,858.0</td>\n      <td>365.0</td>\n      <td>465.0</td>\n      <td>300.0</td>\n      <td>...</td>\n      <td>523.0</td>\n      <td>300</td>\n      <td>210</td>\n      <td>16</td>\n      <td>14</td>\n      <td>5,302</td>\n      <td>367</td>\n      <td>510</td>\n      <td>300</td>\n      <td>210</td>\n    </tr>\n    <tr>\n      <th>30</th>\n      <td>燃气</td>\n      <td>北京燃气</td>\n      <td>华北电网</td>\n      <td>北京</td>\n      <td>38.5</td>\n      <td>37.7</td>\n      <td>4,057.0</td>\n      <td>193.0</td>\n      <td>565.0</td>\n      <td>950.0</td>\n      <td>...</td>\n      <td>573.0</td>\n      <td>950</td>\n      <td>950</td>\n      <td>39</td>\n      <td>38</td>\n      <td>4,131</td>\n      <td>200</td>\n      <td>589</td>\n      <td>950</td>\n      <td>950</td>\n    </tr>\n    <tr>\n      <th>31</th>\n      <td>燃气</td>\n      <td>余姚电力</td>\n      <td>华东电网</td>\n      <td>浙江</td>\n      <td>NaN</td>\n      <td>NaN</td>\n      <td>NaN</td>\n      <td>NaN</td>\n      <td>NaN</td>\n      <td>NaN</td>\n      <td>...</td>\n      <td>NaN</td>\n      <td>NaN</td>\n      <td>NaN</td>\n      <td>19</td>\n      <td>19</td>\n      <td>2,474</td>\n      <td>232</td>\n      <td>503</td>\n      <td>780</td>\n      <td>624</td>\n    </tr>\n    <tr>\n      <th>32</th>\n      <td>水电</td>\n      <td>四川能源</td>\n      <td>四川省地方电网</td>\n      <td>四川</td>\n      <td>7.4</td>\n      <td>7.2</td>\n      <td>5,921.0</td>\n      <td>/</td>\n      <td>224.0</td>\n      <td>125.0</td>\n      <td>...</td>\n      <td>556.0</td>\n      <td>125</td>\n      <td>48</td>\n      <td>7</td>\n      <td>7</td>\n      <td>5,517</td>\n      <td>None</td>\n      <td>222</td>\n      <td>125</td>\n      <td>48</td>\n    </tr>\n    <tr>\n      <th>33</th>\n      <td>风能</td>\n      <td>珠海风能</td>\n      <td>南方电网</td>\n      <td>广东</td>\n      <td>NaN</td>\n      <td>NaN</td>\n      <td>NaN</td>\n      <td>NaN</td>\n      <td>NaN</td>\n      <td>NaN</td>\n      <td>...</td>\n      <td>NaN</td>\n      <td>NaN</td>\n      <td>NaN</td>\n      <td>None</td>\n      <td>None</td>\n      <td>None</td>\n      <td>None</td>\n      <td>None</td>\n      <td>None</td>\n      <td>None</td>\n    </tr>\n  </tbody>\n</table>\n<p>34 rows × 35 columns</p>\n</div>"
     },
     "execution_count": 10,
     "metadata": {},
     "output_type": "execute_result"
    }
   ],
   "source": [
    "power_sale"
   ],
   "metadata": {
    "collapsed": false
   }
  },
  {
   "cell_type": "code",
   "execution_count": 11,
   "outputs": [],
   "source": [
    "def translate_cells(df):\n",
    "    df = df.copy()\n",
    "    translations = {}\n",
    "    translator = Translator()\n",
    "    for column in df.columns:\n",
    "        # unique elements of the column\n",
    "        # exclude numeric numbers\n",
    "        if '20' in column:\n",
    "            continue\n",
    "        unique_elements = df[column].unique()\n",
    "        for element in unique_elements:\n",
    "            # add translation to the dictionary\n",
    "            translations[element] = translator.translate(element).text.strip()\n",
    "\n",
    "    return translations"
   ],
   "metadata": {
    "collapsed": false
   }
  },
  {
   "cell_type": "code",
   "execution_count": 12,
   "outputs": [],
   "source": [
    "power_sale.replace(translate_cells(power_sale), inplace = True)"
   ],
   "metadata": {
    "collapsed": false
   }
  },
  {
   "cell_type": "code",
   "execution_count": 13,
   "outputs": [
    {
     "data": {
      "text/plain": "   Power Plant Classification                 power plant  \\\n0                coal burning               Zhuneng Power   \n1                coal burning               Guohua Jungar   \n2                coal burning                Guohua calls   \n3                coal burning              Shendong Power   \n4                coal burning              Victory Energy   \n5                coal burning              Cangdong Power   \n6                coal burning                 Sanhe Power   \n7                coal burning     Dingzhou Electric Power   \n8                coal burning      Taishan Electric Power   \n9                coal burning       Huizhou Thermal Power   \n10               coal burning      Zheneng Electric Power   \n11               coal burning     Zhoushan Electric Power   \n12               coal burning              Shenwan Energy   \n13               coal burning      Taicang Electric Power   \n14               coal burning  Chenjiagang Electric Power   \n15               coal burning       Xuzhou Electric Power   \n16               coal burning     Suizhong Electric Power   \n17               coal burning               Fujian Energy   \n18               coal burning               Jinjie Energy   \n19               coal burning                Shenmu Power   \n20               coal burning             Shouguang Power   \n21               coal burning             Guohua Ningdong   \n22               coal burning     Ningdong Electric Power   \n23               coal burning      Panshan Electric Power   \n24               coal burning     Jiujiang Electric Power   \n25               coal burning              Sichuan Energy   \n26               coal burning               Mengjin Power   \n27               coal burning      Liuzhou Electric Power   \n28               coal burning     Yongzhou Electric Power   \n29               coal burning                   Nansu EMM   \n30                        gas                 Beijing Gas   \n31                        gas        Yuyao Electric Power   \n32                 hydropower              Sichuan Energy   \n33                wind energy          Zhuhai Wind Energy   \n\n                                           Power grid geographic location  \\\n0                              North China Power Grid      Inner Mongolia   \n1                              North China Power Grid      Inner Mongolia   \n2                              North China Power Grid      Inner Mongolia   \n3   Northwest/North China/\\nShaanxi Provincial Pow...      Inner Mongolia   \n4                              North China Power Grid      Inner Mongolia   \n5                              North China Power Grid               Hebei   \n6                              North China Power Grid               Hebei   \n7                              North China Power Grid               Hebei   \n8                           China Southern Power Grid           Guangdong   \n9                           China Southern Power Grid           Guangdong   \n10                              East China Power Grid            zhejiang   \n11                              East China Power Grid            zhejiang   \n12                              East China Power Grid               Anhui   \n13                              East China Power Grid             Jiangsu   \n14                              East China Power Grid             Jiangsu   \n15                              East China Power Grid             Jiangsu   \n16                              East China Power Grid            liaoning   \n17                              East China Power Grid              Fujian   \n18                             North China Power Grid             Shaanxi   \n19                               Northwest Power Grid             Shaanxi   \n20                             North China Power Grid            Shandong   \n21                                Zhejiang Power Grid             Ningxia   \n22                               Northwest Power Grid             Ningxia   \n23                             North China Power Grid             Tianjin   \n24                           Central China Power Grid             Jiangxi   \n25                                 Sichuan Power Grid             sichuan   \n26                           Central China Power Grid               Henan   \n27                                 Guangxi Power Grid             Guangxi   \n28                                   Hunan Power Grid               Hunan   \n29                                                PLN           Indonesia   \n30                             North China Power Grid             Beijing   \n31                              East China Power Grid            zhejiang   \n32                      Sichuan Provincial Power Grid             sichuan   \n33                          China Southern Power Grid           Guangdong   \n\n   Total power generation (100 million kWh) 2021  \\\n0                                           36.3   \n1                                            NaN   \n2                                            NaN   \n3                                          240.3   \n4                                            9.4   \n5                                          114.4   \n6                                            NaN   \n7                                          117.6   \n8                                          267.1   \n9                                           38.0   \n10                                           NaN   \n11                                           NaN   \n12                                           NaN   \n13                                           NaN   \n14                                           NaN   \n15                                           NaN   \n16                                           NaN   \n17                                         171.9   \n18                                         214.5   \n19                                           NaN   \n20                                         109.8   \n21                                           NaN   \n22                                           NaN   \n23                                           NaN   \n24                                         120.5   \n25                                          61.0   \n26                                          48.8   \n27                                          40.8   \n28                                          10.6   \n29                                          17.6   \n30                                          38.5   \n31                                           NaN   \n32                                           7.4   \n33                                           NaN   \n\n   Total electricity sales (100 million kWh) 2021  \\\n0                                            32.9   \n1                                             NaN   \n2                                             NaN   \n3                                           222.1   \n4                                             8.4   \n5                                           108.8   \n6                                             NaN   \n7                                           108.8   \n8                                           252.4   \n9                                            34.3   \n10                                            NaN   \n11                                            NaN   \n12                                            NaN   \n13                                            NaN   \n14                                            NaN   \n15                                            NaN   \n16                                            NaN   \n17                                          164.6   \n18                                          198.3   \n19                                            NaN   \n20                                          104.7   \n21                                            NaN   \n22                                            NaN   \n23                                            NaN   \n24                                          115.0   \n25                                           56.1   \n26                                           45.6   \n27                                           38.7   \n28                                           10.2   \n29                                           15.5   \n30                                           37.7   \n31                                            NaN   \n32                                            7.2   \n33                                            NaN   \n\n   Average utilization hours (hours) 2021  \\\n0                                 5,504.0   \n1                                     NaN   \n2                                     NaN   \n3                                 4,792.0   \n4                                   712.0   \n5                                 4,539.0   \n6                                     NaN   \n7                                 4,666.0   \n8                                 5,218.0   \n9                                 5,760.0   \n10                                    NaN   \n11                                    NaN   \n12                                    NaN   \n13                                    NaN   \n14                                    NaN   \n15                                    NaN   \n16                                    NaN   \n17                                6,014.0   \n18                                5,765.0   \n19                                    NaN   \n20                                5,434.0   \n21                                    NaN   \n22                                    NaN   \n23                                    NaN   \n24                                6,023.0   \n25                                3,468.0   \n26                                4,068.0   \n27                                5,826.0   \n28                                  664.0   \n29                                5,858.0   \n30                                4,057.0   \n31                                    NaN   \n32                                5,921.0   \n33                                    NaN   \n\n   Standard coal consumption for electricity sales (g/kWh) 2021  \\\n0                                               347.0             \n1                                                 NaN             \n2                                                 NaN             \n3                                               320.0             \n4                                               352.0             \n5                                               297.0             \n6                                                 NaN             \n7                                               304.0             \n8                                               307.0             \n9                                               307.0             \n10                                                NaN             \n11                                                NaN             \n12                                                NaN             \n13                                                NaN             \n14                                                NaN             \n15                                                NaN             \n16                                                NaN             \n17                                              294.0             \n18                                              312.0             \n19                                                NaN             \n20                                              275.0             \n21                                                NaN             \n22                                                NaN             \n23                                                NaN             \n24                                              276.0             \n25                                              325.0             \n26                                              303.0             \n27                                              314.0             \n28                                              280.0             \n29                                              365.0             \n30                                              193.0             \n31                                                NaN             \n32                                                 /              \n33                                                NaN             \n\n   Electricity sales price (yuan/MWh) 2021  \\\n0                                    299.0   \n1                                      NaN   \n2                                      NaN   \n3                                    323.0   \n4                                    278.0   \n5                                    323.0   \n6                                      NaN   \n7                                    324.0   \n8                                    394.0   \n9                                    371.0   \n10                                     NaN   \n11                                     NaN   \n12                                     NaN   \n13                                     NaN   \n14                                     NaN   \n15                                     NaN   \n16                                     NaN   \n17                                   357.0   \n18                                   267.0   \n19                                     NaN   \n20                                   357.0   \n21                                     NaN   \n22                                     NaN   \n23                                     NaN   \n24                                   364.0   \n25                                   424.0   \n26                                   295.0   \n27                                   366.0   \n28                                   467.0   \n29                                   465.0   \n30                                   565.0   \n31                                     NaN   \n32                                   224.0   \n33                                     NaN   \n\n   Total installed capacity by the end of the year (MW) 2021  ...  \\\n0                                               660.0         ...   \n1                                                 NaN         ...   \n2                                                 NaN         ...   \n3                                             5,014.0         ...   \n4                                             1,320.0         ...   \n5                                             2,520.0         ...   \n6                                                 NaN         ...   \n7                                             2,520.0         ...   \n8                                             5,120.0         ...   \n9                                               660.0         ...   \n10                                                NaN         ...   \n11                                                NaN         ...   \n12                                                NaN         ...   \n13                                                NaN         ...   \n14                                                NaN         ...   \n15                                                NaN         ...   \n16                                                NaN         ...   \n17                                            3,810.0         ...   \n18                                            3,720.0         ...   \n19                                                NaN         ...   \n20                                            2,020.0         ...   \n21                                                NaN         ...   \n22                                                NaN         ...   \n23                                                NaN         ...   \n24                                            2,000.0         ...   \n25                                            3,260.0         ...   \n26                                            1,200.0         ...   \n27                                              700.0         ...   \n28                                            2,000.0         ...   \n29                                              300.0         ...   \n30                                              950.0         ...   \n31                                                NaN         ...   \n32                                              125.0         ...   \n33                                                NaN         ...   \n\n   Electricity Sales Price (RMB/MWh) 2019  \\\n0                                   230.0   \n1                                     NaN   \n2                                     NaN   \n3                                   294.0   \n4                                    None   \n5                                   318.0   \n6                                     NaN   \n7                                   315.0   \n8                                   391.0   \n9                                   377.0   \n10                                    NaN   \n11                                    NaN   \n12                                    NaN   \n13                                    NaN   \n14                                    NaN   \n15                                    NaN   \n16                                    NaN   \n17                                  345.0   \n18                                  272.0   \n19                                    NaN   \n20                                  348.0   \n21                                    NaN   \n22                                    NaN   \n23                                    NaN   \n24                                  359.0   \n25                                  392.0   \n26                                  308.0   \n27                                  344.0   \n28                                   None   \n29                                  523.0   \n30                                  573.0   \n31                                    NaN   \n32                                  556.0   \n33                                    NaN   \n\n   Total installed capacity at the end of the year (MW) 2019  \\\n0                                                 660          \n1                                                 NaN          \n2                                                 NaN          \n3                                               5,814          \n4                                                None          \n5                                               2,520          \n6                                                 NaN          \n7                                               2,520          \n8                                               5,090          \n9                                                 660          \n10                                                NaN          \n11                                                NaN          \n12                                                NaN          \n13                                                NaN          \n14                                                NaN          \n15                                                NaN          \n16                                                NaN          \n17                                              2,810          \n18                                              2,400          \n19                                                NaN          \n20                                              2,020          \n21                                                NaN          \n22                                                NaN          \n23                                                NaN          \n24                                              2,000          \n25                                              1,260          \n26                                              1,200          \n27                                                700          \n28                                               None          \n29                                                300          \n30                                                950          \n31                                                NaN          \n32                                                125          \n33                                                NaN          \n\n   Equity installed capacity at the end of the year (MW) 2019  \\\n0                                                 381           \n1                                                 NaN           \n2                                                 NaN           \n3                                               5,328           \n4                                                None           \n5                                               1,285           \n6                                                 NaN           \n7                                               1,021           \n8                                               4,072           \n9                                                 660           \n10                                                NaN           \n11                                                NaN           \n12                                                NaN           \n13                                                NaN           \n14                                                NaN           \n15                                                NaN           \n16                                                NaN           \n17                                              1,375           \n18                                              1,680           \n19                                                NaN           \n20                                              1,212           \n21                                                NaN           \n22                                                NaN           \n23                                                NaN           \n24                                              2,000           \n25                                                604           \n26                                                612           \n27                                                490           \n28                                               None           \n29                                                210           \n30                                                950           \n31                                                NaN           \n32                                                 48           \n33                                                NaN           \n\n   Total power generation (100 million kWh) 2018  \\\n0                                             33   \n1                                             71   \n2                                             60   \n3                                            335   \n4                                            NaN   \n5                                            132   \n6                                             68   \n7                                            139   \n8                                            239   \n9                                             34   \n10                                           224   \n11                                            48   \n12                                           237   \n13                                            71   \n14                                            69   \n15                                            93   \n16                                           176   \n17                                           156   \n18                                           165   \n19                                             1   \n20                                            34   \n21                                            50   \n22                                           115   \n23                                            69   \n24                                            28   \n25                                            51   \n26                                            20   \n27                                            57   \n28                                           NaN   \n29                                            16   \n30                                            39   \n31                                            19   \n32                                             7   \n33                                          None   \n\n   Total electricity sales (100 million kWh) 2018  \\\n0                                              29   \n1                                              65   \n2                                              54   \n3                                             307   \n4                                            None   \n5                                             126   \n6                                              64   \n7                                             129   \n8                                             226   \n9                                              31   \n10                                            212   \n11                                             44   \n12                                            226   \n13                                             68   \n14                                             66   \n15                                             88   \n16                                            165   \n17                                            149   \n18                                            152   \n19                                              1   \n20                                             30   \n21                                             48   \n22                                            110   \n23                                             65   \n24                                             25   \n25                                             48   \n26                                             19   \n27                                             55   \n28                                           None   \n29                                             14   \n30                                             38   \n31                                             19   \n32                                              7   \n33                                           None   \n\n   Average utilization hours (hours) 2018  \\\n0                                   3,392   \n1                                   5,411   \n2                                   5,019   \n3                                   3,723   \n4                                     NaN   \n5                                   5,244   \n6                                   5,119   \n7                                   5,522   \n8                                   4,694   \n9                                   5,187   \n10                                  4,944   \n11                                  5,236   \n12                                  5,066   \n13                                  5,608   \n14                                  5,187   \n15                                  4,651   \n16                                  4,672   \n17                                  5,241   \n18                                  6,892   \n19                                   None   \n20                                  2,659   \n21                                  4,197   \n22                                  5,705   \n23                                  5,202   \n24                                  4,207   \n25                                  4,807   \n26                                  2,832   \n27                                  2,857   \n28                                    NaN   \n29                                  5,302   \n30                                  4,131   \n31                                  2,474   \n32                                  5,517   \n33                                   None   \n\n   Standard coal consumption for electricity sales (g/kWh) 2018  \\\n0                                                 367             \n1                                                 310             \n2                                                 321             \n3                                                 337             \n4                                                 NaN             \n5                                                 300             \n6                                                 291             \n7                                                 307             \n8                                                 309             \n9                                                 324             \n10                                                299             \n11                                                331             \n12                                                299             \n13                                                294             \n14                                                284             \n15                                                289             \n16                                                310             \n17                                                282             \n18                                                322             \n19                                                377             \n20                                                332             \n21                                                307             \n22                                                280             \n23                                                302             \n24                                                363             \n25                                                312             \n26                                                321             \n27                                                281             \n28                                                NaN             \n29                                                367             \n30                                                200             \n31                                                232             \n32                                               None             \n33                                               None             \n\n   Electricity Sales Price (RMB/MWh) 2018  \\\n0                                     213   \n1                                     236   \n2                                     236   \n3                                     255   \n4                                    None   \n5                                     315   \n6                                     327   \n7                                     320   \n8                                     354   \n9                                     358   \n10                                    353   \n11                                    361   \n12                                    322   \n13                                    309   \n14                                    318   \n15                                    340   \n16                                    309   \n17                                    341   \n18                                    267   \n19                                    306   \n20                                    386   \n21                                    300   \n22                                    339   \n23                                    226   \n24                                    234   \n25                                    355   \n26                                    345   \n27                                    354   \n28                                   None   \n29                                    510   \n30                                    589   \n31                                    503   \n32                                    222   \n33                                   None   \n\n   Total installed capacity at the end of the year (MW) 2018  \\\n0                                                 960          \n1                                               1,320          \n2                                               1,200          \n3                                               8,984          \n4                                                None          \n5                                               2,520          \n6                                               1,330          \n7                                               2,520          \n8                                               5,090          \n9                                                 660          \n10                                              4,520          \n11                                                910          \n12                                              5,920          \n13                                              1,260          \n14                                              1,320          \n15                                              2,000          \n16                                              3,760          \n17                                              2,800          \n18                                              2,400          \n19                                               None          \n20                                              1,260          \n21                                              1,200          \n22                                              2,020          \n23                                              1,320          \n24                                                660          \n25                                              1,060          \n26                                                700          \n27                                              2,000          \n28                                               None          \n29                                                300          \n30                                                950          \n31                                                780          \n32                                                125          \n33                                               None          \n\n   Equity installed capacity at the end of the year (MW) 2018  \n0                                                 554          \n1                                                 639          \n2                                                 960          \n3                                               8,726          \n4                                                None          \n5                                               1,285          \n6                                                 512          \n7                                               1,021          \n8                                               4,072          \n9                                                 660          \n10                                              2,712          \n11                                                464          \n12                                              3,019          \n13                                                630          \n14                                                726          \n15                                              2,000          \n16                                              1,880          \n17                                              1,375          \n18                                              1,680          \n19                                               None          \n20                                                604          \n21                                                612          \n22                                              1,212          \n23                                                749          \n24                                                660          \n25                                                482          \n26                                                490          \n27                                              2,000          \n28                                               None          \n29                                                210          \n30                                                950          \n31                                                624          \n32                                                 48          \n33                                               None          \n\n[34 rows x 35 columns]",
      "text/html": "<div>\n<style scoped>\n    .dataframe tbody tr th:only-of-type {\n        vertical-align: middle;\n    }\n\n    .dataframe tbody tr th {\n        vertical-align: top;\n    }\n\n    .dataframe thead th {\n        text-align: right;\n    }\n</style>\n<table border=\"1\" class=\"dataframe\">\n  <thead>\n    <tr style=\"text-align: right;\">\n      <th></th>\n      <th>Power Plant Classification</th>\n      <th>power plant</th>\n      <th>Power grid</th>\n      <th>geographic location</th>\n      <th>Total power generation (100 million kWh) 2021</th>\n      <th>Total electricity sales (100 million kWh) 2021</th>\n      <th>Average utilization hours (hours) 2021</th>\n      <th>Standard coal consumption for electricity sales (g/kWh) 2021</th>\n      <th>Electricity sales price (yuan/MWh) 2021</th>\n      <th>Total installed capacity by the end of the year (MW) 2021</th>\n      <th>...</th>\n      <th>Electricity Sales Price (RMB/MWh) 2019</th>\n      <th>Total installed capacity at the end of the year (MW) 2019</th>\n      <th>Equity installed capacity at the end of the year (MW) 2019</th>\n      <th>Total power generation (100 million kWh) 2018</th>\n      <th>Total electricity sales (100 million kWh) 2018</th>\n      <th>Average utilization hours (hours) 2018</th>\n      <th>Standard coal consumption for electricity sales (g/kWh) 2018</th>\n      <th>Electricity Sales Price (RMB/MWh) 2018</th>\n      <th>Total installed capacity at the end of the year (MW) 2018</th>\n      <th>Equity installed capacity at the end of the year (MW) 2018</th>\n    </tr>\n  </thead>\n  <tbody>\n    <tr>\n      <th>0</th>\n      <td>coal burning</td>\n      <td>Zhuneng Power</td>\n      <td>North China Power Grid</td>\n      <td>Inner Mongolia</td>\n      <td>36.3</td>\n      <td>32.9</td>\n      <td>5,504.0</td>\n      <td>347.0</td>\n      <td>299.0</td>\n      <td>660.0</td>\n      <td>...</td>\n      <td>230.0</td>\n      <td>660</td>\n      <td>381</td>\n      <td>33</td>\n      <td>29</td>\n      <td>3,392</td>\n      <td>367</td>\n      <td>213</td>\n      <td>960</td>\n      <td>554</td>\n    </tr>\n    <tr>\n      <th>1</th>\n      <td>coal burning</td>\n      <td>Guohua Jungar</td>\n      <td>North China Power Grid</td>\n      <td>Inner Mongolia</td>\n      <td>NaN</td>\n      <td>NaN</td>\n      <td>NaN</td>\n      <td>NaN</td>\n      <td>NaN</td>\n      <td>NaN</td>\n      <td>...</td>\n      <td>NaN</td>\n      <td>NaN</td>\n      <td>NaN</td>\n      <td>71</td>\n      <td>65</td>\n      <td>5,411</td>\n      <td>310</td>\n      <td>236</td>\n      <td>1,320</td>\n      <td>639</td>\n    </tr>\n    <tr>\n      <th>2</th>\n      <td>coal burning</td>\n      <td>Guohua calls</td>\n      <td>North China Power Grid</td>\n      <td>Inner Mongolia</td>\n      <td>NaN</td>\n      <td>NaN</td>\n      <td>NaN</td>\n      <td>NaN</td>\n      <td>NaN</td>\n      <td>NaN</td>\n      <td>...</td>\n      <td>NaN</td>\n      <td>NaN</td>\n      <td>NaN</td>\n      <td>60</td>\n      <td>54</td>\n      <td>5,019</td>\n      <td>321</td>\n      <td>236</td>\n      <td>1,200</td>\n      <td>960</td>\n    </tr>\n    <tr>\n      <th>3</th>\n      <td>coal burning</td>\n      <td>Shendong Power</td>\n      <td>Northwest/North China/\\nShaanxi Provincial Pow...</td>\n      <td>Inner Mongolia</td>\n      <td>240.3</td>\n      <td>222.1</td>\n      <td>4,792.0</td>\n      <td>320.0</td>\n      <td>323.0</td>\n      <td>5,014.0</td>\n      <td>...</td>\n      <td>294.0</td>\n      <td>5,814</td>\n      <td>5,328</td>\n      <td>335</td>\n      <td>307</td>\n      <td>3,723</td>\n      <td>337</td>\n      <td>255</td>\n      <td>8,984</td>\n      <td>8,726</td>\n    </tr>\n    <tr>\n      <th>4</th>\n      <td>coal burning</td>\n      <td>Victory Energy</td>\n      <td>North China Power Grid</td>\n      <td>Inner Mongolia</td>\n      <td>9.4</td>\n      <td>8.4</td>\n      <td>712.0</td>\n      <td>352.0</td>\n      <td>278.0</td>\n      <td>1,320.0</td>\n      <td>...</td>\n      <td>None</td>\n      <td>None</td>\n      <td>None</td>\n      <td>NaN</td>\n      <td>None</td>\n      <td>NaN</td>\n      <td>NaN</td>\n      <td>None</td>\n      <td>None</td>\n      <td>None</td>\n    </tr>\n    <tr>\n      <th>5</th>\n      <td>coal burning</td>\n      <td>Cangdong Power</td>\n      <td>North China Power Grid</td>\n      <td>Hebei</td>\n      <td>114.4</td>\n      <td>108.8</td>\n      <td>4,539.0</td>\n      <td>297.0</td>\n      <td>323.0</td>\n      <td>2,520.0</td>\n      <td>...</td>\n      <td>318.0</td>\n      <td>2,520</td>\n      <td>1,285</td>\n      <td>132</td>\n      <td>126</td>\n      <td>5,244</td>\n      <td>300</td>\n      <td>315</td>\n      <td>2,520</td>\n      <td>1,285</td>\n    </tr>\n    <tr>\n      <th>6</th>\n      <td>coal burning</td>\n      <td>Sanhe Power</td>\n      <td>North China Power Grid</td>\n      <td>Hebei</td>\n      <td>NaN</td>\n      <td>NaN</td>\n      <td>NaN</td>\n      <td>NaN</td>\n      <td>NaN</td>\n      <td>NaN</td>\n      <td>...</td>\n      <td>NaN</td>\n      <td>NaN</td>\n      <td>NaN</td>\n      <td>68</td>\n      <td>64</td>\n      <td>5,119</td>\n      <td>291</td>\n      <td>327</td>\n      <td>1,330</td>\n      <td>512</td>\n    </tr>\n    <tr>\n      <th>7</th>\n      <td>coal burning</td>\n      <td>Dingzhou Electric Power</td>\n      <td>North China Power Grid</td>\n      <td>Hebei</td>\n      <td>117.6</td>\n      <td>108.8</td>\n      <td>4,666.0</td>\n      <td>304.0</td>\n      <td>324.0</td>\n      <td>2,520.0</td>\n      <td>...</td>\n      <td>315.0</td>\n      <td>2,520</td>\n      <td>1,021</td>\n      <td>139</td>\n      <td>129</td>\n      <td>5,522</td>\n      <td>307</td>\n      <td>320</td>\n      <td>2,520</td>\n      <td>1,021</td>\n    </tr>\n    <tr>\n      <th>8</th>\n      <td>coal burning</td>\n      <td>Taishan Electric Power</td>\n      <td>China Southern Power Grid</td>\n      <td>Guangdong</td>\n      <td>267.1</td>\n      <td>252.4</td>\n      <td>5,218.0</td>\n      <td>307.0</td>\n      <td>394.0</td>\n      <td>5,120.0</td>\n      <td>...</td>\n      <td>391.0</td>\n      <td>5,090</td>\n      <td>4,072</td>\n      <td>239</td>\n      <td>226</td>\n      <td>4,694</td>\n      <td>309</td>\n      <td>354</td>\n      <td>5,090</td>\n      <td>4,072</td>\n    </tr>\n    <tr>\n      <th>9</th>\n      <td>coal burning</td>\n      <td>Huizhou Thermal Power</td>\n      <td>China Southern Power Grid</td>\n      <td>Guangdong</td>\n      <td>38.0</td>\n      <td>34.3</td>\n      <td>5,760.0</td>\n      <td>307.0</td>\n      <td>371.0</td>\n      <td>660.0</td>\n      <td>...</td>\n      <td>377.0</td>\n      <td>660</td>\n      <td>660</td>\n      <td>34</td>\n      <td>31</td>\n      <td>5,187</td>\n      <td>324</td>\n      <td>358</td>\n      <td>660</td>\n      <td>660</td>\n    </tr>\n    <tr>\n      <th>10</th>\n      <td>coal burning</td>\n      <td>Zheneng Electric Power</td>\n      <td>East China Power Grid</td>\n      <td>zhejiang</td>\n      <td>NaN</td>\n      <td>NaN</td>\n      <td>NaN</td>\n      <td>NaN</td>\n      <td>NaN</td>\n      <td>NaN</td>\n      <td>...</td>\n      <td>NaN</td>\n      <td>NaN</td>\n      <td>NaN</td>\n      <td>224</td>\n      <td>212</td>\n      <td>4,944</td>\n      <td>299</td>\n      <td>353</td>\n      <td>4,520</td>\n      <td>2,712</td>\n    </tr>\n    <tr>\n      <th>11</th>\n      <td>coal burning</td>\n      <td>Zhoushan Electric Power</td>\n      <td>East China Power Grid</td>\n      <td>zhejiang</td>\n      <td>NaN</td>\n      <td>NaN</td>\n      <td>NaN</td>\n      <td>NaN</td>\n      <td>NaN</td>\n      <td>NaN</td>\n      <td>...</td>\n      <td>NaN</td>\n      <td>NaN</td>\n      <td>NaN</td>\n      <td>48</td>\n      <td>44</td>\n      <td>5,236</td>\n      <td>331</td>\n      <td>361</td>\n      <td>910</td>\n      <td>464</td>\n    </tr>\n    <tr>\n      <th>12</th>\n      <td>coal burning</td>\n      <td>Shenwan Energy</td>\n      <td>East China Power Grid</td>\n      <td>Anhui</td>\n      <td>NaN</td>\n      <td>NaN</td>\n      <td>NaN</td>\n      <td>NaN</td>\n      <td>NaN</td>\n      <td>NaN</td>\n      <td>...</td>\n      <td>NaN</td>\n      <td>NaN</td>\n      <td>NaN</td>\n      <td>237</td>\n      <td>226</td>\n      <td>5,066</td>\n      <td>299</td>\n      <td>322</td>\n      <td>5,920</td>\n      <td>3,019</td>\n    </tr>\n    <tr>\n      <th>13</th>\n      <td>coal burning</td>\n      <td>Taicang Electric Power</td>\n      <td>East China Power Grid</td>\n      <td>Jiangsu</td>\n      <td>NaN</td>\n      <td>NaN</td>\n      <td>NaN</td>\n      <td>NaN</td>\n      <td>NaN</td>\n      <td>NaN</td>\n      <td>...</td>\n      <td>NaN</td>\n      <td>NaN</td>\n      <td>NaN</td>\n      <td>71</td>\n      <td>68</td>\n      <td>5,608</td>\n      <td>294</td>\n      <td>309</td>\n      <td>1,260</td>\n      <td>630</td>\n    </tr>\n    <tr>\n      <th>14</th>\n      <td>coal burning</td>\n      <td>Chenjiagang Electric Power</td>\n      <td>East China Power Grid</td>\n      <td>Jiangsu</td>\n      <td>NaN</td>\n      <td>NaN</td>\n      <td>NaN</td>\n      <td>NaN</td>\n      <td>NaN</td>\n      <td>NaN</td>\n      <td>...</td>\n      <td>NaN</td>\n      <td>NaN</td>\n      <td>NaN</td>\n      <td>69</td>\n      <td>66</td>\n      <td>5,187</td>\n      <td>284</td>\n      <td>318</td>\n      <td>1,320</td>\n      <td>726</td>\n    </tr>\n    <tr>\n      <th>15</th>\n      <td>coal burning</td>\n      <td>Xuzhou Electric Power</td>\n      <td>East China Power Grid</td>\n      <td>Jiangsu</td>\n      <td>NaN</td>\n      <td>NaN</td>\n      <td>NaN</td>\n      <td>NaN</td>\n      <td>NaN</td>\n      <td>NaN</td>\n      <td>...</td>\n      <td>NaN</td>\n      <td>NaN</td>\n      <td>NaN</td>\n      <td>93</td>\n      <td>88</td>\n      <td>4,651</td>\n      <td>289</td>\n      <td>340</td>\n      <td>2,000</td>\n      <td>2,000</td>\n    </tr>\n    <tr>\n      <th>16</th>\n      <td>coal burning</td>\n      <td>Suizhong Electric Power</td>\n      <td>East China Power Grid</td>\n      <td>liaoning</td>\n      <td>NaN</td>\n      <td>NaN</td>\n      <td>NaN</td>\n      <td>NaN</td>\n      <td>NaN</td>\n      <td>NaN</td>\n      <td>...</td>\n      <td>NaN</td>\n      <td>NaN</td>\n      <td>NaN</td>\n      <td>176</td>\n      <td>165</td>\n      <td>4,672</td>\n      <td>310</td>\n      <td>309</td>\n      <td>3,760</td>\n      <td>1,880</td>\n    </tr>\n    <tr>\n      <th>17</th>\n      <td>coal burning</td>\n      <td>Fujian Energy</td>\n      <td>East China Power Grid</td>\n      <td>Fujian</td>\n      <td>171.9</td>\n      <td>164.6</td>\n      <td>6,014.0</td>\n      <td>294.0</td>\n      <td>357.0</td>\n      <td>3,810.0</td>\n      <td>...</td>\n      <td>345.0</td>\n      <td>2,810</td>\n      <td>1,375</td>\n      <td>156</td>\n      <td>149</td>\n      <td>5,241</td>\n      <td>282</td>\n      <td>341</td>\n      <td>2,800</td>\n      <td>1,375</td>\n    </tr>\n    <tr>\n      <th>18</th>\n      <td>coal burning</td>\n      <td>Jinjie Energy</td>\n      <td>North China Power Grid</td>\n      <td>Shaanxi</td>\n      <td>214.5</td>\n      <td>198.3</td>\n      <td>5,765.0</td>\n      <td>312.0</td>\n      <td>267.0</td>\n      <td>3,720.0</td>\n      <td>...</td>\n      <td>272.0</td>\n      <td>2,400</td>\n      <td>1,680</td>\n      <td>165</td>\n      <td>152</td>\n      <td>6,892</td>\n      <td>322</td>\n      <td>267</td>\n      <td>2,400</td>\n      <td>1,680</td>\n    </tr>\n    <tr>\n      <th>19</th>\n      <td>coal burning</td>\n      <td>Shenmu Power</td>\n      <td>Northwest Power Grid</td>\n      <td>Shaanxi</td>\n      <td>NaN</td>\n      <td>NaN</td>\n      <td>NaN</td>\n      <td>NaN</td>\n      <td>NaN</td>\n      <td>NaN</td>\n      <td>...</td>\n      <td>NaN</td>\n      <td>NaN</td>\n      <td>NaN</td>\n      <td>1</td>\n      <td>1</td>\n      <td>None</td>\n      <td>377</td>\n      <td>306</td>\n      <td>None</td>\n      <td>None</td>\n    </tr>\n    <tr>\n      <th>20</th>\n      <td>coal burning</td>\n      <td>Shouguang Power</td>\n      <td>North China Power Grid</td>\n      <td>Shandong</td>\n      <td>109.8</td>\n      <td>104.7</td>\n      <td>5,434.0</td>\n      <td>275.0</td>\n      <td>357.0</td>\n      <td>2,020.0</td>\n      <td>...</td>\n      <td>348.0</td>\n      <td>2,020</td>\n      <td>1,212</td>\n      <td>34</td>\n      <td>30</td>\n      <td>2,659</td>\n      <td>332</td>\n      <td>386</td>\n      <td>1,260</td>\n      <td>604</td>\n    </tr>\n    <tr>\n      <th>21</th>\n      <td>coal burning</td>\n      <td>Guohua Ningdong</td>\n      <td>Zhejiang Power Grid</td>\n      <td>Ningxia</td>\n      <td>NaN</td>\n      <td>NaN</td>\n      <td>NaN</td>\n      <td>NaN</td>\n      <td>NaN</td>\n      <td>NaN</td>\n      <td>...</td>\n      <td>NaN</td>\n      <td>NaN</td>\n      <td>NaN</td>\n      <td>50</td>\n      <td>48</td>\n      <td>4,197</td>\n      <td>307</td>\n      <td>300</td>\n      <td>1,200</td>\n      <td>612</td>\n    </tr>\n    <tr>\n      <th>22</th>\n      <td>coal burning</td>\n      <td>Ningdong Electric Power</td>\n      <td>Northwest Power Grid</td>\n      <td>Ningxia</td>\n      <td>NaN</td>\n      <td>NaN</td>\n      <td>NaN</td>\n      <td>NaN</td>\n      <td>NaN</td>\n      <td>NaN</td>\n      <td>...</td>\n      <td>NaN</td>\n      <td>NaN</td>\n      <td>NaN</td>\n      <td>115</td>\n      <td>110</td>\n      <td>5,705</td>\n      <td>280</td>\n      <td>339</td>\n      <td>2,020</td>\n      <td>1,212</td>\n    </tr>\n    <tr>\n      <th>23</th>\n      <td>coal burning</td>\n      <td>Panshan Electric Power</td>\n      <td>North China Power Grid</td>\n      <td>Tianjin</td>\n      <td>NaN</td>\n      <td>NaN</td>\n      <td>NaN</td>\n      <td>NaN</td>\n      <td>NaN</td>\n      <td>NaN</td>\n      <td>...</td>\n      <td>NaN</td>\n      <td>NaN</td>\n      <td>NaN</td>\n      <td>69</td>\n      <td>65</td>\n      <td>5,202</td>\n      <td>302</td>\n      <td>226</td>\n      <td>1,320</td>\n      <td>749</td>\n    </tr>\n    <tr>\n      <th>24</th>\n      <td>coal burning</td>\n      <td>Jiujiang Electric Power</td>\n      <td>Central China Power Grid</td>\n      <td>Jiangxi</td>\n      <td>120.5</td>\n      <td>115.0</td>\n      <td>6,023.0</td>\n      <td>276.0</td>\n      <td>364.0</td>\n      <td>2,000.0</td>\n      <td>...</td>\n      <td>359.0</td>\n      <td>2,000</td>\n      <td>2,000</td>\n      <td>28</td>\n      <td>25</td>\n      <td>4,207</td>\n      <td>363</td>\n      <td>234</td>\n      <td>660</td>\n      <td>660</td>\n    </tr>\n    <tr>\n      <th>25</th>\n      <td>coal burning</td>\n      <td>Sichuan Energy</td>\n      <td>Sichuan Power Grid</td>\n      <td>sichuan</td>\n      <td>61.0</td>\n      <td>56.1</td>\n      <td>3,468.0</td>\n      <td>325.0</td>\n      <td>424.0</td>\n      <td>3,260.0</td>\n      <td>...</td>\n      <td>392.0</td>\n      <td>1,260</td>\n      <td>604</td>\n      <td>51</td>\n      <td>48</td>\n      <td>4,807</td>\n      <td>312</td>\n      <td>355</td>\n      <td>1,060</td>\n      <td>482</td>\n    </tr>\n    <tr>\n      <th>26</th>\n      <td>coal burning</td>\n      <td>Mengjin Power</td>\n      <td>Central China Power Grid</td>\n      <td>Henan</td>\n      <td>48.8</td>\n      <td>45.6</td>\n      <td>4,068.0</td>\n      <td>303.0</td>\n      <td>295.0</td>\n      <td>1,200.0</td>\n      <td>...</td>\n      <td>308.0</td>\n      <td>1,200</td>\n      <td>612</td>\n      <td>20</td>\n      <td>19</td>\n      <td>2,832</td>\n      <td>321</td>\n      <td>345</td>\n      <td>700</td>\n      <td>490</td>\n    </tr>\n    <tr>\n      <th>27</th>\n      <td>coal burning</td>\n      <td>Liuzhou Electric Power</td>\n      <td>Guangxi Power Grid</td>\n      <td>Guangxi</td>\n      <td>40.8</td>\n      <td>38.7</td>\n      <td>5,826.0</td>\n      <td>314.0</td>\n      <td>366.0</td>\n      <td>700.0</td>\n      <td>...</td>\n      <td>344.0</td>\n      <td>700</td>\n      <td>490</td>\n      <td>57</td>\n      <td>55</td>\n      <td>2,857</td>\n      <td>281</td>\n      <td>354</td>\n      <td>2,000</td>\n      <td>2,000</td>\n    </tr>\n    <tr>\n      <th>28</th>\n      <td>coal burning</td>\n      <td>Yongzhou Electric Power</td>\n      <td>Hunan Power Grid</td>\n      <td>Hunan</td>\n      <td>10.6</td>\n      <td>10.2</td>\n      <td>664.0</td>\n      <td>280.0</td>\n      <td>467.0</td>\n      <td>2,000.0</td>\n      <td>...</td>\n      <td>None</td>\n      <td>None</td>\n      <td>None</td>\n      <td>NaN</td>\n      <td>None</td>\n      <td>NaN</td>\n      <td>NaN</td>\n      <td>None</td>\n      <td>None</td>\n      <td>None</td>\n    </tr>\n    <tr>\n      <th>29</th>\n      <td>coal burning</td>\n      <td>Nansu EMM</td>\n      <td>PLN</td>\n      <td>Indonesia</td>\n      <td>17.6</td>\n      <td>15.5</td>\n      <td>5,858.0</td>\n      <td>365.0</td>\n      <td>465.0</td>\n      <td>300.0</td>\n      <td>...</td>\n      <td>523.0</td>\n      <td>300</td>\n      <td>210</td>\n      <td>16</td>\n      <td>14</td>\n      <td>5,302</td>\n      <td>367</td>\n      <td>510</td>\n      <td>300</td>\n      <td>210</td>\n    </tr>\n    <tr>\n      <th>30</th>\n      <td>gas</td>\n      <td>Beijing Gas</td>\n      <td>North China Power Grid</td>\n      <td>Beijing</td>\n      <td>38.5</td>\n      <td>37.7</td>\n      <td>4,057.0</td>\n      <td>193.0</td>\n      <td>565.0</td>\n      <td>950.0</td>\n      <td>...</td>\n      <td>573.0</td>\n      <td>950</td>\n      <td>950</td>\n      <td>39</td>\n      <td>38</td>\n      <td>4,131</td>\n      <td>200</td>\n      <td>589</td>\n      <td>950</td>\n      <td>950</td>\n    </tr>\n    <tr>\n      <th>31</th>\n      <td>gas</td>\n      <td>Yuyao Electric Power</td>\n      <td>East China Power Grid</td>\n      <td>zhejiang</td>\n      <td>NaN</td>\n      <td>NaN</td>\n      <td>NaN</td>\n      <td>NaN</td>\n      <td>NaN</td>\n      <td>NaN</td>\n      <td>...</td>\n      <td>NaN</td>\n      <td>NaN</td>\n      <td>NaN</td>\n      <td>19</td>\n      <td>19</td>\n      <td>2,474</td>\n      <td>232</td>\n      <td>503</td>\n      <td>780</td>\n      <td>624</td>\n    </tr>\n    <tr>\n      <th>32</th>\n      <td>hydropower</td>\n      <td>Sichuan Energy</td>\n      <td>Sichuan Provincial Power Grid</td>\n      <td>sichuan</td>\n      <td>7.4</td>\n      <td>7.2</td>\n      <td>5,921.0</td>\n      <td>/</td>\n      <td>224.0</td>\n      <td>125.0</td>\n      <td>...</td>\n      <td>556.0</td>\n      <td>125</td>\n      <td>48</td>\n      <td>7</td>\n      <td>7</td>\n      <td>5,517</td>\n      <td>None</td>\n      <td>222</td>\n      <td>125</td>\n      <td>48</td>\n    </tr>\n    <tr>\n      <th>33</th>\n      <td>wind energy</td>\n      <td>Zhuhai Wind Energy</td>\n      <td>China Southern Power Grid</td>\n      <td>Guangdong</td>\n      <td>NaN</td>\n      <td>NaN</td>\n      <td>NaN</td>\n      <td>NaN</td>\n      <td>NaN</td>\n      <td>NaN</td>\n      <td>...</td>\n      <td>NaN</td>\n      <td>NaN</td>\n      <td>NaN</td>\n      <td>None</td>\n      <td>None</td>\n      <td>None</td>\n      <td>None</td>\n      <td>None</td>\n      <td>None</td>\n      <td>None</td>\n    </tr>\n  </tbody>\n</table>\n<p>34 rows × 35 columns</p>\n</div>"
     },
     "execution_count": 13,
     "metadata": {},
     "output_type": "execute_result"
    }
   ],
   "source": [
    "power_sale"
   ],
   "metadata": {
    "collapsed": false
   }
  },
  {
   "cell_type": "markdown",
   "source": [
    "### dataframe of Power Cost"
   ],
   "metadata": {
    "collapsed": false
   }
  },
  {
   "cell_type": "code",
   "execution_count": 14,
   "outputs": [],
   "source": [
    "# raw data"
   ],
   "metadata": {
    "collapsed": false
   }
  },
  {
   "cell_type": "code",
   "execution_count": 15,
   "outputs": [],
   "source": [
    "power_cost = \"raw data/Power Costs.csv\"\n",
    "power_cost = pd.read_csv(power_cost, header=None)"
   ],
   "metadata": {
    "collapsed": false
   }
  },
  {
   "cell_type": "code",
   "execution_count": 16,
   "outputs": [
    {
     "data": {
      "text/plain": "           0          1            2              3          4            5  \\\n0        NaN      2021年          NaN            NaN      2020年          NaN   \n1        NaN  成本\\n(百万元)  售电量\\n(亿千瓦时)  单位成本\\n(元/兆瓦时)  成本\\n(百万元)  售电量\\n(亿千瓦时)   \n2       售电成本     54,360      1,561.3          348.1     35,246      1,276.5   \n3  原材料、燃料及动力     41,686      1,561.3          267.0     24,827      1,276.5   \n4       人工成本      3,277      1,561.3           21.0      2,307      1,276.5   \n5        维修费      1,808      1,561.3           11.6      2,086      1,276.5   \n6      折旧及摊销      5,254      1,561.3           33.7      5,056      1,276.5   \n7       其他成本      2,315      1,561.3           14.8        970      1,276.5   \n8     其他业务成本      4,833      1,561.3            NaN      2,852      1,277.5   \n\n               6          7            8              9  \n0            NaN      2019年          NaN            NaN  \n1  单位成本\\n(元/兆瓦时)  成本\\n(百万元)  售电量\\n(亿千瓦时)  单位成本\\n(元/兆瓦时)  \n2          276.1        NaN          NaN            NaN  \n3          194.5     28,739      1,440.4          199.5  \n4           18.1      2,371      1,440.4           16.5  \n5           16.3        NaN          NaN            NaN  \n6           39.6      5,481      1,440.4           38.1  \n7            7.6      1,238      1,440.4            8.5  \n8            NaN         52      1,440.4            NaN  ",
      "text/html": "<div>\n<style scoped>\n    .dataframe tbody tr th:only-of-type {\n        vertical-align: middle;\n    }\n\n    .dataframe tbody tr th {\n        vertical-align: top;\n    }\n\n    .dataframe thead th {\n        text-align: right;\n    }\n</style>\n<table border=\"1\" class=\"dataframe\">\n  <thead>\n    <tr style=\"text-align: right;\">\n      <th></th>\n      <th>0</th>\n      <th>1</th>\n      <th>2</th>\n      <th>3</th>\n      <th>4</th>\n      <th>5</th>\n      <th>6</th>\n      <th>7</th>\n      <th>8</th>\n      <th>9</th>\n    </tr>\n  </thead>\n  <tbody>\n    <tr>\n      <th>0</th>\n      <td>NaN</td>\n      <td>2021年</td>\n      <td>NaN</td>\n      <td>NaN</td>\n      <td>2020年</td>\n      <td>NaN</td>\n      <td>NaN</td>\n      <td>2019年</td>\n      <td>NaN</td>\n      <td>NaN</td>\n    </tr>\n    <tr>\n      <th>1</th>\n      <td>NaN</td>\n      <td>成本\\n(百万元)</td>\n      <td>售电量\\n(亿千瓦时)</td>\n      <td>单位成本\\n(元/兆瓦时)</td>\n      <td>成本\\n(百万元)</td>\n      <td>售电量\\n(亿千瓦时)</td>\n      <td>单位成本\\n(元/兆瓦时)</td>\n      <td>成本\\n(百万元)</td>\n      <td>售电量\\n(亿千瓦时)</td>\n      <td>单位成本\\n(元/兆瓦时)</td>\n    </tr>\n    <tr>\n      <th>2</th>\n      <td>售电成本</td>\n      <td>54,360</td>\n      <td>1,561.3</td>\n      <td>348.1</td>\n      <td>35,246</td>\n      <td>1,276.5</td>\n      <td>276.1</td>\n      <td>NaN</td>\n      <td>NaN</td>\n      <td>NaN</td>\n    </tr>\n    <tr>\n      <th>3</th>\n      <td>原材料、燃料及动力</td>\n      <td>41,686</td>\n      <td>1,561.3</td>\n      <td>267.0</td>\n      <td>24,827</td>\n      <td>1,276.5</td>\n      <td>194.5</td>\n      <td>28,739</td>\n      <td>1,440.4</td>\n      <td>199.5</td>\n    </tr>\n    <tr>\n      <th>4</th>\n      <td>人工成本</td>\n      <td>3,277</td>\n      <td>1,561.3</td>\n      <td>21.0</td>\n      <td>2,307</td>\n      <td>1,276.5</td>\n      <td>18.1</td>\n      <td>2,371</td>\n      <td>1,440.4</td>\n      <td>16.5</td>\n    </tr>\n    <tr>\n      <th>5</th>\n      <td>维修费</td>\n      <td>1,808</td>\n      <td>1,561.3</td>\n      <td>11.6</td>\n      <td>2,086</td>\n      <td>1,276.5</td>\n      <td>16.3</td>\n      <td>NaN</td>\n      <td>NaN</td>\n      <td>NaN</td>\n    </tr>\n    <tr>\n      <th>6</th>\n      <td>折旧及摊销</td>\n      <td>5,254</td>\n      <td>1,561.3</td>\n      <td>33.7</td>\n      <td>5,056</td>\n      <td>1,276.5</td>\n      <td>39.6</td>\n      <td>5,481</td>\n      <td>1,440.4</td>\n      <td>38.1</td>\n    </tr>\n    <tr>\n      <th>7</th>\n      <td>其他成本</td>\n      <td>2,315</td>\n      <td>1,561.3</td>\n      <td>14.8</td>\n      <td>970</td>\n      <td>1,276.5</td>\n      <td>7.6</td>\n      <td>1,238</td>\n      <td>1,440.4</td>\n      <td>8.5</td>\n    </tr>\n    <tr>\n      <th>8</th>\n      <td>其他业务成本</td>\n      <td>4,833</td>\n      <td>1,561.3</td>\n      <td>NaN</td>\n      <td>2,852</td>\n      <td>1,277.5</td>\n      <td>NaN</td>\n      <td>52</td>\n      <td>1,440.4</td>\n      <td>NaN</td>\n    </tr>\n  </tbody>\n</table>\n</div>"
     },
     "execution_count": 16,
     "metadata": {},
     "output_type": "execute_result"
    }
   ],
   "source": [
    "power_cost"
   ],
   "metadata": {
    "collapsed": false
   }
  },
  {
   "cell_type": "code",
   "execution_count": 17,
   "outputs": [],
   "source": [
    "# preprocessing"
   ],
   "metadata": {
    "collapsed": false
   }
  },
  {
   "cell_type": "code",
   "execution_count": 18,
   "outputs": [],
   "source": [
    "power_cost.iloc[1] = power_cost.iloc[1].str.replace('\\n', ' ')\n",
    "power_cost.loc[0] = power_cost.loc[0].fillna(method='ffill').fillna('')\n",
    "columns = power_cost.iloc[1] + ' ' + power_cost.iloc[0]\n",
    "columns = columns.fillna('成本类别')\n",
    "power_cost.columns = columns\n",
    "power_cost = power_cost.drop(index = [0,1])\n",
    "power_cost = power_cost.reset_index(drop=True)"
   ],
   "metadata": {
    "collapsed": false
   }
  },
  {
   "cell_type": "code",
   "execution_count": 19,
   "outputs": [],
   "source": [
    "power_cost.columns = translate_col(power_cost)"
   ],
   "metadata": {
    "collapsed": false
   }
  },
  {
   "cell_type": "code",
   "execution_count": 20,
   "outputs": [
    {
     "data": {
      "text/plain": "  cost category Cost (RMB million) 2021  \\\n0          售电成本                  54,360   \n1     原材料、燃料及动力                  41,686   \n2          人工成本                   3,277   \n3           维修费                   1,808   \n4         折旧及摊销                   5,254   \n5          其他成本                   2,315   \n6        其他业务成本                   4,833   \n\n  Electricity sales (100 million kWh) in 2021 Unit cost (yuan/MWh) in 2021  \\\n0                                     1,561.3                        348.1   \n1                                     1,561.3                        267.0   \n2                                     1,561.3                         21.0   \n3                                     1,561.3                         11.6   \n4                                     1,561.3                         33.7   \n5                                     1,561.3                         14.8   \n6                                     1,561.3                          NaN   \n\n  Cost (RMB million) 2020 Electricity sales (100 million kWh) in 2020  \\\n0                  35,246                                     1,276.5   \n1                  24,827                                     1,276.5   \n2                   2,307                                     1,276.5   \n3                   2,086                                     1,276.5   \n4                   5,056                                     1,276.5   \n5                     970                                     1,276.5   \n6                   2,852                                     1,277.5   \n\n  Unit cost (yuan/MWh) in 2020 Cost (RMB million) 2019  \\\n0                        276.1                     NaN   \n1                        194.5                  28,739   \n2                         18.1                   2,371   \n3                         16.3                     NaN   \n4                         39.6                   5,481   \n5                          7.6                   1,238   \n6                          NaN                      52   \n\n  Electricity sales (100 million kWh) in 2019 Unit cost (yuan/MWh) in 2019  \n0                                         NaN                          NaN  \n1                                     1,440.4                        199.5  \n2                                     1,440.4                         16.5  \n3                                         NaN                          NaN  \n4                                     1,440.4                         38.1  \n5                                     1,440.4                          8.5  \n6                                     1,440.4                          NaN  ",
      "text/html": "<div>\n<style scoped>\n    .dataframe tbody tr th:only-of-type {\n        vertical-align: middle;\n    }\n\n    .dataframe tbody tr th {\n        vertical-align: top;\n    }\n\n    .dataframe thead th {\n        text-align: right;\n    }\n</style>\n<table border=\"1\" class=\"dataframe\">\n  <thead>\n    <tr style=\"text-align: right;\">\n      <th></th>\n      <th>cost category</th>\n      <th>Cost (RMB million) 2021</th>\n      <th>Electricity sales (100 million kWh) in 2021</th>\n      <th>Unit cost (yuan/MWh) in 2021</th>\n      <th>Cost (RMB million) 2020</th>\n      <th>Electricity sales (100 million kWh) in 2020</th>\n      <th>Unit cost (yuan/MWh) in 2020</th>\n      <th>Cost (RMB million) 2019</th>\n      <th>Electricity sales (100 million kWh) in 2019</th>\n      <th>Unit cost (yuan/MWh) in 2019</th>\n    </tr>\n  </thead>\n  <tbody>\n    <tr>\n      <th>0</th>\n      <td>售电成本</td>\n      <td>54,360</td>\n      <td>1,561.3</td>\n      <td>348.1</td>\n      <td>35,246</td>\n      <td>1,276.5</td>\n      <td>276.1</td>\n      <td>NaN</td>\n      <td>NaN</td>\n      <td>NaN</td>\n    </tr>\n    <tr>\n      <th>1</th>\n      <td>原材料、燃料及动力</td>\n      <td>41,686</td>\n      <td>1,561.3</td>\n      <td>267.0</td>\n      <td>24,827</td>\n      <td>1,276.5</td>\n      <td>194.5</td>\n      <td>28,739</td>\n      <td>1,440.4</td>\n      <td>199.5</td>\n    </tr>\n    <tr>\n      <th>2</th>\n      <td>人工成本</td>\n      <td>3,277</td>\n      <td>1,561.3</td>\n      <td>21.0</td>\n      <td>2,307</td>\n      <td>1,276.5</td>\n      <td>18.1</td>\n      <td>2,371</td>\n      <td>1,440.4</td>\n      <td>16.5</td>\n    </tr>\n    <tr>\n      <th>3</th>\n      <td>维修费</td>\n      <td>1,808</td>\n      <td>1,561.3</td>\n      <td>11.6</td>\n      <td>2,086</td>\n      <td>1,276.5</td>\n      <td>16.3</td>\n      <td>NaN</td>\n      <td>NaN</td>\n      <td>NaN</td>\n    </tr>\n    <tr>\n      <th>4</th>\n      <td>折旧及摊销</td>\n      <td>5,254</td>\n      <td>1,561.3</td>\n      <td>33.7</td>\n      <td>5,056</td>\n      <td>1,276.5</td>\n      <td>39.6</td>\n      <td>5,481</td>\n      <td>1,440.4</td>\n      <td>38.1</td>\n    </tr>\n    <tr>\n      <th>5</th>\n      <td>其他成本</td>\n      <td>2,315</td>\n      <td>1,561.3</td>\n      <td>14.8</td>\n      <td>970</td>\n      <td>1,276.5</td>\n      <td>7.6</td>\n      <td>1,238</td>\n      <td>1,440.4</td>\n      <td>8.5</td>\n    </tr>\n    <tr>\n      <th>6</th>\n      <td>其他业务成本</td>\n      <td>4,833</td>\n      <td>1,561.3</td>\n      <td>NaN</td>\n      <td>2,852</td>\n      <td>1,277.5</td>\n      <td>NaN</td>\n      <td>52</td>\n      <td>1,440.4</td>\n      <td>NaN</td>\n    </tr>\n  </tbody>\n</table>\n</div>"
     },
     "execution_count": 20,
     "metadata": {},
     "output_type": "execute_result"
    }
   ],
   "source": [
    "power_cost"
   ],
   "metadata": {
    "collapsed": false
   }
  },
  {
   "cell_type": "code",
   "execution_count": 21,
   "outputs": [
    {
     "data": {
      "text/plain": "{'售电成本': 'Electricity cost',\n '原材料、燃料及动力': 'Raw materials, fuels and power',\n '人工成本': 'Labor cost',\n '维修费': 'Maintenance fees',\n '折旧及摊销': 'Depreciation and amortization',\n '其他成本': 'other costs',\n '其他业务成本': 'Other operating costs'}"
     },
     "execution_count": 21,
     "metadata": {},
     "output_type": "execute_result"
    }
   ],
   "source": [
    "translate_cells(power_cost)"
   ],
   "metadata": {
    "collapsed": false
   }
  },
  {
   "cell_type": "code",
   "execution_count": 22,
   "outputs": [],
   "source": [
    "power_cost.replace(translate_cells(power_cost), inplace = True)"
   ],
   "metadata": {
    "collapsed": false
   }
  },
  {
   "cell_type": "code",
   "execution_count": 23,
   "outputs": [
    {
     "data": {
      "text/plain": "                    cost category Cost (RMB million) 2021  \\\n0                Electricity cost                  54,360   \n1  Raw materials, fuels and power                  41,686   \n2                      Labor cost                   3,277   \n3                Maintenance fees                   1,808   \n4   Depreciation and amortization                   5,254   \n5                     other costs                   2,315   \n6           Other operating costs                   4,833   \n\n  Electricity sales (100 million kWh) in 2021 Unit cost (yuan/MWh) in 2021  \\\n0                                     1,561.3                        348.1   \n1                                     1,561.3                        267.0   \n2                                     1,561.3                         21.0   \n3                                     1,561.3                         11.6   \n4                                     1,561.3                         33.7   \n5                                     1,561.3                         14.8   \n6                                     1,561.3                          NaN   \n\n  Cost (RMB million) 2020 Electricity sales (100 million kWh) in 2020  \\\n0                  35,246                                     1,276.5   \n1                  24,827                                     1,276.5   \n2                   2,307                                     1,276.5   \n3                   2,086                                     1,276.5   \n4                   5,056                                     1,276.5   \n5                     970                                     1,276.5   \n6                   2,852                                     1,277.5   \n\n  Unit cost (yuan/MWh) in 2020 Cost (RMB million) 2019  \\\n0                        276.1                     NaN   \n1                        194.5                  28,739   \n2                         18.1                   2,371   \n3                         16.3                     NaN   \n4                         39.6                   5,481   \n5                          7.6                   1,238   \n6                          NaN                      52   \n\n  Electricity sales (100 million kWh) in 2019 Unit cost (yuan/MWh) in 2019  \n0                                         NaN                          NaN  \n1                                     1,440.4                        199.5  \n2                                     1,440.4                         16.5  \n3                                         NaN                          NaN  \n4                                     1,440.4                         38.1  \n5                                     1,440.4                          8.5  \n6                                     1,440.4                          NaN  ",
      "text/html": "<div>\n<style scoped>\n    .dataframe tbody tr th:only-of-type {\n        vertical-align: middle;\n    }\n\n    .dataframe tbody tr th {\n        vertical-align: top;\n    }\n\n    .dataframe thead th {\n        text-align: right;\n    }\n</style>\n<table border=\"1\" class=\"dataframe\">\n  <thead>\n    <tr style=\"text-align: right;\">\n      <th></th>\n      <th>cost category</th>\n      <th>Cost (RMB million) 2021</th>\n      <th>Electricity sales (100 million kWh) in 2021</th>\n      <th>Unit cost (yuan/MWh) in 2021</th>\n      <th>Cost (RMB million) 2020</th>\n      <th>Electricity sales (100 million kWh) in 2020</th>\n      <th>Unit cost (yuan/MWh) in 2020</th>\n      <th>Cost (RMB million) 2019</th>\n      <th>Electricity sales (100 million kWh) in 2019</th>\n      <th>Unit cost (yuan/MWh) in 2019</th>\n    </tr>\n  </thead>\n  <tbody>\n    <tr>\n      <th>0</th>\n      <td>Electricity cost</td>\n      <td>54,360</td>\n      <td>1,561.3</td>\n      <td>348.1</td>\n      <td>35,246</td>\n      <td>1,276.5</td>\n      <td>276.1</td>\n      <td>NaN</td>\n      <td>NaN</td>\n      <td>NaN</td>\n    </tr>\n    <tr>\n      <th>1</th>\n      <td>Raw materials, fuels and power</td>\n      <td>41,686</td>\n      <td>1,561.3</td>\n      <td>267.0</td>\n      <td>24,827</td>\n      <td>1,276.5</td>\n      <td>194.5</td>\n      <td>28,739</td>\n      <td>1,440.4</td>\n      <td>199.5</td>\n    </tr>\n    <tr>\n      <th>2</th>\n      <td>Labor cost</td>\n      <td>3,277</td>\n      <td>1,561.3</td>\n      <td>21.0</td>\n      <td>2,307</td>\n      <td>1,276.5</td>\n      <td>18.1</td>\n      <td>2,371</td>\n      <td>1,440.4</td>\n      <td>16.5</td>\n    </tr>\n    <tr>\n      <th>3</th>\n      <td>Maintenance fees</td>\n      <td>1,808</td>\n      <td>1,561.3</td>\n      <td>11.6</td>\n      <td>2,086</td>\n      <td>1,276.5</td>\n      <td>16.3</td>\n      <td>NaN</td>\n      <td>NaN</td>\n      <td>NaN</td>\n    </tr>\n    <tr>\n      <th>4</th>\n      <td>Depreciation and amortization</td>\n      <td>5,254</td>\n      <td>1,561.3</td>\n      <td>33.7</td>\n      <td>5,056</td>\n      <td>1,276.5</td>\n      <td>39.6</td>\n      <td>5,481</td>\n      <td>1,440.4</td>\n      <td>38.1</td>\n    </tr>\n    <tr>\n      <th>5</th>\n      <td>other costs</td>\n      <td>2,315</td>\n      <td>1,561.3</td>\n      <td>14.8</td>\n      <td>970</td>\n      <td>1,276.5</td>\n      <td>7.6</td>\n      <td>1,238</td>\n      <td>1,440.4</td>\n      <td>8.5</td>\n    </tr>\n    <tr>\n      <th>6</th>\n      <td>Other operating costs</td>\n      <td>4,833</td>\n      <td>1,561.3</td>\n      <td>NaN</td>\n      <td>2,852</td>\n      <td>1,277.5</td>\n      <td>NaN</td>\n      <td>52</td>\n      <td>1,440.4</td>\n      <td>NaN</td>\n    </tr>\n  </tbody>\n</table>\n</div>"
     },
     "execution_count": 23,
     "metadata": {},
     "output_type": "execute_result"
    }
   ],
   "source": [
    "power_cost"
   ],
   "metadata": {
    "collapsed": false
   }
  },
  {
   "cell_type": "markdown",
   "source": [
    "### Electricity Costs.csv"
   ],
   "metadata": {
    "collapsed": false
   }
  },
  {
   "cell_type": "code",
   "execution_count": 24,
   "outputs": [],
   "source": [
    "elec_cost = \"raw data/Electricity Costs.csv\"\n",
    "elec_cost = pd.read_csv(elec_cost, header=None)"
   ],
   "metadata": {
    "collapsed": false
   }
  },
  {
   "cell_type": "code",
   "execution_count": 25,
   "outputs": [
    {
     "data": {
      "text/plain": "          0          1              2              3          4   \\\n0        NaN   2022年上半年            NaN            NaN      2021年   \n1        NaN  成本\\n(百万元)  煤电售电量\\n(亿千瓦时)  单位成本\\n(元/兆瓦时)  成本\\n(百万元)   \n2  原材料、燃料及动力     22,311          796.0          280.3     39,944   \n3       人工成本      2,025          796.0           25.4      3,195   \n4        维修费        860          796.0           10.8      1,688   \n5      折旧及摊销      2,969          796.0           37.3      5,078   \n6       其他成本      1,001          796.0           12.6      2,161   \n\n              5              6          7              8              9   \\\n0            NaN            NaN      2020年            NaN            NaN   \n1  煤电售电量\\n(亿千瓦时)  单位成本\\n(元/兆瓦时)  成本\\n(百万元)  煤电售电量\\n(亿千瓦时)  单位成本\\n(元/兆瓦时)   \n2        1,516.4          263.4     23,103        1,232.7          187.4   \n3        1,516.4           21.1      2,265        1,232.7           18.4   \n4        1,516.4           11.1      1,989        1,232.7           16.1   \n5        1,516.4           33.5      4,886        1,232.7           39.6   \n6        1,516.4           14.3        841        1,232.7            6.8   \n\n          10             11             12         13             14  \\\n0      2019年            NaN            NaN      2018年            NaN   \n1  成本\\n(百万元)  煤电售电量\\n(亿千瓦时)  单位成本\\n(元/兆瓦时)  成本\\n(百万元)  煤电售电量\\n(亿千瓦时)   \n2     26,802        1,265.4          211.8     50,511        2,675.9   \n3      2,328        1,265.4           18.4      4,453        2,675.9   \n4        NaN            NaN            NaN        NaN            NaN   \n5      5,294        1,265.4           41.8      8,005        2,675.9   \n6      1,125        1,265.4            8.9      1,801        2,675.9   \n\n              15         16             17             18  \n0            NaN      2017年            NaN            NaN  \n1  单位成本\\n(元/兆瓦时)  成本\\n(百万元)  煤电售电量\\n(亿千瓦时)  单位成本\\n(元/兆瓦时)  \n2          188.8     46,008        2,462.5          186.8  \n3           16.6      3,939        2,462.5           16.0  \n4            NaN        NaN            NaN            NaN  \n5           29.9      9,235        2,462.5           37.5  \n6            6.7      1,925        2,462.5            7.8  ",
      "text/html": "<div>\n<style scoped>\n    .dataframe tbody tr th:only-of-type {\n        vertical-align: middle;\n    }\n\n    .dataframe tbody tr th {\n        vertical-align: top;\n    }\n\n    .dataframe thead th {\n        text-align: right;\n    }\n</style>\n<table border=\"1\" class=\"dataframe\">\n  <thead>\n    <tr style=\"text-align: right;\">\n      <th></th>\n      <th>0</th>\n      <th>1</th>\n      <th>2</th>\n      <th>3</th>\n      <th>4</th>\n      <th>5</th>\n      <th>6</th>\n      <th>7</th>\n      <th>8</th>\n      <th>9</th>\n      <th>10</th>\n      <th>11</th>\n      <th>12</th>\n      <th>13</th>\n      <th>14</th>\n      <th>15</th>\n      <th>16</th>\n      <th>17</th>\n      <th>18</th>\n    </tr>\n  </thead>\n  <tbody>\n    <tr>\n      <th>0</th>\n      <td>NaN</td>\n      <td>2022年上半年</td>\n      <td>NaN</td>\n      <td>NaN</td>\n      <td>2021年</td>\n      <td>NaN</td>\n      <td>NaN</td>\n      <td>2020年</td>\n      <td>NaN</td>\n      <td>NaN</td>\n      <td>2019年</td>\n      <td>NaN</td>\n      <td>NaN</td>\n      <td>2018年</td>\n      <td>NaN</td>\n      <td>NaN</td>\n      <td>2017年</td>\n      <td>NaN</td>\n      <td>NaN</td>\n    </tr>\n    <tr>\n      <th>1</th>\n      <td>NaN</td>\n      <td>成本\\n(百万元)</td>\n      <td>煤电售电量\\n(亿千瓦时)</td>\n      <td>单位成本\\n(元/兆瓦时)</td>\n      <td>成本\\n(百万元)</td>\n      <td>煤电售电量\\n(亿千瓦时)</td>\n      <td>单位成本\\n(元/兆瓦时)</td>\n      <td>成本\\n(百万元)</td>\n      <td>煤电售电量\\n(亿千瓦时)</td>\n      <td>单位成本\\n(元/兆瓦时)</td>\n      <td>成本\\n(百万元)</td>\n      <td>煤电售电量\\n(亿千瓦时)</td>\n      <td>单位成本\\n(元/兆瓦时)</td>\n      <td>成本\\n(百万元)</td>\n      <td>煤电售电量\\n(亿千瓦时)</td>\n      <td>单位成本\\n(元/兆瓦时)</td>\n      <td>成本\\n(百万元)</td>\n      <td>煤电售电量\\n(亿千瓦时)</td>\n      <td>单位成本\\n(元/兆瓦时)</td>\n    </tr>\n    <tr>\n      <th>2</th>\n      <td>原材料、燃料及动力</td>\n      <td>22,311</td>\n      <td>796.0</td>\n      <td>280.3</td>\n      <td>39,944</td>\n      <td>1,516.4</td>\n      <td>263.4</td>\n      <td>23,103</td>\n      <td>1,232.7</td>\n      <td>187.4</td>\n      <td>26,802</td>\n      <td>1,265.4</td>\n      <td>211.8</td>\n      <td>50,511</td>\n      <td>2,675.9</td>\n      <td>188.8</td>\n      <td>46,008</td>\n      <td>2,462.5</td>\n      <td>186.8</td>\n    </tr>\n    <tr>\n      <th>3</th>\n      <td>人工成本</td>\n      <td>2,025</td>\n      <td>796.0</td>\n      <td>25.4</td>\n      <td>3,195</td>\n      <td>1,516.4</td>\n      <td>21.1</td>\n      <td>2,265</td>\n      <td>1,232.7</td>\n      <td>18.4</td>\n      <td>2,328</td>\n      <td>1,265.4</td>\n      <td>18.4</td>\n      <td>4,453</td>\n      <td>2,675.9</td>\n      <td>16.6</td>\n      <td>3,939</td>\n      <td>2,462.5</td>\n      <td>16.0</td>\n    </tr>\n    <tr>\n      <th>4</th>\n      <td>维修费</td>\n      <td>860</td>\n      <td>796.0</td>\n      <td>10.8</td>\n      <td>1,688</td>\n      <td>1,516.4</td>\n      <td>11.1</td>\n      <td>1,989</td>\n      <td>1,232.7</td>\n      <td>16.1</td>\n      <td>NaN</td>\n      <td>NaN</td>\n      <td>NaN</td>\n      <td>NaN</td>\n      <td>NaN</td>\n      <td>NaN</td>\n      <td>NaN</td>\n      <td>NaN</td>\n      <td>NaN</td>\n    </tr>\n    <tr>\n      <th>5</th>\n      <td>折旧及摊销</td>\n      <td>2,969</td>\n      <td>796.0</td>\n      <td>37.3</td>\n      <td>5,078</td>\n      <td>1,516.4</td>\n      <td>33.5</td>\n      <td>4,886</td>\n      <td>1,232.7</td>\n      <td>39.6</td>\n      <td>5,294</td>\n      <td>1,265.4</td>\n      <td>41.8</td>\n      <td>8,005</td>\n      <td>2,675.9</td>\n      <td>29.9</td>\n      <td>9,235</td>\n      <td>2,462.5</td>\n      <td>37.5</td>\n    </tr>\n    <tr>\n      <th>6</th>\n      <td>其他成本</td>\n      <td>1,001</td>\n      <td>796.0</td>\n      <td>12.6</td>\n      <td>2,161</td>\n      <td>1,516.4</td>\n      <td>14.3</td>\n      <td>841</td>\n      <td>1,232.7</td>\n      <td>6.8</td>\n      <td>1,125</td>\n      <td>1,265.4</td>\n      <td>8.9</td>\n      <td>1,801</td>\n      <td>2,675.9</td>\n      <td>6.7</td>\n      <td>1,925</td>\n      <td>2,462.5</td>\n      <td>7.8</td>\n    </tr>\n  </tbody>\n</table>\n</div>"
     },
     "execution_count": 25,
     "metadata": {},
     "output_type": "execute_result"
    }
   ],
   "source": [
    "elec_cost"
   ],
   "metadata": {
    "collapsed": false
   }
  },
  {
   "cell_type": "code",
   "execution_count": 26,
   "outputs": [],
   "source": [
    "elec_cost.iloc[1] = elec_cost.iloc[1].str.replace('\\n', ' ')\n",
    "elec_cost.loc[0] = elec_cost.loc[0].fillna(method='ffill').fillna('')\n",
    "columns = elec_cost.iloc[1] + ' ' + elec_cost.iloc[0]\n",
    "columns = columns.fillna('成本类别')\n",
    "elec_cost.columns = columns\n",
    "elec_cost = elec_cost.drop(index = [0,1])\n",
    "elec_cost = elec_cost.reset_index(drop=True)"
   ],
   "metadata": {
    "collapsed": false
   }
  },
  {
   "cell_type": "code",
   "execution_count": 27,
   "outputs": [
    {
     "data": {
      "text/plain": "        成本类别 成本 (百万元) 2022年上半年 煤电售电量 (亿千瓦时) 2022年上半年 单位成本 (元/兆瓦时) 2022年上半年  \\\n0  原材料、燃料及动力            22,311                 796.0                 280.3   \n1       人工成本             2,025                 796.0                  25.4   \n2        维修费               860                 796.0                  10.8   \n3      折旧及摊销             2,969                 796.0                  37.3   \n4       其他成本             1,001                 796.0                  12.6   \n\n  成本 (百万元) 2021年 煤电售电量 (亿千瓦时) 2021年 单位成本 (元/兆瓦时) 2021年 成本 (百万元) 2020年  \\\n0         39,944            1,516.4              263.4         23,103   \n1          3,195            1,516.4               21.1          2,265   \n2          1,688            1,516.4               11.1          1,989   \n3          5,078            1,516.4               33.5          4,886   \n4          2,161            1,516.4               14.3            841   \n\n  煤电售电量 (亿千瓦时) 2020年 单位成本 (元/兆瓦时) 2020年 成本 (百万元) 2019年 煤电售电量 (亿千瓦时) 2019年  \\\n0            1,232.7              187.4         26,802            1,265.4   \n1            1,232.7               18.4          2,328            1,265.4   \n2            1,232.7               16.1            NaN                NaN   \n3            1,232.7               39.6          5,294            1,265.4   \n4            1,232.7                6.8          1,125            1,265.4   \n\n  单位成本 (元/兆瓦时) 2019年 成本 (百万元) 2018年 煤电售电量 (亿千瓦时) 2018年 单位成本 (元/兆瓦时) 2018年  \\\n0              211.8         50,511            2,675.9              188.8   \n1               18.4          4,453            2,675.9               16.6   \n2                NaN            NaN                NaN                NaN   \n3               41.8          8,005            2,675.9               29.9   \n4                8.9          1,801            2,675.9                6.7   \n\n  成本 (百万元) 2017年 煤电售电量 (亿千瓦时) 2017年 单位成本 (元/兆瓦时) 2017年  \n0         46,008            2,462.5              186.8  \n1          3,939            2,462.5               16.0  \n2            NaN                NaN                NaN  \n3          9,235            2,462.5               37.5  \n4          1,925            2,462.5                7.8  ",
      "text/html": "<div>\n<style scoped>\n    .dataframe tbody tr th:only-of-type {\n        vertical-align: middle;\n    }\n\n    .dataframe tbody tr th {\n        vertical-align: top;\n    }\n\n    .dataframe thead th {\n        text-align: right;\n    }\n</style>\n<table border=\"1\" class=\"dataframe\">\n  <thead>\n    <tr style=\"text-align: right;\">\n      <th></th>\n      <th>成本类别</th>\n      <th>成本 (百万元) 2022年上半年</th>\n      <th>煤电售电量 (亿千瓦时) 2022年上半年</th>\n      <th>单位成本 (元/兆瓦时) 2022年上半年</th>\n      <th>成本 (百万元) 2021年</th>\n      <th>煤电售电量 (亿千瓦时) 2021年</th>\n      <th>单位成本 (元/兆瓦时) 2021年</th>\n      <th>成本 (百万元) 2020年</th>\n      <th>煤电售电量 (亿千瓦时) 2020年</th>\n      <th>单位成本 (元/兆瓦时) 2020年</th>\n      <th>成本 (百万元) 2019年</th>\n      <th>煤电售电量 (亿千瓦时) 2019年</th>\n      <th>单位成本 (元/兆瓦时) 2019年</th>\n      <th>成本 (百万元) 2018年</th>\n      <th>煤电售电量 (亿千瓦时) 2018年</th>\n      <th>单位成本 (元/兆瓦时) 2018年</th>\n      <th>成本 (百万元) 2017年</th>\n      <th>煤电售电量 (亿千瓦时) 2017年</th>\n      <th>单位成本 (元/兆瓦时) 2017年</th>\n    </tr>\n  </thead>\n  <tbody>\n    <tr>\n      <th>0</th>\n      <td>原材料、燃料及动力</td>\n      <td>22,311</td>\n      <td>796.0</td>\n      <td>280.3</td>\n      <td>39,944</td>\n      <td>1,516.4</td>\n      <td>263.4</td>\n      <td>23,103</td>\n      <td>1,232.7</td>\n      <td>187.4</td>\n      <td>26,802</td>\n      <td>1,265.4</td>\n      <td>211.8</td>\n      <td>50,511</td>\n      <td>2,675.9</td>\n      <td>188.8</td>\n      <td>46,008</td>\n      <td>2,462.5</td>\n      <td>186.8</td>\n    </tr>\n    <tr>\n      <th>1</th>\n      <td>人工成本</td>\n      <td>2,025</td>\n      <td>796.0</td>\n      <td>25.4</td>\n      <td>3,195</td>\n      <td>1,516.4</td>\n      <td>21.1</td>\n      <td>2,265</td>\n      <td>1,232.7</td>\n      <td>18.4</td>\n      <td>2,328</td>\n      <td>1,265.4</td>\n      <td>18.4</td>\n      <td>4,453</td>\n      <td>2,675.9</td>\n      <td>16.6</td>\n      <td>3,939</td>\n      <td>2,462.5</td>\n      <td>16.0</td>\n    </tr>\n    <tr>\n      <th>2</th>\n      <td>维修费</td>\n      <td>860</td>\n      <td>796.0</td>\n      <td>10.8</td>\n      <td>1,688</td>\n      <td>1,516.4</td>\n      <td>11.1</td>\n      <td>1,989</td>\n      <td>1,232.7</td>\n      <td>16.1</td>\n      <td>NaN</td>\n      <td>NaN</td>\n      <td>NaN</td>\n      <td>NaN</td>\n      <td>NaN</td>\n      <td>NaN</td>\n      <td>NaN</td>\n      <td>NaN</td>\n      <td>NaN</td>\n    </tr>\n    <tr>\n      <th>3</th>\n      <td>折旧及摊销</td>\n      <td>2,969</td>\n      <td>796.0</td>\n      <td>37.3</td>\n      <td>5,078</td>\n      <td>1,516.4</td>\n      <td>33.5</td>\n      <td>4,886</td>\n      <td>1,232.7</td>\n      <td>39.6</td>\n      <td>5,294</td>\n      <td>1,265.4</td>\n      <td>41.8</td>\n      <td>8,005</td>\n      <td>2,675.9</td>\n      <td>29.9</td>\n      <td>9,235</td>\n      <td>2,462.5</td>\n      <td>37.5</td>\n    </tr>\n    <tr>\n      <th>4</th>\n      <td>其他成本</td>\n      <td>1,001</td>\n      <td>796.0</td>\n      <td>12.6</td>\n      <td>2,161</td>\n      <td>1,516.4</td>\n      <td>14.3</td>\n      <td>841</td>\n      <td>1,232.7</td>\n      <td>6.8</td>\n      <td>1,125</td>\n      <td>1,265.4</td>\n      <td>8.9</td>\n      <td>1,801</td>\n      <td>2,675.9</td>\n      <td>6.7</td>\n      <td>1,925</td>\n      <td>2,462.5</td>\n      <td>7.8</td>\n    </tr>\n  </tbody>\n</table>\n</div>"
     },
     "execution_count": 27,
     "metadata": {},
     "output_type": "execute_result"
    }
   ],
   "source": [
    "elec_cost"
   ],
   "metadata": {
    "collapsed": false
   }
  },
  {
   "cell_type": "code",
   "execution_count": 28,
   "outputs": [],
   "source": [
    "elec_cost.columns = translate_col(elec_cost)\n",
    "elec_cost.replace(translate_cells(elec_cost), inplace = True)"
   ],
   "metadata": {
    "collapsed": false
   }
  },
  {
   "cell_type": "code",
   "execution_count": 29,
   "outputs": [
    {
     "data": {
      "text/plain": "                    cost category Cost (RMB million) 1H2022  \\\n0  Raw materials, fuels and power                    22,311   \n1                      Labor cost                     2,025   \n2                Maintenance fees                       860   \n3   Depreciation and amortization                     2,969   \n4                     other costs                     1,001   \n\n  Coal electricity sales (100 million kWh) in the first half of 2022  \\\n0                                              796.0                   \n1                                              796.0                   \n2                                              796.0                   \n3                                              796.0                   \n4                                              796.0                   \n\n  Unit cost (yuan/MWh) in the first half of 2022 Cost (RMB million) 2021  \\\n0                                          280.3                  39,944   \n1                                           25.4                   3,195   \n2                                           10.8                   1,688   \n3                                           37.3                   5,078   \n4                                           12.6                   2,161   \n\n  Coal electricity sales (100 million kWh) in 2021  \\\n0                                          1,516.4   \n1                                          1,516.4   \n2                                          1,516.4   \n3                                          1,516.4   \n4                                          1,516.4   \n\n  Unit cost (yuan/MWh) in 2021 Cost (RMB million) 2020  \\\n0                        263.4                  23,103   \n1                         21.1                   2,265   \n2                         11.1                   1,989   \n3                         33.5                   4,886   \n4                         14.3                     841   \n\n  Coal-fired electricity sales (100 million kWh) in 2020  \\\n0                                            1,232.7       \n1                                            1,232.7       \n2                                            1,232.7       \n3                                            1,232.7       \n4                                            1,232.7       \n\n  Unit cost (yuan/MWh) in 2020 Cost (RMB million) 2019  \\\n0                        187.4                  26,802   \n1                         18.4                   2,328   \n2                         16.1                     NaN   \n3                         39.6                   5,294   \n4                          6.8                   1,125   \n\n  Coal-fired electricity sales (100 million kWh) in 2019  \\\n0                                            1,265.4       \n1                                            1,265.4       \n2                                                NaN       \n3                                            1,265.4       \n4                                            1,265.4       \n\n  Unit cost (yuan/MWh) in 2019 Cost (RMB million) 2018  \\\n0                        211.8                  50,511   \n1                         18.4                   4,453   \n2                          NaN                     NaN   \n3                         41.8                   8,005   \n4                          8.9                   1,801   \n\n  Coal-fired electricity sales (100 million kWh) in 2018  \\\n0                                            2,675.9       \n1                                            2,675.9       \n2                                                NaN       \n3                                            2,675.9       \n4                                            2,675.9       \n\n  Unit cost (yuan/MWh) in 2018 Cost (RMB million) 2017  \\\n0                        188.8                  46,008   \n1                         16.6                   3,939   \n2                          NaN                     NaN   \n3                         29.9                   9,235   \n4                          6.7                   1,925   \n\n  Coal-fired electricity sales (100 million kWh) in 2017  \\\n0                                            2,462.5       \n1                                            2,462.5       \n2                                                NaN       \n3                                            2,462.5       \n4                                            2,462.5       \n\n  Unit cost (yuan/MWh) in 2017  \n0                        186.8  \n1                         16.0  \n2                          NaN  \n3                         37.5  \n4                          7.8  ",
      "text/html": "<div>\n<style scoped>\n    .dataframe tbody tr th:only-of-type {\n        vertical-align: middle;\n    }\n\n    .dataframe tbody tr th {\n        vertical-align: top;\n    }\n\n    .dataframe thead th {\n        text-align: right;\n    }\n</style>\n<table border=\"1\" class=\"dataframe\">\n  <thead>\n    <tr style=\"text-align: right;\">\n      <th></th>\n      <th>cost category</th>\n      <th>Cost (RMB million) 1H2022</th>\n      <th>Coal electricity sales (100 million kWh) in the first half of 2022</th>\n      <th>Unit cost (yuan/MWh) in the first half of 2022</th>\n      <th>Cost (RMB million) 2021</th>\n      <th>Coal electricity sales (100 million kWh) in 2021</th>\n      <th>Unit cost (yuan/MWh) in 2021</th>\n      <th>Cost (RMB million) 2020</th>\n      <th>Coal-fired electricity sales (100 million kWh) in 2020</th>\n      <th>Unit cost (yuan/MWh) in 2020</th>\n      <th>Cost (RMB million) 2019</th>\n      <th>Coal-fired electricity sales (100 million kWh) in 2019</th>\n      <th>Unit cost (yuan/MWh) in 2019</th>\n      <th>Cost (RMB million) 2018</th>\n      <th>Coal-fired electricity sales (100 million kWh) in 2018</th>\n      <th>Unit cost (yuan/MWh) in 2018</th>\n      <th>Cost (RMB million) 2017</th>\n      <th>Coal-fired electricity sales (100 million kWh) in 2017</th>\n      <th>Unit cost (yuan/MWh) in 2017</th>\n    </tr>\n  </thead>\n  <tbody>\n    <tr>\n      <th>0</th>\n      <td>Raw materials, fuels and power</td>\n      <td>22,311</td>\n      <td>796.0</td>\n      <td>280.3</td>\n      <td>39,944</td>\n      <td>1,516.4</td>\n      <td>263.4</td>\n      <td>23,103</td>\n      <td>1,232.7</td>\n      <td>187.4</td>\n      <td>26,802</td>\n      <td>1,265.4</td>\n      <td>211.8</td>\n      <td>50,511</td>\n      <td>2,675.9</td>\n      <td>188.8</td>\n      <td>46,008</td>\n      <td>2,462.5</td>\n      <td>186.8</td>\n    </tr>\n    <tr>\n      <th>1</th>\n      <td>Labor cost</td>\n      <td>2,025</td>\n      <td>796.0</td>\n      <td>25.4</td>\n      <td>3,195</td>\n      <td>1,516.4</td>\n      <td>21.1</td>\n      <td>2,265</td>\n      <td>1,232.7</td>\n      <td>18.4</td>\n      <td>2,328</td>\n      <td>1,265.4</td>\n      <td>18.4</td>\n      <td>4,453</td>\n      <td>2,675.9</td>\n      <td>16.6</td>\n      <td>3,939</td>\n      <td>2,462.5</td>\n      <td>16.0</td>\n    </tr>\n    <tr>\n      <th>2</th>\n      <td>Maintenance fees</td>\n      <td>860</td>\n      <td>796.0</td>\n      <td>10.8</td>\n      <td>1,688</td>\n      <td>1,516.4</td>\n      <td>11.1</td>\n      <td>1,989</td>\n      <td>1,232.7</td>\n      <td>16.1</td>\n      <td>NaN</td>\n      <td>NaN</td>\n      <td>NaN</td>\n      <td>NaN</td>\n      <td>NaN</td>\n      <td>NaN</td>\n      <td>NaN</td>\n      <td>NaN</td>\n      <td>NaN</td>\n    </tr>\n    <tr>\n      <th>3</th>\n      <td>Depreciation and amortization</td>\n      <td>2,969</td>\n      <td>796.0</td>\n      <td>37.3</td>\n      <td>5,078</td>\n      <td>1,516.4</td>\n      <td>33.5</td>\n      <td>4,886</td>\n      <td>1,232.7</td>\n      <td>39.6</td>\n      <td>5,294</td>\n      <td>1,265.4</td>\n      <td>41.8</td>\n      <td>8,005</td>\n      <td>2,675.9</td>\n      <td>29.9</td>\n      <td>9,235</td>\n      <td>2,462.5</td>\n      <td>37.5</td>\n    </tr>\n    <tr>\n      <th>4</th>\n      <td>other costs</td>\n      <td>1,001</td>\n      <td>796.0</td>\n      <td>12.6</td>\n      <td>2,161</td>\n      <td>1,516.4</td>\n      <td>14.3</td>\n      <td>841</td>\n      <td>1,232.7</td>\n      <td>6.8</td>\n      <td>1,125</td>\n      <td>1,265.4</td>\n      <td>8.9</td>\n      <td>1,801</td>\n      <td>2,675.9</td>\n      <td>6.7</td>\n      <td>1,925</td>\n      <td>2,462.5</td>\n      <td>7.8</td>\n    </tr>\n  </tbody>\n</table>\n</div>"
     },
     "execution_count": 29,
     "metadata": {},
     "output_type": "execute_result"
    }
   ],
   "source": [
    "elec_cost"
   ],
   "metadata": {
    "collapsed": false
   }
  },
  {
   "cell_type": "code",
   "execution_count": 29,
   "outputs": [],
   "source": [],
   "metadata": {
    "collapsed": false
   }
  },
  {
   "cell_type": "markdown",
   "source": [
    "### 2020's estimated sales revenue & cost by power types"
   ],
   "metadata": {
    "collapsed": false
   }
  },
  {
   "cell_type": "code",
   "execution_count": 30,
   "outputs": [],
   "source": [
    "# change type\n",
    "import re\n",
    "\n",
    "for i in power_sale.columns:\n",
    "    try:\n",
    "        power_sale[i] = power_sale[i].astype(float)\n",
    "    except ValueError:\n",
    "        continue\n",
    "\n",
    "for i in power_cost.columns:\n",
    "    try:\n",
    "        if i == 'cost category':\n",
    "            continue\n",
    "        power_cost[i] = power_cost[i].apply(lambda x: ''.join(c for c in x if c.isdigit()))\n",
    "        power_cost[i] = power_cost[i].astype(float)\n",
    "    except ValueError:\n",
    "        continue\n",
    "    except TypeError:\n",
    "        continue\n"
   ],
   "metadata": {
    "collapsed": false
   }
  },
  {
   "cell_type": "code",
   "execution_count": 80,
   "outputs": [
    {
     "ename": "AttributeError",
     "evalue": "Can only use .str accessor with string values!",
     "output_type": "error",
     "traceback": [
      "\u001B[0;31m---------------------------------------------------------------------------\u001B[0m",
      "\u001B[0;31mAttributeError\u001B[0m                            Traceback (most recent call last)",
      "Cell \u001B[0;32mIn [80], line 5\u001B[0m\n\u001B[1;32m      3\u001B[0m \u001B[38;5;28;01mif\u001B[39;00m i \u001B[38;5;241m==\u001B[39m \u001B[38;5;124m'\u001B[39m\u001B[38;5;124mcost category\u001B[39m\u001B[38;5;124m'\u001B[39m:\n\u001B[1;32m      4\u001B[0m     \u001B[38;5;28;01mcontinue\u001B[39;00m\n\u001B[0;32m----> 5\u001B[0m elec_cost[i] \u001B[38;5;241m=\u001B[39m \u001B[43melec_cost\u001B[49m\u001B[43m[\u001B[49m\u001B[43mi\u001B[49m\u001B[43m]\u001B[49m\u001B[38;5;241;43m.\u001B[39;49m\u001B[43mstr\u001B[49m\u001B[38;5;241m.\u001B[39mreplace(\u001B[38;5;124m'\u001B[39m\u001B[38;5;124m,\u001B[39m\u001B[38;5;124m'\u001B[39m, \u001B[38;5;124m'\u001B[39m\u001B[38;5;124m'\u001B[39m)\n\u001B[1;32m      6\u001B[0m elec_cost[i] \u001B[38;5;241m=\u001B[39m elec_cost[i]\u001B[38;5;241m.\u001B[39mapply(\u001B[38;5;28;01mlambda\u001B[39;00m x: \u001B[38;5;124m'\u001B[39m\u001B[38;5;124m'\u001B[39m\u001B[38;5;241m.\u001B[39mjoin(c \u001B[38;5;28;01mfor\u001B[39;00m c \u001B[38;5;129;01min\u001B[39;00m x \u001B[38;5;28;01mif\u001B[39;00m c\u001B[38;5;241m.\u001B[39misdigit()))\n\u001B[1;32m      7\u001B[0m elec_cost[i] \u001B[38;5;241m=\u001B[39m elec_cost[i]\u001B[38;5;241m.\u001B[39mastype(\u001B[38;5;28mfloat\u001B[39m)\n",
      "File \u001B[0;32m/opt/homebrew/Caskroom/miniforge/base/envs/justin/lib/python3.10/site-packages/pandas/core/generic.py:5907\u001B[0m, in \u001B[0;36mNDFrame.__getattr__\u001B[0;34m(self, name)\u001B[0m\n\u001B[1;32m   5900\u001B[0m \u001B[38;5;28;01mif\u001B[39;00m (\n\u001B[1;32m   5901\u001B[0m     name \u001B[38;5;129;01mnot\u001B[39;00m \u001B[38;5;129;01min\u001B[39;00m \u001B[38;5;28mself\u001B[39m\u001B[38;5;241m.\u001B[39m_internal_names_set\n\u001B[1;32m   5902\u001B[0m     \u001B[38;5;129;01mand\u001B[39;00m name \u001B[38;5;129;01mnot\u001B[39;00m \u001B[38;5;129;01min\u001B[39;00m \u001B[38;5;28mself\u001B[39m\u001B[38;5;241m.\u001B[39m_metadata\n\u001B[1;32m   5903\u001B[0m     \u001B[38;5;129;01mand\u001B[39;00m name \u001B[38;5;129;01mnot\u001B[39;00m \u001B[38;5;129;01min\u001B[39;00m \u001B[38;5;28mself\u001B[39m\u001B[38;5;241m.\u001B[39m_accessors\n\u001B[1;32m   5904\u001B[0m     \u001B[38;5;129;01mand\u001B[39;00m \u001B[38;5;28mself\u001B[39m\u001B[38;5;241m.\u001B[39m_info_axis\u001B[38;5;241m.\u001B[39m_can_hold_identifiers_and_holds_name(name)\n\u001B[1;32m   5905\u001B[0m ):\n\u001B[1;32m   5906\u001B[0m     \u001B[38;5;28;01mreturn\u001B[39;00m \u001B[38;5;28mself\u001B[39m[name]\n\u001B[0;32m-> 5907\u001B[0m \u001B[38;5;28;01mreturn\u001B[39;00m \u001B[38;5;28;43mobject\u001B[39;49m\u001B[38;5;241;43m.\u001B[39;49m\u001B[38;5;21;43m__getattribute__\u001B[39;49m\u001B[43m(\u001B[49m\u001B[38;5;28;43mself\u001B[39;49m\u001B[43m,\u001B[49m\u001B[43m \u001B[49m\u001B[43mname\u001B[49m\u001B[43m)\u001B[49m\n",
      "File \u001B[0;32m/opt/homebrew/Caskroom/miniforge/base/envs/justin/lib/python3.10/site-packages/pandas/core/accessor.py:183\u001B[0m, in \u001B[0;36mCachedAccessor.__get__\u001B[0;34m(self, obj, cls)\u001B[0m\n\u001B[1;32m    180\u001B[0m \u001B[38;5;28;01mif\u001B[39;00m obj \u001B[38;5;129;01mis\u001B[39;00m \u001B[38;5;28;01mNone\u001B[39;00m:\n\u001B[1;32m    181\u001B[0m     \u001B[38;5;66;03m# we're accessing the attribute of the class, i.e., Dataset.geo\u001B[39;00m\n\u001B[1;32m    182\u001B[0m     \u001B[38;5;28;01mreturn\u001B[39;00m \u001B[38;5;28mself\u001B[39m\u001B[38;5;241m.\u001B[39m_accessor\n\u001B[0;32m--> 183\u001B[0m accessor_obj \u001B[38;5;241m=\u001B[39m \u001B[38;5;28;43mself\u001B[39;49m\u001B[38;5;241;43m.\u001B[39;49m\u001B[43m_accessor\u001B[49m\u001B[43m(\u001B[49m\u001B[43mobj\u001B[49m\u001B[43m)\u001B[49m\n\u001B[1;32m    184\u001B[0m \u001B[38;5;66;03m# Replace the property with the accessor object. Inspired by:\u001B[39;00m\n\u001B[1;32m    185\u001B[0m \u001B[38;5;66;03m# https://www.pydanny.com/cached-property.html\u001B[39;00m\n\u001B[1;32m    186\u001B[0m \u001B[38;5;66;03m# We need to use object.__setattr__ because we overwrite __setattr__ on\u001B[39;00m\n\u001B[1;32m    187\u001B[0m \u001B[38;5;66;03m# NDFrame\u001B[39;00m\n\u001B[1;32m    188\u001B[0m \u001B[38;5;28mobject\u001B[39m\u001B[38;5;241m.\u001B[39m\u001B[38;5;21m__setattr__\u001B[39m(obj, \u001B[38;5;28mself\u001B[39m\u001B[38;5;241m.\u001B[39m_name, accessor_obj)\n",
      "File \u001B[0;32m/opt/homebrew/Caskroom/miniforge/base/envs/justin/lib/python3.10/site-packages/pandas/core/strings/accessor.py:182\u001B[0m, in \u001B[0;36mStringMethods.__init__\u001B[0;34m(self, data)\u001B[0m\n\u001B[1;32m    179\u001B[0m \u001B[38;5;28;01mdef\u001B[39;00m \u001B[38;5;21m__init__\u001B[39m(\u001B[38;5;28mself\u001B[39m, data) \u001B[38;5;241m-\u001B[39m\u001B[38;5;241m>\u001B[39m \u001B[38;5;28;01mNone\u001B[39;00m:\n\u001B[1;32m    180\u001B[0m     \u001B[38;5;28;01mfrom\u001B[39;00m \u001B[38;5;21;01mpandas\u001B[39;00m\u001B[38;5;21;01m.\u001B[39;00m\u001B[38;5;21;01mcore\u001B[39;00m\u001B[38;5;21;01m.\u001B[39;00m\u001B[38;5;21;01marrays\u001B[39;00m\u001B[38;5;21;01m.\u001B[39;00m\u001B[38;5;21;01mstring_\u001B[39;00m \u001B[38;5;28;01mimport\u001B[39;00m StringDtype\n\u001B[0;32m--> 182\u001B[0m     \u001B[38;5;28mself\u001B[39m\u001B[38;5;241m.\u001B[39m_inferred_dtype \u001B[38;5;241m=\u001B[39m \u001B[38;5;28;43mself\u001B[39;49m\u001B[38;5;241;43m.\u001B[39;49m\u001B[43m_validate\u001B[49m\u001B[43m(\u001B[49m\u001B[43mdata\u001B[49m\u001B[43m)\u001B[49m\n\u001B[1;32m    183\u001B[0m     \u001B[38;5;28mself\u001B[39m\u001B[38;5;241m.\u001B[39m_is_categorical \u001B[38;5;241m=\u001B[39m is_categorical_dtype(data\u001B[38;5;241m.\u001B[39mdtype)\n\u001B[1;32m    184\u001B[0m     \u001B[38;5;28mself\u001B[39m\u001B[38;5;241m.\u001B[39m_is_string \u001B[38;5;241m=\u001B[39m \u001B[38;5;28misinstance\u001B[39m(data\u001B[38;5;241m.\u001B[39mdtype, StringDtype)\n",
      "File \u001B[0;32m/opt/homebrew/Caskroom/miniforge/base/envs/justin/lib/python3.10/site-packages/pandas/core/strings/accessor.py:236\u001B[0m, in \u001B[0;36mStringMethods._validate\u001B[0;34m(data)\u001B[0m\n\u001B[1;32m    233\u001B[0m inferred_dtype \u001B[38;5;241m=\u001B[39m lib\u001B[38;5;241m.\u001B[39minfer_dtype(values, skipna\u001B[38;5;241m=\u001B[39m\u001B[38;5;28;01mTrue\u001B[39;00m)\n\u001B[1;32m    235\u001B[0m \u001B[38;5;28;01mif\u001B[39;00m inferred_dtype \u001B[38;5;129;01mnot\u001B[39;00m \u001B[38;5;129;01min\u001B[39;00m allowed_types:\n\u001B[0;32m--> 236\u001B[0m     \u001B[38;5;28;01mraise\u001B[39;00m \u001B[38;5;167;01mAttributeError\u001B[39;00m(\u001B[38;5;124m\"\u001B[39m\u001B[38;5;124mCan only use .str accessor with string values!\u001B[39m\u001B[38;5;124m\"\u001B[39m)\n\u001B[1;32m    237\u001B[0m \u001B[38;5;28;01mreturn\u001B[39;00m inferred_dtype\n",
      "\u001B[0;31mAttributeError\u001B[0m: Can only use .str accessor with string values!"
     ]
    }
   ],
   "source": [
    "\n",
    "for i in elec_cost.columns:\n",
    "    try:\n",
    "        if i == 'cost category':\n",
    "            continue\n",
    "        elec_cost[i] = elec_cost[i].str.replace(',', '')\n",
    "        elec_cost[i] = elec_cost[i].apply(lambda x: ''.join(c for c in x if c.isdigit()))\n",
    "        elec_cost[i] = elec_cost[i].astype(float)\n",
    "    except ValueError:\n",
    "        continue\n",
    "    except TypeError:\n",
    "        continue"
   ],
   "metadata": {
    "collapsed": false
   }
  },
  {
   "cell_type": "code",
   "execution_count": 81,
   "outputs": [
    {
     "data": {
      "text/plain": "                    cost category  Cost (RMB million) 1H2022  \\\n0  Raw materials, fuels and power                    22311.0   \n1                      Labor cost                     2025.0   \n2                Maintenance fees                      860.0   \n3   Depreciation and amortization                     2969.0   \n4                     other costs                     1001.0   \n\n   Coal electricity sales (100 million kWh) in the first half of 2022  \\\n0                                             7960.0                    \n1                                             7960.0                    \n2                                             7960.0                    \n3                                             7960.0                    \n4                                             7960.0                    \n\n   Unit cost (yuan/MWh) in the first half of 2022  Cost (RMB million) 2021  \\\n0                                          2803.0                  39944.0   \n1                                           254.0                   3195.0   \n2                                           108.0                   1688.0   \n3                                           373.0                   5078.0   \n4                                           126.0                   2161.0   \n\n   Coal electricity sales (100 million kWh) in 2021  \\\n0                                           15164.0   \n1                                           15164.0   \n2                                           15164.0   \n3                                           15164.0   \n4                                           15164.0   \n\n   Unit cost (yuan/MWh) in 2021  Cost (RMB million) 2020  \\\n0                        2634.0                  23103.0   \n1                         211.0                   2265.0   \n2                         111.0                   1989.0   \n3                         335.0                   4886.0   \n4                         143.0                    841.0   \n\n   Coal-fired electricity sales (100 million kWh) in 2020  \\\n0                                            12327.0        \n1                                            12327.0        \n2                                            12327.0        \n3                                            12327.0        \n4                                            12327.0        \n\n   Unit cost (yuan/MWh) in 2020 Cost (RMB million) 2019  \\\n0                        1874.0                  26,802   \n1                         184.0                   2,328   \n2                         161.0                     NaN   \n3                         396.0                   5,294   \n4                          68.0                   1,125   \n\n  Coal-fired electricity sales (100 million kWh) in 2019  \\\n0                                            1,265.4       \n1                                            1,265.4       \n2                                                NaN       \n3                                            1,265.4       \n4                                            1,265.4       \n\n  Unit cost (yuan/MWh) in 2019 Cost (RMB million) 2018  \\\n0                        211.8                  50,511   \n1                         18.4                   4,453   \n2                          NaN                     NaN   \n3                         41.8                   8,005   \n4                          8.9                   1,801   \n\n  Coal-fired electricity sales (100 million kWh) in 2018  \\\n0                                            2,675.9       \n1                                            2,675.9       \n2                                                NaN       \n3                                            2,675.9       \n4                                            2,675.9       \n\n  Unit cost (yuan/MWh) in 2018 Cost (RMB million) 2017  \\\n0                        188.8                  46,008   \n1                         16.6                   3,939   \n2                          NaN                     NaN   \n3                         29.9                   9,235   \n4                          6.7                   1,925   \n\n  Coal-fired electricity sales (100 million kWh) in 2017  \\\n0                                            2,462.5       \n1                                            2,462.5       \n2                                                NaN       \n3                                            2,462.5       \n4                                            2,462.5       \n\n  Unit cost (yuan/MWh) in 2017  \n0                        186.8  \n1                         16.0  \n2                          NaN  \n3                         37.5  \n4                          7.8  ",
      "text/html": "<div>\n<style scoped>\n    .dataframe tbody tr th:only-of-type {\n        vertical-align: middle;\n    }\n\n    .dataframe tbody tr th {\n        vertical-align: top;\n    }\n\n    .dataframe thead th {\n        text-align: right;\n    }\n</style>\n<table border=\"1\" class=\"dataframe\">\n  <thead>\n    <tr style=\"text-align: right;\">\n      <th></th>\n      <th>cost category</th>\n      <th>Cost (RMB million) 1H2022</th>\n      <th>Coal electricity sales (100 million kWh) in the first half of 2022</th>\n      <th>Unit cost (yuan/MWh) in the first half of 2022</th>\n      <th>Cost (RMB million) 2021</th>\n      <th>Coal electricity sales (100 million kWh) in 2021</th>\n      <th>Unit cost (yuan/MWh) in 2021</th>\n      <th>Cost (RMB million) 2020</th>\n      <th>Coal-fired electricity sales (100 million kWh) in 2020</th>\n      <th>Unit cost (yuan/MWh) in 2020</th>\n      <th>Cost (RMB million) 2019</th>\n      <th>Coal-fired electricity sales (100 million kWh) in 2019</th>\n      <th>Unit cost (yuan/MWh) in 2019</th>\n      <th>Cost (RMB million) 2018</th>\n      <th>Coal-fired electricity sales (100 million kWh) in 2018</th>\n      <th>Unit cost (yuan/MWh) in 2018</th>\n      <th>Cost (RMB million) 2017</th>\n      <th>Coal-fired electricity sales (100 million kWh) in 2017</th>\n      <th>Unit cost (yuan/MWh) in 2017</th>\n    </tr>\n  </thead>\n  <tbody>\n    <tr>\n      <th>0</th>\n      <td>Raw materials, fuels and power</td>\n      <td>22311.0</td>\n      <td>7960.0</td>\n      <td>2803.0</td>\n      <td>39944.0</td>\n      <td>15164.0</td>\n      <td>2634.0</td>\n      <td>23103.0</td>\n      <td>12327.0</td>\n      <td>1874.0</td>\n      <td>26,802</td>\n      <td>1,265.4</td>\n      <td>211.8</td>\n      <td>50,511</td>\n      <td>2,675.9</td>\n      <td>188.8</td>\n      <td>46,008</td>\n      <td>2,462.5</td>\n      <td>186.8</td>\n    </tr>\n    <tr>\n      <th>1</th>\n      <td>Labor cost</td>\n      <td>2025.0</td>\n      <td>7960.0</td>\n      <td>254.0</td>\n      <td>3195.0</td>\n      <td>15164.0</td>\n      <td>211.0</td>\n      <td>2265.0</td>\n      <td>12327.0</td>\n      <td>184.0</td>\n      <td>2,328</td>\n      <td>1,265.4</td>\n      <td>18.4</td>\n      <td>4,453</td>\n      <td>2,675.9</td>\n      <td>16.6</td>\n      <td>3,939</td>\n      <td>2,462.5</td>\n      <td>16.0</td>\n    </tr>\n    <tr>\n      <th>2</th>\n      <td>Maintenance fees</td>\n      <td>860.0</td>\n      <td>7960.0</td>\n      <td>108.0</td>\n      <td>1688.0</td>\n      <td>15164.0</td>\n      <td>111.0</td>\n      <td>1989.0</td>\n      <td>12327.0</td>\n      <td>161.0</td>\n      <td>NaN</td>\n      <td>NaN</td>\n      <td>NaN</td>\n      <td>NaN</td>\n      <td>NaN</td>\n      <td>NaN</td>\n      <td>NaN</td>\n      <td>NaN</td>\n      <td>NaN</td>\n    </tr>\n    <tr>\n      <th>3</th>\n      <td>Depreciation and amortization</td>\n      <td>2969.0</td>\n      <td>7960.0</td>\n      <td>373.0</td>\n      <td>5078.0</td>\n      <td>15164.0</td>\n      <td>335.0</td>\n      <td>4886.0</td>\n      <td>12327.0</td>\n      <td>396.0</td>\n      <td>5,294</td>\n      <td>1,265.4</td>\n      <td>41.8</td>\n      <td>8,005</td>\n      <td>2,675.9</td>\n      <td>29.9</td>\n      <td>9,235</td>\n      <td>2,462.5</td>\n      <td>37.5</td>\n    </tr>\n    <tr>\n      <th>4</th>\n      <td>other costs</td>\n      <td>1001.0</td>\n      <td>7960.0</td>\n      <td>126.0</td>\n      <td>2161.0</td>\n      <td>15164.0</td>\n      <td>143.0</td>\n      <td>841.0</td>\n      <td>12327.0</td>\n      <td>68.0</td>\n      <td>1,125</td>\n      <td>1,265.4</td>\n      <td>8.9</td>\n      <td>1,801</td>\n      <td>2,675.9</td>\n      <td>6.7</td>\n      <td>1,925</td>\n      <td>2,462.5</td>\n      <td>7.8</td>\n    </tr>\n  </tbody>\n</table>\n</div>"
     },
     "execution_count": 81,
     "metadata": {},
     "output_type": "execute_result"
    }
   ],
   "source": [
    "elec_cost"
   ],
   "metadata": {
    "collapsed": false
   }
  },
  {
   "cell_type": "code",
   "execution_count": 32,
   "outputs": [
    {
     "data": {
      "text/plain": "Index(['Power Plant Classification', 'power plant', 'Power grid',\n       'geographic location', 'Total power generation (100 million kWh) 2021',\n       'Total electricity sales (100 million kWh) 2021',\n       'Average utilization hours (hours) 2021',\n       'Standard coal consumption for electricity sales (g/kWh) 2021',\n       'Electricity sales price (yuan/MWh) 2021',\n       'Total installed capacity by the end of the year (MW) 2021',\n       'Equity installed capacity at the end of the year (MW) 2021',\n       'Calculation of weighted average electricity selling price in I38 2021',\n       'Total power generation (100 million kWh) 2020',\n       'Total electricity sales (100 million kWh) 2020',\n       'Average utilization hours (hours) 2020',\n       'Standard Coal Consumption of Electricity Sales (g/kWh) 2020',\n       'Electricity Sales Price (RMB/MWh) 2020',\n       'Total installed capacity at the end of the year (MW) 2020',\n       'Equity installed capacity at the end of the year (MW) 2020',\n       'Forecast gross profit (millions of dollars) 2020',\n       'Calculation of weighted average electricity selling price in Q38 2020',\n       'Total power generation (100 million kWh) 2019',\n       'Total electricity sales (100 million kWh) 2019',\n       'Average utilization hours (hours) 2019',\n       'Standard coal consumption of electricity sales (g/kWh) 2019',\n       'Electricity Sales Price (RMB/MWh) 2019',\n       'Total installed capacity at the end of the year (MW) 2019',\n       'Equity installed capacity at the end of the year (MW) 2019',\n       'Total power generation (100 million kWh) 2018',\n       'Total electricity sales (100 million kWh) 2018',\n       'Average utilization hours (hours) 2018',\n       'Standard coal consumption for electricity sales (g/kWh) 2018',\n       'Electricity Sales Price (RMB/MWh) 2018',\n       'Total installed capacity at the end of the year (MW) 2018',\n       'Equity installed capacity at the end of the year (MW) 2018'],\n      dtype='object')"
     },
     "execution_count": 32,
     "metadata": {},
     "output_type": "execute_result"
    }
   ],
   "source": [
    "power_sale.columns"
   ],
   "metadata": {
    "collapsed": false
   }
  },
  {
   "cell_type": "code",
   "execution_count": 33,
   "outputs": [],
   "source": [
    "# 100 million kWh / 10  = TWh\n",
    "power_dispatched = power_sale['Total electricity sales (100 million kWh) 2020'].sum() / 10"
   ],
   "metadata": {
    "collapsed": false
   }
  },
  {
   "cell_type": "code",
   "execution_count": 34,
   "outputs": [],
   "source": [
    "# Weighted Average Electricity Sales Price\n",
    "electricity_sale_price = \\\n",
    "power_sale['Total electricity sales (100 million kWh) 2020'] / \\\n",
    "power_sale['Total electricity sales (100 million kWh) 2020'].sum() * \\\n",
    "power_sale['Electricity Sales Price (RMB/MWh) 2020']"
   ],
   "metadata": {
    "collapsed": false
   }
  },
  {
   "cell_type": "code",
   "execution_count": 35,
   "outputs": [],
   "source": [
    "weighted_average_tariff = electricity_sale_price.sum()"
   ],
   "metadata": {
    "collapsed": false
   }
  },
  {
   "cell_type": "code",
   "execution_count": 36,
   "outputs": [
    {
     "data": {
      "text/plain": "333.4405797101449"
     },
     "execution_count": 36,
     "metadata": {},
     "output_type": "execute_result"
    }
   ],
   "source": [
    "weighted_average_tariff"
   ],
   "metadata": {
    "collapsed": false
   }
  },
  {
   "cell_type": "code",
   "execution_count": 37,
   "outputs": [],
   "source": [
    "forecasted_gross_profit = \\\n",
    "power_sale['Total electricity sales (100 million kWh) 2020'] * \\\n",
    "power_sale['Electricity Sales Price (RMB/MWh) 2020'] / 10"
   ],
   "metadata": {
    "collapsed": false
   }
  },
  {
   "cell_type": "code",
   "execution_count": 38,
   "outputs": [
    {
     "data": {
      "text/plain": "42563.69"
     },
     "execution_count": 38,
     "metadata": {},
     "output_type": "execute_result"
    }
   ],
   "source": [
    "forecasted_gross_profit.sum()"
   ],
   "metadata": {
    "collapsed": false
   }
  },
  {
   "cell_type": "code",
   "execution_count": 39,
   "outputs": [
    {
     "data": {
      "text/plain": "Index(['Power Plant Classification', 'power plant', 'Power grid',\n       'geographic location', 'Total power generation (100 million kWh) 2021',\n       'Total electricity sales (100 million kWh) 2021',\n       'Average utilization hours (hours) 2021',\n       'Standard coal consumption for electricity sales (g/kWh) 2021',\n       'Electricity sales price (yuan/MWh) 2021',\n       'Total installed capacity by the end of the year (MW) 2021',\n       'Equity installed capacity at the end of the year (MW) 2021',\n       'Calculation of weighted average electricity selling price in I38 2021',\n       'Total power generation (100 million kWh) 2020',\n       'Total electricity sales (100 million kWh) 2020',\n       'Average utilization hours (hours) 2020',\n       'Standard Coal Consumption of Electricity Sales (g/kWh) 2020',\n       'Electricity Sales Price (RMB/MWh) 2020',\n       'Total installed capacity at the end of the year (MW) 2020',\n       'Equity installed capacity at the end of the year (MW) 2020',\n       'Forecast gross profit (millions of dollars) 2020',\n       'Calculation of weighted average electricity selling price in Q38 2020',\n       'Total power generation (100 million kWh) 2019',\n       'Total electricity sales (100 million kWh) 2019',\n       'Average utilization hours (hours) 2019',\n       'Standard coal consumption of electricity sales (g/kWh) 2019',\n       'Electricity Sales Price (RMB/MWh) 2019',\n       'Total installed capacity at the end of the year (MW) 2019',\n       'Equity installed capacity at the end of the year (MW) 2019',\n       'Total power generation (100 million kWh) 2018',\n       'Total electricity sales (100 million kWh) 2018',\n       'Average utilization hours (hours) 2018',\n       'Standard coal consumption for electricity sales (g/kWh) 2018',\n       'Electricity Sales Price (RMB/MWh) 2018',\n       'Total installed capacity at the end of the year (MW) 2018',\n       'Equity installed capacity at the end of the year (MW) 2018'],\n      dtype='object')"
     },
     "execution_count": 39,
     "metadata": {},
     "output_type": "execute_result"
    }
   ],
   "source": [
    "power_sale.columns"
   ],
   "metadata": {
    "collapsed": false
   }
  },
  {
   "cell_type": "code",
   "execution_count": 40,
   "outputs": [
    {
     "data": {
      "text/plain": "Power Plant Classification\ncoal burning    580601.70\ngas               2111.25\nhydropower         146.16\nwind energy          0.00\ndtype: float64"
     },
     "execution_count": 40,
     "metadata": {},
     "output_type": "execute_result"
    }
   ],
   "source": [
    "# power_sale['Power Plant Classification'] == 'coal burning']\n",
    "group = power_sale.groupby('Power Plant Classification')[['Total electricity sales (100 million kWh) 2020','Electricity Sales Price (RMB/MWh) 2020']]\n",
    "\n",
    "coal_types_total = group.apply(lambda df: (df.sum()))\n",
    "\n",
    "coal_burning_total = coal_types_total['Total electricity sales (100 million kWh) 2020']['coal burning']\n",
    "coal_gas_total = coal_types_total['Total electricity sales (100 million kWh) 2020']['gas']\n",
    "coal_hydropower_total = coal_types_total['Total electricity sales (100 million kWh) 2020']['hydropower']\n",
    "\n",
    "# forecasted_gross_profit = group.apply(lambda df: (df['Total electricity sales (100 million kWh) 2020']   /                                    coal_types_total['Total electricity sales (100 million kWh) 2020']\n",
    "#                        * df['Electricity Sales Price (RMB/MWh) 2020']).sum())\n",
    "\n",
    "coal_types_total['Total electricity sales (100 million kWh) 2020'] * \\\n",
    "coal_types_total['Electricity Sales Price (RMB/MWh) 2020'] / 10"
   ],
   "metadata": {
    "collapsed": false
   }
  },
  {
   "cell_type": "markdown",
   "source": [
    "### Weighted Average Tariff"
   ],
   "metadata": {
    "collapsed": false
   }
  },
  {
   "cell_type": "code",
   "execution_count": 41,
   "outputs": [
    {
     "data": {
      "text/plain": "Power Plant Classification\ncoal burning    326.975582\ngas             563.000000\nhydropower      232.000000\nwind energy       0.000000\ndtype: float64"
     },
     "execution_count": 41,
     "metadata": {},
     "output_type": "execute_result"
    }
   ],
   "source": [
    "group.apply(lambda df: (df['Total electricity sales (100 million kWh) 2020']\n",
    "                       /  df['Total electricity sales (100 million kWh) 2020'].sum()\n",
    "                       * df['Electricity Sales Price (RMB/MWh) 2020']).sum()\n",
    "            )"
   ],
   "metadata": {
    "collapsed": false
   }
  },
  {
   "cell_type": "code",
   "execution_count": 42,
   "outputs": [
    {
     "data": {
      "text/plain": "Power Plant Classification\ncoal burning    40306.28\ngas              2111.25\nhydropower        146.16\nwind energy         0.00\ndtype: float64"
     },
     "execution_count": 42,
     "metadata": {},
     "output_type": "execute_result"
    }
   ],
   "source": [
    "group.apply(lambda df: ( df['Total electricity sales (100 million kWh) 2020'] *\n",
    "                         df['Electricity Sales Price (RMB/MWh) 2020'] / 10).sum()\n",
    "            )\n"
   ],
   "metadata": {
    "collapsed": false
   }
  },
  {
   "cell_type": "code",
   "execution_count": 42,
   "outputs": [],
   "source": [],
   "metadata": {
    "collapsed": false
   }
  },
  {
   "cell_type": "code",
   "execution_count": 42,
   "outputs": [],
   "source": [],
   "metadata": {
    "collapsed": false
   }
  },
  {
   "cell_type": "markdown",
   "source": [
    "### Power Dispatched"
   ],
   "metadata": {
    "collapsed": false
   }
  },
  {
   "cell_type": "code",
   "execution_count": 43,
   "outputs": [
    {
     "data": {
      "text/plain": "Power Plant Classification\ncoal burning    123.27\ngas               3.75\nhydropower        0.63\nwind energy       0.00\nName: Total electricity sales (100 million kWh) 2020, dtype: float64"
     },
     "execution_count": 43,
     "metadata": {},
     "output_type": "execute_result"
    }
   ],
   "source": [
    "coal_types_total['Total electricity sales (100 million kWh) 2020'] / 10"
   ],
   "metadata": {
    "collapsed": false
   }
  },
  {
   "cell_type": "code",
   "execution_count": 44,
   "outputs": [
    {
     "data": {
      "text/plain": "1276.5"
     },
     "execution_count": 44,
     "metadata": {},
     "output_type": "execute_result"
    }
   ],
   "source": [
    "coal_types_total['Total electricity sales (100 million kWh) 2020'].sum()"
   ],
   "metadata": {
    "collapsed": false
   }
  },
  {
   "cell_type": "markdown",
   "source": [],
   "metadata": {
    "collapsed": false
   }
  },
  {
   "cell_type": "code",
   "execution_count": 45,
   "outputs": [
    {
     "data": {
      "text/plain": "[1276.5, 1232.7, 37.5, 6.3, 0.0]"
     },
     "execution_count": 45,
     "metadata": {},
     "output_type": "execute_result"
    }
   ],
   "source": [
    "lst = coal_types_total['Total electricity sales (100 million kWh) 2020'].values.tolist()\n",
    "lst.insert(0,coal_types_total['Total electricity sales (100 million kWh) 2020'].sum())\n",
    "lst"
   ],
   "metadata": {
    "collapsed": false
   }
  },
  {
   "cell_type": "code",
   "execution_count": 46,
   "outputs": [
    {
     "data": {
      "text/plain": "1276.5"
     },
     "execution_count": 46,
     "metadata": {},
     "output_type": "execute_result"
    }
   ],
   "source": [
    "coal_types_total['Total electricity sales (100 million kWh) 2020'].sum()"
   ],
   "metadata": {
    "collapsed": false
   }
  },
  {
   "cell_type": "code",
   "execution_count": 47,
   "outputs": [
    {
     "data": {
      "text/plain": "333.4405797101449"
     },
     "execution_count": 47,
     "metadata": {},
     "output_type": "execute_result"
    }
   ],
   "source": [
    "weighted_average_tariff"
   ],
   "metadata": {
    "collapsed": false
   }
  },
  {
   "cell_type": "markdown",
   "source": [
    "### Estimated Gross Revenue"
   ],
   "metadata": {
    "collapsed": false
   }
  },
  {
   "cell_type": "code",
   "execution_count": 48,
   "outputs": [],
   "source": [
    "forecasted_gross_profit = \\\n",
    "power_sale['Total electricity sales (100 million kWh) 2020'] * \\\n",
    "power_sale['Electricity Sales Price (RMB/MWh) 2020'] / 10"
   ],
   "metadata": {
    "collapsed": false
   }
  },
  {
   "cell_type": "code",
   "execution_count": 49,
   "outputs": [
    {
     "data": {
      "text/plain": "Power Plant Classification\ncoal burning    40306.28\ngas              2111.25\nhydropower        146.16\nwind energy         0.00\ndtype: float64"
     },
     "execution_count": 49,
     "metadata": {},
     "output_type": "execute_result"
    }
   ],
   "source": [
    "group.apply(lambda df: (df['Total electricity sales (100 million kWh) 2020'] *\n",
    "                        df['Electricity Sales Price (RMB/MWh) 2020'] / 10).sum()\n",
    "            )"
   ],
   "metadata": {
    "collapsed": false
   }
  },
  {
   "cell_type": "markdown",
   "source": [
    "### Estimated Sales Cost"
   ],
   "metadata": {
    "collapsed": false
   }
  },
  {
   "cell_type": "code",
   "execution_count": 50,
   "outputs": [
    {
     "data": {
      "text/plain": "Index(['cost category', 'Cost (RMB million) 2021',\n       'Electricity sales (100 million kWh) in 2021',\n       'Unit cost (yuan/MWh) in 2021', 'Cost (RMB million) 2020',\n       'Electricity sales (100 million kWh) in 2020',\n       'Unit cost (yuan/MWh) in 2020', 'Cost (RMB million) 2019',\n       'Electricity sales (100 million kWh) in 2019',\n       'Unit cost (yuan/MWh) in 2019'],\n      dtype='object')"
     },
     "execution_count": 50,
     "metadata": {},
     "output_type": "execute_result"
    }
   ],
   "source": [
    "power_cost.columns"
   ],
   "metadata": {
    "collapsed": false
   }
  },
  {
   "cell_type": "code",
   "execution_count": 51,
   "outputs": [
    {
     "data": {
      "text/plain": "                    cost category  Cost (RMB million) 2021  \\\n0                Electricity cost                  54360.0   \n1  Raw materials, fuels and power                  41686.0   \n2                      Labor cost                   3277.0   \n3                Maintenance fees                   1808.0   \n4   Depreciation and amortization                   5254.0   \n5                     other costs                   2315.0   \n6           Other operating costs                   4833.0   \n\n   Electricity sales (100 million kWh) in 2021 Unit cost (yuan/MWh) in 2021  \\\n0                                      15613.0                        348.1   \n1                                      15613.0                        267.0   \n2                                      15613.0                         21.0   \n3                                      15613.0                         11.6   \n4                                      15613.0                         33.7   \n5                                      15613.0                         14.8   \n6                                      15613.0                          NaN   \n\n   Cost (RMB million) 2020  Electricity sales (100 million kWh) in 2020  \\\n0                  35246.0                                      12765.0   \n1                  24827.0                                      12765.0   \n2                   2307.0                                      12765.0   \n3                   2086.0                                      12765.0   \n4                   5056.0                                      12765.0   \n5                    970.0                                      12765.0   \n6                   2852.0                                      12775.0   \n\n  Unit cost (yuan/MWh) in 2020 Cost (RMB million) 2019  \\\n0                        276.1                     NaN   \n1                        194.5                  28,739   \n2                         18.1                   2,371   \n3                         16.3                     NaN   \n4                         39.6                   5,481   \n5                          7.6                   1,238   \n6                          NaN                      52   \n\n  Electricity sales (100 million kWh) in 2019 Unit cost (yuan/MWh) in 2019  \n0                                         NaN                          NaN  \n1                                     1,440.4                        199.5  \n2                                     1,440.4                         16.5  \n3                                         NaN                          NaN  \n4                                     1,440.4                         38.1  \n5                                     1,440.4                          8.5  \n6                                     1,440.4                          NaN  ",
      "text/html": "<div>\n<style scoped>\n    .dataframe tbody tr th:only-of-type {\n        vertical-align: middle;\n    }\n\n    .dataframe tbody tr th {\n        vertical-align: top;\n    }\n\n    .dataframe thead th {\n        text-align: right;\n    }\n</style>\n<table border=\"1\" class=\"dataframe\">\n  <thead>\n    <tr style=\"text-align: right;\">\n      <th></th>\n      <th>cost category</th>\n      <th>Cost (RMB million) 2021</th>\n      <th>Electricity sales (100 million kWh) in 2021</th>\n      <th>Unit cost (yuan/MWh) in 2021</th>\n      <th>Cost (RMB million) 2020</th>\n      <th>Electricity sales (100 million kWh) in 2020</th>\n      <th>Unit cost (yuan/MWh) in 2020</th>\n      <th>Cost (RMB million) 2019</th>\n      <th>Electricity sales (100 million kWh) in 2019</th>\n      <th>Unit cost (yuan/MWh) in 2019</th>\n    </tr>\n  </thead>\n  <tbody>\n    <tr>\n      <th>0</th>\n      <td>Electricity cost</td>\n      <td>54360.0</td>\n      <td>15613.0</td>\n      <td>348.1</td>\n      <td>35246.0</td>\n      <td>12765.0</td>\n      <td>276.1</td>\n      <td>NaN</td>\n      <td>NaN</td>\n      <td>NaN</td>\n    </tr>\n    <tr>\n      <th>1</th>\n      <td>Raw materials, fuels and power</td>\n      <td>41686.0</td>\n      <td>15613.0</td>\n      <td>267.0</td>\n      <td>24827.0</td>\n      <td>12765.0</td>\n      <td>194.5</td>\n      <td>28,739</td>\n      <td>1,440.4</td>\n      <td>199.5</td>\n    </tr>\n    <tr>\n      <th>2</th>\n      <td>Labor cost</td>\n      <td>3277.0</td>\n      <td>15613.0</td>\n      <td>21.0</td>\n      <td>2307.0</td>\n      <td>12765.0</td>\n      <td>18.1</td>\n      <td>2,371</td>\n      <td>1,440.4</td>\n      <td>16.5</td>\n    </tr>\n    <tr>\n      <th>3</th>\n      <td>Maintenance fees</td>\n      <td>1808.0</td>\n      <td>15613.0</td>\n      <td>11.6</td>\n      <td>2086.0</td>\n      <td>12765.0</td>\n      <td>16.3</td>\n      <td>NaN</td>\n      <td>NaN</td>\n      <td>NaN</td>\n    </tr>\n    <tr>\n      <th>4</th>\n      <td>Depreciation and amortization</td>\n      <td>5254.0</td>\n      <td>15613.0</td>\n      <td>33.7</td>\n      <td>5056.0</td>\n      <td>12765.0</td>\n      <td>39.6</td>\n      <td>5,481</td>\n      <td>1,440.4</td>\n      <td>38.1</td>\n    </tr>\n    <tr>\n      <th>5</th>\n      <td>other costs</td>\n      <td>2315.0</td>\n      <td>15613.0</td>\n      <td>14.8</td>\n      <td>970.0</td>\n      <td>12765.0</td>\n      <td>7.6</td>\n      <td>1,238</td>\n      <td>1,440.4</td>\n      <td>8.5</td>\n    </tr>\n    <tr>\n      <th>6</th>\n      <td>Other operating costs</td>\n      <td>4833.0</td>\n      <td>15613.0</td>\n      <td>NaN</td>\n      <td>2852.0</td>\n      <td>12775.0</td>\n      <td>NaN</td>\n      <td>52</td>\n      <td>1,440.4</td>\n      <td>NaN</td>\n    </tr>\n  </tbody>\n</table>\n</div>"
     },
     "execution_count": 51,
     "metadata": {},
     "output_type": "execute_result"
    }
   ],
   "source": [
    "power_cost"
   ],
   "metadata": {
    "collapsed": false
   }
  },
  {
   "cell_type": "code",
   "execution_count": 52,
   "outputs": [
    {
     "data": {
      "text/plain": "33160.0"
     },
     "execution_count": 52,
     "metadata": {},
     "output_type": "execute_result"
    }
   ],
   "source": [
    "power_cost['Cost (RMB million) 2020'].sum() - \\\n",
    "    power_cost[power_cost['cost category'] == 'Maintenance fees']['Cost (RMB million) 2020'].item() - \\\n",
    "    power_cost[power_cost['cost category'] == 'Other operating costs']['Cost (RMB million) 2020'].item() -\\\n",
    "    power_cost[power_cost['cost category'] == 'Electricity cost']['Cost (RMB million) 2020'].item()"
   ],
   "metadata": {
    "collapsed": false
   }
  },
  {
   "cell_type": "code",
   "execution_count": 53,
   "outputs": [
    {
     "data": {
      "text/plain": "12765.0"
     },
     "execution_count": 53,
     "metadata": {},
     "output_type": "execute_result"
    }
   ],
   "source": [
    "power_cost[power_cost['cost category'] == 'Maintenance fees']['Electricity sales (100 million kWh) in 2020'].item()"
   ],
   "metadata": {
    "collapsed": false
   }
  },
  {
   "cell_type": "code",
   "execution_count": 54,
   "outputs": [
    {
     "name": "stderr",
     "output_type": "stream",
     "text": [
      "/var/folders/sz/g9tgz0nx4bvd42_8j_g5y7dc0000gn/T/ipykernel_98472/1553007894.py:2: UserWarning: Boolean Series key will be reindexed to match DataFrame index.\n",
      "  elec_cost[power_cost['cost category'] == 'Maintenance fees']['Cost (RMB million) 2020'].item() - \\\n",
      "/var/folders/sz/g9tgz0nx4bvd42_8j_g5y7dc0000gn/T/ipykernel_98472/1553007894.py:3: UserWarning: Boolean Series key will be reindexed to match DataFrame index.\n",
      "  elec_cost[power_cost['cost category'] == 'Other operating costs']['Cost (RMB million) 2020'].item() -\\\n"
     ]
    },
    {
     "ename": "ValueError",
     "evalue": "can only convert an array of size 1 to a Python scalar",
     "output_type": "error",
     "traceback": [
      "\u001B[0;31m---------------------------------------------------------------------------\u001B[0m",
      "\u001B[0;31mValueError\u001B[0m                                Traceback (most recent call last)",
      "Cell \u001B[0;32mIn [54], line 3\u001B[0m\n\u001B[1;32m      1\u001B[0m elec_cost[\u001B[38;5;124m'\u001B[39m\u001B[38;5;124mCost (RMB million) 2020\u001B[39m\u001B[38;5;124m'\u001B[39m]\u001B[38;5;241m.\u001B[39msum() \u001B[38;5;241m-\u001B[39m \\\n\u001B[1;32m      2\u001B[0m     elec_cost[power_cost[\u001B[38;5;124m'\u001B[39m\u001B[38;5;124mcost category\u001B[39m\u001B[38;5;124m'\u001B[39m] \u001B[38;5;241m==\u001B[39m \u001B[38;5;124m'\u001B[39m\u001B[38;5;124mMaintenance fees\u001B[39m\u001B[38;5;124m'\u001B[39m][\u001B[38;5;124m'\u001B[39m\u001B[38;5;124mCost (RMB million) 2020\u001B[39m\u001B[38;5;124m'\u001B[39m]\u001B[38;5;241m.\u001B[39mitem() \u001B[38;5;241m-\u001B[39m \\\n\u001B[0;32m----> 3\u001B[0m     \u001B[43melec_cost\u001B[49m\u001B[43m[\u001B[49m\u001B[43mpower_cost\u001B[49m\u001B[43m[\u001B[49m\u001B[38;5;124;43m'\u001B[39;49m\u001B[38;5;124;43mcost category\u001B[39;49m\u001B[38;5;124;43m'\u001B[39;49m\u001B[43m]\u001B[49m\u001B[43m \u001B[49m\u001B[38;5;241;43m==\u001B[39;49m\u001B[43m \u001B[49m\u001B[38;5;124;43m'\u001B[39;49m\u001B[38;5;124;43mOther operating costs\u001B[39;49m\u001B[38;5;124;43m'\u001B[39;49m\u001B[43m]\u001B[49m\u001B[43m[\u001B[49m\u001B[38;5;124;43m'\u001B[39;49m\u001B[38;5;124;43mCost (RMB million) 2020\u001B[39;49m\u001B[38;5;124;43m'\u001B[39;49m\u001B[43m]\u001B[49m\u001B[38;5;241;43m.\u001B[39;49m\u001B[43mitem\u001B[49m\u001B[43m(\u001B[49m\u001B[43m)\u001B[49m \u001B[38;5;241m-\u001B[39m\\\n\u001B[1;32m      4\u001B[0m     elec_cost[power_cost[\u001B[38;5;124m'\u001B[39m\u001B[38;5;124mcost category\u001B[39m\u001B[38;5;124m'\u001B[39m] \u001B[38;5;241m==\u001B[39m \u001B[38;5;124m'\u001B[39m\u001B[38;5;124mElectricity cost\u001B[39m\u001B[38;5;124m'\u001B[39m][\u001B[38;5;124m'\u001B[39m\u001B[38;5;124mCost (RMB million) 2020\u001B[39m\u001B[38;5;124m'\u001B[39m]\u001B[38;5;241m.\u001B[39mitem()\n",
      "File \u001B[0;32m/opt/homebrew/Caskroom/miniforge/base/envs/justin/lib/python3.10/site-packages/pandas/core/base.py:347\u001B[0m, in \u001B[0;36mIndexOpsMixin.item\u001B[0;34m(self)\u001B[0m\n\u001B[1;32m    345\u001B[0m \u001B[38;5;28;01mif\u001B[39;00m \u001B[38;5;28mlen\u001B[39m(\u001B[38;5;28mself\u001B[39m) \u001B[38;5;241m==\u001B[39m \u001B[38;5;241m1\u001B[39m:\n\u001B[1;32m    346\u001B[0m     \u001B[38;5;28;01mreturn\u001B[39;00m \u001B[38;5;28mnext\u001B[39m(\u001B[38;5;28miter\u001B[39m(\u001B[38;5;28mself\u001B[39m))\n\u001B[0;32m--> 347\u001B[0m \u001B[38;5;28;01mraise\u001B[39;00m \u001B[38;5;167;01mValueError\u001B[39;00m(\u001B[38;5;124m\"\u001B[39m\u001B[38;5;124mcan only convert an array of size 1 to a Python scalar\u001B[39m\u001B[38;5;124m\"\u001B[39m)\n",
      "\u001B[0;31mValueError\u001B[0m: can only convert an array of size 1 to a Python scalar"
     ]
    }
   ],
   "source": [
    "elec_cost['Cost (RMB million) 2020'].sum() - \\\n",
    "    elec_cost[power_cost['cost category'] == 'Maintenance fees']['Cost (RMB million) 2020'].item() - \\\n",
    "    elec_cost[power_cost['cost category'] == 'Other operating costs']['Cost (RMB million) 2020'].item() -\\\n",
    "    elec_cost[power_cost['cost category'] == 'Electricity cost']['Cost (RMB million) 2020'].item()"
   ],
   "metadata": {
    "collapsed": false
   }
  },
  {
   "cell_type": "code",
   "execution_count": null,
   "outputs": [],
   "source": [
    "elec_cost['Cost (RMB million) 2020'].sum() - elec_cost[elec_cost['cost category'] == 'Maintenance fees']['Cost (RMB million) 2020'].item()"
   ],
   "metadata": {
    "collapsed": false
   }
  },
  {
   "cell_type": "code",
   "execution_count": null,
   "outputs": [],
   "source": [
    "elec_cost[elec_cost['cost category'] == 'Maintenance fees']['Cost (RMB million) 2020'].item()"
   ],
   "metadata": {
    "collapsed": false
   }
  },
  {
   "cell_type": "code",
   "execution_count": null,
   "outputs": [],
   "source": [
    "sale_cost = power_cost['Cost (RMB million) 2020'].sum() - \\\n",
    "                        power_cost[power_cost['cost category'] == 'Maintenance fees'][\n",
    "                            'Cost (RMB million) 2020'].item() - \\\n",
    "                        power_cost[power_cost['cost category'] == 'Other operating costs'][\n",
    "                            'Cost (RMB million) 2020'].item() - \\\n",
    "                        power_cost[power_cost['cost category'] == 'Electricity cost'][\n",
    "                            'Cost (RMB million) 2020'].item()\n",
    "\n",
    "sale_cost"
   ],
   "metadata": {
    "collapsed": false
   }
  },
  {
   "cell_type": "code",
   "execution_count": null,
   "outputs": [],
   "source": [
    "import numpy as np\n",
    "# All Power\n",
    "\n",
    "year = '2020'\n",
    "\n",
    "electricity_sale_price = \\\n",
    "power_sale['Total electricity sales (100 million kWh) '+year] / \\\n",
    "power_sale['Total electricity sales (100 million kWh) '+year].sum() * \\\n",
    "power_sale['Electricity Sales Price (RMB/MWh) '+year]\n",
    "\n",
    "# Estimated Sales Cost\n",
    "sale_cost_lst = []\n",
    "sale_cost = power_cost['Cost (RMB million) '+year].sum() - \\\n",
    "    power_cost[power_cost['cost category'] == 'Maintenance fees'][\n",
    "        'Cost (RMB million) '+year].item() - \\\n",
    "    power_cost[power_cost['cost category'] == 'Other operating costs'][\n",
    "        'Cost (RMB million) '+year].item() - \\\n",
    "    power_cost[power_cost['cost category'] == 'Electricity cost'][\n",
    "        'Cost (RMB million) '+year].item()\n",
    "\n",
    "sale_cost_lst.append(sale_cost)\n",
    "coal_power_sc = elec_cost['Cost (RMB million) '+year].sum() - \\\n",
    "        elec_cost[elec_cost['cost category'] == 'Maintenance fees'][\n",
    "            'Cost (RMB million) '+year].item()\n",
    "sale_cost_lst.append(coal_power_sc)\n",
    "sale_cost_lst.append(sale_cost - coal_power_sc)\n",
    "sale_cost_lst.append(sale_cost - coal_power_sc)\n",
    "\n",
    "group = power_sale.groupby('Power Plant Classification')[\n",
    "['Total electricity sales (100 million kWh) '+year, 'Electricity Sales Price (RMB/MWh) '+year]]\n",
    "\n",
    "coal_types_total = group.apply(lambda df: (df.sum()))\n",
    "\n",
    "power_dispatch = coal_types_total['Total electricity sales (100 million kWh) '+year].values.tolist()\n",
    "total_sales = coal_types_total['Total electricity sales (100 million kWh) '+year].sum()\n",
    "power_dispatch.insert(0, total_sales)\n",
    "\n",
    "weighted_average_tariff = group.apply(lambda df: (df['Total electricity sales (100 million kWh) '+year]\n",
    "                                          / df[\n",
    "                                              'Total electricity sales (100 million kWh) '+year].sum()\n",
    "                                          * df[\n",
    "                                              'Electricity Sales Price (RMB/MWh) '+year]).sum()\n",
    "                              )\n",
    "weighted_average_tariff_lst = weighted_average_tariff.values.tolist()\n",
    "weighted_average_tariff_lst.insert(0, electricity_sale_price.sum())\n",
    "\n",
    "forecasted_gross_profit = group.apply(lambda df: (df['Total electricity sales (100 million kWh) '+year] *\n",
    "                                          df['Electricity Sales Price (RMB/MWh) '+year] / 10).sum()\n",
    "                              )\n",
    "\n",
    "forecasted_gross_profit_lst = forecasted_gross_profit.values.tolist()\n",
    "forecasted_gross_profit_lst.insert(0, forecasted_gross_profit.sum())\n",
    "\n",
    "data = {\n",
    "'Power Dispatched (TWh)': power_dispatch[:-1],\n",
    "'Weighted Average Tariff (RMB/MWh)': weighted_average_tariff,\n",
    "'Estimated Gross Revenue (RMB/MWh)': forecasted_gross_profit_lst[:-1],\n",
    "'Estimated Sales Cost (Million RMB)': sale_cost_lst,\n",
    "'Gross Profit (Million RMB)': (np.array(forecasted_gross_profit_lst[:-1]) - np.array(sale_cost_lst)),\n",
    "'Gross Profitability': ((np.array(forecasted_gross_profit_lst[:-1]) - np.array(sale_cost_lst)) / (np.array(forecasted_gross_profit_lst[:-1])))\n",
    "}\n",
    "\n",
    "pd.DataFrame(data)"
   ],
   "metadata": {
    "collapsed": false
   }
  },
  {
   "cell_type": "code",
   "execution_count": null,
   "outputs": [],
   "source": [
    "power_dispatch"
   ],
   "metadata": {
    "collapsed": false
   }
  },
  {
   "cell_type": "code",
   "execution_count": null,
   "outputs": [],
   "source": [],
   "metadata": {
    "collapsed": false
   }
  },
  {
   "cell_type": "code",
   "execution_count": 82,
   "outputs": [
    {
     "data": {
      "text/plain": "0      29.9\n1       NaN\n2       NaN\n3     207.0\n4       NaN\n5     108.7\n6       NaN\n7     105.6\n8     166.4\n9      35.8\n10      NaN\n11      NaN\n12      NaN\n13      NaN\n14      NaN\n15      NaN\n16      NaN\n17    137.4\n18    124.8\n19      NaN\n20     97.2\n21      NaN\n22      NaN\n23      NaN\n24     98.6\n25     36.0\n26     41.2\n27     30.4\n28      NaN\n29     13.7\n30     37.5\n31      NaN\n32      6.3\n33      NaN\nName: Total electricity sales (100 million kWh) 2020, dtype: float64"
     },
     "execution_count": 82,
     "metadata": {},
     "output_type": "execute_result"
    }
   ],
   "source": [
    "power_sale['Total electricity sales (100 million kWh) 2020']"
   ],
   "metadata": {
    "collapsed": false
   }
  },
  {
   "cell_type": "code",
   "execution_count": null,
   "outputs": [],
   "source": [],
   "metadata": {
    "collapsed": false
   }
  }
 ],
 "metadata": {
  "kernelspec": {
   "display_name": "Python 3",
   "language": "python",
   "name": "python3"
  },
  "language_info": {
   "codemirror_mode": {
    "name": "ipython",
    "version": 2
   },
   "file_extension": ".py",
   "mimetype": "text/x-python",
   "name": "python",
   "nbconvert_exporter": "python",
   "pygments_lexer": "ipython2",
   "version": "2.7.6"
  }
 },
 "nbformat": 4,
 "nbformat_minor": 0
}
