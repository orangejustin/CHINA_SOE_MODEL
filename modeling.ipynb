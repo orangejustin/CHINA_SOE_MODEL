{
 "cells": [
  {
   "cell_type": "code",
   "execution_count": 1,
   "metadata": {
    "collapsed": true
   },
   "outputs": [],
   "source": [
    "import pandas as pd\n",
    "import numpy as np"
   ]
  },
  {
   "cell_type": "markdown",
   "source": [
    "### Financial Report"
   ],
   "metadata": {
    "collapsed": false
   }
  },
  {
   "cell_type": "code",
   "execution_count": 2,
   "outputs": [
    {
     "data": {
      "text/plain": "   sectors Operating income 2021 Operating Costs 2021 Operating income 2020  \\\n0     煤炭业务                 405.1                286.9                 226.5   \n1       电力                 333.7                333.9                 282.2   \n2      煤化工                  77.4                 58.9                  55.7   \n3     交通运输                  59.2                 35.1                  51.9   \n4      新能源                    51                 25.2                  44.7   \n5     科技环保                  None                 None                  None   \n6     产业科技                  18.3                 15.6                  20.8   \n7     产业金融                   5.4                  1.7                   5.6   \n8       其他                   NaN                  NaN                  18.6   \n9      抵消数                   NaN                  NaN                  -149   \n10  其他&抵消数                -259.4               -257.3                -130.5   \n\n   Operating Costs  2020 Operating income 2019 Operating Costs  2019  \\\n0                  152.9                 257.8                 182.4   \n1                  233.9                 280.3                 238.8   \n2                   45.8                  64.3                  51.3   \n3                   25.3                  52.8                  25.2   \n4                   22.2                  40.6                  20.3   \n5                   None                  None                  None   \n6                   16.6                  16.3                  12.2   \n7                      2                   6.2                   2.2   \n8                    NaN                  19.6                   NaN   \n9                    NaN                -181.8                   NaN   \n10                -129.6                -162.3                  -158   \n\n   Operating income 2018 Operating Costs  2018 Operating income 2017  \\\n0                  257.2                 181.2                   243   \n1                  270.9                 236.6                 261.9   \n2                   51.3                  38.2                  39.9   \n3                   51.5                  23.6                  48.7   \n4                   38.1                  18.8                  31.9   \n5                   None                  None                  16.7   \n6                   16.3                  12.5                  None   \n7                    6.1                   2.1                   7.8   \n8                   22.3                   NaN                   NaN   \n9                 -174.6                   NaN                   NaN   \n10                -152.2                -152.7                -140.1   \n\n   Operating Costs  2017  \n0                  163.4  \n1                  235.9  \n2                   32.4  \n3                   21.1  \n4                   16.2  \n5                   12.7  \n6                   None  \n7                    3.5  \n8                    NaN  \n9                    NaN  \n10                -138.6  ",
      "text/html": "<div>\n<style scoped>\n    .dataframe tbody tr th:only-of-type {\n        vertical-align: middle;\n    }\n\n    .dataframe tbody tr th {\n        vertical-align: top;\n    }\n\n    .dataframe thead th {\n        text-align: right;\n    }\n</style>\n<table border=\"1\" class=\"dataframe\">\n  <thead>\n    <tr style=\"text-align: right;\">\n      <th></th>\n      <th>sectors</th>\n      <th>Operating income 2021</th>\n      <th>Operating Costs 2021</th>\n      <th>Operating income 2020</th>\n      <th>Operating Costs  2020</th>\n      <th>Operating income 2019</th>\n      <th>Operating Costs  2019</th>\n      <th>Operating income 2018</th>\n      <th>Operating Costs  2018</th>\n      <th>Operating income 2017</th>\n      <th>Operating Costs  2017</th>\n    </tr>\n  </thead>\n  <tbody>\n    <tr>\n      <th>0</th>\n      <td>煤炭业务</td>\n      <td>405.1</td>\n      <td>286.9</td>\n      <td>226.5</td>\n      <td>152.9</td>\n      <td>257.8</td>\n      <td>182.4</td>\n      <td>257.2</td>\n      <td>181.2</td>\n      <td>243</td>\n      <td>163.4</td>\n    </tr>\n    <tr>\n      <th>1</th>\n      <td>电力</td>\n      <td>333.7</td>\n      <td>333.9</td>\n      <td>282.2</td>\n      <td>233.9</td>\n      <td>280.3</td>\n      <td>238.8</td>\n      <td>270.9</td>\n      <td>236.6</td>\n      <td>261.9</td>\n      <td>235.9</td>\n    </tr>\n    <tr>\n      <th>2</th>\n      <td>煤化工</td>\n      <td>77.4</td>\n      <td>58.9</td>\n      <td>55.7</td>\n      <td>45.8</td>\n      <td>64.3</td>\n      <td>51.3</td>\n      <td>51.3</td>\n      <td>38.2</td>\n      <td>39.9</td>\n      <td>32.4</td>\n    </tr>\n    <tr>\n      <th>3</th>\n      <td>交通运输</td>\n      <td>59.2</td>\n      <td>35.1</td>\n      <td>51.9</td>\n      <td>25.3</td>\n      <td>52.8</td>\n      <td>25.2</td>\n      <td>51.5</td>\n      <td>23.6</td>\n      <td>48.7</td>\n      <td>21.1</td>\n    </tr>\n    <tr>\n      <th>4</th>\n      <td>新能源</td>\n      <td>51</td>\n      <td>25.2</td>\n      <td>44.7</td>\n      <td>22.2</td>\n      <td>40.6</td>\n      <td>20.3</td>\n      <td>38.1</td>\n      <td>18.8</td>\n      <td>31.9</td>\n      <td>16.2</td>\n    </tr>\n    <tr>\n      <th>5</th>\n      <td>科技环保</td>\n      <td>None</td>\n      <td>None</td>\n      <td>None</td>\n      <td>None</td>\n      <td>None</td>\n      <td>None</td>\n      <td>None</td>\n      <td>None</td>\n      <td>16.7</td>\n      <td>12.7</td>\n    </tr>\n    <tr>\n      <th>6</th>\n      <td>产业科技</td>\n      <td>18.3</td>\n      <td>15.6</td>\n      <td>20.8</td>\n      <td>16.6</td>\n      <td>16.3</td>\n      <td>12.2</td>\n      <td>16.3</td>\n      <td>12.5</td>\n      <td>None</td>\n      <td>None</td>\n    </tr>\n    <tr>\n      <th>7</th>\n      <td>产业金融</td>\n      <td>5.4</td>\n      <td>1.7</td>\n      <td>5.6</td>\n      <td>2</td>\n      <td>6.2</td>\n      <td>2.2</td>\n      <td>6.1</td>\n      <td>2.1</td>\n      <td>7.8</td>\n      <td>3.5</td>\n    </tr>\n    <tr>\n      <th>8</th>\n      <td>其他</td>\n      <td>NaN</td>\n      <td>NaN</td>\n      <td>18.6</td>\n      <td>NaN</td>\n      <td>19.6</td>\n      <td>NaN</td>\n      <td>22.3</td>\n      <td>NaN</td>\n      <td>NaN</td>\n      <td>NaN</td>\n    </tr>\n    <tr>\n      <th>9</th>\n      <td>抵消数</td>\n      <td>NaN</td>\n      <td>NaN</td>\n      <td>-149</td>\n      <td>NaN</td>\n      <td>-181.8</td>\n      <td>NaN</td>\n      <td>-174.6</td>\n      <td>NaN</td>\n      <td>NaN</td>\n      <td>NaN</td>\n    </tr>\n    <tr>\n      <th>10</th>\n      <td>其他&amp;抵消数</td>\n      <td>-259.4</td>\n      <td>-257.3</td>\n      <td>-130.5</td>\n      <td>-129.6</td>\n      <td>-162.3</td>\n      <td>-158</td>\n      <td>-152.2</td>\n      <td>-152.7</td>\n      <td>-140.1</td>\n      <td>-138.6</td>\n    </tr>\n  </tbody>\n</table>\n</div>"
     },
     "execution_count": 2,
     "metadata": {},
     "output_type": "execute_result"
    }
   ],
   "source": [
    "operating_df = pd.read_excel(r'ceic_data.xlsx', sheet_name='OperatingRevenue_Cost ')\n",
    "operating_df = operating_df.replace('-', None)\n",
    "operating_df"
   ],
   "metadata": {
    "collapsed": false
   }
  },
  {
   "cell_type": "code",
   "execution_count": 26,
   "outputs": [
    {
     "data": {
      "text/plain": "sectors                  煤炭业务电力煤化工交通运输新能源科技环保产业科技产业金融其他抵消数其他&抵消数\nOperating income 2021                                      690.7\nOperating Costs 2021                                       500.0\nOperating income 2020                                      426.5\nOperating Costs  2020                                      369.1\nOperating income 2019                                      393.8\nOperating Costs  2019                                      374.4\nOperating income 2018                                      386.9\nOperating Costs  2018                                      360.3\nOperating income 2017                                      509.8\nOperating Costs  2017                                      346.6\ndtype: object"
     },
     "execution_count": 26,
     "metadata": {},
     "output_type": "execute_result"
    }
   ],
   "source": [
    "operating_df.sum(axis = 0)"
   ],
   "metadata": {
    "collapsed": false
   }
  },
  {
   "cell_type": "code",
   "execution_count": null,
   "outputs": [],
   "source": [],
   "metadata": {
    "collapsed": false
   }
  },
  {
   "cell_type": "code",
   "execution_count": 36,
   "outputs": [
    {
     "data": {
      "text/plain": "   Coal Production (Million Tonnes)  Coal Sales (Million Tonnes)  year\n0                               570                          770  2021\n1                               530                          700  2020\n2                               510                          670  2019\n3                               510                          680  2018\n4                               510                          660  2017",
      "text/html": "<div>\n<style scoped>\n    .dataframe tbody tr th:only-of-type {\n        vertical-align: middle;\n    }\n\n    .dataframe tbody tr th {\n        vertical-align: top;\n    }\n\n    .dataframe thead th {\n        text-align: right;\n    }\n</style>\n<table border=\"1\" class=\"dataframe\">\n  <thead>\n    <tr style=\"text-align: right;\">\n      <th></th>\n      <th>Coal Production (Million Tonnes)</th>\n      <th>Coal Sales (Million Tonnes)</th>\n      <th>year</th>\n    </tr>\n  </thead>\n  <tbody>\n    <tr>\n      <th>0</th>\n      <td>570</td>\n      <td>770</td>\n      <td>2021</td>\n    </tr>\n    <tr>\n      <th>1</th>\n      <td>530</td>\n      <td>700</td>\n      <td>2020</td>\n    </tr>\n    <tr>\n      <th>2</th>\n      <td>510</td>\n      <td>670</td>\n      <td>2019</td>\n    </tr>\n    <tr>\n      <th>3</th>\n      <td>510</td>\n      <td>680</td>\n      <td>2018</td>\n    </tr>\n    <tr>\n      <th>4</th>\n      <td>510</td>\n      <td>660</td>\n      <td>2017</td>\n    </tr>\n  </tbody>\n</table>\n</div>"
     },
     "execution_count": 36,
     "metadata": {},
     "output_type": "execute_result"
    }
   ],
   "source": [
    "coal_df = pd.read_excel(r'ceic_data.xlsx', sheet_name='Operation_Data')\n",
    "coal_df = coal_df.replace('-', None)\n",
    "coal_df"
   ],
   "metadata": {
    "collapsed": false
   }
  },
  {
   "cell_type": "markdown",
   "source": [
    "### CEIC Reported Coal Segment Revenue & Cost"
   ],
   "metadata": {
    "collapsed": false
   }
  },
  {
   "cell_type": "code",
   "execution_count": 37,
   "outputs": [
    {
     "data": {
      "text/plain": "0     405.1\n1     333.7\n2      77.4\n3      59.2\n4        51\n5      None\n6      18.3\n7       5.4\n8       NaN\n9       NaN\n10   -259.4\nName: Operating income 2021, dtype: object"
     },
     "execution_count": 37,
     "metadata": {},
     "output_type": "execute_result"
    }
   ],
   "source": [
    "operating_df['Operating income 2021'] #, operating_df['Operating Costs 2021']"
   ],
   "metadata": {
    "collapsed": false
   }
  },
  {
   "cell_type": "code",
   "execution_count": 33,
   "outputs": [
    {
     "data": {
      "text/plain": "   sectors Operating income 2021 Operating Costs 2021 Operating income 2020  \\\n0     煤炭业务                 405.1                286.9                 226.5   \n1       电力                 333.7                333.9                 282.2   \n2      煤化工                  77.4                 58.9                  55.7   \n3     交通运输                  59.2                 35.1                  51.9   \n4      新能源                    51                 25.2                  44.7   \n5     科技环保                  None                 None                  None   \n6     产业科技                  18.3                 15.6                  20.8   \n7     产业金融                   5.4                  1.7                   5.6   \n8       其他                   NaN                  NaN                  18.6   \n9      抵消数                   NaN                  NaN                  -149   \n10  其他&抵消数                -259.4               -257.3                -130.5   \n\n   Operating Costs  2020 Operating income 2019 Operating Costs  2019  \\\n0                  152.9                 257.8                 182.4   \n1                  233.9                 280.3                 238.8   \n2                   45.8                  64.3                  51.3   \n3                   25.3                  52.8                  25.2   \n4                   22.2                  40.6                  20.3   \n5                   None                  None                  None   \n6                   16.6                  16.3                  12.2   \n7                      2                   6.2                   2.2   \n8                    NaN                  19.6                   NaN   \n9                    NaN                -181.8                   NaN   \n10                -129.6                -162.3                  -158   \n\n   Operating income 2018 Operating Costs  2018 Operating income 2017  \\\n0                  257.2                 181.2                   243   \n1                  270.9                 236.6                 261.9   \n2                   51.3                  38.2                  39.9   \n3                   51.5                  23.6                  48.7   \n4                   38.1                  18.8                  31.9   \n5                   None                  None                  16.7   \n6                   16.3                  12.5                  None   \n7                    6.1                   2.1                   7.8   \n8                   22.3                   NaN                   NaN   \n9                 -174.6                   NaN                   NaN   \n10                -152.2                -152.7                -140.1   \n\n   Operating Costs  2017  \n0                  163.4  \n1                  235.9  \n2                   32.4  \n3                   21.1  \n4                   16.2  \n5                   12.7  \n6                   None  \n7                    3.5  \n8                    NaN  \n9                    NaN  \n10                -138.6  ",
      "text/html": "<div>\n<style scoped>\n    .dataframe tbody tr th:only-of-type {\n        vertical-align: middle;\n    }\n\n    .dataframe tbody tr th {\n        vertical-align: top;\n    }\n\n    .dataframe thead th {\n        text-align: right;\n    }\n</style>\n<table border=\"1\" class=\"dataframe\">\n  <thead>\n    <tr style=\"text-align: right;\">\n      <th></th>\n      <th>sectors</th>\n      <th>Operating income 2021</th>\n      <th>Operating Costs 2021</th>\n      <th>Operating income 2020</th>\n      <th>Operating Costs  2020</th>\n      <th>Operating income 2019</th>\n      <th>Operating Costs  2019</th>\n      <th>Operating income 2018</th>\n      <th>Operating Costs  2018</th>\n      <th>Operating income 2017</th>\n      <th>Operating Costs  2017</th>\n    </tr>\n  </thead>\n  <tbody>\n    <tr>\n      <th>0</th>\n      <td>煤炭业务</td>\n      <td>405.1</td>\n      <td>286.9</td>\n      <td>226.5</td>\n      <td>152.9</td>\n      <td>257.8</td>\n      <td>182.4</td>\n      <td>257.2</td>\n      <td>181.2</td>\n      <td>243</td>\n      <td>163.4</td>\n    </tr>\n    <tr>\n      <th>1</th>\n      <td>电力</td>\n      <td>333.7</td>\n      <td>333.9</td>\n      <td>282.2</td>\n      <td>233.9</td>\n      <td>280.3</td>\n      <td>238.8</td>\n      <td>270.9</td>\n      <td>236.6</td>\n      <td>261.9</td>\n      <td>235.9</td>\n    </tr>\n    <tr>\n      <th>2</th>\n      <td>煤化工</td>\n      <td>77.4</td>\n      <td>58.9</td>\n      <td>55.7</td>\n      <td>45.8</td>\n      <td>64.3</td>\n      <td>51.3</td>\n      <td>51.3</td>\n      <td>38.2</td>\n      <td>39.9</td>\n      <td>32.4</td>\n    </tr>\n    <tr>\n      <th>3</th>\n      <td>交通运输</td>\n      <td>59.2</td>\n      <td>35.1</td>\n      <td>51.9</td>\n      <td>25.3</td>\n      <td>52.8</td>\n      <td>25.2</td>\n      <td>51.5</td>\n      <td>23.6</td>\n      <td>48.7</td>\n      <td>21.1</td>\n    </tr>\n    <tr>\n      <th>4</th>\n      <td>新能源</td>\n      <td>51</td>\n      <td>25.2</td>\n      <td>44.7</td>\n      <td>22.2</td>\n      <td>40.6</td>\n      <td>20.3</td>\n      <td>38.1</td>\n      <td>18.8</td>\n      <td>31.9</td>\n      <td>16.2</td>\n    </tr>\n    <tr>\n      <th>5</th>\n      <td>科技环保</td>\n      <td>None</td>\n      <td>None</td>\n      <td>None</td>\n      <td>None</td>\n      <td>None</td>\n      <td>None</td>\n      <td>None</td>\n      <td>None</td>\n      <td>16.7</td>\n      <td>12.7</td>\n    </tr>\n    <tr>\n      <th>6</th>\n      <td>产业科技</td>\n      <td>18.3</td>\n      <td>15.6</td>\n      <td>20.8</td>\n      <td>16.6</td>\n      <td>16.3</td>\n      <td>12.2</td>\n      <td>16.3</td>\n      <td>12.5</td>\n      <td>None</td>\n      <td>None</td>\n    </tr>\n    <tr>\n      <th>7</th>\n      <td>产业金融</td>\n      <td>5.4</td>\n      <td>1.7</td>\n      <td>5.6</td>\n      <td>2</td>\n      <td>6.2</td>\n      <td>2.2</td>\n      <td>6.1</td>\n      <td>2.1</td>\n      <td>7.8</td>\n      <td>3.5</td>\n    </tr>\n    <tr>\n      <th>8</th>\n      <td>其他</td>\n      <td>NaN</td>\n      <td>NaN</td>\n      <td>18.6</td>\n      <td>NaN</td>\n      <td>19.6</td>\n      <td>NaN</td>\n      <td>22.3</td>\n      <td>NaN</td>\n      <td>NaN</td>\n      <td>NaN</td>\n    </tr>\n    <tr>\n      <th>9</th>\n      <td>抵消数</td>\n      <td>NaN</td>\n      <td>NaN</td>\n      <td>-149</td>\n      <td>NaN</td>\n      <td>-181.8</td>\n      <td>NaN</td>\n      <td>-174.6</td>\n      <td>NaN</td>\n      <td>NaN</td>\n      <td>NaN</td>\n    </tr>\n    <tr>\n      <th>10</th>\n      <td>其他&amp;抵消数</td>\n      <td>-259.4</td>\n      <td>-257.3</td>\n      <td>-130.5</td>\n      <td>-129.6</td>\n      <td>-162.3</td>\n      <td>-158</td>\n      <td>-152.2</td>\n      <td>-152.7</td>\n      <td>-140.1</td>\n      <td>-138.6</td>\n    </tr>\n  </tbody>\n</table>\n</div>"
     },
     "execution_count": 33,
     "metadata": {},
     "output_type": "execute_result"
    }
   ],
   "source": [
    "coal_df"
   ],
   "metadata": {
    "collapsed": false
   }
  },
  {
   "cell_type": "markdown",
   "source": [
    "### Shenhua\n"
   ],
   "metadata": {
    "collapsed": false
   }
  },
  {
   "cell_type": "code",
   "execution_count": 5,
   "outputs": [
    {
     "data": {
      "text/plain": "     年份      资产总额     营业总收入      主营业务      煤炭收入     发电收入    运输收入   煤化工收入  \\\n0  2020  558447.0  233263.0  219636.0  163751.0  44321.0  7015.0  4549.0   \n1  2019  558484.0  241871.0  232300.0  168274.0  51507.0  7749.0  4770.0   \n2  2018  587239.0  264101.0       NaN       NaN      NaN     NaN     NaN   \n3  2017  567124.0  248746.0       NaN       NaN      NaN     NaN     NaN   \n4  2016       NaN       NaN       NaN       NaN      NaN     NaN     NaN   \n5  2015       NaN       NaN       NaN       NaN      NaN     NaN     NaN   \n6  2014       NaN       NaN       NaN       NaN      NaN     NaN     NaN   \n\n      其他业务     营业利润  ...  水电发电量     售电量   火电售电量  燃气售电量  水电售电量   煤矿产量  煤炭销售量  \\\n0  13627.0  63490.0  ...    6.0  1277.0  1233.0   38.0    6.0  292.0  446.0   \n1   9571.0  66629.0  ...    NaN     NaN     NaN    NaN    NaN  283.0  447.0   \n2      NaN  73146.0  ...    NaN     NaN     NaN    NaN    NaN    NaN    NaN   \n3      NaN  71102.0  ...    NaN     NaN     NaN    NaN    NaN    NaN    NaN   \n4      NaN      NaN  ...    NaN     NaN     NaN    NaN    NaN    NaN    NaN   \n5      NaN      NaN  ...    NaN     NaN     NaN    NaN    NaN    NaN    NaN   \n6      NaN      NaN  ...    NaN     NaN     NaN    NaN    NaN    NaN    NaN   \n\n     自产煤    外购煤   员工人数  \n0  296.0  150.0  76182  \n1  285.0  162.0  75620  \n2    NaN    NaN  86856  \n3    NaN    NaN  89057  \n4    NaN    NaN  90882  \n5    NaN    NaN  95498  \n6    NaN    NaN  92738  \n\n[7 rows x 30 columns]",
      "text/html": "<div>\n<style scoped>\n    .dataframe tbody tr th:only-of-type {\n        vertical-align: middle;\n    }\n\n    .dataframe tbody tr th {\n        vertical-align: top;\n    }\n\n    .dataframe thead th {\n        text-align: right;\n    }\n</style>\n<table border=\"1\" class=\"dataframe\">\n  <thead>\n    <tr style=\"text-align: right;\">\n      <th></th>\n      <th>年份</th>\n      <th>资产总额</th>\n      <th>营业总收入</th>\n      <th>主营业务</th>\n      <th>煤炭收入</th>\n      <th>发电收入</th>\n      <th>运输收入</th>\n      <th>煤化工收入</th>\n      <th>其他业务</th>\n      <th>营业利润</th>\n      <th>...</th>\n      <th>水电发电量</th>\n      <th>售电量</th>\n      <th>火电售电量</th>\n      <th>燃气售电量</th>\n      <th>水电售电量</th>\n      <th>煤矿产量</th>\n      <th>煤炭销售量</th>\n      <th>自产煤</th>\n      <th>外购煤</th>\n      <th>员工人数</th>\n    </tr>\n  </thead>\n  <tbody>\n    <tr>\n      <th>0</th>\n      <td>2020</td>\n      <td>558447.0</td>\n      <td>233263.0</td>\n      <td>219636.0</td>\n      <td>163751.0</td>\n      <td>44321.0</td>\n      <td>7015.0</td>\n      <td>4549.0</td>\n      <td>13627.0</td>\n      <td>63490.0</td>\n      <td>...</td>\n      <td>6.0</td>\n      <td>1277.0</td>\n      <td>1233.0</td>\n      <td>38.0</td>\n      <td>6.0</td>\n      <td>292.0</td>\n      <td>446.0</td>\n      <td>296.0</td>\n      <td>150.0</td>\n      <td>76182</td>\n    </tr>\n    <tr>\n      <th>1</th>\n      <td>2019</td>\n      <td>558484.0</td>\n      <td>241871.0</td>\n      <td>232300.0</td>\n      <td>168274.0</td>\n      <td>51507.0</td>\n      <td>7749.0</td>\n      <td>4770.0</td>\n      <td>9571.0</td>\n      <td>66629.0</td>\n      <td>...</td>\n      <td>NaN</td>\n      <td>NaN</td>\n      <td>NaN</td>\n      <td>NaN</td>\n      <td>NaN</td>\n      <td>283.0</td>\n      <td>447.0</td>\n      <td>285.0</td>\n      <td>162.0</td>\n      <td>75620</td>\n    </tr>\n    <tr>\n      <th>2</th>\n      <td>2018</td>\n      <td>587239.0</td>\n      <td>264101.0</td>\n      <td>NaN</td>\n      <td>NaN</td>\n      <td>NaN</td>\n      <td>NaN</td>\n      <td>NaN</td>\n      <td>NaN</td>\n      <td>73146.0</td>\n      <td>...</td>\n      <td>NaN</td>\n      <td>NaN</td>\n      <td>NaN</td>\n      <td>NaN</td>\n      <td>NaN</td>\n      <td>NaN</td>\n      <td>NaN</td>\n      <td>NaN</td>\n      <td>NaN</td>\n      <td>86856</td>\n    </tr>\n    <tr>\n      <th>3</th>\n      <td>2017</td>\n      <td>567124.0</td>\n      <td>248746.0</td>\n      <td>NaN</td>\n      <td>NaN</td>\n      <td>NaN</td>\n      <td>NaN</td>\n      <td>NaN</td>\n      <td>NaN</td>\n      <td>71102.0</td>\n      <td>...</td>\n      <td>NaN</td>\n      <td>NaN</td>\n      <td>NaN</td>\n      <td>NaN</td>\n      <td>NaN</td>\n      <td>NaN</td>\n      <td>NaN</td>\n      <td>NaN</td>\n      <td>NaN</td>\n      <td>89057</td>\n    </tr>\n    <tr>\n      <th>4</th>\n      <td>2016</td>\n      <td>NaN</td>\n      <td>NaN</td>\n      <td>NaN</td>\n      <td>NaN</td>\n      <td>NaN</td>\n      <td>NaN</td>\n      <td>NaN</td>\n      <td>NaN</td>\n      <td>NaN</td>\n      <td>...</td>\n      <td>NaN</td>\n      <td>NaN</td>\n      <td>NaN</td>\n      <td>NaN</td>\n      <td>NaN</td>\n      <td>NaN</td>\n      <td>NaN</td>\n      <td>NaN</td>\n      <td>NaN</td>\n      <td>90882</td>\n    </tr>\n    <tr>\n      <th>5</th>\n      <td>2015</td>\n      <td>NaN</td>\n      <td>NaN</td>\n      <td>NaN</td>\n      <td>NaN</td>\n      <td>NaN</td>\n      <td>NaN</td>\n      <td>NaN</td>\n      <td>NaN</td>\n      <td>NaN</td>\n      <td>...</td>\n      <td>NaN</td>\n      <td>NaN</td>\n      <td>NaN</td>\n      <td>NaN</td>\n      <td>NaN</td>\n      <td>NaN</td>\n      <td>NaN</td>\n      <td>NaN</td>\n      <td>NaN</td>\n      <td>95498</td>\n    </tr>\n    <tr>\n      <th>6</th>\n      <td>2014</td>\n      <td>NaN</td>\n      <td>NaN</td>\n      <td>NaN</td>\n      <td>NaN</td>\n      <td>NaN</td>\n      <td>NaN</td>\n      <td>NaN</td>\n      <td>NaN</td>\n      <td>NaN</td>\n      <td>...</td>\n      <td>NaN</td>\n      <td>NaN</td>\n      <td>NaN</td>\n      <td>NaN</td>\n      <td>NaN</td>\n      <td>NaN</td>\n      <td>NaN</td>\n      <td>NaN</td>\n      <td>NaN</td>\n      <td>92738</td>\n    </tr>\n  </tbody>\n</table>\n<p>7 rows × 30 columns</p>\n</div>"
     },
     "execution_count": 5,
     "metadata": {},
     "output_type": "execute_result"
    }
   ],
   "source": [
    "shenhua = pd.read_excel(r'ceic_data.xlsx', sheet_name='shenhua')\n",
    "shenhua = shenhua.replace('-', None)\n",
    "shenhua"
   ],
   "metadata": {
    "collapsed": false
   }
  },
  {
   "cell_type": "code",
   "execution_count": 6,
   "outputs": [
    {
     "data": {
      "text/plain": "183024.0"
     },
     "execution_count": 6,
     "metadata": {},
     "output_type": "execute_result"
    }
   ],
   "source": [
    "446.4 * 410"
   ],
   "metadata": {
    "collapsed": false
   }
  },
  {
   "cell_type": "code",
   "execution_count": 7,
   "outputs": [
    {
     "data": {
      "text/plain": "308.8508064516129"
     },
     "execution_count": 7,
     "metadata": {},
     "output_type": "execute_result"
    }
   ],
   "source": [
    "137871 / 446.4"
   ],
   "metadata": {
    "collapsed": false
   }
  },
  {
   "cell_type": "code",
   "execution_count": null,
   "outputs": [],
   "source": [],
   "metadata": {
    "collapsed": false
   }
  },
  {
   "cell_type": "markdown",
   "source": [
    "## cost"
   ],
   "metadata": {
    "collapsed": false
   }
  },
  {
   "cell_type": "code",
   "execution_count": 40,
   "outputs": [
    {
     "data": {
      "text/plain": "      外购煤成本   自产煤生产成本  原材料、燃料及动力  人工成本  折旧及摊销   其他生产成本   运输成本  其他业务成本  营业成本合计\nyear                                                                         \n2020  48742  34758.72       7897  8119   5318  13413.6  51557  2824.4  137871\n2019  53831  33828.00       7458  7686   5410  13274.0  51557  3722.0  143878",
      "text/html": "<div>\n<style scoped>\n    .dataframe tbody tr th:only-of-type {\n        vertical-align: middle;\n    }\n\n    .dataframe tbody tr th {\n        vertical-align: top;\n    }\n\n    .dataframe thead th {\n        text-align: right;\n    }\n</style>\n<table border=\"1\" class=\"dataframe\">\n  <thead>\n    <tr style=\"text-align: right;\">\n      <th></th>\n      <th>外购煤成本</th>\n      <th>自产煤生产成本</th>\n      <th>原材料、燃料及动力</th>\n      <th>人工成本</th>\n      <th>折旧及摊销</th>\n      <th>其他生产成本</th>\n      <th>运输成本</th>\n      <th>其他业务成本</th>\n      <th>营业成本合计</th>\n    </tr>\n    <tr>\n      <th>year</th>\n      <th></th>\n      <th></th>\n      <th></th>\n      <th></th>\n      <th></th>\n      <th></th>\n      <th></th>\n      <th></th>\n      <th></th>\n    </tr>\n  </thead>\n  <tbody>\n    <tr>\n      <th>2020</th>\n      <td>48742</td>\n      <td>34758.72</td>\n      <td>7897</td>\n      <td>8119</td>\n      <td>5318</td>\n      <td>13413.6</td>\n      <td>51557</td>\n      <td>2824.4</td>\n      <td>137871</td>\n    </tr>\n    <tr>\n      <th>2019</th>\n      <td>53831</td>\n      <td>33828.00</td>\n      <td>7458</td>\n      <td>7686</td>\n      <td>5410</td>\n      <td>13274.0</td>\n      <td>51557</td>\n      <td>3722.0</td>\n      <td>143878</td>\n    </tr>\n  </tbody>\n</table>\n</div>"
     },
     "execution_count": 40,
     "metadata": {},
     "output_type": "execute_result"
    }
   ],
   "source": [
    "cost = pd.read_excel(r'shenhua.xlsx', sheet_name='Coal Cost' )\n",
    "cost = cost.replace('-', None)\n",
    "cost = cost.set_index('year')\n",
    "cost"
   ],
   "metadata": {
    "collapsed": false
   }
  },
  {
   "cell_type": "code",
   "execution_count": 41,
   "outputs": [
    {
     "data": {
      "text/plain": "137871"
     },
     "execution_count": 41,
     "metadata": {},
     "output_type": "execute_result"
    }
   ],
   "source": [
    "cost['营业成本合计'][2020]"
   ],
   "metadata": {
    "collapsed": false
   }
  },
  {
   "cell_type": "code",
   "execution_count": 26,
   "outputs": [
    {
     "data": {
      "text/plain": "      Commercial coal production  Coal sales  Self-produced Coal  \\\nyear                                                               \n2020                       291.6       446.4               296.0   \n2019                       282.7       447.1               284.8   \n2018                       296.6       460.9               300.7   \n\n      Purchased Coal  \nyear                  \n2020           150.4  \n2019           162.3  \n2018           160.2  ",
      "text/html": "<div>\n<style scoped>\n    .dataframe tbody tr th:only-of-type {\n        vertical-align: middle;\n    }\n\n    .dataframe tbody tr th {\n        vertical-align: top;\n    }\n\n    .dataframe thead th {\n        text-align: right;\n    }\n</style>\n<table border=\"1\" class=\"dataframe\">\n  <thead>\n    <tr style=\"text-align: right;\">\n      <th></th>\n      <th>Commercial coal production</th>\n      <th>Coal sales</th>\n      <th>Self-produced Coal</th>\n      <th>Purchased Coal</th>\n    </tr>\n    <tr>\n      <th>year</th>\n      <th></th>\n      <th></th>\n      <th></th>\n      <th></th>\n    </tr>\n  </thead>\n  <tbody>\n    <tr>\n      <th>2020</th>\n      <td>291.6</td>\n      <td>446.4</td>\n      <td>296.0</td>\n      <td>150.4</td>\n    </tr>\n    <tr>\n      <th>2019</th>\n      <td>282.7</td>\n      <td>447.1</td>\n      <td>284.8</td>\n      <td>162.3</td>\n    </tr>\n    <tr>\n      <th>2018</th>\n      <td>296.6</td>\n      <td>460.9</td>\n      <td>300.7</td>\n      <td>160.2</td>\n    </tr>\n  </tbody>\n</table>\n</div>"
     },
     "execution_count": 26,
     "metadata": {},
     "output_type": "execute_result"
    }
   ],
   "source": [
    "operation = pd.read_excel(r'shenhua.xlsx', sheet_name='Operation Data' )\n",
    "operation = operation.replace('-', None)\n",
    "operation = operation.set_index('year')\n",
    "operation"
   ],
   "metadata": {
    "collapsed": false
   }
  },
  {
   "cell_type": "code",
   "execution_count": null,
   "outputs": [],
   "source": [],
   "metadata": {
    "collapsed": false
   }
  },
  {
   "cell_type": "code",
   "execution_count": null,
   "outputs": [],
   "source": [],
   "metadata": {
    "collapsed": false
   }
  },
  {
   "cell_type": "code",
   "execution_count": null,
   "outputs": [],
   "source": [],
   "metadata": {
    "collapsed": false
   }
  },
  {
   "cell_type": "markdown",
   "source": [
    "### 2020's estimated sales revenue & cost by coal types"
   ],
   "metadata": {
    "collapsed": false
   }
  },
  {
   "cell_type": "code",
   "execution_count": 42,
   "outputs": [],
   "source": [
    "COAL_SALE_PRICE =  410"
   ],
   "metadata": {
    "collapsed": false
   }
  },
  {
   "cell_type": "code",
   "execution_count": 43,
   "outputs": [],
   "source": [
    "# Coal Sales\n",
    "gross_profit = operation['Coal sales'][2020] * COAL_SALE_PRICE - cost['营业成本合计'][2020]\n",
    "gross_profitability = gross_profit / (operation['Coal sales'][2020] * COAL_SALE_PRICE)"
   ],
   "metadata": {
    "collapsed": false
   }
  },
  {
   "cell_type": "code",
   "execution_count": 44,
   "outputs": [
    {
     "data": {
      "text/plain": "0.2467053501180173"
     },
     "execution_count": 44,
     "metadata": {},
     "output_type": "execute_result"
    }
   ],
   "source": [
    "gross_profitability"
   ],
   "metadata": {
    "collapsed": false
   }
  },
  {
   "cell_type": "code",
   "execution_count": 56,
   "outputs": [],
   "source": [
    "# Fixed cost of self-produced coal\n",
    "FC_SP_COAL = (cost['原材料、燃料及动力'] +  cost['人工成本'] + cost['折旧及摊销'] + cost['其他生产成本'])[2020]"
   ],
   "metadata": {
    "collapsed": false
   }
  },
  {
   "cell_type": "code",
   "execution_count": 71,
   "outputs": [],
   "source": [
    "# Self-produced coals Sales\n",
    "coal_cost = FC_SP_COAL + cost['运输成本'][2020] * (operation['Self-produced Coal'][2020]\n",
    "                                                   / operation['Coal sales'][2020])\n",
    "\n",
    "gross_profit = operation['Self-produced Coal'][2020] * COAL_SALE_PRICE - coal_cost\n",
    "\n",
    "gross_profitability = gross_profit / (operation['Self-produced Coal'][2020] * COAL_SALE_PRICE)"
   ],
   "metadata": {
    "collapsed": false
   }
  },
  {
   "cell_type": "code",
   "execution_count": 76,
   "outputs": [],
   "source": [
    "# Purchased Coals Sales\n",
    "coal_cost = FC_SP_COAL + cost['运输成本'][2020] * (operation['Purchased Coal'][2020]\n",
    "                                                   / operation['Coal sales'][2020])\n",
    "gross_profit = operation['Purchased Coal'][2020] * COAL_SALE_PRICE - coal_cost\n",
    "\n",
    "gross_profitability = gross_profit / (operation['Purchased Coal'][2020] * COAL_SALE_PRICE)"
   ],
   "metadata": {
    "collapsed": false
   }
  },
  {
   "cell_type": "code",
   "execution_count": null,
   "outputs": [],
   "source": [],
   "metadata": {
    "collapsed": false
   }
  },
  {
   "cell_type": "code",
   "execution_count": null,
   "outputs": [],
   "source": [],
   "metadata": {
    "collapsed": false
   }
  },
  {
   "cell_type": "markdown",
   "source": [
    "### China Shenhua Estimated Sales Revenues and Costs of Power Generation"
   ],
   "metadata": {
    "collapsed": false
   }
  },
  {
   "cell_type": "code",
   "execution_count": 100,
   "outputs": [
    {
     "data": {
      "text/plain": "   year  Coal Power  Gas Power  Hydro Power  All Power  \\\n0  2020      123.27       3.75         0.63     127.65   \n1  2019      126.52       3.81          NaN     130.33   \n2  2020      327.00     563.00       232.00     333.44   \n3  2019      331.00     573.00       556.00        NaN   \n\n                      Unit  \n0                      TWh  \n1                      TWH  \n2  Weighted Average Tariff  \n3  Weighted Average Tariff  ",
      "text/html": "<div>\n<style scoped>\n    .dataframe tbody tr th:only-of-type {\n        vertical-align: middle;\n    }\n\n    .dataframe tbody tr th {\n        vertical-align: top;\n    }\n\n    .dataframe thead th {\n        text-align: right;\n    }\n</style>\n<table border=\"1\" class=\"dataframe\">\n  <thead>\n    <tr style=\"text-align: right;\">\n      <th></th>\n      <th>year</th>\n      <th>Coal Power</th>\n      <th>Gas Power</th>\n      <th>Hydro Power</th>\n      <th>All Power</th>\n      <th>Unit</th>\n    </tr>\n  </thead>\n  <tbody>\n    <tr>\n      <th>0</th>\n      <td>2020</td>\n      <td>123.27</td>\n      <td>3.75</td>\n      <td>0.63</td>\n      <td>127.65</td>\n      <td>TWh</td>\n    </tr>\n    <tr>\n      <th>1</th>\n      <td>2019</td>\n      <td>126.52</td>\n      <td>3.81</td>\n      <td>NaN</td>\n      <td>130.33</td>\n      <td>TWH</td>\n    </tr>\n    <tr>\n      <th>2</th>\n      <td>2020</td>\n      <td>327.00</td>\n      <td>563.00</td>\n      <td>232.00</td>\n      <td>333.44</td>\n      <td>Weighted Average Tariff</td>\n    </tr>\n    <tr>\n      <th>3</th>\n      <td>2019</td>\n      <td>331.00</td>\n      <td>573.00</td>\n      <td>556.00</td>\n      <td>NaN</td>\n      <td>Weighted Average Tariff</td>\n    </tr>\n  </tbody>\n</table>\n</div>"
     },
     "execution_count": 100,
     "metadata": {},
     "output_type": "execute_result"
    }
   ],
   "source": [
    "power_sale = pd.read_excel(r'shenhua.xlsx', sheet_name='Power Sale' )\n",
    "power_sale = power_sale.replace('-', None)\n",
    "power_sale"
   ],
   "metadata": {
    "collapsed": false
   }
  },
  {
   "cell_type": "code",
   "execution_count": 101,
   "outputs": [
    {
     "data": {
      "text/plain": "42563.616"
     },
     "execution_count": 101,
     "metadata": {},
     "output_type": "execute_result"
    }
   ],
   "source": [
    "power_sale[(power_sale['year'] == 2020)]['All Power'].prod()\n"
   ],
   "metadata": {
    "collapsed": false
   }
  },
  {
   "cell_type": "code",
   "execution_count": null,
   "outputs": [],
   "source": [],
   "metadata": {
    "collapsed": false
   }
  },
  {
   "cell_type": "code",
   "execution_count": null,
   "outputs": [],
   "source": [],
   "metadata": {
    "collapsed": false
   }
  },
  {
   "cell_type": "code",
   "execution_count": null,
   "outputs": [],
   "source": [
    "power_sale\n",
    "pd.read_csv()"
   ],
   "metadata": {
    "collapsed": false
   }
  },
  {
   "cell_type": "code",
   "execution_count": null,
   "outputs": [],
   "source": [],
   "metadata": {
    "collapsed": false
   }
  },
  {
   "cell_type": "code",
   "execution_count": null,
   "outputs": [],
   "source": [],
   "metadata": {
    "collapsed": false
   }
  },
  {
   "cell_type": "code",
   "execution_count": null,
   "outputs": [],
   "source": [],
   "metadata": {
    "collapsed": false
   }
  },
  {
   "cell_type": "code",
   "execution_count": null,
   "outputs": [],
   "source": [],
   "metadata": {
    "collapsed": false
   }
  }
 ],
 "metadata": {
  "kernelspec": {
   "display_name": "Python 3",
   "language": "python",
   "name": "python3"
  },
  "language_info": {
   "codemirror_mode": {
    "name": "ipython",
    "version": 2
   },
   "file_extension": ".py",
   "mimetype": "text/x-python",
   "name": "python",
   "nbconvert_exporter": "python",
   "pygments_lexer": "ipython2",
   "version": "2.7.6"
  }
 },
 "nbformat": 4,
 "nbformat_minor": 0
}
