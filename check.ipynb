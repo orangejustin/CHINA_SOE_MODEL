{
 "cells": [
  {
   "cell_type": "code",
   "execution_count": 1,
   "metadata": {
    "collapsed": true
   },
   "outputs": [],
   "source": [
    "from Modeling import soeModel\n",
    "%load_ext autoreload\n",
    "%autoreload 1\n",
    "%reload_ext autoreload\n",
    "import pandas as pd\n",
    "import re\n",
    "import json"
   ]
  },
  {
   "cell_type": "code",
   "execution_count": 2,
   "outputs": [
    {
     "data": {
      "text/plain": "<Modeling.soeModel at 0x10dc9ca30>"
     },
     "execution_count": 2,
     "metadata": {},
     "output_type": "execute_result"
    }
   ],
   "source": [
    "model = soeModel()\n",
    "model.preprocessing()"
   ],
   "metadata": {
    "collapsed": false
   }
  },
  {
   "cell_type": "code",
   "execution_count": 6,
   "outputs": [
    {
     "ename": "FileNotFoundError",
     "evalue": "[Errno 2] No such file or directory: 'local_dictionary.json'",
     "output_type": "error",
     "traceback": [
      "\u001B[0;31m---------------------------------------------------------------------------\u001B[0m",
      "\u001B[0;31mFileNotFoundError\u001B[0m                         Traceback (most recent call last)",
      "Cell \u001B[0;32mIn [6], line 1\u001B[0m\n\u001B[0;32m----> 1\u001B[0m \u001B[38;5;28;01mwith\u001B[39;00m \u001B[38;5;28;43mopen\u001B[39;49m\u001B[43m(\u001B[49m\u001B[38;5;124;43m\"\u001B[39;49m\u001B[38;5;124;43mlocal_dictionary.json\u001B[39;49m\u001B[38;5;124;43m\"\u001B[39;49m\u001B[43m,\u001B[49m\u001B[43m \u001B[49m\u001B[38;5;124;43m\"\u001B[39;49m\u001B[38;5;124;43mr\u001B[39;49m\u001B[38;5;124;43m\"\u001B[39;49m\u001B[43m)\u001B[49m \u001B[38;5;28;01mas\u001B[39;00m f:\n\u001B[1;32m      2\u001B[0m     translations_all \u001B[38;5;241m=\u001B[39m json\u001B[38;5;241m.\u001B[39mload(f)\n",
      "\u001B[0;31mFileNotFoundError\u001B[0m: [Errno 2] No such file or directory: 'local_dictionary.json'"
     ]
    }
   ],
   "source": [
    "with open(\"local_dictionary.json\", \"r\") as f:\n",
    "    translations_all = json.load(f)"
   ],
   "metadata": {
    "collapsed": false
   }
  },
  {
   "cell_type": "code",
   "execution_count": 3,
   "outputs": [
    {
     "name": "stdout",
     "output_type": "stream",
     "text": [
      "{}\n",
      "{}\n",
      "{}\n",
      "CPU times: user 753 µs, sys: 144 µs, total: 897 µs\n",
      "Wall time: 918 µs\n"
     ]
    },
    {
     "data": {
      "text/plain": "<Modeling.soeModel at 0x10dc9ca30>"
     },
     "execution_count": 3,
     "metadata": {},
     "output_type": "execute_result"
    }
   ],
   "source": [
    "%%time\n",
    "model.translate_cells(local_dict_name=\"local_dictionary.json\", local=True)"
   ],
   "metadata": {
    "collapsed": false
   }
  },
  {
   "cell_type": "code",
   "execution_count": 4,
   "outputs": [
    {
     "data": {
      "text/plain": "   电厂分类     电厂             所在电网  地理位置  总发电量 (亿千瓦时) 2021 总售电量 (亿千瓦时) 2021  \\\n0     燃煤   准能电力             华北电网   内蒙古             36.3             32.9   \n1     燃煤  国华准格尔             华北电网   内蒙古              NaN              NaN   \n2     燃煤   国华呼电             华北电网   内蒙古              NaN              NaN   \n3     燃煤   神东电力  西北/华北/\\n陕西省地方电网   内蒙古            240.3            222.1   \n4     燃煤   胜利能源             华北电网   内蒙古              9.4              8.4   \n5     燃煤   沧东电力             华北电网    河北            114.4            108.8   \n6     燃煤   三河电力             华北电网    河北              NaN              NaN   \n7     燃煤   定州电力             华北电网    河北            117.6            108.8   \n8     燃煤   台山电力             南方电网    广东            267.1            252.4   \n9     燃煤   惠州热电             南方电网    广东             38.0             34.3   \n10    燃煤   浙能电力             华东电网    浙江              NaN              NaN   \n11    燃煤   舟山电力             华东电网    浙江              NaN              NaN   \n12    燃煤   神皖能源             华东电网    安徽              NaN              NaN   \n13    燃煤   太仓电力             华东电网    江苏              NaN              NaN   \n14    燃煤  陈家港电力             华东电网    江苏              NaN              NaN   \n15    燃煤   徐州电力             华东电网    江苏              NaN              NaN   \n16    燃煤   绥中电力             华东电网    辽宁              NaN              NaN   \n17    燃煤   福建能源             华东电网    福建            171.9            164.6   \n18    燃煤   锦界能源             华北电网    陕西            214.5            198.3   \n19    燃煤   神木电力             西北电网    陕西              NaN              NaN   \n20    燃煤   寿光电力             华北电网    山东            109.8            104.7   \n21    燃煤   国华宁东             浙江电网    宁夏              NaN              NaN   \n22    燃煤   宁东电力             西北电网    宁夏              NaN              NaN   \n23    燃煤   盘山电力             华北电网    天津              NaN              NaN   \n24    燃煤   九江电力             华中电网    江西            120.5            115.0   \n25    燃煤   四川能源             四川电网    四川             61.0             56.1   \n26    燃煤   孟津电力             华中电网    河南             48.8             45.6   \n27    燃煤   柳州电力             广西电网    广西             40.8             38.7   \n28    燃煤   永州电力             湖南电网    湖南             10.6             10.2   \n29    燃煤  南苏EMM              PLN    印尼             17.6             15.5   \n30    燃气   北京燃气             华北电网    北京             38.5             37.7   \n31    燃气   余姚电力             华东电网    浙江              NaN              NaN   \n32    水电   四川能源          四川省地方电网    四川              7.4              7.2   \n33    风能   珠海风能             南方电网    广东              NaN              NaN   \n\n   平均利用小时 (小时) 2021 售电标准煤耗 (克/千瓦时) 2021 售电电价 (元/兆瓦时) 2021 年底总装机容量 (兆瓦) 2021  \\\n0           5,504.0               347.0             299.0             660.0   \n1               NaN                 NaN               NaN               NaN   \n2               NaN                 NaN               NaN               NaN   \n3           4,792.0               320.0             323.0           5,014.0   \n4             712.0               352.0             278.0           1,320.0   \n5           4,539.0               297.0             323.0           2,520.0   \n6               NaN                 NaN               NaN               NaN   \n7           4,666.0               304.0             324.0           2,520.0   \n8           5,218.0               307.0             394.0           5,120.0   \n9           5,760.0               307.0             371.0             660.0   \n10              NaN                 NaN               NaN               NaN   \n11              NaN                 NaN               NaN               NaN   \n12              NaN                 NaN               NaN               NaN   \n13              NaN                 NaN               NaN               NaN   \n14              NaN                 NaN               NaN               NaN   \n15              NaN                 NaN               NaN               NaN   \n16              NaN                 NaN               NaN               NaN   \n17          6,014.0               294.0             357.0           3,810.0   \n18          5,765.0               312.0             267.0           3,720.0   \n19              NaN                 NaN               NaN               NaN   \n20          5,434.0               275.0             357.0           2,020.0   \n21              NaN                 NaN               NaN               NaN   \n22              NaN                 NaN               NaN               NaN   \n23              NaN                 NaN               NaN               NaN   \n24          6,023.0               276.0             364.0           2,000.0   \n25          3,468.0               325.0             424.0           3,260.0   \n26          4,068.0               303.0             295.0           1,200.0   \n27          5,826.0               314.0             366.0             700.0   \n28            664.0               280.0             467.0           2,000.0   \n29          5,858.0               365.0             465.0             300.0   \n30          4,057.0               193.0             565.0             950.0   \n31              NaN                 NaN               NaN               NaN   \n32          5,921.0                  /              224.0             125.0   \n33              NaN                 NaN               NaN               NaN   \n\n    ... 售电电价 (元/兆瓦时) 2019 年底总装机容量 (兆瓦) 2019 年底权益装机容量 (兆瓦) 2019  \\\n0   ...             230.0               660                381   \n1   ...               NaN               NaN                NaN   \n2   ...               NaN               NaN                NaN   \n3   ...             294.0             5,814              5,328   \n4   ...              None              None               None   \n5   ...             318.0             2,520              1,285   \n6   ...               NaN               NaN                NaN   \n7   ...             315.0             2,520              1,021   \n8   ...             391.0             5,090              4,072   \n9   ...             377.0               660                660   \n10  ...               NaN               NaN                NaN   \n11  ...               NaN               NaN                NaN   \n12  ...               NaN               NaN                NaN   \n13  ...               NaN               NaN                NaN   \n14  ...               NaN               NaN                NaN   \n15  ...               NaN               NaN                NaN   \n16  ...               NaN               NaN                NaN   \n17  ...             345.0             2,810              1,375   \n18  ...             272.0             2,400              1,680   \n19  ...               NaN               NaN                NaN   \n20  ...             348.0             2,020              1,212   \n21  ...               NaN               NaN                NaN   \n22  ...               NaN               NaN                NaN   \n23  ...               NaN               NaN                NaN   \n24  ...             359.0             2,000              2,000   \n25  ...             392.0             1,260                604   \n26  ...             308.0             1,200                612   \n27  ...             344.0               700                490   \n28  ...              None              None               None   \n29  ...             523.0               300                210   \n30  ...             573.0               950                950   \n31  ...               NaN               NaN                NaN   \n32  ...             556.0               125                 48   \n33  ...               NaN               NaN                NaN   \n\n   总发电量 (亿千瓦时) 2018 总售电量 (亿千瓦时) 2018 平均利用小时 (小时) 2018 售电标准煤耗 (克/千瓦时) 2018  \\\n0                33               29            3,392                 367   \n1                71               65            5,411                 310   \n2                60               54            5,019                 321   \n3               335              307            3,723                 337   \n4               NaN             None              NaN                 NaN   \n5               132              126            5,244                 300   \n6                68               64            5,119                 291   \n7               139              129            5,522                 307   \n8               239              226            4,694                 309   \n9                34               31            5,187                 324   \n10              224              212            4,944                 299   \n11               48               44            5,236                 331   \n12              237              226            5,066                 299   \n13               71               68            5,608                 294   \n14               69               66            5,187                 284   \n15               93               88            4,651                 289   \n16              176              165            4,672                 310   \n17              156              149            5,241                 282   \n18              165              152            6,892                 322   \n19                1                1             None                 377   \n20               34               30            2,659                 332   \n21               50               48            4,197                 307   \n22              115              110            5,705                 280   \n23               69               65            5,202                 302   \n24               28               25            4,207                 363   \n25               51               48            4,807                 312   \n26               20               19            2,832                 321   \n27               57               55            2,857                 281   \n28              NaN             None              NaN                 NaN   \n29               16               14            5,302                 367   \n30               39               38            4,131                 200   \n31               19               19            2,474                 232   \n32                7                7            5,517                None   \n33             None             None             None                None   \n\n   售电电价 (元/兆瓦时) 2018 年底总装机容量 (兆瓦) 2018 年底权益装机容量 (兆瓦) 2018  \n0                213               960                554  \n1                236             1,320                639  \n2                236             1,200                960  \n3                255             8,984              8,726  \n4               None              None               None  \n5                315             2,520              1,285  \n6                327             1,330                512  \n7                320             2,520              1,021  \n8                354             5,090              4,072  \n9                358               660                660  \n10               353             4,520              2,712  \n11               361               910                464  \n12               322             5,920              3,019  \n13               309             1,260                630  \n14               318             1,320                726  \n15               340             2,000              2,000  \n16               309             3,760              1,880  \n17               341             2,800              1,375  \n18               267             2,400              1,680  \n19               306              None               None  \n20               386             1,260                604  \n21               300             1,200                612  \n22               339             2,020              1,212  \n23               226             1,320                749  \n24               234               660                660  \n25               355             1,060                482  \n26               345               700                490  \n27               354             2,000              2,000  \n28              None              None               None  \n29               510               300                210  \n30               589               950                950  \n31               503               780                624  \n32               222               125                 48  \n33              None              None               None  \n\n[34 rows x 35 columns]",
      "text/html": "<div>\n<style scoped>\n    .dataframe tbody tr th:only-of-type {\n        vertical-align: middle;\n    }\n\n    .dataframe tbody tr th {\n        vertical-align: top;\n    }\n\n    .dataframe thead th {\n        text-align: right;\n    }\n</style>\n<table border=\"1\" class=\"dataframe\">\n  <thead>\n    <tr style=\"text-align: right;\">\n      <th></th>\n      <th>电厂分类</th>\n      <th>电厂</th>\n      <th>所在电网</th>\n      <th>地理位置</th>\n      <th>总发电量 (亿千瓦时) 2021</th>\n      <th>总售电量 (亿千瓦时) 2021</th>\n      <th>平均利用小时 (小时) 2021</th>\n      <th>售电标准煤耗 (克/千瓦时) 2021</th>\n      <th>售电电价 (元/兆瓦时) 2021</th>\n      <th>年底总装机容量 (兆瓦) 2021</th>\n      <th>...</th>\n      <th>售电电价 (元/兆瓦时) 2019</th>\n      <th>年底总装机容量 (兆瓦) 2019</th>\n      <th>年底权益装机容量 (兆瓦) 2019</th>\n      <th>总发电量 (亿千瓦时) 2018</th>\n      <th>总售电量 (亿千瓦时) 2018</th>\n      <th>平均利用小时 (小时) 2018</th>\n      <th>售电标准煤耗 (克/千瓦时) 2018</th>\n      <th>售电电价 (元/兆瓦时) 2018</th>\n      <th>年底总装机容量 (兆瓦) 2018</th>\n      <th>年底权益装机容量 (兆瓦) 2018</th>\n    </tr>\n  </thead>\n  <tbody>\n    <tr>\n      <th>0</th>\n      <td>燃煤</td>\n      <td>准能电力</td>\n      <td>华北电网</td>\n      <td>内蒙古</td>\n      <td>36.3</td>\n      <td>32.9</td>\n      <td>5,504.0</td>\n      <td>347.0</td>\n      <td>299.0</td>\n      <td>660.0</td>\n      <td>...</td>\n      <td>230.0</td>\n      <td>660</td>\n      <td>381</td>\n      <td>33</td>\n      <td>29</td>\n      <td>3,392</td>\n      <td>367</td>\n      <td>213</td>\n      <td>960</td>\n      <td>554</td>\n    </tr>\n    <tr>\n      <th>1</th>\n      <td>燃煤</td>\n      <td>国华准格尔</td>\n      <td>华北电网</td>\n      <td>内蒙古</td>\n      <td>NaN</td>\n      <td>NaN</td>\n      <td>NaN</td>\n      <td>NaN</td>\n      <td>NaN</td>\n      <td>NaN</td>\n      <td>...</td>\n      <td>NaN</td>\n      <td>NaN</td>\n      <td>NaN</td>\n      <td>71</td>\n      <td>65</td>\n      <td>5,411</td>\n      <td>310</td>\n      <td>236</td>\n      <td>1,320</td>\n      <td>639</td>\n    </tr>\n    <tr>\n      <th>2</th>\n      <td>燃煤</td>\n      <td>国华呼电</td>\n      <td>华北电网</td>\n      <td>内蒙古</td>\n      <td>NaN</td>\n      <td>NaN</td>\n      <td>NaN</td>\n      <td>NaN</td>\n      <td>NaN</td>\n      <td>NaN</td>\n      <td>...</td>\n      <td>NaN</td>\n      <td>NaN</td>\n      <td>NaN</td>\n      <td>60</td>\n      <td>54</td>\n      <td>5,019</td>\n      <td>321</td>\n      <td>236</td>\n      <td>1,200</td>\n      <td>960</td>\n    </tr>\n    <tr>\n      <th>3</th>\n      <td>燃煤</td>\n      <td>神东电力</td>\n      <td>西北/华北/\\n陕西省地方电网</td>\n      <td>内蒙古</td>\n      <td>240.3</td>\n      <td>222.1</td>\n      <td>4,792.0</td>\n      <td>320.0</td>\n      <td>323.0</td>\n      <td>5,014.0</td>\n      <td>...</td>\n      <td>294.0</td>\n      <td>5,814</td>\n      <td>5,328</td>\n      <td>335</td>\n      <td>307</td>\n      <td>3,723</td>\n      <td>337</td>\n      <td>255</td>\n      <td>8,984</td>\n      <td>8,726</td>\n    </tr>\n    <tr>\n      <th>4</th>\n      <td>燃煤</td>\n      <td>胜利能源</td>\n      <td>华北电网</td>\n      <td>内蒙古</td>\n      <td>9.4</td>\n      <td>8.4</td>\n      <td>712.0</td>\n      <td>352.0</td>\n      <td>278.0</td>\n      <td>1,320.0</td>\n      <td>...</td>\n      <td>None</td>\n      <td>None</td>\n      <td>None</td>\n      <td>NaN</td>\n      <td>None</td>\n      <td>NaN</td>\n      <td>NaN</td>\n      <td>None</td>\n      <td>None</td>\n      <td>None</td>\n    </tr>\n    <tr>\n      <th>5</th>\n      <td>燃煤</td>\n      <td>沧东电力</td>\n      <td>华北电网</td>\n      <td>河北</td>\n      <td>114.4</td>\n      <td>108.8</td>\n      <td>4,539.0</td>\n      <td>297.0</td>\n      <td>323.0</td>\n      <td>2,520.0</td>\n      <td>...</td>\n      <td>318.0</td>\n      <td>2,520</td>\n      <td>1,285</td>\n      <td>132</td>\n      <td>126</td>\n      <td>5,244</td>\n      <td>300</td>\n      <td>315</td>\n      <td>2,520</td>\n      <td>1,285</td>\n    </tr>\n    <tr>\n      <th>6</th>\n      <td>燃煤</td>\n      <td>三河电力</td>\n      <td>华北电网</td>\n      <td>河北</td>\n      <td>NaN</td>\n      <td>NaN</td>\n      <td>NaN</td>\n      <td>NaN</td>\n      <td>NaN</td>\n      <td>NaN</td>\n      <td>...</td>\n      <td>NaN</td>\n      <td>NaN</td>\n      <td>NaN</td>\n      <td>68</td>\n      <td>64</td>\n      <td>5,119</td>\n      <td>291</td>\n      <td>327</td>\n      <td>1,330</td>\n      <td>512</td>\n    </tr>\n    <tr>\n      <th>7</th>\n      <td>燃煤</td>\n      <td>定州电力</td>\n      <td>华北电网</td>\n      <td>河北</td>\n      <td>117.6</td>\n      <td>108.8</td>\n      <td>4,666.0</td>\n      <td>304.0</td>\n      <td>324.0</td>\n      <td>2,520.0</td>\n      <td>...</td>\n      <td>315.0</td>\n      <td>2,520</td>\n      <td>1,021</td>\n      <td>139</td>\n      <td>129</td>\n      <td>5,522</td>\n      <td>307</td>\n      <td>320</td>\n      <td>2,520</td>\n      <td>1,021</td>\n    </tr>\n    <tr>\n      <th>8</th>\n      <td>燃煤</td>\n      <td>台山电力</td>\n      <td>南方电网</td>\n      <td>广东</td>\n      <td>267.1</td>\n      <td>252.4</td>\n      <td>5,218.0</td>\n      <td>307.0</td>\n      <td>394.0</td>\n      <td>5,120.0</td>\n      <td>...</td>\n      <td>391.0</td>\n      <td>5,090</td>\n      <td>4,072</td>\n      <td>239</td>\n      <td>226</td>\n      <td>4,694</td>\n      <td>309</td>\n      <td>354</td>\n      <td>5,090</td>\n      <td>4,072</td>\n    </tr>\n    <tr>\n      <th>9</th>\n      <td>燃煤</td>\n      <td>惠州热电</td>\n      <td>南方电网</td>\n      <td>广东</td>\n      <td>38.0</td>\n      <td>34.3</td>\n      <td>5,760.0</td>\n      <td>307.0</td>\n      <td>371.0</td>\n      <td>660.0</td>\n      <td>...</td>\n      <td>377.0</td>\n      <td>660</td>\n      <td>660</td>\n      <td>34</td>\n      <td>31</td>\n      <td>5,187</td>\n      <td>324</td>\n      <td>358</td>\n      <td>660</td>\n      <td>660</td>\n    </tr>\n    <tr>\n      <th>10</th>\n      <td>燃煤</td>\n      <td>浙能电力</td>\n      <td>华东电网</td>\n      <td>浙江</td>\n      <td>NaN</td>\n      <td>NaN</td>\n      <td>NaN</td>\n      <td>NaN</td>\n      <td>NaN</td>\n      <td>NaN</td>\n      <td>...</td>\n      <td>NaN</td>\n      <td>NaN</td>\n      <td>NaN</td>\n      <td>224</td>\n      <td>212</td>\n      <td>4,944</td>\n      <td>299</td>\n      <td>353</td>\n      <td>4,520</td>\n      <td>2,712</td>\n    </tr>\n    <tr>\n      <th>11</th>\n      <td>燃煤</td>\n      <td>舟山电力</td>\n      <td>华东电网</td>\n      <td>浙江</td>\n      <td>NaN</td>\n      <td>NaN</td>\n      <td>NaN</td>\n      <td>NaN</td>\n      <td>NaN</td>\n      <td>NaN</td>\n      <td>...</td>\n      <td>NaN</td>\n      <td>NaN</td>\n      <td>NaN</td>\n      <td>48</td>\n      <td>44</td>\n      <td>5,236</td>\n      <td>331</td>\n      <td>361</td>\n      <td>910</td>\n      <td>464</td>\n    </tr>\n    <tr>\n      <th>12</th>\n      <td>燃煤</td>\n      <td>神皖能源</td>\n      <td>华东电网</td>\n      <td>安徽</td>\n      <td>NaN</td>\n      <td>NaN</td>\n      <td>NaN</td>\n      <td>NaN</td>\n      <td>NaN</td>\n      <td>NaN</td>\n      <td>...</td>\n      <td>NaN</td>\n      <td>NaN</td>\n      <td>NaN</td>\n      <td>237</td>\n      <td>226</td>\n      <td>5,066</td>\n      <td>299</td>\n      <td>322</td>\n      <td>5,920</td>\n      <td>3,019</td>\n    </tr>\n    <tr>\n      <th>13</th>\n      <td>燃煤</td>\n      <td>太仓电力</td>\n      <td>华东电网</td>\n      <td>江苏</td>\n      <td>NaN</td>\n      <td>NaN</td>\n      <td>NaN</td>\n      <td>NaN</td>\n      <td>NaN</td>\n      <td>NaN</td>\n      <td>...</td>\n      <td>NaN</td>\n      <td>NaN</td>\n      <td>NaN</td>\n      <td>71</td>\n      <td>68</td>\n      <td>5,608</td>\n      <td>294</td>\n      <td>309</td>\n      <td>1,260</td>\n      <td>630</td>\n    </tr>\n    <tr>\n      <th>14</th>\n      <td>燃煤</td>\n      <td>陈家港电力</td>\n      <td>华东电网</td>\n      <td>江苏</td>\n      <td>NaN</td>\n      <td>NaN</td>\n      <td>NaN</td>\n      <td>NaN</td>\n      <td>NaN</td>\n      <td>NaN</td>\n      <td>...</td>\n      <td>NaN</td>\n      <td>NaN</td>\n      <td>NaN</td>\n      <td>69</td>\n      <td>66</td>\n      <td>5,187</td>\n      <td>284</td>\n      <td>318</td>\n      <td>1,320</td>\n      <td>726</td>\n    </tr>\n    <tr>\n      <th>15</th>\n      <td>燃煤</td>\n      <td>徐州电力</td>\n      <td>华东电网</td>\n      <td>江苏</td>\n      <td>NaN</td>\n      <td>NaN</td>\n      <td>NaN</td>\n      <td>NaN</td>\n      <td>NaN</td>\n      <td>NaN</td>\n      <td>...</td>\n      <td>NaN</td>\n      <td>NaN</td>\n      <td>NaN</td>\n      <td>93</td>\n      <td>88</td>\n      <td>4,651</td>\n      <td>289</td>\n      <td>340</td>\n      <td>2,000</td>\n      <td>2,000</td>\n    </tr>\n    <tr>\n      <th>16</th>\n      <td>燃煤</td>\n      <td>绥中电力</td>\n      <td>华东电网</td>\n      <td>辽宁</td>\n      <td>NaN</td>\n      <td>NaN</td>\n      <td>NaN</td>\n      <td>NaN</td>\n      <td>NaN</td>\n      <td>NaN</td>\n      <td>...</td>\n      <td>NaN</td>\n      <td>NaN</td>\n      <td>NaN</td>\n      <td>176</td>\n      <td>165</td>\n      <td>4,672</td>\n      <td>310</td>\n      <td>309</td>\n      <td>3,760</td>\n      <td>1,880</td>\n    </tr>\n    <tr>\n      <th>17</th>\n      <td>燃煤</td>\n      <td>福建能源</td>\n      <td>华东电网</td>\n      <td>福建</td>\n      <td>171.9</td>\n      <td>164.6</td>\n      <td>6,014.0</td>\n      <td>294.0</td>\n      <td>357.0</td>\n      <td>3,810.0</td>\n      <td>...</td>\n      <td>345.0</td>\n      <td>2,810</td>\n      <td>1,375</td>\n      <td>156</td>\n      <td>149</td>\n      <td>5,241</td>\n      <td>282</td>\n      <td>341</td>\n      <td>2,800</td>\n      <td>1,375</td>\n    </tr>\n    <tr>\n      <th>18</th>\n      <td>燃煤</td>\n      <td>锦界能源</td>\n      <td>华北电网</td>\n      <td>陕西</td>\n      <td>214.5</td>\n      <td>198.3</td>\n      <td>5,765.0</td>\n      <td>312.0</td>\n      <td>267.0</td>\n      <td>3,720.0</td>\n      <td>...</td>\n      <td>272.0</td>\n      <td>2,400</td>\n      <td>1,680</td>\n      <td>165</td>\n      <td>152</td>\n      <td>6,892</td>\n      <td>322</td>\n      <td>267</td>\n      <td>2,400</td>\n      <td>1,680</td>\n    </tr>\n    <tr>\n      <th>19</th>\n      <td>燃煤</td>\n      <td>神木电力</td>\n      <td>西北电网</td>\n      <td>陕西</td>\n      <td>NaN</td>\n      <td>NaN</td>\n      <td>NaN</td>\n      <td>NaN</td>\n      <td>NaN</td>\n      <td>NaN</td>\n      <td>...</td>\n      <td>NaN</td>\n      <td>NaN</td>\n      <td>NaN</td>\n      <td>1</td>\n      <td>1</td>\n      <td>None</td>\n      <td>377</td>\n      <td>306</td>\n      <td>None</td>\n      <td>None</td>\n    </tr>\n    <tr>\n      <th>20</th>\n      <td>燃煤</td>\n      <td>寿光电力</td>\n      <td>华北电网</td>\n      <td>山东</td>\n      <td>109.8</td>\n      <td>104.7</td>\n      <td>5,434.0</td>\n      <td>275.0</td>\n      <td>357.0</td>\n      <td>2,020.0</td>\n      <td>...</td>\n      <td>348.0</td>\n      <td>2,020</td>\n      <td>1,212</td>\n      <td>34</td>\n      <td>30</td>\n      <td>2,659</td>\n      <td>332</td>\n      <td>386</td>\n      <td>1,260</td>\n      <td>604</td>\n    </tr>\n    <tr>\n      <th>21</th>\n      <td>燃煤</td>\n      <td>国华宁东</td>\n      <td>浙江电网</td>\n      <td>宁夏</td>\n      <td>NaN</td>\n      <td>NaN</td>\n      <td>NaN</td>\n      <td>NaN</td>\n      <td>NaN</td>\n      <td>NaN</td>\n      <td>...</td>\n      <td>NaN</td>\n      <td>NaN</td>\n      <td>NaN</td>\n      <td>50</td>\n      <td>48</td>\n      <td>4,197</td>\n      <td>307</td>\n      <td>300</td>\n      <td>1,200</td>\n      <td>612</td>\n    </tr>\n    <tr>\n      <th>22</th>\n      <td>燃煤</td>\n      <td>宁东电力</td>\n      <td>西北电网</td>\n      <td>宁夏</td>\n      <td>NaN</td>\n      <td>NaN</td>\n      <td>NaN</td>\n      <td>NaN</td>\n      <td>NaN</td>\n      <td>NaN</td>\n      <td>...</td>\n      <td>NaN</td>\n      <td>NaN</td>\n      <td>NaN</td>\n      <td>115</td>\n      <td>110</td>\n      <td>5,705</td>\n      <td>280</td>\n      <td>339</td>\n      <td>2,020</td>\n      <td>1,212</td>\n    </tr>\n    <tr>\n      <th>23</th>\n      <td>燃煤</td>\n      <td>盘山电力</td>\n      <td>华北电网</td>\n      <td>天津</td>\n      <td>NaN</td>\n      <td>NaN</td>\n      <td>NaN</td>\n      <td>NaN</td>\n      <td>NaN</td>\n      <td>NaN</td>\n      <td>...</td>\n      <td>NaN</td>\n      <td>NaN</td>\n      <td>NaN</td>\n      <td>69</td>\n      <td>65</td>\n      <td>5,202</td>\n      <td>302</td>\n      <td>226</td>\n      <td>1,320</td>\n      <td>749</td>\n    </tr>\n    <tr>\n      <th>24</th>\n      <td>燃煤</td>\n      <td>九江电力</td>\n      <td>华中电网</td>\n      <td>江西</td>\n      <td>120.5</td>\n      <td>115.0</td>\n      <td>6,023.0</td>\n      <td>276.0</td>\n      <td>364.0</td>\n      <td>2,000.0</td>\n      <td>...</td>\n      <td>359.0</td>\n      <td>2,000</td>\n      <td>2,000</td>\n      <td>28</td>\n      <td>25</td>\n      <td>4,207</td>\n      <td>363</td>\n      <td>234</td>\n      <td>660</td>\n      <td>660</td>\n    </tr>\n    <tr>\n      <th>25</th>\n      <td>燃煤</td>\n      <td>四川能源</td>\n      <td>四川电网</td>\n      <td>四川</td>\n      <td>61.0</td>\n      <td>56.1</td>\n      <td>3,468.0</td>\n      <td>325.0</td>\n      <td>424.0</td>\n      <td>3,260.0</td>\n      <td>...</td>\n      <td>392.0</td>\n      <td>1,260</td>\n      <td>604</td>\n      <td>51</td>\n      <td>48</td>\n      <td>4,807</td>\n      <td>312</td>\n      <td>355</td>\n      <td>1,060</td>\n      <td>482</td>\n    </tr>\n    <tr>\n      <th>26</th>\n      <td>燃煤</td>\n      <td>孟津电力</td>\n      <td>华中电网</td>\n      <td>河南</td>\n      <td>48.8</td>\n      <td>45.6</td>\n      <td>4,068.0</td>\n      <td>303.0</td>\n      <td>295.0</td>\n      <td>1,200.0</td>\n      <td>...</td>\n      <td>308.0</td>\n      <td>1,200</td>\n      <td>612</td>\n      <td>20</td>\n      <td>19</td>\n      <td>2,832</td>\n      <td>321</td>\n      <td>345</td>\n      <td>700</td>\n      <td>490</td>\n    </tr>\n    <tr>\n      <th>27</th>\n      <td>燃煤</td>\n      <td>柳州电力</td>\n      <td>广西电网</td>\n      <td>广西</td>\n      <td>40.8</td>\n      <td>38.7</td>\n      <td>5,826.0</td>\n      <td>314.0</td>\n      <td>366.0</td>\n      <td>700.0</td>\n      <td>...</td>\n      <td>344.0</td>\n      <td>700</td>\n      <td>490</td>\n      <td>57</td>\n      <td>55</td>\n      <td>2,857</td>\n      <td>281</td>\n      <td>354</td>\n      <td>2,000</td>\n      <td>2,000</td>\n    </tr>\n    <tr>\n      <th>28</th>\n      <td>燃煤</td>\n      <td>永州电力</td>\n      <td>湖南电网</td>\n      <td>湖南</td>\n      <td>10.6</td>\n      <td>10.2</td>\n      <td>664.0</td>\n      <td>280.0</td>\n      <td>467.0</td>\n      <td>2,000.0</td>\n      <td>...</td>\n      <td>None</td>\n      <td>None</td>\n      <td>None</td>\n      <td>NaN</td>\n      <td>None</td>\n      <td>NaN</td>\n      <td>NaN</td>\n      <td>None</td>\n      <td>None</td>\n      <td>None</td>\n    </tr>\n    <tr>\n      <th>29</th>\n      <td>燃煤</td>\n      <td>南苏EMM</td>\n      <td>PLN</td>\n      <td>印尼</td>\n      <td>17.6</td>\n      <td>15.5</td>\n      <td>5,858.0</td>\n      <td>365.0</td>\n      <td>465.0</td>\n      <td>300.0</td>\n      <td>...</td>\n      <td>523.0</td>\n      <td>300</td>\n      <td>210</td>\n      <td>16</td>\n      <td>14</td>\n      <td>5,302</td>\n      <td>367</td>\n      <td>510</td>\n      <td>300</td>\n      <td>210</td>\n    </tr>\n    <tr>\n      <th>30</th>\n      <td>燃气</td>\n      <td>北京燃气</td>\n      <td>华北电网</td>\n      <td>北京</td>\n      <td>38.5</td>\n      <td>37.7</td>\n      <td>4,057.0</td>\n      <td>193.0</td>\n      <td>565.0</td>\n      <td>950.0</td>\n      <td>...</td>\n      <td>573.0</td>\n      <td>950</td>\n      <td>950</td>\n      <td>39</td>\n      <td>38</td>\n      <td>4,131</td>\n      <td>200</td>\n      <td>589</td>\n      <td>950</td>\n      <td>950</td>\n    </tr>\n    <tr>\n      <th>31</th>\n      <td>燃气</td>\n      <td>余姚电力</td>\n      <td>华东电网</td>\n      <td>浙江</td>\n      <td>NaN</td>\n      <td>NaN</td>\n      <td>NaN</td>\n      <td>NaN</td>\n      <td>NaN</td>\n      <td>NaN</td>\n      <td>...</td>\n      <td>NaN</td>\n      <td>NaN</td>\n      <td>NaN</td>\n      <td>19</td>\n      <td>19</td>\n      <td>2,474</td>\n      <td>232</td>\n      <td>503</td>\n      <td>780</td>\n      <td>624</td>\n    </tr>\n    <tr>\n      <th>32</th>\n      <td>水电</td>\n      <td>四川能源</td>\n      <td>四川省地方电网</td>\n      <td>四川</td>\n      <td>7.4</td>\n      <td>7.2</td>\n      <td>5,921.0</td>\n      <td>/</td>\n      <td>224.0</td>\n      <td>125.0</td>\n      <td>...</td>\n      <td>556.0</td>\n      <td>125</td>\n      <td>48</td>\n      <td>7</td>\n      <td>7</td>\n      <td>5,517</td>\n      <td>None</td>\n      <td>222</td>\n      <td>125</td>\n      <td>48</td>\n    </tr>\n    <tr>\n      <th>33</th>\n      <td>风能</td>\n      <td>珠海风能</td>\n      <td>南方电网</td>\n      <td>广东</td>\n      <td>NaN</td>\n      <td>NaN</td>\n      <td>NaN</td>\n      <td>NaN</td>\n      <td>NaN</td>\n      <td>NaN</td>\n      <td>...</td>\n      <td>NaN</td>\n      <td>NaN</td>\n      <td>NaN</td>\n      <td>None</td>\n      <td>None</td>\n      <td>None</td>\n      <td>None</td>\n      <td>None</td>\n      <td>None</td>\n      <td>None</td>\n    </tr>\n  </tbody>\n</table>\n<p>34 rows × 35 columns</p>\n</div>"
     },
     "execution_count": 4,
     "metadata": {},
     "output_type": "execute_result"
    }
   ],
   "source": [
    "model.power_sale"
   ],
   "metadata": {
    "collapsed": false
   }
  },
  {
   "cell_type": "code",
   "execution_count": 5,
   "outputs": [
    {
     "data": {
      "text/plain": "<Modeling.soeModel at 0x10b01ca60>"
     },
     "execution_count": 5,
     "metadata": {},
     "output_type": "execute_result"
    }
   ],
   "source": [
    "model.correct_digital_type()"
   ],
   "metadata": {
    "collapsed": false
   }
  },
  {
   "cell_type": "code",
   "execution_count": 7,
   "outputs": [],
   "source": [
    "# model.power_sale"
   ],
   "metadata": {
    "collapsed": false
   }
  },
  {
   "cell_type": "code",
   "execution_count": 5,
   "outputs": [
    {
     "ename": "KeyError",
     "evalue": "'Total electricity sales (100 million kWh) 2020'",
     "output_type": "error",
     "traceback": [
      "\u001B[0;31m---------------------------------------------------------------------------\u001B[0m",
      "\u001B[0;31mKeyError\u001B[0m                                  Traceback (most recent call last)",
      "File \u001B[0;32m/opt/homebrew/Caskroom/miniforge/base/envs/justin/lib/python3.10/site-packages/pandas/core/indexes/base.py:3800\u001B[0m, in \u001B[0;36mIndex.get_loc\u001B[0;34m(self, key, method, tolerance)\u001B[0m\n\u001B[1;32m   3799\u001B[0m \u001B[38;5;28;01mtry\u001B[39;00m:\n\u001B[0;32m-> 3800\u001B[0m     \u001B[38;5;28;01mreturn\u001B[39;00m \u001B[38;5;28;43mself\u001B[39;49m\u001B[38;5;241;43m.\u001B[39;49m\u001B[43m_engine\u001B[49m\u001B[38;5;241;43m.\u001B[39;49m\u001B[43mget_loc\u001B[49m\u001B[43m(\u001B[49m\u001B[43mcasted_key\u001B[49m\u001B[43m)\u001B[49m\n\u001B[1;32m   3801\u001B[0m \u001B[38;5;28;01mexcept\u001B[39;00m \u001B[38;5;167;01mKeyError\u001B[39;00m \u001B[38;5;28;01mas\u001B[39;00m err:\n",
      "File \u001B[0;32m/opt/homebrew/Caskroom/miniforge/base/envs/justin/lib/python3.10/site-packages/pandas/_libs/index.pyx:138\u001B[0m, in \u001B[0;36mpandas._libs.index.IndexEngine.get_loc\u001B[0;34m()\u001B[0m\n",
      "File \u001B[0;32m/opt/homebrew/Caskroom/miniforge/base/envs/justin/lib/python3.10/site-packages/pandas/_libs/index.pyx:165\u001B[0m, in \u001B[0;36mpandas._libs.index.IndexEngine.get_loc\u001B[0;34m()\u001B[0m\n",
      "File \u001B[0;32mpandas/_libs/hashtable_class_helper.pxi:5745\u001B[0m, in \u001B[0;36mpandas._libs.hashtable.PyObjectHashTable.get_item\u001B[0;34m()\u001B[0m\n",
      "File \u001B[0;32mpandas/_libs/hashtable_class_helper.pxi:5753\u001B[0m, in \u001B[0;36mpandas._libs.hashtable.PyObjectHashTable.get_item\u001B[0;34m()\u001B[0m\n",
      "\u001B[0;31mKeyError\u001B[0m: 'Total electricity sales (100 million kWh) 2020'",
      "\nThe above exception was the direct cause of the following exception:\n",
      "\u001B[0;31mKeyError\u001B[0m                                  Traceback (most recent call last)",
      "Cell \u001B[0;32mIn [5], line 11\u001B[0m\n\u001B[1;32m      1\u001B[0m params \u001B[38;5;241m=\u001B[39m {\n\u001B[1;32m      2\u001B[0m     \u001B[38;5;124m\"\u001B[39m\u001B[38;5;124mtypes\u001B[39m\u001B[38;5;124m\"\u001B[39m: \u001B[38;5;124m\"\u001B[39m\u001B[38;5;124mpower\u001B[39m\u001B[38;5;124m\"\u001B[39m,\n\u001B[1;32m      3\u001B[0m     \u001B[38;5;124m\"\u001B[39m\u001B[38;5;124mpct\u001B[39m\u001B[38;5;124m\"\u001B[39m: \u001B[38;5;241m0.5\u001B[39m,\n\u001B[0;32m   (...)\u001B[0m\n\u001B[1;32m      8\u001B[0m     \u001B[38;5;124m\"\u001B[39m\u001B[38;5;124mcoal_transportation\u001B[39m\u001B[38;5;124m\"\u001B[39m: \u001B[38;5;28;01mFalse\u001B[39;00m\n\u001B[1;32m      9\u001B[0m }\n\u001B[0;32m---> 11\u001B[0m table \u001B[38;5;241m=\u001B[39m \u001B[43mmodel\u001B[49m\u001B[38;5;241;43m.\u001B[39;49m\u001B[43mscenario\u001B[49m\u001B[43m(\u001B[49m\u001B[38;5;241;43m*\u001B[39;49m\u001B[38;5;241;43m*\u001B[39;49m\u001B[43mparams\u001B[49m\u001B[43m)\u001B[49m\n",
      "File \u001B[0;32m~/Desktop/CHINA_SOE_MODEL/Modeling.py:167\u001B[0m, in \u001B[0;36msoeModel.scenario\u001B[0;34m(self, types, pct, year, coal_price, coal_power, coal_purchase, coal_transportation)\u001B[0m\n\u001B[1;32m    151\u001B[0m \u001B[38;5;124;03m\"\"\"\u001B[39;00m\n\u001B[1;32m    152\u001B[0m \u001B[38;5;124;03mperform scenario tasks\u001B[39;00m\n\u001B[1;32m    153\u001B[0m \n\u001B[0;32m   (...)\u001B[0m\n\u001B[1;32m    161\u001B[0m \u001B[38;5;124;03m:return: a scenario case dataframe\u001B[39;00m\n\u001B[1;32m    162\u001B[0m \u001B[38;5;124;03m\"\"\"\u001B[39;00m\n\u001B[1;32m    164\u001B[0m \u001B[38;5;66;03m# if types == \"power\":\u001B[39;00m\n\u001B[1;32m    165\u001B[0m \u001B[38;5;66;03m# All Power\u001B[39;00m\n\u001B[1;32m    166\u001B[0m electricity_sale_price \u001B[38;5;241m=\u001B[39m \\\n\u001B[0;32m--> 167\u001B[0m     \u001B[38;5;28;43mself\u001B[39;49m\u001B[38;5;241;43m.\u001B[39;49m\u001B[43mpower_sale\u001B[49m\u001B[43m[\u001B[49m\u001B[38;5;124;43m'\u001B[39;49m\u001B[38;5;124;43mTotal electricity sales (100 million kWh) 2020\u001B[39;49m\u001B[38;5;124;43m'\u001B[39;49m\u001B[43m]\u001B[49m \u001B[38;5;241m/\u001B[39m \\\n\u001B[1;32m    168\u001B[0m     \u001B[38;5;28mself\u001B[39m\u001B[38;5;241m.\u001B[39mpower_sale[\u001B[38;5;124m'\u001B[39m\u001B[38;5;124mTotal electricity sales (100 million kWh) 2020\u001B[39m\u001B[38;5;124m'\u001B[39m]\u001B[38;5;241m.\u001B[39msum() \u001B[38;5;241m*\u001B[39m \\\n\u001B[1;32m    169\u001B[0m     \u001B[38;5;28mself\u001B[39m\u001B[38;5;241m.\u001B[39mpower_sale[\u001B[38;5;124m'\u001B[39m\u001B[38;5;124mElectricity Sales Price (RMB/MWh) 2020\u001B[39m\u001B[38;5;124m'\u001B[39m]\n\u001B[1;32m    171\u001B[0m \u001B[38;5;66;03m# Estimated Sales Cost\u001B[39;00m\n\u001B[1;32m    172\u001B[0m sale_cost_lst \u001B[38;5;241m=\u001B[39m []\n",
      "File \u001B[0;32m/opt/homebrew/Caskroom/miniforge/base/envs/justin/lib/python3.10/site-packages/pandas/core/frame.py:3805\u001B[0m, in \u001B[0;36mDataFrame.__getitem__\u001B[0;34m(self, key)\u001B[0m\n\u001B[1;32m   3803\u001B[0m \u001B[38;5;28;01mif\u001B[39;00m \u001B[38;5;28mself\u001B[39m\u001B[38;5;241m.\u001B[39mcolumns\u001B[38;5;241m.\u001B[39mnlevels \u001B[38;5;241m>\u001B[39m \u001B[38;5;241m1\u001B[39m:\n\u001B[1;32m   3804\u001B[0m     \u001B[38;5;28;01mreturn\u001B[39;00m \u001B[38;5;28mself\u001B[39m\u001B[38;5;241m.\u001B[39m_getitem_multilevel(key)\n\u001B[0;32m-> 3805\u001B[0m indexer \u001B[38;5;241m=\u001B[39m \u001B[38;5;28;43mself\u001B[39;49m\u001B[38;5;241;43m.\u001B[39;49m\u001B[43mcolumns\u001B[49m\u001B[38;5;241;43m.\u001B[39;49m\u001B[43mget_loc\u001B[49m\u001B[43m(\u001B[49m\u001B[43mkey\u001B[49m\u001B[43m)\u001B[49m\n\u001B[1;32m   3806\u001B[0m \u001B[38;5;28;01mif\u001B[39;00m is_integer(indexer):\n\u001B[1;32m   3807\u001B[0m     indexer \u001B[38;5;241m=\u001B[39m [indexer]\n",
      "File \u001B[0;32m/opt/homebrew/Caskroom/miniforge/base/envs/justin/lib/python3.10/site-packages/pandas/core/indexes/base.py:3802\u001B[0m, in \u001B[0;36mIndex.get_loc\u001B[0;34m(self, key, method, tolerance)\u001B[0m\n\u001B[1;32m   3800\u001B[0m     \u001B[38;5;28;01mreturn\u001B[39;00m \u001B[38;5;28mself\u001B[39m\u001B[38;5;241m.\u001B[39m_engine\u001B[38;5;241m.\u001B[39mget_loc(casted_key)\n\u001B[1;32m   3801\u001B[0m \u001B[38;5;28;01mexcept\u001B[39;00m \u001B[38;5;167;01mKeyError\u001B[39;00m \u001B[38;5;28;01mas\u001B[39;00m err:\n\u001B[0;32m-> 3802\u001B[0m     \u001B[38;5;28;01mraise\u001B[39;00m \u001B[38;5;167;01mKeyError\u001B[39;00m(key) \u001B[38;5;28;01mfrom\u001B[39;00m \u001B[38;5;21;01merr\u001B[39;00m\n\u001B[1;32m   3803\u001B[0m \u001B[38;5;28;01mexcept\u001B[39;00m \u001B[38;5;167;01mTypeError\u001B[39;00m:\n\u001B[1;32m   3804\u001B[0m     \u001B[38;5;66;03m# If we have a listlike key, _check_indexing_error will raise\u001B[39;00m\n\u001B[1;32m   3805\u001B[0m     \u001B[38;5;66;03m#  InvalidIndexError. Otherwise we fall through and re-raise\u001B[39;00m\n\u001B[1;32m   3806\u001B[0m     \u001B[38;5;66;03m#  the TypeError.\u001B[39;00m\n\u001B[1;32m   3807\u001B[0m     \u001B[38;5;28mself\u001B[39m\u001B[38;5;241m.\u001B[39m_check_indexing_error(key)\n",
      "\u001B[0;31mKeyError\u001B[0m: 'Total electricity sales (100 million kWh) 2020'"
     ]
    }
   ],
   "source": [
    "params = {\n",
    "    \"types\": \"power\",\n",
    "    \"pct\": 0.5,\n",
    "    \"year\": 2020,\n",
    "    \"coal_price\": 50.0,\n",
    "    \"coal_power\": True,\n",
    "    \"coal_purchase\": False,\n",
    "    \"coal_transportation\": False\n",
    "}\n",
    "\n",
    "table = model.scenario(**params)"
   ],
   "metadata": {
    "collapsed": false
   }
  },
  {
   "cell_type": "code",
   "execution_count": null,
   "outputs": [],
   "source": [
    "table"
   ],
   "metadata": {
    "collapsed": false
   }
  },
  {
   "cell_type": "code",
   "execution_count": null,
   "outputs": [],
   "source": [
    "model.case"
   ],
   "metadata": {
    "collapsed": false
   }
  }
 ],
 "metadata": {
  "kernelspec": {
   "display_name": "Python 3",
   "language": "python",
   "name": "python3"
  },
  "language_info": {
   "codemirror_mode": {
    "name": "ipython",
    "version": 2
   },
   "file_extension": ".py",
   "mimetype": "text/x-python",
   "name": "python",
   "nbconvert_exporter": "python",
   "pygments_lexer": "ipython2",
   "version": "2.7.6"
  }
 },
 "nbformat": 4,
 "nbformat_minor": 0
}
