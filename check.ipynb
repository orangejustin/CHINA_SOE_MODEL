{
 "cells": [
  {
   "cell_type": "code",
   "execution_count": 1,
   "metadata": {
    "collapsed": true
   },
   "outputs": [],
   "source": [
    "import pandas as pd\n",
    "\n",
    "from Modeling import soeModel\n",
    "%load_ext autoreload\n",
    "%autoreload 1\n",
    "import numpy as np\n",
    "from pandas.api.types import is_numeric_dtype"
   ]
  },
  {
   "cell_type": "code",
   "execution_count": 2,
   "outputs": [],
   "source": [
    "%reload_ext autoreload"
   ],
   "metadata": {
    "collapsed": false
   }
  },
  {
   "cell_type": "code",
   "execution_count": 3,
   "outputs": [
    {
     "data": {
      "text/plain": "<Modeling.soeModel at 0x12341f970>"
     },
     "execution_count": 3,
     "metadata": {},
     "output_type": "execute_result"
    }
   ],
   "source": [
    "model = soeModel()\n",
    "model.preprocessing()"
   ],
   "metadata": {
    "collapsed": false
   }
  },
  {
   "cell_type": "code",
   "execution_count": 4,
   "outputs": [
    {
     "data": {
      "text/plain": "        成本类别 成本 (百万元) 2021年 售电量 (亿千瓦时) 2021年 单位成本 (元/兆瓦时) 2021年  \\\n0       售电成本         54,360          1,561.3              348.1   \n1  原材料、燃料及动力         41,686          1,561.3              267.0   \n2       人工成本          3,277          1,561.3               21.0   \n3        维修费          1,808          1,561.3               11.6   \n4      折旧及摊销          5,254          1,561.3               33.7   \n5       其他成本          2,315          1,561.3               14.8   \n6     其他业务成本          4,833          1,561.3                NaN   \n\n  成本 (百万元) 2020年 售电量 (亿千瓦时) 2020年 单位成本 (元/兆瓦时) 2020年 成本 (百万元) 2019年  \\\n0         35,246          1,276.5              276.1            NaN   \n1         24,827          1,276.5              194.5         28,739   \n2          2,307          1,276.5               18.1          2,371   \n3          2,086          1,276.5               16.3            NaN   \n4          5,056          1,276.5               39.6          5,481   \n5            970          1,276.5                7.6          1,238   \n6          2,852          1,277.5                NaN             52   \n\n  售电量 (亿千瓦时) 2019年 单位成本 (元/兆瓦时) 2019年  \n0              NaN                NaN  \n1          1,440.4              199.5  \n2          1,440.4               16.5  \n3              NaN                NaN  \n4          1,440.4               38.1  \n5          1,440.4                8.5  \n6          1,440.4                NaN  ",
      "text/html": "<div>\n<style scoped>\n    .dataframe tbody tr th:only-of-type {\n        vertical-align: middle;\n    }\n\n    .dataframe tbody tr th {\n        vertical-align: top;\n    }\n\n    .dataframe thead th {\n        text-align: right;\n    }\n</style>\n<table border=\"1\" class=\"dataframe\">\n  <thead>\n    <tr style=\"text-align: right;\">\n      <th></th>\n      <th>成本类别</th>\n      <th>成本 (百万元) 2021年</th>\n      <th>售电量 (亿千瓦时) 2021年</th>\n      <th>单位成本 (元/兆瓦时) 2021年</th>\n      <th>成本 (百万元) 2020年</th>\n      <th>售电量 (亿千瓦时) 2020年</th>\n      <th>单位成本 (元/兆瓦时) 2020年</th>\n      <th>成本 (百万元) 2019年</th>\n      <th>售电量 (亿千瓦时) 2019年</th>\n      <th>单位成本 (元/兆瓦时) 2019年</th>\n    </tr>\n  </thead>\n  <tbody>\n    <tr>\n      <th>0</th>\n      <td>售电成本</td>\n      <td>54,360</td>\n      <td>1,561.3</td>\n      <td>348.1</td>\n      <td>35,246</td>\n      <td>1,276.5</td>\n      <td>276.1</td>\n      <td>NaN</td>\n      <td>NaN</td>\n      <td>NaN</td>\n    </tr>\n    <tr>\n      <th>1</th>\n      <td>原材料、燃料及动力</td>\n      <td>41,686</td>\n      <td>1,561.3</td>\n      <td>267.0</td>\n      <td>24,827</td>\n      <td>1,276.5</td>\n      <td>194.5</td>\n      <td>28,739</td>\n      <td>1,440.4</td>\n      <td>199.5</td>\n    </tr>\n    <tr>\n      <th>2</th>\n      <td>人工成本</td>\n      <td>3,277</td>\n      <td>1,561.3</td>\n      <td>21.0</td>\n      <td>2,307</td>\n      <td>1,276.5</td>\n      <td>18.1</td>\n      <td>2,371</td>\n      <td>1,440.4</td>\n      <td>16.5</td>\n    </tr>\n    <tr>\n      <th>3</th>\n      <td>维修费</td>\n      <td>1,808</td>\n      <td>1,561.3</td>\n      <td>11.6</td>\n      <td>2,086</td>\n      <td>1,276.5</td>\n      <td>16.3</td>\n      <td>NaN</td>\n      <td>NaN</td>\n      <td>NaN</td>\n    </tr>\n    <tr>\n      <th>4</th>\n      <td>折旧及摊销</td>\n      <td>5,254</td>\n      <td>1,561.3</td>\n      <td>33.7</td>\n      <td>5,056</td>\n      <td>1,276.5</td>\n      <td>39.6</td>\n      <td>5,481</td>\n      <td>1,440.4</td>\n      <td>38.1</td>\n    </tr>\n    <tr>\n      <th>5</th>\n      <td>其他成本</td>\n      <td>2,315</td>\n      <td>1,561.3</td>\n      <td>14.8</td>\n      <td>970</td>\n      <td>1,276.5</td>\n      <td>7.6</td>\n      <td>1,238</td>\n      <td>1,440.4</td>\n      <td>8.5</td>\n    </tr>\n    <tr>\n      <th>6</th>\n      <td>其他业务成本</td>\n      <td>4,833</td>\n      <td>1,561.3</td>\n      <td>NaN</td>\n      <td>2,852</td>\n      <td>1,277.5</td>\n      <td>NaN</td>\n      <td>52</td>\n      <td>1,440.4</td>\n      <td>NaN</td>\n    </tr>\n  </tbody>\n</table>\n</div>"
     },
     "execution_count": 4,
     "metadata": {},
     "output_type": "execute_result"
    }
   ],
   "source": [
    "model.power_cost"
   ],
   "metadata": {
    "collapsed": false
   }
  },
  {
   "cell_type": "code",
   "execution_count": 5,
   "outputs": [
    {
     "data": {
      "text/plain": "<Modeling.soeModel at 0x12341f970>"
     },
     "execution_count": 5,
     "metadata": {},
     "output_type": "execute_result"
    }
   ],
   "source": [
    "model.translate_col()"
   ],
   "metadata": {
    "collapsed": false
   }
  },
  {
   "cell_type": "code",
   "execution_count": 6,
   "outputs": [
    {
     "data": {
      "text/plain": "  cost category Cost (RMB million) 2021  \\\n0          售电成本                  54,360   \n1     原材料、燃料及动力                  41,686   \n2          人工成本                   3,277   \n3           维修费                   1,808   \n4         折旧及摊销                   5,254   \n5          其他成本                   2,315   \n6        其他业务成本                   4,833   \n\n  Electricity sales (100 million kWh) in 2021 Unit cost (yuan/MWh) in 2021  \\\n0                                     1,561.3                        348.1   \n1                                     1,561.3                        267.0   \n2                                     1,561.3                         21.0   \n3                                     1,561.3                         11.6   \n4                                     1,561.3                         33.7   \n5                                     1,561.3                         14.8   \n6                                     1,561.3                          NaN   \n\n  Cost (RMB million) 2020 Electricity sales (100 million kWh) in 2020  \\\n0                  35,246                                     1,276.5   \n1                  24,827                                     1,276.5   \n2                   2,307                                     1,276.5   \n3                   2,086                                     1,276.5   \n4                   5,056                                     1,276.5   \n5                     970                                     1,276.5   \n6                   2,852                                     1,277.5   \n\n  Unit cost (yuan/MWh) in 2020 Cost (RMB million) 2019  \\\n0                        276.1                     NaN   \n1                        194.5                  28,739   \n2                         18.1                   2,371   \n3                         16.3                     NaN   \n4                         39.6                   5,481   \n5                          7.6                   1,238   \n6                          NaN                      52   \n\n  Electricity sales (100 million kWh) in 2019 Unit cost (yuan/MWh) in 2019  \n0                                         NaN                          NaN  \n1                                     1,440.4                        199.5  \n2                                     1,440.4                         16.5  \n3                                         NaN                          NaN  \n4                                     1,440.4                         38.1  \n5                                     1,440.4                          8.5  \n6                                     1,440.4                          NaN  ",
      "text/html": "<div>\n<style scoped>\n    .dataframe tbody tr th:only-of-type {\n        vertical-align: middle;\n    }\n\n    .dataframe tbody tr th {\n        vertical-align: top;\n    }\n\n    .dataframe thead th {\n        text-align: right;\n    }\n</style>\n<table border=\"1\" class=\"dataframe\">\n  <thead>\n    <tr style=\"text-align: right;\">\n      <th></th>\n      <th>cost category</th>\n      <th>Cost (RMB million) 2021</th>\n      <th>Electricity sales (100 million kWh) in 2021</th>\n      <th>Unit cost (yuan/MWh) in 2021</th>\n      <th>Cost (RMB million) 2020</th>\n      <th>Electricity sales (100 million kWh) in 2020</th>\n      <th>Unit cost (yuan/MWh) in 2020</th>\n      <th>Cost (RMB million) 2019</th>\n      <th>Electricity sales (100 million kWh) in 2019</th>\n      <th>Unit cost (yuan/MWh) in 2019</th>\n    </tr>\n  </thead>\n  <tbody>\n    <tr>\n      <th>0</th>\n      <td>售电成本</td>\n      <td>54,360</td>\n      <td>1,561.3</td>\n      <td>348.1</td>\n      <td>35,246</td>\n      <td>1,276.5</td>\n      <td>276.1</td>\n      <td>NaN</td>\n      <td>NaN</td>\n      <td>NaN</td>\n    </tr>\n    <tr>\n      <th>1</th>\n      <td>原材料、燃料及动力</td>\n      <td>41,686</td>\n      <td>1,561.3</td>\n      <td>267.0</td>\n      <td>24,827</td>\n      <td>1,276.5</td>\n      <td>194.5</td>\n      <td>28,739</td>\n      <td>1,440.4</td>\n      <td>199.5</td>\n    </tr>\n    <tr>\n      <th>2</th>\n      <td>人工成本</td>\n      <td>3,277</td>\n      <td>1,561.3</td>\n      <td>21.0</td>\n      <td>2,307</td>\n      <td>1,276.5</td>\n      <td>18.1</td>\n      <td>2,371</td>\n      <td>1,440.4</td>\n      <td>16.5</td>\n    </tr>\n    <tr>\n      <th>3</th>\n      <td>维修费</td>\n      <td>1,808</td>\n      <td>1,561.3</td>\n      <td>11.6</td>\n      <td>2,086</td>\n      <td>1,276.5</td>\n      <td>16.3</td>\n      <td>NaN</td>\n      <td>NaN</td>\n      <td>NaN</td>\n    </tr>\n    <tr>\n      <th>4</th>\n      <td>折旧及摊销</td>\n      <td>5,254</td>\n      <td>1,561.3</td>\n      <td>33.7</td>\n      <td>5,056</td>\n      <td>1,276.5</td>\n      <td>39.6</td>\n      <td>5,481</td>\n      <td>1,440.4</td>\n      <td>38.1</td>\n    </tr>\n    <tr>\n      <th>5</th>\n      <td>其他成本</td>\n      <td>2,315</td>\n      <td>1,561.3</td>\n      <td>14.8</td>\n      <td>970</td>\n      <td>1,276.5</td>\n      <td>7.6</td>\n      <td>1,238</td>\n      <td>1,440.4</td>\n      <td>8.5</td>\n    </tr>\n    <tr>\n      <th>6</th>\n      <td>其他业务成本</td>\n      <td>4,833</td>\n      <td>1,561.3</td>\n      <td>NaN</td>\n      <td>2,852</td>\n      <td>1,277.5</td>\n      <td>NaN</td>\n      <td>52</td>\n      <td>1,440.4</td>\n      <td>NaN</td>\n    </tr>\n  </tbody>\n</table>\n</div>"
     },
     "execution_count": 6,
     "metadata": {},
     "output_type": "execute_result"
    }
   ],
   "source": [
    "model.power_cost"
   ],
   "metadata": {
    "collapsed": false
   }
  },
  {
   "cell_type": "code",
   "execution_count": 7,
   "outputs": [
    {
     "data": {
      "text/plain": "<Modeling.soeModel at 0x12341f970>"
     },
     "execution_count": 7,
     "metadata": {},
     "output_type": "execute_result"
    }
   ],
   "source": [
    "model.translate_cells()"
   ],
   "metadata": {
    "collapsed": false
   }
  },
  {
   "cell_type": "code",
   "execution_count": 8,
   "outputs": [
    {
     "data": {
      "text/plain": "                    cost category Cost (RMB million) 1H2022  \\\n0  Raw materials, fuels and power                    22,311   \n1                      Labor cost                     2,025   \n2                Maintenance fees                       860   \n3   Depreciation and amortization                     2,969   \n4                     other costs                     1,001   \n\n  Coal electricity sales (100 million kWh) in the first half of 2022  \\\n0                                              796.0                   \n1                                              796.0                   \n2                                              796.0                   \n3                                              796.0                   \n4                                              796.0                   \n\n  Unit cost (yuan/MWh) in the first half of 2022 Cost (RMB million) 2021  \\\n0                                          280.3                  39,944   \n1                                           25.4                   3,195   \n2                                           10.8                   1,688   \n3                                           37.3                   5,078   \n4                                           12.6                   2,161   \n\n  Coal electricity sales (100 million kWh) in 2021  \\\n0                                          1,516.4   \n1                                          1,516.4   \n2                                          1,516.4   \n3                                          1,516.4   \n4                                          1,516.4   \n\n  Unit cost (yuan/MWh) in 2021 Cost (RMB million) 2020  \\\n0                        263.4                  23,103   \n1                         21.1                   2,265   \n2                         11.1                   1,989   \n3                         33.5                   4,886   \n4                         14.3                     841   \n\n  Coal-fired electricity sales (100 million kWh) in 2020  \\\n0                                            1,232.7       \n1                                            1,232.7       \n2                                            1,232.7       \n3                                            1,232.7       \n4                                            1,232.7       \n\n  Unit cost (yuan/MWh) in 2020 Cost (RMB million) 2019  \\\n0                        187.4                  26,802   \n1                         18.4                   2,328   \n2                         16.1                     NaN   \n3                         39.6                   5,294   \n4                          6.8                   1,125   \n\n  Coal-fired electricity sales (100 million kWh) in 2019  \\\n0                                            1,265.4       \n1                                            1,265.4       \n2                                                NaN       \n3                                            1,265.4       \n4                                            1,265.4       \n\n  Unit cost (yuan/MWh) in 2019 Cost (RMB million) 2018  \\\n0                        211.8                  50,511   \n1                         18.4                   4,453   \n2                          NaN                     NaN   \n3                         41.8                   8,005   \n4                          8.9                   1,801   \n\n  Coal-fired electricity sales (100 million kWh) in 2018  \\\n0                                            2,675.9       \n1                                            2,675.9       \n2                                                NaN       \n3                                            2,675.9       \n4                                            2,675.9       \n\n  Unit cost (yuan/MWh) in 2018 Cost (RMB million) 2017  \\\n0                        188.8                  46,008   \n1                         16.6                   3,939   \n2                          NaN                     NaN   \n3                         29.9                   9,235   \n4                          6.7                   1,925   \n\n  Coal-fired electricity sales (100 million kWh) in 2017  \\\n0                                            2,462.5       \n1                                            2,462.5       \n2                                                NaN       \n3                                            2,462.5       \n4                                            2,462.5       \n\n  Unit cost (yuan/MWh) in 2017  \n0                        186.8  \n1                         16.0  \n2                          NaN  \n3                         37.5  \n4                          7.8  ",
      "text/html": "<div>\n<style scoped>\n    .dataframe tbody tr th:only-of-type {\n        vertical-align: middle;\n    }\n\n    .dataframe tbody tr th {\n        vertical-align: top;\n    }\n\n    .dataframe thead th {\n        text-align: right;\n    }\n</style>\n<table border=\"1\" class=\"dataframe\">\n  <thead>\n    <tr style=\"text-align: right;\">\n      <th></th>\n      <th>cost category</th>\n      <th>Cost (RMB million) 1H2022</th>\n      <th>Coal electricity sales (100 million kWh) in the first half of 2022</th>\n      <th>Unit cost (yuan/MWh) in the first half of 2022</th>\n      <th>Cost (RMB million) 2021</th>\n      <th>Coal electricity sales (100 million kWh) in 2021</th>\n      <th>Unit cost (yuan/MWh) in 2021</th>\n      <th>Cost (RMB million) 2020</th>\n      <th>Coal-fired electricity sales (100 million kWh) in 2020</th>\n      <th>Unit cost (yuan/MWh) in 2020</th>\n      <th>Cost (RMB million) 2019</th>\n      <th>Coal-fired electricity sales (100 million kWh) in 2019</th>\n      <th>Unit cost (yuan/MWh) in 2019</th>\n      <th>Cost (RMB million) 2018</th>\n      <th>Coal-fired electricity sales (100 million kWh) in 2018</th>\n      <th>Unit cost (yuan/MWh) in 2018</th>\n      <th>Cost (RMB million) 2017</th>\n      <th>Coal-fired electricity sales (100 million kWh) in 2017</th>\n      <th>Unit cost (yuan/MWh) in 2017</th>\n    </tr>\n  </thead>\n  <tbody>\n    <tr>\n      <th>0</th>\n      <td>Raw materials, fuels and power</td>\n      <td>22,311</td>\n      <td>796.0</td>\n      <td>280.3</td>\n      <td>39,944</td>\n      <td>1,516.4</td>\n      <td>263.4</td>\n      <td>23,103</td>\n      <td>1,232.7</td>\n      <td>187.4</td>\n      <td>26,802</td>\n      <td>1,265.4</td>\n      <td>211.8</td>\n      <td>50,511</td>\n      <td>2,675.9</td>\n      <td>188.8</td>\n      <td>46,008</td>\n      <td>2,462.5</td>\n      <td>186.8</td>\n    </tr>\n    <tr>\n      <th>1</th>\n      <td>Labor cost</td>\n      <td>2,025</td>\n      <td>796.0</td>\n      <td>25.4</td>\n      <td>3,195</td>\n      <td>1,516.4</td>\n      <td>21.1</td>\n      <td>2,265</td>\n      <td>1,232.7</td>\n      <td>18.4</td>\n      <td>2,328</td>\n      <td>1,265.4</td>\n      <td>18.4</td>\n      <td>4,453</td>\n      <td>2,675.9</td>\n      <td>16.6</td>\n      <td>3,939</td>\n      <td>2,462.5</td>\n      <td>16.0</td>\n    </tr>\n    <tr>\n      <th>2</th>\n      <td>Maintenance fees</td>\n      <td>860</td>\n      <td>796.0</td>\n      <td>10.8</td>\n      <td>1,688</td>\n      <td>1,516.4</td>\n      <td>11.1</td>\n      <td>1,989</td>\n      <td>1,232.7</td>\n      <td>16.1</td>\n      <td>NaN</td>\n      <td>NaN</td>\n      <td>NaN</td>\n      <td>NaN</td>\n      <td>NaN</td>\n      <td>NaN</td>\n      <td>NaN</td>\n      <td>NaN</td>\n      <td>NaN</td>\n    </tr>\n    <tr>\n      <th>3</th>\n      <td>Depreciation and amortization</td>\n      <td>2,969</td>\n      <td>796.0</td>\n      <td>37.3</td>\n      <td>5,078</td>\n      <td>1,516.4</td>\n      <td>33.5</td>\n      <td>4,886</td>\n      <td>1,232.7</td>\n      <td>39.6</td>\n      <td>5,294</td>\n      <td>1,265.4</td>\n      <td>41.8</td>\n      <td>8,005</td>\n      <td>2,675.9</td>\n      <td>29.9</td>\n      <td>9,235</td>\n      <td>2,462.5</td>\n      <td>37.5</td>\n    </tr>\n    <tr>\n      <th>4</th>\n      <td>other costs</td>\n      <td>1,001</td>\n      <td>796.0</td>\n      <td>12.6</td>\n      <td>2,161</td>\n      <td>1,516.4</td>\n      <td>14.3</td>\n      <td>841</td>\n      <td>1,232.7</td>\n      <td>6.8</td>\n      <td>1,125</td>\n      <td>1,265.4</td>\n      <td>8.9</td>\n      <td>1,801</td>\n      <td>2,675.9</td>\n      <td>6.7</td>\n      <td>1,925</td>\n      <td>2,462.5</td>\n      <td>7.8</td>\n    </tr>\n  </tbody>\n</table>\n</div>"
     },
     "execution_count": 8,
     "metadata": {},
     "output_type": "execute_result"
    }
   ],
   "source": [
    "model.elec_cost"
   ],
   "metadata": {
    "collapsed": false
   }
  },
  {
   "cell_type": "code",
   "execution_count": 9,
   "outputs": [
    {
     "name": "stdout",
     "output_type": "stream",
     "text": [
      "Total power generation (100 million kWh) 2021\n",
      "Total electricity sales (100 million kWh) 2021\n",
      "Average utilization hours (hours) 2021\n",
      "Standard coal consumption for electricity sales (g/kWh) 2021\n",
      "Electricity sales price (yuan/MWh) 2021\n",
      "Total installed capacity by the end of the year (MW) 2021\n",
      "Equity installed capacity at the end of the year (MW) 2021\n",
      "Calculation of weighted average electricity selling price in I38 2021\n",
      "Total power generation (100 million kWh) 2020\n",
      "Total electricity sales (100 million kWh) 2020\n",
      "Average utilization hours (hours) 2020\n",
      "Standard Coal Consumption of Electricity Sales (g/kWh) 2020\n",
      "Electricity Sales Price (RMB/MWh) 2020\n",
      "Total installed capacity at the end of the year (MW) 2020\n",
      "Equity installed capacity at the end of the year (MW) 2020\n",
      "Forecast gross profit (millions of dollars) 2020\n",
      "Calculation of weighted average electricity selling price in Q38 2020\n",
      "Total power generation (100 million kWh) 2019\n",
      "Total electricity sales (100 million kWh) 2019\n",
      "Average utilization hours (hours) 2019\n",
      "Standard coal consumption of electricity sales (g/kWh) 2019\n",
      "Electricity Sales Price (RMB/MWh) 2019\n",
      "Total installed capacity at the end of the year (MW) 2019\n",
      "Equity installed capacity at the end of the year (MW) 2019\n",
      "Total power generation (100 million kWh) 2018\n",
      "Total electricity sales (100 million kWh) 2018\n",
      "Average utilization hours (hours) 2018\n",
      "Standard coal consumption for electricity sales (g/kWh) 2018\n",
      "Electricity Sales Price (RMB/MWh) 2018\n",
      "Total installed capacity at the end of the year (MW) 2018\n",
      "Equity installed capacity at the end of the year (MW) 2018\n",
      "Cost (RMB million) 2021\n",
      "Electricity sales (100 million kWh) in 2021\n",
      "Unit cost (yuan/MWh) in 2021\n",
      "Cost (RMB million) 2020\n",
      "Electricity sales (100 million kWh) in 2020\n",
      "Unit cost (yuan/MWh) in 2020\n",
      "Cost (RMB million) 2019\n",
      "Electricity sales (100 million kWh) in 2019\n",
      "Unit cost (yuan/MWh) in 2019\n",
      "Cost (RMB million) 1H2022\n",
      "Coal electricity sales (100 million kWh) in the first half of 2022\n",
      "Unit cost (yuan/MWh) in the first half of 2022\n",
      "Cost (RMB million) 2021\n",
      "Coal electricity sales (100 million kWh) in 2021\n",
      "Unit cost (yuan/MWh) in 2021\n",
      "Cost (RMB million) 2020\n",
      "Coal-fired electricity sales (100 million kWh) in 2020\n",
      "Unit cost (yuan/MWh) in 2020\n",
      "Cost (RMB million) 2019\n",
      "Coal-fired electricity sales (100 million kWh) in 2019\n",
      "Unit cost (yuan/MWh) in 2019\n",
      "Cost (RMB million) 2018\n",
      "Coal-fired electricity sales (100 million kWh) in 2018\n",
      "Unit cost (yuan/MWh) in 2018\n",
      "Cost (RMB million) 2017\n",
      "Coal-fired electricity sales (100 million kWh) in 2017\n",
      "Unit cost (yuan/MWh) in 2017\n"
     ]
    },
    {
     "data": {
      "text/plain": "<Modeling.soeModel at 0x12341f970>"
     },
     "execution_count": 9,
     "metadata": {},
     "output_type": "execute_result"
    }
   ],
   "source": [
    "model.correct_digital_type()"
   ],
   "metadata": {
    "collapsed": false
   }
  },
  {
   "cell_type": "code",
   "execution_count": 10,
   "outputs": [
    {
     "data": {
      "text/plain": "                    cost category  Cost (RMB million) 1H2022  \\\n0  Raw materials, fuels and power                      22311   \n1                      Labor cost                       2025   \n2                Maintenance fees                        860   \n3   Depreciation and amortization                       2969   \n4                     other costs                       1001   \n\n   Coal electricity sales (100 million kWh) in the first half of 2022  \\\n0                                              796.0                    \n1                                              796.0                    \n2                                              796.0                    \n3                                              796.0                    \n4                                              796.0                    \n\n   Unit cost (yuan/MWh) in the first half of 2022  Cost (RMB million) 2021  \\\n0                                           280.3                    39944   \n1                                            25.4                     3195   \n2                                            10.8                     1688   \n3                                            37.3                     5078   \n4                                            12.6                     2161   \n\n   Coal electricity sales (100 million kWh) in 2021  \\\n0                                            1516.4   \n1                                            1516.4   \n2                                            1516.4   \n3                                            1516.4   \n4                                            1516.4   \n\n   Unit cost (yuan/MWh) in 2021  Cost (RMB million) 2020  \\\n0                         263.4                    23103   \n1                          21.1                     2265   \n2                          11.1                     1989   \n3                          33.5                     4886   \n4                          14.3                      841   \n\n   Coal-fired electricity sales (100 million kWh) in 2020  \\\n0                                             1232.7        \n1                                             1232.7        \n2                                             1232.7        \n3                                             1232.7        \n4                                             1232.7        \n\n   Unit cost (yuan/MWh) in 2020  Cost (RMB million) 2019  \\\n0                         187.4                  26802.0   \n1                          18.4                   2328.0   \n2                          16.1                      NaN   \n3                          39.6                   5294.0   \n4                           6.8                   1125.0   \n\n   Coal-fired electricity sales (100 million kWh) in 2019  \\\n0                                             1265.4        \n1                                             1265.4        \n2                                                NaN        \n3                                             1265.4        \n4                                             1265.4        \n\n   Unit cost (yuan/MWh) in 2019  Cost (RMB million) 2018  \\\n0                         211.8                  50511.0   \n1                          18.4                   4453.0   \n2                           NaN                      NaN   \n3                          41.8                   8005.0   \n4                           8.9                   1801.0   \n\n   Coal-fired electricity sales (100 million kWh) in 2018  \\\n0                                             2675.9        \n1                                             2675.9        \n2                                                NaN        \n3                                             2675.9        \n4                                             2675.9        \n\n   Unit cost (yuan/MWh) in 2018  Cost (RMB million) 2017  \\\n0                         188.8                  46008.0   \n1                          16.6                   3939.0   \n2                           NaN                      NaN   \n3                          29.9                   9235.0   \n4                           6.7                   1925.0   \n\n   Coal-fired electricity sales (100 million kWh) in 2017  \\\n0                                             2462.5        \n1                                             2462.5        \n2                                                NaN        \n3                                             2462.5        \n4                                             2462.5        \n\n   Unit cost (yuan/MWh) in 2017  \n0                         186.8  \n1                          16.0  \n2                           NaN  \n3                          37.5  \n4                           7.8  ",
      "text/html": "<div>\n<style scoped>\n    .dataframe tbody tr th:only-of-type {\n        vertical-align: middle;\n    }\n\n    .dataframe tbody tr th {\n        vertical-align: top;\n    }\n\n    .dataframe thead th {\n        text-align: right;\n    }\n</style>\n<table border=\"1\" class=\"dataframe\">\n  <thead>\n    <tr style=\"text-align: right;\">\n      <th></th>\n      <th>cost category</th>\n      <th>Cost (RMB million) 1H2022</th>\n      <th>Coal electricity sales (100 million kWh) in the first half of 2022</th>\n      <th>Unit cost (yuan/MWh) in the first half of 2022</th>\n      <th>Cost (RMB million) 2021</th>\n      <th>Coal electricity sales (100 million kWh) in 2021</th>\n      <th>Unit cost (yuan/MWh) in 2021</th>\n      <th>Cost (RMB million) 2020</th>\n      <th>Coal-fired electricity sales (100 million kWh) in 2020</th>\n      <th>Unit cost (yuan/MWh) in 2020</th>\n      <th>Cost (RMB million) 2019</th>\n      <th>Coal-fired electricity sales (100 million kWh) in 2019</th>\n      <th>Unit cost (yuan/MWh) in 2019</th>\n      <th>Cost (RMB million) 2018</th>\n      <th>Coal-fired electricity sales (100 million kWh) in 2018</th>\n      <th>Unit cost (yuan/MWh) in 2018</th>\n      <th>Cost (RMB million) 2017</th>\n      <th>Coal-fired electricity sales (100 million kWh) in 2017</th>\n      <th>Unit cost (yuan/MWh) in 2017</th>\n    </tr>\n  </thead>\n  <tbody>\n    <tr>\n      <th>0</th>\n      <td>Raw materials, fuels and power</td>\n      <td>22311</td>\n      <td>796.0</td>\n      <td>280.3</td>\n      <td>39944</td>\n      <td>1516.4</td>\n      <td>263.4</td>\n      <td>23103</td>\n      <td>1232.7</td>\n      <td>187.4</td>\n      <td>26802.0</td>\n      <td>1265.4</td>\n      <td>211.8</td>\n      <td>50511.0</td>\n      <td>2675.9</td>\n      <td>188.8</td>\n      <td>46008.0</td>\n      <td>2462.5</td>\n      <td>186.8</td>\n    </tr>\n    <tr>\n      <th>1</th>\n      <td>Labor cost</td>\n      <td>2025</td>\n      <td>796.0</td>\n      <td>25.4</td>\n      <td>3195</td>\n      <td>1516.4</td>\n      <td>21.1</td>\n      <td>2265</td>\n      <td>1232.7</td>\n      <td>18.4</td>\n      <td>2328.0</td>\n      <td>1265.4</td>\n      <td>18.4</td>\n      <td>4453.0</td>\n      <td>2675.9</td>\n      <td>16.6</td>\n      <td>3939.0</td>\n      <td>2462.5</td>\n      <td>16.0</td>\n    </tr>\n    <tr>\n      <th>2</th>\n      <td>Maintenance fees</td>\n      <td>860</td>\n      <td>796.0</td>\n      <td>10.8</td>\n      <td>1688</td>\n      <td>1516.4</td>\n      <td>11.1</td>\n      <td>1989</td>\n      <td>1232.7</td>\n      <td>16.1</td>\n      <td>NaN</td>\n      <td>NaN</td>\n      <td>NaN</td>\n      <td>NaN</td>\n      <td>NaN</td>\n      <td>NaN</td>\n      <td>NaN</td>\n      <td>NaN</td>\n      <td>NaN</td>\n    </tr>\n    <tr>\n      <th>3</th>\n      <td>Depreciation and amortization</td>\n      <td>2969</td>\n      <td>796.0</td>\n      <td>37.3</td>\n      <td>5078</td>\n      <td>1516.4</td>\n      <td>33.5</td>\n      <td>4886</td>\n      <td>1232.7</td>\n      <td>39.6</td>\n      <td>5294.0</td>\n      <td>1265.4</td>\n      <td>41.8</td>\n      <td>8005.0</td>\n      <td>2675.9</td>\n      <td>29.9</td>\n      <td>9235.0</td>\n      <td>2462.5</td>\n      <td>37.5</td>\n    </tr>\n    <tr>\n      <th>4</th>\n      <td>other costs</td>\n      <td>1001</td>\n      <td>796.0</td>\n      <td>12.6</td>\n      <td>2161</td>\n      <td>1516.4</td>\n      <td>14.3</td>\n      <td>841</td>\n      <td>1232.7</td>\n      <td>6.8</td>\n      <td>1125.0</td>\n      <td>1265.4</td>\n      <td>8.9</td>\n      <td>1801.0</td>\n      <td>2675.9</td>\n      <td>6.7</td>\n      <td>1925.0</td>\n      <td>2462.5</td>\n      <td>7.8</td>\n    </tr>\n  </tbody>\n</table>\n</div>"
     },
     "execution_count": 10,
     "metadata": {},
     "output_type": "execute_result"
    }
   ],
   "source": [
    "model.elec_cost"
   ],
   "metadata": {
    "collapsed": false
   }
  },
  {
   "cell_type": "code",
   "execution_count": 11,
   "outputs": [
    {
     "data": {
      "text/plain": "   Power Dispatched (TWh)  Weighted Average Tariff (RMB/MWh)  \\\n0                  1276.5                         333.440580   \n1                  1232.7                         326.975582   \n2                    37.5                         563.000000   \n3                     6.3                         232.000000   \n4                     0.0                           0.000000   \n\n   Estimated Gross Revenue (RMB/MWh)  Estimated Sales Cost (Million RMB)  \\\n0                           42563.69                               33160   \n1                           40306.28                               31095   \n2                            2111.25                                2065   \n3                             146.16                                2065   \n4                               0.00                                   0   \n\n   Gross Profit (Million RMB)  Gross Profitability  \n0                     9403.69             0.220932  \n1                     9211.28             0.228532  \n2                       46.25             0.021906  \n3                    -1918.84           -13.128352  \n4                        0.00             0.000000  ",
      "text/html": "<div>\n<style scoped>\n    .dataframe tbody tr th:only-of-type {\n        vertical-align: middle;\n    }\n\n    .dataframe tbody tr th {\n        vertical-align: top;\n    }\n\n    .dataframe thead th {\n        text-align: right;\n    }\n</style>\n<table border=\"1\" class=\"dataframe\">\n  <thead>\n    <tr style=\"text-align: right;\">\n      <th></th>\n      <th>Power Dispatched (TWh)</th>\n      <th>Weighted Average Tariff (RMB/MWh)</th>\n      <th>Estimated Gross Revenue (RMB/MWh)</th>\n      <th>Estimated Sales Cost (Million RMB)</th>\n      <th>Gross Profit (Million RMB)</th>\n      <th>Gross Profitability</th>\n    </tr>\n  </thead>\n  <tbody>\n    <tr>\n      <th>0</th>\n      <td>1276.5</td>\n      <td>333.440580</td>\n      <td>42563.69</td>\n      <td>33160</td>\n      <td>9403.69</td>\n      <td>0.220932</td>\n    </tr>\n    <tr>\n      <th>1</th>\n      <td>1232.7</td>\n      <td>326.975582</td>\n      <td>40306.28</td>\n      <td>31095</td>\n      <td>9211.28</td>\n      <td>0.228532</td>\n    </tr>\n    <tr>\n      <th>2</th>\n      <td>37.5</td>\n      <td>563.000000</td>\n      <td>2111.25</td>\n      <td>2065</td>\n      <td>46.25</td>\n      <td>0.021906</td>\n    </tr>\n    <tr>\n      <th>3</th>\n      <td>6.3</td>\n      <td>232.000000</td>\n      <td>146.16</td>\n      <td>2065</td>\n      <td>-1918.84</td>\n      <td>-13.128352</td>\n    </tr>\n    <tr>\n      <th>4</th>\n      <td>0.0</td>\n      <td>0.000000</td>\n      <td>0.00</td>\n      <td>0</td>\n      <td>0.00</td>\n      <td>0.000000</td>\n    </tr>\n  </tbody>\n</table>\n</div>"
     },
     "execution_count": 11,
     "metadata": {},
     "output_type": "execute_result"
    }
   ],
   "source": [
    "model.scenario(\"power\")"
   ],
   "metadata": {
    "collapsed": false
   }
  },
  {
   "cell_type": "code",
   "execution_count": null,
   "outputs": [],
   "source": [],
   "metadata": {
    "collapsed": false
   }
  },
  {
   "cell_type": "code",
   "execution_count": null,
   "outputs": [],
   "source": [],
   "metadata": {
    "collapsed": false
   }
  },
  {
   "cell_type": "code",
   "execution_count": null,
   "outputs": [],
   "source": [],
   "metadata": {
    "collapsed": false
   }
  },
  {
   "cell_type": "code",
   "execution_count": null,
   "outputs": [],
   "source": [],
   "metadata": {
    "collapsed": false
   }
  }
 ],
 "metadata": {
  "kernelspec": {
   "display_name": "Python 3",
   "language": "python",
   "name": "python3"
  },
  "language_info": {
   "codemirror_mode": {
    "name": "ipython",
    "version": 2
   },
   "file_extension": ".py",
   "mimetype": "text/x-python",
   "name": "python",
   "nbconvert_exporter": "python",
   "pygments_lexer": "ipython2",
   "version": "2.7.6"
  }
 },
 "nbformat": 4,
 "nbformat_minor": 0
}
