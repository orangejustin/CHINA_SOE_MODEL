{
 "cells": [
  {
   "cell_type": "code",
   "execution_count": 1,
   "metadata": {
    "collapsed": true
   },
   "outputs": [],
   "source": [
    "from Modeling import soeModel\n",
    "%load_ext autoreload\n",
    "%autoreload 1\n",
    "%reload_ext autoreload\n",
    "import pandas as pd\n",
    "import re\n",
    "import json"
   ]
  },
  {
   "cell_type": "code",
   "execution_count": 2,
   "outputs": [
    {
     "data": {
      "text/plain": "<Modeling.soeModel at 0x109622890>"
     },
     "execution_count": 2,
     "metadata": {},
     "output_type": "execute_result"
    }
   ],
   "source": [
    "model = soeModel()\n",
    "model.preprocessing()"
   ],
   "metadata": {
    "collapsed": false
   }
  },
  {
   "cell_type": "code",
   "execution_count": 3,
   "outputs": [
    {
     "name": "stdout",
     "output_type": "stream",
     "text": [
      "CPU times: user 23.5 ms, sys: 1.34 ms, total: 24.8 ms\n",
      "Wall time: 24.1 ms\n"
     ]
    },
    {
     "data": {
      "text/plain": "<Modeling.soeModel at 0x109622890>"
     },
     "execution_count": 3,
     "metadata": {},
     "output_type": "execute_result"
    }
   ],
   "source": [
    "%%time\n",
    "model.translate_cells(local_dict_name=\"local_dictionary.json\", local=True)"
   ],
   "metadata": {
    "collapsed": false
   }
  },
  {
   "cell_type": "code",
   "execution_count": 4,
   "outputs": [
    {
     "data": {
      "text/plain": "<Modeling.soeModel at 0x109622890>"
     },
     "execution_count": 4,
     "metadata": {},
     "output_type": "execute_result"
    }
   ],
   "source": [
    "model.correct_digital_type()"
   ],
   "metadata": {
    "collapsed": false
   }
  },
  {
   "cell_type": "code",
   "execution_count": 5,
   "outputs": [
    {
     "name": "stderr",
     "output_type": "stream",
     "text": [
      "/Users/zechengli/Documents/davidsonlab/Modeling/Modeling.py:220: RuntimeWarning: invalid value encountered in divide\n",
      "  lst2 = (np.array(lst1) / np.array(sale_cost_lst)).tolist()\n"
     ]
    }
   ],
   "source": [
    "params = {\n",
    "    \"types\": \"power\",\n",
    "    \"pct\": 0.5,\n",
    "    \"year\": 2020,\n",
    "    \"coal_price\": 50.0,\n",
    "    \"coal_power\": True,\n",
    "    \"coal_purchase\": False,\n",
    "    \"coal_transportation\": False\n",
    "}\n",
    "\n",
    "table = model.scenario(**params)"
   ],
   "metadata": {
    "collapsed": false
   }
  },
  {
   "cell_type": "code",
   "execution_count": 6,
   "outputs": [
    {
     "data": {
      "text/plain": "{'Power Dispatched (TWh)': 61.635000000000005,\n 'Weighted Average Tariff (RMB/MWh)': 326.9755820556502,\n 'Estimated Gross Revenue (RMB/MWh)': 20153.140000000003,\n 'Estimated Sales Cost (Million RMB)': 8241.035,\n 'Gross Profit (Million RMB)': 11912.105000000003,\n 'Gross Profitability': 1.445462250797382}"
     },
     "execution_count": 6,
     "metadata": {},
     "output_type": "execute_result"
    }
   ],
   "source": [
    "model.case"
   ],
   "metadata": {
    "collapsed": false
   }
  },
  {
   "cell_type": "code",
   "execution_count": 7,
   "outputs": [
    {
     "data": {
      "text/plain": "                                               0\nPower Dispatched (TWh)                 61.635000\nWeighted Average Tariff (RMB/MWh)     326.975582\nEstimated Gross Revenue (RMB/MWh)   20153.140000\nEstimated Sales Cost (Million RMB)   8241.035000\nGross Profit (Million RMB)          11912.105000\nGross Profitability                     1.445462",
      "text/html": "<div>\n<style scoped>\n    .dataframe tbody tr th:only-of-type {\n        vertical-align: middle;\n    }\n\n    .dataframe tbody tr th {\n        vertical-align: top;\n    }\n\n    .dataframe thead th {\n        text-align: right;\n    }\n</style>\n<table border=\"1\" class=\"dataframe\">\n  <thead>\n    <tr style=\"text-align: right;\">\n      <th></th>\n      <th>0</th>\n    </tr>\n  </thead>\n  <tbody>\n    <tr>\n      <th>Power Dispatched (TWh)</th>\n      <td>61.635000</td>\n    </tr>\n    <tr>\n      <th>Weighted Average Tariff (RMB/MWh)</th>\n      <td>326.975582</td>\n    </tr>\n    <tr>\n      <th>Estimated Gross Revenue (RMB/MWh)</th>\n      <td>20153.140000</td>\n    </tr>\n    <tr>\n      <th>Estimated Sales Cost (Million RMB)</th>\n      <td>8241.035000</td>\n    </tr>\n    <tr>\n      <th>Gross Profit (Million RMB)</th>\n      <td>11912.105000</td>\n    </tr>\n    <tr>\n      <th>Gross Profitability</th>\n      <td>1.445462</td>\n    </tr>\n  </tbody>\n</table>\n</div>"
     },
     "execution_count": 7,
     "metadata": {},
     "output_type": "execute_result"
    }
   ],
   "source": [
    "pd.DataFrame(model.case,index=[0]).T"
   ],
   "metadata": {
    "collapsed": false
   }
  }
 ],
 "metadata": {
  "kernelspec": {
   "display_name": "Python 3",
   "language": "python",
   "name": "python3"
  },
  "language_info": {
   "codemirror_mode": {
    "name": "ipython",
    "version": 2
   },
   "file_extension": ".py",
   "mimetype": "text/x-python",
   "name": "python",
   "nbconvert_exporter": "python",
   "pygments_lexer": "ipython2",
   "version": "2.7.6"
  }
 },
 "nbformat": 4,
 "nbformat_minor": 0
}
