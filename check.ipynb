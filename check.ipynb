{
 "cells": [
  {
   "cell_type": "code",
   "execution_count": 2,
   "metadata": {
    "collapsed": true
   },
   "outputs": [],
   "source": [
    "import numpy as np\n",
    "from Modeling import soeModel\n",
    "%load_ext autoreload\n",
    "%autoreload 2\n",
    "import pandas as pd\n",
    "import re\n",
    "import json"
   ]
  },
  {
   "cell_type": "code",
   "execution_count": 124,
   "outputs": [],
   "source": [
    "def eq(s1, s2):\n",
    "    s1_sorted = s1.sort_values().reset_index(drop=True)\n",
    "    s2_sorted = s2.sort_values().reset_index(drop=True)\n",
    "    diff = (s1_sorted - s2_sorted).abs().max()\n",
    "    return diff < 1e-10\n",
    "\n",
    "def compare_dicts(dict1, dict2, margin=1e-3):\n",
    "    if dict1.keys() != dict2.keys():\n",
    "        return False, \"Keys are different\"\n",
    "\n",
    "    for key in dict1.keys():\n",
    "        if isinstance(dict1[key], float) and isinstance(dict2[key], float):\n",
    "            if not (abs(dict1[key] - dict2[key]) <= margin):\n",
    "                return False, f\"Difference found in key: {key}\"\n",
    "        elif dict1[key] != dict2[key]:\n",
    "            return False, f\"Difference found in key: {key}\"\n",
    "\n",
    "    return True, None\n",
    "\n"
   ],
   "metadata": {
    "collapsed": false
   }
  },
  {
   "cell_type": "code",
   "execution_count": 90,
   "outputs": [
    {
     "data": {
      "text/plain": "<Modeling.soeModel at 0x13fd2a050>"
     },
     "execution_count": 90,
     "metadata": {},
     "output_type": "execute_result"
    }
   ],
   "source": [
    "# new\n",
    "model = soeModel()\n",
    "model.preprocessing_2()\n",
    "model.translate_cells('local_dictionary.json', False)\n",
    "model.correct_digital_type()"
   ],
   "metadata": {
    "collapsed": false
   }
  },
  {
   "cell_type": "code",
   "execution_count": 4,
   "outputs": [
    {
     "data": {
      "text/plain": "<Modeling.soeModel at 0x108214d00>"
     },
     "execution_count": 4,
     "metadata": {},
     "output_type": "execute_result"
    }
   ],
   "source": [
    "# old\n",
    "model_2 = soeModel()\n",
    "model_2.preprocessing()\n",
    "model_2.translate_cells('dict.json', False)\n",
    "model_2.correct_digital_type()"
   ],
   "metadata": {
    "collapsed": false
   }
  },
  {
   "cell_type": "code",
   "execution_count": 119,
   "outputs": [
    {
     "name": "stderr",
     "output_type": "stream",
     "text": [
      "/Users/zechengli/Desktop/CHINA_SOE_MODEL/Modeling.py:471: RuntimeWarning: invalid value encountered in divide\n",
      "  'Power Dispatched (TWh)': power_dispatch,\n"
     ]
    }
   ],
   "source": [
    "params = {\n",
    "    \"types\": \"power\",\n",
    "    \"pct\": 0.5,\n",
    "    \"year\": 2020,\n",
    "    \"coal_price\": 343,\n",
    "    \"coal_power\": True,\n",
    "    \"coal_purchase\": False,\n",
    "    \"coal_transportation\": False\n",
    "}\n",
    "table = model.scenario2(**params)\n",
    "# table_2 = model_2.scenario2(**params)"
   ],
   "metadata": {
    "collapsed": false
   }
  },
  {
   "cell_type": "code",
   "execution_count": 141,
   "outputs": [
    {
     "data": {
      "text/plain": "                                   Reduced by 50%\nPower Dispatched (TWh)                     61.635\nWeighted Average Tariff (RMB/MWh)             343\nEstimated Gross Revenue (RMB/MWh)       21140.805\nEstimated Sales Cost (Million RMB)      24226.659\nGross Profit (Million RMB)              -3085.854\nGross Profitability                       -14.60%",
      "text/html": "<div>\n<style scoped>\n    .dataframe tbody tr th:only-of-type {\n        vertical-align: middle;\n    }\n\n    .dataframe tbody tr th {\n        vertical-align: top;\n    }\n\n    .dataframe thead th {\n        text-align: right;\n    }\n</style>\n<table border=\"1\" class=\"dataframe\">\n  <thead>\n    <tr style=\"text-align: right;\">\n      <th></th>\n      <th>Reduced by 50%</th>\n    </tr>\n  </thead>\n  <tbody>\n    <tr>\n      <th>Power Dispatched (TWh)</th>\n      <td>61.635</td>\n    </tr>\n    <tr>\n      <th>Weighted Average Tariff (RMB/MWh)</th>\n      <td>343</td>\n    </tr>\n    <tr>\n      <th>Estimated Gross Revenue (RMB/MWh)</th>\n      <td>21140.805</td>\n    </tr>\n    <tr>\n      <th>Estimated Sales Cost (Million RMB)</th>\n      <td>24226.659</td>\n    </tr>\n    <tr>\n      <th>Gross Profit (Million RMB)</th>\n      <td>-3085.854</td>\n    </tr>\n    <tr>\n      <th>Gross Profitability</th>\n      <td>-14.60%</td>\n    </tr>\n  </tbody>\n</table>\n</div>"
     },
     "execution_count": 141,
     "metadata": {},
     "output_type": "execute_result"
    }
   ],
   "source": [
    "model.case"
   ],
   "metadata": {
    "collapsed": false
   }
  },
  {
   "cell_type": "code",
   "execution_count": 121,
   "outputs": [
    {
     "name": "stderr",
     "output_type": "stream",
     "text": [
      "/Users/zechengli/Desktop/CHINA_SOE_MODEL/Modeling.py:350: RuntimeWarning: invalid value encountered in divide\n",
      "  lst2 = (np.array(lst1) / np.array(forecasted_gross_profit_lst_copy)).tolist()\n"
     ]
    }
   ],
   "source": [
    "table_2 = model_2.scenario(**params)"
   ],
   "metadata": {
    "collapsed": false
   }
  },
  {
   "cell_type": "code",
   "execution_count": 11,
   "outputs": [
    {
     "data": {
      "text/plain": "                                   Reduced by 50%\nPower Dispatched (TWh)                     61.635\nWeighted Average Tariff (RMB/MWh)             343\nEstimated Gross Revenue (RMB/MWh)       21140.805\nEstimated Sales Cost (Million RMB)      24226.659\nGross Profit (Million RMB)              -3085.854\nGross Profitability                       -12.74%",
      "text/html": "<div>\n<style scoped>\n    .dataframe tbody tr th:only-of-type {\n        vertical-align: middle;\n    }\n\n    .dataframe tbody tr th {\n        vertical-align: top;\n    }\n\n    .dataframe thead th {\n        text-align: right;\n    }\n</style>\n<table border=\"1\" class=\"dataframe\">\n  <thead>\n    <tr style=\"text-align: right;\">\n      <th></th>\n      <th>Reduced by 50%</th>\n    </tr>\n  </thead>\n  <tbody>\n    <tr>\n      <th>Power Dispatched (TWh)</th>\n      <td>61.635</td>\n    </tr>\n    <tr>\n      <th>Weighted Average Tariff (RMB/MWh)</th>\n      <td>343</td>\n    </tr>\n    <tr>\n      <th>Estimated Gross Revenue (RMB/MWh)</th>\n      <td>21140.805</td>\n    </tr>\n    <tr>\n      <th>Estimated Sales Cost (Million RMB)</th>\n      <td>24226.659</td>\n    </tr>\n    <tr>\n      <th>Gross Profit (Million RMB)</th>\n      <td>-3085.854</td>\n    </tr>\n    <tr>\n      <th>Gross Profitability</th>\n      <td>-12.74%</td>\n    </tr>\n  </tbody>\n</table>\n</div>"
     },
     "execution_count": 11,
     "metadata": {},
     "output_type": "execute_result"
    }
   ],
   "source": [
    "model_2.case"
   ],
   "metadata": {
    "collapsed": false
   }
  },
  {
   "cell_type": "code",
   "execution_count": 133,
   "outputs": [
    {
     "data": {
      "text/plain": "(False, 'Difference found in key: Weighted Average Tariff (RMB/MWh)')"
     },
     "execution_count": 133,
     "metadata": {},
     "output_type": "execute_result"
    }
   ],
   "source": [
    "compare_dicts(model.data, model_2.data,margin=100)"
   ],
   "metadata": {
    "collapsed": false
   }
  },
  {
   "cell_type": "code",
   "execution_count": 84,
   "outputs": [],
   "source": [
    "year = 2020\n",
    "electricity_sale_price = \\\n",
    "            model.power_sale.loc[year]['Total electricity sales (100 million kWh)'] / \\\n",
    "            model.power_sale.loc[year]['Total electricity sales (100 million kWh)'].sum() * \\\n",
    "            model.power_sale.loc[year]['Electricity sales price (RMB/MWh)']\n",
    "\n",
    "group = model.power_sale.groupby(['years', 'Power Plant Classification'])\n",
    "group_filtered = group.filter(lambda x: x.name[0] == year)\n",
    "\n",
    "coal_types_total = group.sum(numeric_only=True).loc[year]\n",
    "\n",
    "power_dispatch = coal_types_total['Total electricity sales (100 million kWh)'].values.tolist()\n",
    "total_sales = coal_types_total['Total electricity sales (100 million kWh)'].sum()\n",
    "power_dispatch.insert(0, total_sales)\n",
    "\n",
    "weighted_average_tariff = group_filtered.groupby('Power Plant Classification').apply(\n",
    "    lambda df: (\n",
    "        df['Total electricity sales (100 million kWh)']\n",
    "        / df['Total electricity sales (100 million kWh)'].sum()\n",
    "        * df['Electricity sales price (RMB/MWh)']\n",
    "    ).sum()\n",
    ").values.tolist()\n",
    "weighted_average_tariff.insert(0, electricity_sale_price.sum())"
   ],
   "metadata": {
    "collapsed": false
   }
  },
  {
   "cell_type": "code",
   "execution_count": 87,
   "outputs": [
    {
     "data": {
      "text/plain": "[333.44057971014485, 326.9755820556501, 563.0, 232.0, 0.0]"
     },
     "execution_count": 87,
     "metadata": {},
     "output_type": "execute_result"
    }
   ],
   "source": [
    "weighted_average_tariff"
   ],
   "metadata": {
    "collapsed": false
   }
  },
  {
   "cell_type": "code",
   "execution_count": 64,
   "outputs": [],
   "source": [
    "year = str(2020)\n",
    "electricity_sale_price = \\\n",
    "            model_2.power_sale['Total electricity sales (100 million kWh) ' + year] / \\\n",
    "            model_2.power_sale['Total electricity sales (100 million kWh) ' + year].sum() * \\\n",
    "            model_2.power_sale['Electricity Sales Price (RMB/MWh) ' + year]\n",
    "\n",
    "group2 = model_2.power_sale.groupby('Power Plant Classification')[\n",
    "            ['Total electricity sales (100 million kWh) ' + year, 'Electricity Sales Price (RMB/MWh) ' + year]]\n",
    "\n",
    "weighted_average_tariff2 = group2.apply(lambda df: (df['Total electricity sales (100 million kWh) ' + year]\n",
    "                                                          / df[\n",
    "                                                              'Total electricity sales (100 million kWh) ' + year].sum()\n",
    "                                                          * df[\n",
    "                                                              'Electricity Sales Price (RMB/MWh) ' + year]).sum()\n",
    "                                              ).values.tolist()\n",
    "weighted_average_tariff2.insert(0, electricity_sale_price.sum())"
   ],
   "metadata": {
    "collapsed": false
   }
  },
  {
   "cell_type": "code",
   "execution_count": 18,
   "outputs": [
    {
     "data": {
      "text/plain": "[333.4405797101449, 326.9755820556502, 563.0, 232.0, 0.0]"
     },
     "execution_count": 18,
     "metadata": {},
     "output_type": "execute_result"
    }
   ],
   "source": [
    "weighted_average_tariff2"
   ],
   "metadata": {
    "collapsed": false
   }
  },
  {
   "cell_type": "code",
   "execution_count": 21,
   "outputs": [
    {
     "data": {
      "text/plain": "                            Total power generation (100 million kWh)  \\\nPower Plant Classification                                             \ncoal burning                                                  1318.5   \ngas                                                             38.4   \nhydropower                                                       6.4   \nwind energy                                                      0.0   \n\n                            Total electricity sales (100 million kWh)  \\\nPower Plant Classification                                              \ncoal burning                                                   1232.7   \ngas                                                              37.5   \nhydropower                                                        6.3   \nwind energy                                                       0.0   \n\n                            Average utilization hours (hours)  \\\nPower Plant Classification                                      \ncoal burning                                          64571.0   \ngas                                                    4045.0   \nhydropower                                             5124.0   \nwind energy                                               0.0   \n\n                            Standard coal consumption for electricity sales (g/kWh)  \\\nPower Plant Classification                                                            \ncoal burning                                                           4431.0         \ngas                                                                     192.0         \nhydropower                                                                0.0         \nwind energy                                                               0.0         \n\n                            Electricity sales price (RMB/MWh)  \\\nPower Plant Classification                                      \ncoal burning                                           4710.0   \ngas                                                     563.0   \nhydropower                                              232.0   \nwind energy                                               0.0   \n\n                            Total installed capacity at the end of the year (MW)  \\\nPower Plant Classification                                                         \ncoal burning                                                          31204.0      \ngas                                                                     950.0      \nhydropower                                                              125.0      \nwind energy                                                               0.0      \n\n                            Equity installed capacity at the end of the year (MW)  \nPower Plant Classification                                                         \ncoal burning                                                          21658.0      \ngas                                                                     950.0      \nhydropower                                                               48.0      \nwind energy                                                               0.0      ",
      "text/html": "<div>\n<style scoped>\n    .dataframe tbody tr th:only-of-type {\n        vertical-align: middle;\n    }\n\n    .dataframe tbody tr th {\n        vertical-align: top;\n    }\n\n    .dataframe thead th {\n        text-align: right;\n    }\n</style>\n<table border=\"1\" class=\"dataframe\">\n  <thead>\n    <tr style=\"text-align: right;\">\n      <th></th>\n      <th>Total power generation (100 million kWh)</th>\n      <th>Total electricity sales (100 million kWh)</th>\n      <th>Average utilization hours (hours)</th>\n      <th>Standard coal consumption for electricity sales (g/kWh)</th>\n      <th>Electricity sales price (RMB/MWh)</th>\n      <th>Total installed capacity at the end of the year (MW)</th>\n      <th>Equity installed capacity at the end of the year (MW)</th>\n    </tr>\n    <tr>\n      <th>Power Plant Classification</th>\n      <th></th>\n      <th></th>\n      <th></th>\n      <th></th>\n      <th></th>\n      <th></th>\n      <th></th>\n    </tr>\n  </thead>\n  <tbody>\n    <tr>\n      <th>coal burning</th>\n      <td>1318.5</td>\n      <td>1232.7</td>\n      <td>64571.0</td>\n      <td>4431.0</td>\n      <td>4710.0</td>\n      <td>31204.0</td>\n      <td>21658.0</td>\n    </tr>\n    <tr>\n      <th>gas</th>\n      <td>38.4</td>\n      <td>37.5</td>\n      <td>4045.0</td>\n      <td>192.0</td>\n      <td>563.0</td>\n      <td>950.0</td>\n      <td>950.0</td>\n    </tr>\n    <tr>\n      <th>hydropower</th>\n      <td>6.4</td>\n      <td>6.3</td>\n      <td>5124.0</td>\n      <td>0.0</td>\n      <td>232.0</td>\n      <td>125.0</td>\n      <td>48.0</td>\n    </tr>\n    <tr>\n      <th>wind energy</th>\n      <td>0.0</td>\n      <td>0.0</td>\n      <td>0.0</td>\n      <td>0.0</td>\n      <td>0.0</td>\n      <td>0.0</td>\n      <td>0.0</td>\n    </tr>\n  </tbody>\n</table>\n</div>"
     },
     "execution_count": 21,
     "metadata": {},
     "output_type": "execute_result"
    }
   ],
   "source": [
    "group"
   ],
   "metadata": {
    "collapsed": false
   }
  },
  {
   "cell_type": "code",
   "execution_count": 22,
   "outputs": [
    {
     "data": {
      "text/plain": "<pandas.core.groupby.generic.DataFrameGroupBy object at 0x10f810be0>"
     },
     "execution_count": 22,
     "metadata": {},
     "output_type": "execute_result"
    }
   ],
   "source": [
    "group2"
   ],
   "metadata": {
    "collapsed": false
   }
  },
  {
   "cell_type": "code",
   "execution_count": null,
   "outputs": [],
   "source": [],
   "metadata": {
    "collapsed": false
   }
  },
  {
   "cell_type": "code",
   "execution_count": null,
   "outputs": [],
   "source": [],
   "metadata": {
    "collapsed": false
   }
  },
  {
   "cell_type": "code",
   "execution_count": null,
   "outputs": [],
   "source": [],
   "metadata": {
    "collapsed": false
   }
  },
  {
   "cell_type": "code",
   "execution_count": null,
   "outputs": [],
   "source": [],
   "metadata": {
    "collapsed": false
   }
  },
  {
   "cell_type": "code",
   "execution_count": null,
   "outputs": [],
   "source": [
    "model.power_sale.set_index('years')['Electricity sales price (RMB/MWh)'][2019]"
   ],
   "metadata": {
    "collapsed": false
   }
  },
  {
   "cell_type": "code",
   "execution_count": 189,
   "outputs": [],
   "source": [
    "with open(\"local_dictionary.json\", \"r\") as f:\n",
    "    translations_all = json.load(f)"
   ],
   "metadata": {
    "collapsed": false
   }
  },
  {
   "cell_type": "code",
   "execution_count": 205,
   "outputs": [],
   "source": [
    "dict_en = {v: k for k, v in translations_all.items()}"
   ],
   "metadata": {
    "collapsed": false
   }
  },
  {
   "cell_type": "code",
   "execution_count": 263,
   "outputs": [],
   "source": [
    "s = 'Cost (RMB million)'.lower()\n",
    "# dict_en"
   ],
   "metadata": {
    "collapsed": false
   }
  },
  {
   "cell_type": "code",
   "execution_count": null,
   "outputs": [],
   "source": [
    "translations_all['总发电量 (亿千瓦时)']"
   ],
   "metadata": {
    "collapsed": false
   }
  },
  {
   "cell_type": "code",
   "execution_count": null,
   "outputs": [],
   "source": [
    "# model.power_sale"
   ],
   "metadata": {
    "collapsed": false
   }
  },
  {
   "cell_type": "code",
   "execution_count": null,
   "outputs": [],
   "source": [
    "model.correct_digital_type()"
   ],
   "metadata": {
    "collapsed": false
   }
  },
  {
   "cell_type": "code",
   "execution_count": null,
   "outputs": [],
   "source": [
    "model.power_sale"
   ],
   "metadata": {
    "collapsed": false
   }
  },
  {
   "cell_type": "code",
   "execution_count": null,
   "outputs": [],
   "source": [
    "params = {\n",
    "    \"types\": \"power\",\n",
    "    \"pct\": 0.5,\n",
    "    \"year\": 2019,\n",
    "    \"coal_price\": 50.0,\n",
    "    \"coal_power\": True,\n",
    "    \"coal_purchase\": False,\n",
    "    \"coal_transportation\": False\n",
    "}\n",
    "table = model.scenario(**params)"
   ],
   "metadata": {
    "collapsed": false
   }
  },
  {
   "cell_type": "code",
   "execution_count": null,
   "outputs": [],
   "source": [
    "table"
   ],
   "metadata": {
    "collapsed": false
   }
  },
  {
   "cell_type": "code",
   "execution_count": null,
   "outputs": [],
   "source": [
    "model.case"
   ],
   "metadata": {
    "collapsed": false
   }
  },
  {
   "cell_type": "code",
   "execution_count": null,
   "outputs": [],
   "source": [],
   "metadata": {
    "collapsed": false
   }
  },
  {
   "cell_type": "code",
   "execution_count": null,
   "outputs": [],
   "source": [
    "#TODO: change the table structure"
   ],
   "metadata": {
    "collapsed": false
   }
  },
  {
   "cell_type": "code",
   "execution_count": null,
   "outputs": [],
   "source": [
    "model = soeModel()\n",
    "is_cost = False\n",
    "df = model.power_sale.copy()\n",
    "######\n",
    "# column names reformatting\n",
    "df.loc[0] = df.loc[0].str.extract(r'(\\d{4})', expand=False).fillna(method='ffill')\n",
    "df = df.fillna('')\n",
    "df.iloc[1] = df.iloc[1].str.replace('\\n', ' ').str.strip()\n",
    "columns = df.iloc[1] + ' ' + df.iloc[0]\n",
    "\n",
    "# if the data is a cost-related table\n",
    "if is_cost:\n",
    "    columns = columns.replace(' ', '成本类别')\n",
    "df.columns = columns\n",
    "\n",
    "# drop the unnecessary rows\n",
    "df = df.iloc[2:].reset_index(drop=True)\n",
    "df.columns = [col.strip() for col in df.columns]\n",
    "\n",
    "# Identify the columns containing a year in the first row\n",
    "year_columns = [col for col in df.columns if re.search(r'\\d{4}$', col)]\n",
    "new_column_names = {col: re.sub(r'\\s*\\d{4}\\s*$', '', col) for col in df.columns}\n",
    "# Preprocessing translate to the time-series panel data\n",
    "for col in year_columns:\n",
    "    match = re.search(r'\\d{4}', col)\n",
    "    year = match.group(0)\n",
    "    df[col] = df[col].apply(lambda x: str(x) + '!' + str(year))\n",
    "    # If Cost Category\n",
    "    if is_cost:\n",
    "        df[col] = df['成本类别'] + '!' + df[col]\n",
    "    # if power sale\n",
    "    else:\n",
    "        df[col] = df['电厂分类'] + '!' + df['电厂'] + '!' + df['所在电网'] + '!' + df['地理位置'] + '!' + df[col]\n",
    "\n",
    "# Drop and will be adding back afterward\n",
    "if is_cost:\n",
    "    df.drop(['成本类别'], axis=1, inplace=True)\n",
    "else:\n",
    "    df.drop(['电厂分类','电厂','所在电网','地理位置'], axis=1, inplace=True)\n",
    "\n",
    "# Rename the cok\n",
    "df.rename(columns=new_column_names, inplace=True)\n",
    "\n",
    "# Drop the unnecessary columns\n",
    "if not is_cost:\n",
    "    df.drop(['预测毛利润 (百万元)','计算I38中的加权平均售电电价','计算Q38中的加权平均售电电价'], axis=1, inplace=True)\n",
    "# Get unique column names\n",
    "unique_columns = df.columns.unique()\n",
    "\n",
    "# Create an empty DataFrame to store the concatenated columns\n",
    "concatenated_df = pd.DataFrame()\n",
    "\n",
    "# Loop through unique column names and concatenate the columns vertically\n",
    "for unique_col in unique_columns:\n",
    "    # Create an empty list to store values\n",
    "    values = []\n",
    "\n",
    "    # Extend the values list with non-NaN values from the column\n",
    "    values.extend(df[unique_col].values.tolist())\n",
    "\n",
    "    # Flatten the nested list\n",
    "    if len(values) != 1:\n",
    "        values = [item for sublist in values for item in sublist]\n",
    "\n",
    "    # Add the values list as a column in the concatenated DataFrame\n",
    "    concatenated_df[unique_col] = pd.Series(values)\n",
    "\n",
    "\n",
    "# Replace the original DataFrame with the concatenated one\n",
    "df = concatenated_df\n",
    "\n",
    "# Formal step of translating to the time-series panel data\n",
    "for unique_col in unique_columns:\n",
    "    if is_cost:\n",
    "        df[['成本类别', unique_col, '年份']] = df[unique_col].str.split('!', expand=True)\n",
    "    else:\n",
    "        df[['电厂分类','电厂','所在电网','地理位置', unique_col, '年份']] = df[unique_col].str.split('!', expand=True)\n",
    "\n",
    "# let cost category as the first column\n",
    "if is_cost:\n",
    "    columns_to_move = '成本类别'\n",
    "    cols = df.columns.tolist()\n",
    "    cols.insert(0, cols.pop(cols.index(columns_to_move)))\n",
    "    df = df[cols].sort_values(by=['年份']).reset_index(drop=True)\n",
    "# power sale\n",
    "else:\n",
    "    columns_to_move = ['电厂分类', '电厂', '所在电网', '地理位置']\n",
    "    # Reorder columns by moving the specified columns to the front\n",
    "    new_columns = columns_to_move + [col for col in df.columns if col not in columns_to_move]\n",
    "    # Update the DataFrame with the new column order\n",
    "    df = df[new_columns].sort_values(by=['年份']).reset_index(drop=True)\n",
    "\n",
    "# Empty Values processing\n",
    "df.replace(['-', '/', '  -   ', ' – ', ''], np.nan, inplace=True)\n",
    "df.replace({r'\\n': ''}, regex=True, inplace=True)"
   ],
   "metadata": {
    "collapsed": false
   }
  },
  {
   "cell_type": "code",
   "execution_count": null,
   "outputs": [],
   "source": [
    "df.columns"
   ],
   "metadata": {
    "collapsed": false
   }
  },
  {
   "cell_type": "code",
   "execution_count": null,
   "outputs": [],
   "source": [
    "s1 = df.set_index('年份')['总发电量 (亿千瓦时)']['2021']"
   ],
   "metadata": {
    "collapsed": false
   }
  },
  {
   "cell_type": "code",
   "execution_count": null,
   "outputs": [],
   "source": [
    "df"
   ],
   "metadata": {
    "collapsed": false
   }
  },
  {
   "cell_type": "code",
   "execution_count": null,
   "outputs": [],
   "source": [
    "s1"
   ],
   "metadata": {
    "collapsed": false
   }
  },
  {
   "cell_type": "code",
   "execution_count": null,
   "outputs": [],
   "source": [
    "s2 = model.power_sale[4][2:]"
   ],
   "metadata": {
    "collapsed": false
   }
  },
  {
   "cell_type": "code",
   "execution_count": null,
   "outputs": [],
   "source": [
    "s2"
   ],
   "metadata": {
    "collapsed": false
   }
  },
  {
   "cell_type": "code",
   "execution_count": null,
   "outputs": [],
   "source": [
    "# Sort the values in each series\n",
    "s1_sorted = s1.sort_values().reset_index(drop=True)\n",
    "s2_sorted = s2.sort_values().reset_index(drop=True)\n",
    "# Get a boolean mask for where the sorted series are not equal"
   ],
   "metadata": {
    "collapsed": false
   }
  },
  {
   "cell_type": "code",
   "execution_count": null,
   "outputs": [],
   "source": [
    "print(s1_sorted.equals(s2_sorted))  # Output: True"
   ],
   "metadata": {
    "collapsed": false
   }
  }
 ],
 "metadata": {
  "kernelspec": {
   "display_name": "Python 3",
   "language": "python",
   "name": "python3"
  },
  "language_info": {
   "codemirror_mode": {
    "name": "ipython",
    "version": 2
   },
   "file_extension": ".py",
   "mimetype": "text/x-python",
   "name": "python",
   "nbconvert_exporter": "python",
   "pygments_lexer": "ipython2",
   "version": "2.7.6"
  }
 },
 "nbformat": 4,
 "nbformat_minor": 0
}
