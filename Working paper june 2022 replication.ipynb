{
 "cells": [
  {
   "cell_type": "code",
   "execution_count": 58,
   "metadata": {
    "collapsed": true
   },
   "outputs": [
    {
     "name": "stdout",
     "output_type": "stream",
     "text": [
      "The autoreload extension is already loaded. To reload it, use:\n",
      "  %reload_ext autoreload\n"
     ]
    }
   ],
   "source": [
    "from Modeling import soeModel\n",
    "%load_ext autoreload\n",
    "from dictionary import Dictionary\n",
    "%autoreload 2"
   ]
  },
  {
   "cell_type": "code",
   "execution_count": 105,
   "outputs": [
    {
     "name": "stdout",
     "output_type": "stream",
     "text": [
      "CPU times: user 127 ms, sys: 3.45 ms, total: 130 ms\n",
      "Wall time: 131 ms\n"
     ]
    },
    {
     "data": {
      "text/plain": "<Modeling.soeModel at 0x129c13430>"
     },
     "execution_count": 105,
     "metadata": {},
     "output_type": "execute_result"
    }
   ],
   "source": [
    "%%time\n",
    "model = soeModel()\n",
    "model.preprocessing()\n",
    "model.translate_cells(local_dict_name='local_dictionary.json', update=False)\n",
    "# # correct types in dataframe\n",
    "model.correct_digital_type()"
   ],
   "metadata": {
    "collapsed": false
   }
  },
  {
   "cell_type": "code",
   "execution_count": 26,
   "outputs": [
    {
     "data": {
      "text/plain": "['power_sale', 'power_cost', 'elec_cost', 'coal_oper', 'coal_seg', 'coal_sale']"
     },
     "execution_count": 26,
     "metadata": {},
     "output_type": "execute_result"
    }
   ],
   "source": [
    "model.df_lst"
   ],
   "metadata": {
    "collapsed": false
   }
  },
  {
   "cell_type": "code",
   "execution_count": 85,
   "outputs": [
    {
     "data": {
      "text/plain": "'Photovoltaic'"
     },
     "execution_count": 85,
     "metadata": {},
     "output_type": "execute_result"
    }
   ],
   "source": [
    "dictionary = Dictionary('local_dictionary.json')\n",
    "dictionary.translate_en_ch('Total electricity sales (100 million kWh)')\n",
    "dictionary.translate_ch_en('光伏')"
   ],
   "metadata": {
    "collapsed": false
   }
  },
  {
   "cell_type": "markdown",
   "source": [
    "## Table 6: China Shenhua operational data\n",
    "\n",
    "<description>\n"
   ],
   "metadata": {
    "collapsed": false
   }
  },
  {
   "cell_type": "markdown",
   "source": [
    "## Table XX: XX\n",
    "\n",
    "<description>\n"
   ],
   "metadata": {
    "collapsed": false
   }
  },
  {
   "cell_type": "code",
   "execution_count": 152,
   "outputs": [
    {
     "name": "stdout",
     "output_type": "stream",
     "text": [
      "nan\n",
      "CPU times: user 8.75 ms, sys: 1.33 ms, total: 10.1 ms\n",
      "Wall time: 8.93 ms\n"
     ]
    },
    {
     "data": {
      "text/plain": "              Power Dispatched (TWh)  Weighted Average Tariff (RMB/MWh)  \\\nAll Power                     218.70                         329.453178   \nCoal Power                    214.76                         326.199758   \nGas Power                       3.27                         560.853211   \nHydro Power                     0.65                         232.000000   \nwind                            0.02                         598.000000   \nPhotovoltaic                    0.00                           0.000000   \n\n              Estimated Gross Revenue (RMB/MWh)  \\\nAll Power                              72051.41   \nCoal Power                             70054.66   \nGas Power                               1833.99   \nHydro Power                              150.80   \nwind                                      11.96   \nPhotovoltaic                               0.00   \n\n              Estimated Sales Cost (Million RMB)  Gross Profit (Million RMB)  \\\nAll Power                                    NaN                         NaN   \nCoal Power                                   NaN                         NaN   \nGas Power                                    NaN                         NaN   \nHydro Power                                  NaN                         NaN   \nwind                                         NaN                         NaN   \nPhotovoltaic                                 0.0                         0.0   \n\n             Gross Profitability  \nAll Power                  0.00%  \nCoal Power                 0.00%  \nGas Power                  0.00%  \nHydro Power                0.00%  \nwind                       0.00%  \nPhotovoltaic               0.00%  ",
      "text/html": "<div>\n<style scoped>\n    .dataframe tbody tr th:only-of-type {\n        vertical-align: middle;\n    }\n\n    .dataframe tbody tr th {\n        vertical-align: top;\n    }\n\n    .dataframe thead th {\n        text-align: right;\n    }\n</style>\n<table border=\"1\" class=\"dataframe\">\n  <thead>\n    <tr style=\"text-align: right;\">\n      <th></th>\n      <th>Power Dispatched (TWh)</th>\n      <th>Weighted Average Tariff (RMB/MWh)</th>\n      <th>Estimated Gross Revenue (RMB/MWh)</th>\n      <th>Estimated Sales Cost (Million RMB)</th>\n      <th>Gross Profit (Million RMB)</th>\n      <th>Gross Profitability</th>\n    </tr>\n  </thead>\n  <tbody>\n    <tr>\n      <th>All Power</th>\n      <td>218.70</td>\n      <td>329.453178</td>\n      <td>72051.41</td>\n      <td>NaN</td>\n      <td>NaN</td>\n      <td>0.00%</td>\n    </tr>\n    <tr>\n      <th>Coal Power</th>\n      <td>214.76</td>\n      <td>326.199758</td>\n      <td>70054.66</td>\n      <td>NaN</td>\n      <td>NaN</td>\n      <td>0.00%</td>\n    </tr>\n    <tr>\n      <th>Gas Power</th>\n      <td>3.27</td>\n      <td>560.853211</td>\n      <td>1833.99</td>\n      <td>NaN</td>\n      <td>NaN</td>\n      <td>0.00%</td>\n    </tr>\n    <tr>\n      <th>Hydro Power</th>\n      <td>0.65</td>\n      <td>232.000000</td>\n      <td>150.80</td>\n      <td>NaN</td>\n      <td>NaN</td>\n      <td>0.00%</td>\n    </tr>\n    <tr>\n      <th>wind</th>\n      <td>0.02</td>\n      <td>598.000000</td>\n      <td>11.96</td>\n      <td>NaN</td>\n      <td>NaN</td>\n      <td>0.00%</td>\n    </tr>\n    <tr>\n      <th>Photovoltaic</th>\n      <td>0.00</td>\n      <td>0.000000</td>\n      <td>0.00</td>\n      <td>0.0</td>\n      <td>0.0</td>\n      <td>0.00%</td>\n    </tr>\n  </tbody>\n</table>\n</div>"
     },
     "execution_count": 152,
     "metadata": {},
     "output_type": "execute_result"
    }
   ],
   "source": [
    "%%time\n",
    "params = {\n",
    "    \"types\": \"coal power\",\n",
    "    \"pct\": 0.5,\n",
    "    \"year\": 2015 ,\n",
    "    \"coal_price\": None, # default is none\n",
    "    \"coal_purchase\":False,\n",
    "    \"coal_transportation\":False,\n",
    "    \"reduce_self_produced\":False,\n",
    "    \"reduce_purchased\":False,\n",
    "    \"cut_purchased_coal\":False\n",
    "}\n",
    "\n",
    "table = model.scenario(**params)\n",
    "table"
   ],
   "metadata": {
    "collapsed": false
   }
  },
  {
   "cell_type": "code",
   "execution_count": 153,
   "outputs": [
    {
     "data": {
      "text/plain": "                        cost category  Cost (RMB million)  \\\nyears                                                       \n2015            Other operating costs               823.0   \n2015                 Maintenance fees                 NaN   \n2015                       Labor cost              3526.0   \n2015    Depreciation and amortization              8636.0   \n2015                      other costs              1822.0   \n2015                 Electricity cost             45660.0   \n2015   Raw materials, fuels and power             31676.0   \n2016    Depreciation and amortization              9223.0   \n2016            Other operating costs               483.0   \n2016                       Labor cost              3720.0   \n2016                 Electricity cost             49740.0   \n2016   Raw materials, fuels and power             34438.0   \n2016                 Maintenance fees                 NaN   \n2016                      other costs              2359.0   \n2017   Raw materials, fuels and power             48355.0   \n2017            Other operating costs               632.0   \n2017    Depreciation and amortization              9523.0   \n2017                      other costs              2012.0   \n2017                       Labor cost              4000.0   \n2017                 Maintenance fees                 NaN   \n2017                 Electricity cost             63890.0   \n2018                       Labor cost              4522.0   \n2018   Raw materials, fuels and power             53192.0   \n2018            Other operating costs               569.0   \n2018    Depreciation and amortization              8298.0   \n2018                      other costs              1910.0   \n2018                 Electricity cost             67922.0   \n2018                 Maintenance fees                 NaN   \n2019                      other costs              1238.0   \n2019    Depreciation and amortization              5481.0   \n2019            Other operating costs                52.0   \n2019                 Maintenance fees                 NaN   \n2019                 Electricity cost                 NaN   \n2019                       Labor cost              2371.0   \n2019   Raw materials, fuels and power             28739.0   \n2020                 Electricity cost             35246.0   \n2020    Depreciation and amortization              5056.0   \n2020   Raw materials, fuels and power             24827.0   \n2020                       Labor cost              2307.0   \n2020            Other operating costs              2852.0   \n2020                 Maintenance fees              2086.0   \n2020                      other costs               970.0   \n2021   Raw materials, fuels and power             41686.0   \n2021            Other operating costs              4833.0   \n2021                       Labor cost              3277.0   \n2021                 Electricity cost             54360.0   \n2021                 Maintenance fees              1808.0   \n2021    Depreciation and amortization              5254.0   \n2021                      other costs              2315.0   \n2022    Depreciation and amortization              6186.0   \n2022                       Labor cost              3823.0   \n2022   Raw materials, fuels and power             53708.0   \n2022                      other costs              2831.0   \n2022                 Maintenance fees              1927.0   \n2022            Other operating costs              3957.0   \n2022                 Electricity cost             68475.0   \n\n       Electricity sales (100 million kWh)  Unit cost (yuan/MWh)  \nyears                                                             \n2015                                2104.5                   NaN  \n2015                                   NaN                   NaN  \n2015                                2104.5                  16.8  \n2015                                2104.5                  41.0  \n2015                                2104.5                   8.7  \n2015                                2104.5                 217.0  \n2015                                2104.5                 150.5  \n2016                                2205.7                  41.8  \n2016                                2205.7                   NaN  \n2016                                2205.7                  16.9  \n2016                                2205.7                 225.5  \n2016                                2205.7                 156.1  \n2016                                   NaN                   NaN  \n2016                                2205.7                  10.7  \n2017                                2462.5                 196.4  \n2017                                2462.5                   NaN  \n2017                                2462.5                  38.7  \n2017                                2462.5                   8.2  \n2017                                2462.5                  16.2  \n2017                                   NaN                   NaN  \n2017                                2462.5                 259.5  \n2018                                2675.9                  16.9  \n2018                                2675.9                 198.8  \n2018                                2675.9                   NaN  \n2018                                2675.9                  31.0  \n2018                                2675.9                   7.1  \n2018                                2675.9                 253.8  \n2018                                   NaN                   NaN  \n2019                                1440.4                   8.5  \n2019                                1440.4                  38.1  \n2019                                1440.4                   NaN  \n2019                                   NaN                   NaN  \n2019                                   NaN                   NaN  \n2019                                1440.4                  16.5  \n2019                                1440.4                 199.5  \n2020                                1276.5                 276.1  \n2020                                1276.5                  39.6  \n2020                                1276.5                 194.5  \n2020                                1276.5                  18.1  \n2020                                1277.5                   NaN  \n2020                                1276.5                  16.3  \n2020                                1276.5                   7.6  \n2021                                1561.3                 267.0  \n2021                                1561.3                   NaN  \n2021                                1561.3                  21.0  \n2021                                1561.3                 348.1  \n2021                                1561.3                  11.6  \n2021                                1561.3                  33.7  \n2021                                1561.3                  14.8  \n2022                                 796.0                  38.5  \n2022                                 796.0                  26.1  \n2022                                 796.0                 291.4  \n2022                                 796.0                  13.4  \n2022                                 796.0                  11.1  \n2022                                 796.0                   NaN  \n2022                                 796.0                 380.5  ",
      "text/html": "<div>\n<style scoped>\n    .dataframe tbody tr th:only-of-type {\n        vertical-align: middle;\n    }\n\n    .dataframe tbody tr th {\n        vertical-align: top;\n    }\n\n    .dataframe thead th {\n        text-align: right;\n    }\n</style>\n<table border=\"1\" class=\"dataframe\">\n  <thead>\n    <tr style=\"text-align: right;\">\n      <th></th>\n      <th>cost category</th>\n      <th>Cost (RMB million)</th>\n      <th>Electricity sales (100 million kWh)</th>\n      <th>Unit cost (yuan/MWh)</th>\n    </tr>\n    <tr>\n      <th>years</th>\n      <th></th>\n      <th></th>\n      <th></th>\n      <th></th>\n    </tr>\n  </thead>\n  <tbody>\n    <tr>\n      <th>2015</th>\n      <td>Other operating costs</td>\n      <td>823.0</td>\n      <td>2104.5</td>\n      <td>NaN</td>\n    </tr>\n    <tr>\n      <th>2015</th>\n      <td>Maintenance fees</td>\n      <td>NaN</td>\n      <td>NaN</td>\n      <td>NaN</td>\n    </tr>\n    <tr>\n      <th>2015</th>\n      <td>Labor cost</td>\n      <td>3526.0</td>\n      <td>2104.5</td>\n      <td>16.8</td>\n    </tr>\n    <tr>\n      <th>2015</th>\n      <td>Depreciation and amortization</td>\n      <td>8636.0</td>\n      <td>2104.5</td>\n      <td>41.0</td>\n    </tr>\n    <tr>\n      <th>2015</th>\n      <td>other costs</td>\n      <td>1822.0</td>\n      <td>2104.5</td>\n      <td>8.7</td>\n    </tr>\n    <tr>\n      <th>2015</th>\n      <td>Electricity cost</td>\n      <td>45660.0</td>\n      <td>2104.5</td>\n      <td>217.0</td>\n    </tr>\n    <tr>\n      <th>2015</th>\n      <td>Raw materials, fuels and power</td>\n      <td>31676.0</td>\n      <td>2104.5</td>\n      <td>150.5</td>\n    </tr>\n    <tr>\n      <th>2016</th>\n      <td>Depreciation and amortization</td>\n      <td>9223.0</td>\n      <td>2205.7</td>\n      <td>41.8</td>\n    </tr>\n    <tr>\n      <th>2016</th>\n      <td>Other operating costs</td>\n      <td>483.0</td>\n      <td>2205.7</td>\n      <td>NaN</td>\n    </tr>\n    <tr>\n      <th>2016</th>\n      <td>Labor cost</td>\n      <td>3720.0</td>\n      <td>2205.7</td>\n      <td>16.9</td>\n    </tr>\n    <tr>\n      <th>2016</th>\n      <td>Electricity cost</td>\n      <td>49740.0</td>\n      <td>2205.7</td>\n      <td>225.5</td>\n    </tr>\n    <tr>\n      <th>2016</th>\n      <td>Raw materials, fuels and power</td>\n      <td>34438.0</td>\n      <td>2205.7</td>\n      <td>156.1</td>\n    </tr>\n    <tr>\n      <th>2016</th>\n      <td>Maintenance fees</td>\n      <td>NaN</td>\n      <td>NaN</td>\n      <td>NaN</td>\n    </tr>\n    <tr>\n      <th>2016</th>\n      <td>other costs</td>\n      <td>2359.0</td>\n      <td>2205.7</td>\n      <td>10.7</td>\n    </tr>\n    <tr>\n      <th>2017</th>\n      <td>Raw materials, fuels and power</td>\n      <td>48355.0</td>\n      <td>2462.5</td>\n      <td>196.4</td>\n    </tr>\n    <tr>\n      <th>2017</th>\n      <td>Other operating costs</td>\n      <td>632.0</td>\n      <td>2462.5</td>\n      <td>NaN</td>\n    </tr>\n    <tr>\n      <th>2017</th>\n      <td>Depreciation and amortization</td>\n      <td>9523.0</td>\n      <td>2462.5</td>\n      <td>38.7</td>\n    </tr>\n    <tr>\n      <th>2017</th>\n      <td>other costs</td>\n      <td>2012.0</td>\n      <td>2462.5</td>\n      <td>8.2</td>\n    </tr>\n    <tr>\n      <th>2017</th>\n      <td>Labor cost</td>\n      <td>4000.0</td>\n      <td>2462.5</td>\n      <td>16.2</td>\n    </tr>\n    <tr>\n      <th>2017</th>\n      <td>Maintenance fees</td>\n      <td>NaN</td>\n      <td>NaN</td>\n      <td>NaN</td>\n    </tr>\n    <tr>\n      <th>2017</th>\n      <td>Electricity cost</td>\n      <td>63890.0</td>\n      <td>2462.5</td>\n      <td>259.5</td>\n    </tr>\n    <tr>\n      <th>2018</th>\n      <td>Labor cost</td>\n      <td>4522.0</td>\n      <td>2675.9</td>\n      <td>16.9</td>\n    </tr>\n    <tr>\n      <th>2018</th>\n      <td>Raw materials, fuels and power</td>\n      <td>53192.0</td>\n      <td>2675.9</td>\n      <td>198.8</td>\n    </tr>\n    <tr>\n      <th>2018</th>\n      <td>Other operating costs</td>\n      <td>569.0</td>\n      <td>2675.9</td>\n      <td>NaN</td>\n    </tr>\n    <tr>\n      <th>2018</th>\n      <td>Depreciation and amortization</td>\n      <td>8298.0</td>\n      <td>2675.9</td>\n      <td>31.0</td>\n    </tr>\n    <tr>\n      <th>2018</th>\n      <td>other costs</td>\n      <td>1910.0</td>\n      <td>2675.9</td>\n      <td>7.1</td>\n    </tr>\n    <tr>\n      <th>2018</th>\n      <td>Electricity cost</td>\n      <td>67922.0</td>\n      <td>2675.9</td>\n      <td>253.8</td>\n    </tr>\n    <tr>\n      <th>2018</th>\n      <td>Maintenance fees</td>\n      <td>NaN</td>\n      <td>NaN</td>\n      <td>NaN</td>\n    </tr>\n    <tr>\n      <th>2019</th>\n      <td>other costs</td>\n      <td>1238.0</td>\n      <td>1440.4</td>\n      <td>8.5</td>\n    </tr>\n    <tr>\n      <th>2019</th>\n      <td>Depreciation and amortization</td>\n      <td>5481.0</td>\n      <td>1440.4</td>\n      <td>38.1</td>\n    </tr>\n    <tr>\n      <th>2019</th>\n      <td>Other operating costs</td>\n      <td>52.0</td>\n      <td>1440.4</td>\n      <td>NaN</td>\n    </tr>\n    <tr>\n      <th>2019</th>\n      <td>Maintenance fees</td>\n      <td>NaN</td>\n      <td>NaN</td>\n      <td>NaN</td>\n    </tr>\n    <tr>\n      <th>2019</th>\n      <td>Electricity cost</td>\n      <td>NaN</td>\n      <td>NaN</td>\n      <td>NaN</td>\n    </tr>\n    <tr>\n      <th>2019</th>\n      <td>Labor cost</td>\n      <td>2371.0</td>\n      <td>1440.4</td>\n      <td>16.5</td>\n    </tr>\n    <tr>\n      <th>2019</th>\n      <td>Raw materials, fuels and power</td>\n      <td>28739.0</td>\n      <td>1440.4</td>\n      <td>199.5</td>\n    </tr>\n    <tr>\n      <th>2020</th>\n      <td>Electricity cost</td>\n      <td>35246.0</td>\n      <td>1276.5</td>\n      <td>276.1</td>\n    </tr>\n    <tr>\n      <th>2020</th>\n      <td>Depreciation and amortization</td>\n      <td>5056.0</td>\n      <td>1276.5</td>\n      <td>39.6</td>\n    </tr>\n    <tr>\n      <th>2020</th>\n      <td>Raw materials, fuels and power</td>\n      <td>24827.0</td>\n      <td>1276.5</td>\n      <td>194.5</td>\n    </tr>\n    <tr>\n      <th>2020</th>\n      <td>Labor cost</td>\n      <td>2307.0</td>\n      <td>1276.5</td>\n      <td>18.1</td>\n    </tr>\n    <tr>\n      <th>2020</th>\n      <td>Other operating costs</td>\n      <td>2852.0</td>\n      <td>1277.5</td>\n      <td>NaN</td>\n    </tr>\n    <tr>\n      <th>2020</th>\n      <td>Maintenance fees</td>\n      <td>2086.0</td>\n      <td>1276.5</td>\n      <td>16.3</td>\n    </tr>\n    <tr>\n      <th>2020</th>\n      <td>other costs</td>\n      <td>970.0</td>\n      <td>1276.5</td>\n      <td>7.6</td>\n    </tr>\n    <tr>\n      <th>2021</th>\n      <td>Raw materials, fuels and power</td>\n      <td>41686.0</td>\n      <td>1561.3</td>\n      <td>267.0</td>\n    </tr>\n    <tr>\n      <th>2021</th>\n      <td>Other operating costs</td>\n      <td>4833.0</td>\n      <td>1561.3</td>\n      <td>NaN</td>\n    </tr>\n    <tr>\n      <th>2021</th>\n      <td>Labor cost</td>\n      <td>3277.0</td>\n      <td>1561.3</td>\n      <td>21.0</td>\n    </tr>\n    <tr>\n      <th>2021</th>\n      <td>Electricity cost</td>\n      <td>54360.0</td>\n      <td>1561.3</td>\n      <td>348.1</td>\n    </tr>\n    <tr>\n      <th>2021</th>\n      <td>Maintenance fees</td>\n      <td>1808.0</td>\n      <td>1561.3</td>\n      <td>11.6</td>\n    </tr>\n    <tr>\n      <th>2021</th>\n      <td>Depreciation and amortization</td>\n      <td>5254.0</td>\n      <td>1561.3</td>\n      <td>33.7</td>\n    </tr>\n    <tr>\n      <th>2021</th>\n      <td>other costs</td>\n      <td>2315.0</td>\n      <td>1561.3</td>\n      <td>14.8</td>\n    </tr>\n    <tr>\n      <th>2022</th>\n      <td>Depreciation and amortization</td>\n      <td>6186.0</td>\n      <td>796.0</td>\n      <td>38.5</td>\n    </tr>\n    <tr>\n      <th>2022</th>\n      <td>Labor cost</td>\n      <td>3823.0</td>\n      <td>796.0</td>\n      <td>26.1</td>\n    </tr>\n    <tr>\n      <th>2022</th>\n      <td>Raw materials, fuels and power</td>\n      <td>53708.0</td>\n      <td>796.0</td>\n      <td>291.4</td>\n    </tr>\n    <tr>\n      <th>2022</th>\n      <td>other costs</td>\n      <td>2831.0</td>\n      <td>796.0</td>\n      <td>13.4</td>\n    </tr>\n    <tr>\n      <th>2022</th>\n      <td>Maintenance fees</td>\n      <td>1927.0</td>\n      <td>796.0</td>\n      <td>11.1</td>\n    </tr>\n    <tr>\n      <th>2022</th>\n      <td>Other operating costs</td>\n      <td>3957.0</td>\n      <td>796.0</td>\n      <td>NaN</td>\n    </tr>\n    <tr>\n      <th>2022</th>\n      <td>Electricity cost</td>\n      <td>68475.0</td>\n      <td>796.0</td>\n      <td>380.5</td>\n    </tr>\n  </tbody>\n</table>\n</div>"
     },
     "execution_count": 153,
     "metadata": {},
     "output_type": "execute_result"
    }
   ],
   "source": [
    "model.power_cost"
   ],
   "metadata": {
    "collapsed": false
   }
  },
  {
   "cell_type": "code",
   "execution_count": 104,
   "outputs": [
    {
     "data": {
      "text/plain": "             Power Dispatched (TWh)  Weighted Average Tariff (RMB/MWh)  \\\nAll Power                    127.65                         333.440580   \nCoal Power                   123.27                         326.975582   \nGas Power                      3.75                         563.000000   \nHydro Power                    0.63                         232.000000   \nwind                           0.00                           0.000000   \n\n             Estimated Gross Revenue (RMB/MWh)  \\\nAll Power                             42563.69   \nCoal Power                            40306.28   \nGas Power                              2111.25   \nHydro Power                             146.16   \nwind                                      0.00   \n\n             Estimated Sales Cost (Million RMB)  Gross Profit (Million RMB)  \\\nAll Power                               33160.0                     9403.69   \nCoal Power                              31095.0                     9211.28   \nGas Power                                2065.0                      192.41   \nHydro Power                              2065.0                      192.41   \nwind                                        0.0                        0.00   \n\n            Gross Profitability  \nAll Power                22.09%  \nCoal Power               22.85%  \nGas Power                 8.52%  \nHydro Power               8.52%  \nwind                      0.00%  ",
      "text/html": "<div>\n<style scoped>\n    .dataframe tbody tr th:only-of-type {\n        vertical-align: middle;\n    }\n\n    .dataframe tbody tr th {\n        vertical-align: top;\n    }\n\n    .dataframe thead th {\n        text-align: right;\n    }\n</style>\n<table border=\"1\" class=\"dataframe\">\n  <thead>\n    <tr style=\"text-align: right;\">\n      <th></th>\n      <th>Power Dispatched (TWh)</th>\n      <th>Weighted Average Tariff (RMB/MWh)</th>\n      <th>Estimated Gross Revenue (RMB/MWh)</th>\n      <th>Estimated Sales Cost (Million RMB)</th>\n      <th>Gross Profit (Million RMB)</th>\n      <th>Gross Profitability</th>\n    </tr>\n  </thead>\n  <tbody>\n    <tr>\n      <th>All Power</th>\n      <td>127.65</td>\n      <td>333.440580</td>\n      <td>42563.69</td>\n      <td>33160.0</td>\n      <td>9403.69</td>\n      <td>22.09%</td>\n    </tr>\n    <tr>\n      <th>Coal Power</th>\n      <td>123.27</td>\n      <td>326.975582</td>\n      <td>40306.28</td>\n      <td>31095.0</td>\n      <td>9211.28</td>\n      <td>22.85%</td>\n    </tr>\n    <tr>\n      <th>Gas Power</th>\n      <td>3.75</td>\n      <td>563.000000</td>\n      <td>2111.25</td>\n      <td>2065.0</td>\n      <td>192.41</td>\n      <td>8.52%</td>\n    </tr>\n    <tr>\n      <th>Hydro Power</th>\n      <td>0.63</td>\n      <td>232.000000</td>\n      <td>146.16</td>\n      <td>2065.0</td>\n      <td>192.41</td>\n      <td>8.52%</td>\n    </tr>\n    <tr>\n      <th>wind</th>\n      <td>0.00</td>\n      <td>0.000000</td>\n      <td>0.00</td>\n      <td>0.0</td>\n      <td>0.00</td>\n      <td>0.00%</td>\n    </tr>\n  </tbody>\n</table>\n</div>"
     },
     "execution_count": 104,
     "metadata": {},
     "output_type": "execute_result"
    }
   ],
   "source": [
    "params = {\n",
    "    \"types\": \"coal power\",\n",
    "    \"pct\": 0.5,\n",
    "    \"year\": 2020,\n",
    "    \"coal_price\": None, # default is none\n",
    "    \"coal_purchase\":False,\n",
    "    \"coal_transportation\":False,\n",
    "    \"reduce_self_produced\":False,\n",
    "    \"reduce_purchased\":False,\n",
    "    \"cut_purchased_coal\":False\n",
    "}\n",
    "\n",
    "table = model.scenario(**params)\n",
    "table"
   ],
   "metadata": {
    "collapsed": false
   }
  },
  {
   "cell_type": "code",
   "execution_count": 95,
   "outputs": [
    {
     "data": {
      "text/plain": "      Power Plant Classification              power plant  \\\nyears                                                       \n2018                coal burning  Suizhong Electric Power   \n2018                coal burning   Taishan Electric Power   \n2018                coal burning    Huizhou Thermal Power   \n2018                coal burning   Zheneng Electric Power   \n2018                coal burning  Zhoushan Electric Power   \n...                          ...                      ...   \n2021                coal burning  Jiujiang Electric Power   \n2021                coal burning           Sichuan Energy   \n2021                coal burning             Guohua calls   \n2021                coal burning   Liuzhou Electric Power   \n2021                coal burning            Zhuneng Power   \n\n                      Power grid geographic location  \\\nyears                                                  \n2018       East China Power Grid            liaoning   \n2018   China Southern Power Grid           Guangdong   \n2018   China Southern Power Grid           Guangdong   \n2018       East China Power Grid            zhejiang   \n2018       East China Power Grid            zhejiang   \n...                          ...                 ...   \n2021    Central China Power Grid             Jiangxi   \n2021          Sichuan Power Grid             sichuan   \n2021      North China Power Grid      Inner Mongolia   \n2021          Guangxi Power Grid             Guangxi   \n2021      North China Power Grid      Inner Mongolia   \n\n       Total electricity sales (100 million kWh)  \\\nyears                                              \n2018                                       165.0   \n2018                                       226.0   \n2018                                        31.0   \n2018                                       212.0   \n2018                                        44.0   \n...                                          ...   \n2021                                       115.0   \n2021                                        56.1   \n2021                                         NaN   \n2021                                        38.7   \n2021                                        32.9   \n\n       Electricity sales price (RMB/MWh)  \\\nyears                                      \n2018                               309.0   \n2018                               354.0   \n2018                               358.0   \n2018                               353.0   \n2018                               361.0   \n...                                  ...   \n2021                               364.0   \n2021                               424.0   \n2021                                 NaN   \n2021                               366.0   \n2021                               299.0   \n\n       Total installed capacity at the end of the year (MW)  \\\nyears                                                         \n2018                                              3760.0      \n2018                                              5090.0      \n2018                                               660.0      \n2018                                              4520.0      \n2018                                               910.0      \n...                                                  ...      \n2021                                              2000.0      \n2021                                              3260.0      \n2021                                                 NaN      \n2021                                               700.0      \n2021                                               660.0      \n\n       Equity installed capacity at the end of the year (MW)  \nyears                                                         \n2018                                              1880.0      \n2018                                              4072.0      \n2018                                               660.0      \n2018                                              2712.0      \n2018                                               464.0      \n...                                                  ...      \n2021                                              2000.0      \n2021                                              2102.0      \n2021                                                 NaN      \n2021                                               490.0      \n2021                                               381.0      \n\n[136 rows x 8 columns]",
      "text/html": "<div>\n<style scoped>\n    .dataframe tbody tr th:only-of-type {\n        vertical-align: middle;\n    }\n\n    .dataframe tbody tr th {\n        vertical-align: top;\n    }\n\n    .dataframe thead th {\n        text-align: right;\n    }\n</style>\n<table border=\"1\" class=\"dataframe\">\n  <thead>\n    <tr style=\"text-align: right;\">\n      <th></th>\n      <th>Power Plant Classification</th>\n      <th>power plant</th>\n      <th>Power grid</th>\n      <th>geographic location</th>\n      <th>Total electricity sales (100 million kWh)</th>\n      <th>Electricity sales price (RMB/MWh)</th>\n      <th>Total installed capacity at the end of the year (MW)</th>\n      <th>Equity installed capacity at the end of the year (MW)</th>\n    </tr>\n    <tr>\n      <th>years</th>\n      <th></th>\n      <th></th>\n      <th></th>\n      <th></th>\n      <th></th>\n      <th></th>\n      <th></th>\n      <th></th>\n    </tr>\n  </thead>\n  <tbody>\n    <tr>\n      <th>2018</th>\n      <td>coal burning</td>\n      <td>Suizhong Electric Power</td>\n      <td>East China Power Grid</td>\n      <td>liaoning</td>\n      <td>165.0</td>\n      <td>309.0</td>\n      <td>3760.0</td>\n      <td>1880.0</td>\n    </tr>\n    <tr>\n      <th>2018</th>\n      <td>coal burning</td>\n      <td>Taishan Electric Power</td>\n      <td>China Southern Power Grid</td>\n      <td>Guangdong</td>\n      <td>226.0</td>\n      <td>354.0</td>\n      <td>5090.0</td>\n      <td>4072.0</td>\n    </tr>\n    <tr>\n      <th>2018</th>\n      <td>coal burning</td>\n      <td>Huizhou Thermal Power</td>\n      <td>China Southern Power Grid</td>\n      <td>Guangdong</td>\n      <td>31.0</td>\n      <td>358.0</td>\n      <td>660.0</td>\n      <td>660.0</td>\n    </tr>\n    <tr>\n      <th>2018</th>\n      <td>coal burning</td>\n      <td>Zheneng Electric Power</td>\n      <td>East China Power Grid</td>\n      <td>zhejiang</td>\n      <td>212.0</td>\n      <td>353.0</td>\n      <td>4520.0</td>\n      <td>2712.0</td>\n    </tr>\n    <tr>\n      <th>2018</th>\n      <td>coal burning</td>\n      <td>Zhoushan Electric Power</td>\n      <td>East China Power Grid</td>\n      <td>zhejiang</td>\n      <td>44.0</td>\n      <td>361.0</td>\n      <td>910.0</td>\n      <td>464.0</td>\n    </tr>\n    <tr>\n      <th>...</th>\n      <td>...</td>\n      <td>...</td>\n      <td>...</td>\n      <td>...</td>\n      <td>...</td>\n      <td>...</td>\n      <td>...</td>\n      <td>...</td>\n    </tr>\n    <tr>\n      <th>2021</th>\n      <td>coal burning</td>\n      <td>Jiujiang Electric Power</td>\n      <td>Central China Power Grid</td>\n      <td>Jiangxi</td>\n      <td>115.0</td>\n      <td>364.0</td>\n      <td>2000.0</td>\n      <td>2000.0</td>\n    </tr>\n    <tr>\n      <th>2021</th>\n      <td>coal burning</td>\n      <td>Sichuan Energy</td>\n      <td>Sichuan Power Grid</td>\n      <td>sichuan</td>\n      <td>56.1</td>\n      <td>424.0</td>\n      <td>3260.0</td>\n      <td>2102.0</td>\n    </tr>\n    <tr>\n      <th>2021</th>\n      <td>coal burning</td>\n      <td>Guohua calls</td>\n      <td>North China Power Grid</td>\n      <td>Inner Mongolia</td>\n      <td>NaN</td>\n      <td>NaN</td>\n      <td>NaN</td>\n      <td>NaN</td>\n    </tr>\n    <tr>\n      <th>2021</th>\n      <td>coal burning</td>\n      <td>Liuzhou Electric Power</td>\n      <td>Guangxi Power Grid</td>\n      <td>Guangxi</td>\n      <td>38.7</td>\n      <td>366.0</td>\n      <td>700.0</td>\n      <td>490.0</td>\n    </tr>\n    <tr>\n      <th>2021</th>\n      <td>coal burning</td>\n      <td>Zhuneng Power</td>\n      <td>North China Power Grid</td>\n      <td>Inner Mongolia</td>\n      <td>32.9</td>\n      <td>299.0</td>\n      <td>660.0</td>\n      <td>381.0</td>\n    </tr>\n  </tbody>\n</table>\n<p>136 rows × 8 columns</p>\n</div>"
     },
     "execution_count": 95,
     "metadata": {},
     "output_type": "execute_result"
    }
   ],
   "source": [
    "model.power_sale"
   ],
   "metadata": {
    "collapsed": false
   }
  },
  {
   "cell_type": "code",
   "execution_count": 6,
   "outputs": [
    {
     "data": {
      "text/plain": "                                   Reduced by 50%\nPower Dispatched (TWh)                      63.26\nWeighted Average Tariff (RMB/MWh)      330.611998\nEstimated Gross Revenue (RMB/MWh)       20914.515\nEstimated Sales Cost (Million RMB)      22145.468\nGross Profit (Million RMB)              -1230.953\nGross Profitability                        -5.89%",
      "text/html": "<div>\n<style scoped>\n    .dataframe tbody tr th:only-of-type {\n        vertical-align: middle;\n    }\n\n    .dataframe tbody tr th {\n        vertical-align: top;\n    }\n\n    .dataframe thead th {\n        text-align: right;\n    }\n</style>\n<table border=\"1\" class=\"dataframe\">\n  <thead>\n    <tr style=\"text-align: right;\">\n      <th></th>\n      <th>Reduced by 50%</th>\n    </tr>\n  </thead>\n  <tbody>\n    <tr>\n      <th>Power Dispatched (TWh)</th>\n      <td>63.26</td>\n    </tr>\n    <tr>\n      <th>Weighted Average Tariff (RMB/MWh)</th>\n      <td>330.611998</td>\n    </tr>\n    <tr>\n      <th>Estimated Gross Revenue (RMB/MWh)</th>\n      <td>20914.515</td>\n    </tr>\n    <tr>\n      <th>Estimated Sales Cost (Million RMB)</th>\n      <td>22145.468</td>\n    </tr>\n    <tr>\n      <th>Gross Profit (Million RMB)</th>\n      <td>-1230.953</td>\n    </tr>\n    <tr>\n      <th>Gross Profitability</th>\n      <td>-5.89%</td>\n    </tr>\n  </tbody>\n</table>\n</div>"
     },
     "execution_count": 6,
     "metadata": {},
     "output_type": "execute_result"
    }
   ],
   "source": [
    "model.case"
   ],
   "metadata": {
    "collapsed": false
   }
  },
  {
   "cell_type": "code",
   "execution_count": 20,
   "outputs": [
    {
     "data": {
      "text/plain": "                    Sales Volume  Average Coal Price  Gross Revenue  \\\ncoal sales                 446.4               410.0       183024.0   \nself-produced coal         296.0               410.0       121360.0   \npurchased coal             150.4               410.0        61664.0   \n\n                    Estimated Sales Cost  Gross Profit Gross Profitability  \ncoal sales                 137871.000000  45153.000000              24.67%  \nself-produced coal          71758.541219  49601.458781              40.87%  \npurchased coal              66112.458781  -4448.458781              -7.21%  ",
      "text/html": "<div>\n<style scoped>\n    .dataframe tbody tr th:only-of-type {\n        vertical-align: middle;\n    }\n\n    .dataframe tbody tr th {\n        vertical-align: top;\n    }\n\n    .dataframe thead th {\n        text-align: right;\n    }\n</style>\n<table border=\"1\" class=\"dataframe\">\n  <thead>\n    <tr style=\"text-align: right;\">\n      <th></th>\n      <th>Sales Volume</th>\n      <th>Average Coal Price</th>\n      <th>Gross Revenue</th>\n      <th>Estimated Sales Cost</th>\n      <th>Gross Profit</th>\n      <th>Gross Profitability</th>\n    </tr>\n  </thead>\n  <tbody>\n    <tr>\n      <th>coal sales</th>\n      <td>446.4</td>\n      <td>410.0</td>\n      <td>183024.0</td>\n      <td>137871.000000</td>\n      <td>45153.000000</td>\n      <td>24.67%</td>\n    </tr>\n    <tr>\n      <th>self-produced coal</th>\n      <td>296.0</td>\n      <td>410.0</td>\n      <td>121360.0</td>\n      <td>71758.541219</td>\n      <td>49601.458781</td>\n      <td>40.87%</td>\n    </tr>\n    <tr>\n      <th>purchased coal</th>\n      <td>150.4</td>\n      <td>410.0</td>\n      <td>61664.0</td>\n      <td>66112.458781</td>\n      <td>-4448.458781</td>\n      <td>-7.21%</td>\n    </tr>\n  </tbody>\n</table>\n</div>"
     },
     "execution_count": 20,
     "metadata": {},
     "output_type": "execute_result"
    }
   ],
   "source": [
    "params = {\n",
    "    \"types\": \"coal types\",\n",
    "    \"pct\": 0.5,\n",
    "    \"year\": 2020,\n",
    "    \"coal_price\": None, # default is none\n",
    "    \"coal_purchase\":False,\n",
    "    \"coal_transportation\":False,\n",
    "    \"reduce_self_produced\":False,\n",
    "    \"reduce_purchased\":False,\n",
    "    \"cut_purchased_coal\":False\n",
    "}\n",
    "\n",
    "table = model.scenario(**params)\n",
    "table"
   ],
   "metadata": {
    "collapsed": false
   }
  },
  {
   "cell_type": "code",
   "execution_count": null,
   "outputs": [],
   "source": [],
   "metadata": {
    "collapsed": false
   }
  },
  {
   "cell_type": "code",
   "execution_count": null,
   "outputs": [],
   "source": [],
   "metadata": {
    "collapsed": false
   }
  },
  {
   "cell_type": "code",
   "execution_count": null,
   "outputs": [],
   "source": [],
   "metadata": {
    "collapsed": false
   }
  },
  {
   "cell_type": "code",
   "execution_count": null,
   "outputs": [],
   "source": [],
   "metadata": {
    "collapsed": false
   }
  }
 ],
 "metadata": {
  "kernelspec": {
   "display_name": "Python 3",
   "language": "python",
   "name": "python3"
  },
  "language_info": {
   "codemirror_mode": {
    "name": "ipython",
    "version": 2
   },
   "file_extension": ".py",
   "mimetype": "text/x-python",
   "name": "python",
   "nbconvert_exporter": "python",
   "pygments_lexer": "ipython2",
   "version": "2.7.6"
  }
 },
 "nbformat": 4,
 "nbformat_minor": 0
}
