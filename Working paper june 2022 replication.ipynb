{
 "cells": [
  {
   "cell_type": "code",
   "execution_count": 1,
   "metadata": {
    "collapsed": true
   },
   "outputs": [],
   "source": [
    "from Modeling import soeModel\n",
    "%load_ext autoreload\n",
    "%autoreload 1\n",
    "%reload_ext autoreload\n",
    "from IPython.display import display, HTML"
   ]
  },
  {
   "cell_type": "code",
   "execution_count": 2,
   "outputs": [
    {
     "data": {
      "text/plain": "<Modeling.soeModel at 0x10d676f50>"
     },
     "execution_count": 2,
     "metadata": {},
     "output_type": "execute_result"
    }
   ],
   "source": [
    "model = soeModel()\n",
    "model.preprocessing_2()"
   ],
   "metadata": {
    "collapsed": false
   }
  },
  {
   "cell_type": "code",
   "execution_count": 3,
   "outputs": [
    {
     "name": "stdout",
     "output_type": "stream",
     "text": [
      "CPU times: user 62.1 ms, sys: 5.28 ms, total: 67.4 ms\n",
      "Wall time: 67.8 ms\n"
     ]
    },
    {
     "data": {
      "text/plain": "<Modeling.soeModel at 0x10d676f50>"
     },
     "execution_count": 3,
     "metadata": {},
     "output_type": "execute_result"
    }
   ],
   "source": [
    "%%time\n",
    "model.translate_cells('local_dictionary.json', False)"
   ],
   "metadata": {
    "collapsed": false
   }
  },
  {
   "cell_type": "code",
   "execution_count": 4,
   "outputs": [
    {
     "data": {
      "text/plain": "<Modeling.soeModel at 0x10d676f50>"
     },
     "execution_count": 4,
     "metadata": {},
     "output_type": "execute_result"
    }
   ],
   "source": [
    "# correct types in dataframe\n",
    "model.correct_digital_type()"
   ],
   "metadata": {
    "collapsed": false
   }
  },
  {
   "cell_type": "code",
   "execution_count": 5,
   "outputs": [
    {
     "name": "stderr",
     "output_type": "stream",
     "text": [
      "/Users/zechengli/Desktop/CHINA_SOE_MODEL/Modeling.py:512: RuntimeWarning: invalid value encountered in divide\n",
      "  lst2 = (np.array(lst1) / np.array(forecasted_gross_profit_lst_copy)).tolist()\n"
     ]
    },
    {
     "data": {
      "text/plain": "             Power Dispatched (TWh)  Weighted Average Tariff (RMB/MWh)  \\\nAll Power                    127.65                         333.440580   \nCoal Power                   123.27                         326.975582   \nGas Power                      3.75                         563.000000   \nHydro Power                    0.63                         232.000000   \n\n             Estimated Gross Revenue (RMB/MWh)  \\\nAll Power                             42563.69   \nCoal Power                            40306.28   \nGas Power                              2111.25   \nHydro Power                             146.16   \n\n             Estimated Sales Cost (Million RMB)  Gross Profit (Million RMB)  \\\nAll Power                               33160.0                     9403.69   \nCoal Power                              31095.0                     9211.28   \nGas Power                                2065.0                      192.41   \nHydro Power                              2065.0                      192.41   \n\n            Gross Profitability  \nAll Power                22.09%  \nCoal Power               22.85%  \nGas Power                 8.52%  \nHydro Power               8.52%  ",
      "text/html": "<div>\n<style scoped>\n    .dataframe tbody tr th:only-of-type {\n        vertical-align: middle;\n    }\n\n    .dataframe tbody tr th {\n        vertical-align: top;\n    }\n\n    .dataframe thead th {\n        text-align: right;\n    }\n</style>\n<table border=\"1\" class=\"dataframe\">\n  <thead>\n    <tr style=\"text-align: right;\">\n      <th></th>\n      <th>Power Dispatched (TWh)</th>\n      <th>Weighted Average Tariff (RMB/MWh)</th>\n      <th>Estimated Gross Revenue (RMB/MWh)</th>\n      <th>Estimated Sales Cost (Million RMB)</th>\n      <th>Gross Profit (Million RMB)</th>\n      <th>Gross Profitability</th>\n    </tr>\n  </thead>\n  <tbody>\n    <tr>\n      <th>All Power</th>\n      <td>127.65</td>\n      <td>333.440580</td>\n      <td>42563.69</td>\n      <td>33160.0</td>\n      <td>9403.69</td>\n      <td>22.09%</td>\n    </tr>\n    <tr>\n      <th>Coal Power</th>\n      <td>123.27</td>\n      <td>326.975582</td>\n      <td>40306.28</td>\n      <td>31095.0</td>\n      <td>9211.28</td>\n      <td>22.85%</td>\n    </tr>\n    <tr>\n      <th>Gas Power</th>\n      <td>3.75</td>\n      <td>563.000000</td>\n      <td>2111.25</td>\n      <td>2065.0</td>\n      <td>192.41</td>\n      <td>8.52%</td>\n    </tr>\n    <tr>\n      <th>Hydro Power</th>\n      <td>0.63</td>\n      <td>232.000000</td>\n      <td>146.16</td>\n      <td>2065.0</td>\n      <td>192.41</td>\n      <td>8.52%</td>\n    </tr>\n  </tbody>\n</table>\n</div>"
     },
     "execution_count": 5,
     "metadata": {},
     "output_type": "execute_result"
    }
   ],
   "source": [
    "params = {\n",
    "    \"types\": \"power\",\n",
    "    \"pct\": 0.5,\n",
    "    \"year\": 2020,\n",
    "    \"coal_price\": None, # default is none\n",
    "    \"coal_power\": True,\n",
    "    \"coal_purchase\": False,\n",
    "    \"coal_transportation\": False\n",
    "}\n",
    "\n",
    "table = model.scenario2(**params)\n",
    "table"
   ],
   "metadata": {
    "collapsed": false
   }
  },
  {
   "cell_type": "code",
   "execution_count": 7,
   "outputs": [
    {
     "data": {
      "text/plain": "                                   Reduced by 50%\nPower Dispatched (TWh)                     61.635\nWeighted Average Tariff (RMB/MWh)      326.975582\nEstimated Gross Revenue (RMB/MWh)        20153.14\nEstimated Sales Cost (Million RMB)      19542.399\nGross Profit (Million RMB)                610.741\nGross Profitability                         3.03%",
      "text/html": "<div>\n<style scoped>\n    .dataframe tbody tr th:only-of-type {\n        vertical-align: middle;\n    }\n\n    .dataframe tbody tr th {\n        vertical-align: top;\n    }\n\n    .dataframe thead th {\n        text-align: right;\n    }\n</style>\n<table border=\"1\" class=\"dataframe\">\n  <thead>\n    <tr style=\"text-align: right;\">\n      <th></th>\n      <th>Reduced by 50%</th>\n    </tr>\n  </thead>\n  <tbody>\n    <tr>\n      <th>Power Dispatched (TWh)</th>\n      <td>61.635</td>\n    </tr>\n    <tr>\n      <th>Weighted Average Tariff (RMB/MWh)</th>\n      <td>326.975582</td>\n    </tr>\n    <tr>\n      <th>Estimated Gross Revenue (RMB/MWh)</th>\n      <td>20153.14</td>\n    </tr>\n    <tr>\n      <th>Estimated Sales Cost (Million RMB)</th>\n      <td>19542.399</td>\n    </tr>\n    <tr>\n      <th>Gross Profit (Million RMB)</th>\n      <td>610.741</td>\n    </tr>\n    <tr>\n      <th>Gross Profitability</th>\n      <td>3.03%</td>\n    </tr>\n  </tbody>\n</table>\n</div>"
     },
     "execution_count": 7,
     "metadata": {},
     "output_type": "execute_result"
    }
   ],
   "source": [
    "model.case"
   ],
   "metadata": {
    "collapsed": false
   }
  },
  {
   "cell_type": "code",
   "execution_count": 9,
   "outputs": [
    {
     "name": "stderr",
     "output_type": "stream",
     "text": [
      "/Users/zechengli/Desktop/CHINA_SOE_MODEL/Modeling.py:515: RuntimeWarning: invalid value encountered in divide\n",
      "  lst2 = (np.array(lst1) / np.array(forecasted_gross_profit_lst_copy)).tolist()\n"
     ]
    },
    {
     "data": {
      "text/plain": "             Power Dispatched (TWh)  Weighted Average Tariff (RMB/MWh)  \\\nAll Power                    130.33                              343.0   \nCoal Power                   126.52                              343.0   \nGas Power                      3.81                              343.0   \nHydro Power                    0.00                              343.0   \n\n             Estimated Gross Revenue (RMB/MWh)  \\\nAll Power                             44012.16   \nCoal Power                            41829.03   \nGas Power                              2183.13   \nHydro Power                               0.00   \n\n             Estimated Sales Cost (Million RMB)  Gross Profit (Million RMB)  \\\nAll Power                                   NaN                         NaN   \nCoal Power                                  NaN                         NaN   \nGas Power                                   NaN                         NaN   \nHydro Power                                 NaN                         NaN   \n\n            Gross Profitability  \nAll Power                  nan%  \nCoal Power                 nan%  \nGas Power                  nan%  \nHydro Power                nan%  ",
      "text/html": "<div>\n<style scoped>\n    .dataframe tbody tr th:only-of-type {\n        vertical-align: middle;\n    }\n\n    .dataframe tbody tr th {\n        vertical-align: top;\n    }\n\n    .dataframe thead th {\n        text-align: right;\n    }\n</style>\n<table border=\"1\" class=\"dataframe\">\n  <thead>\n    <tr style=\"text-align: right;\">\n      <th></th>\n      <th>Power Dispatched (TWh)</th>\n      <th>Weighted Average Tariff (RMB/MWh)</th>\n      <th>Estimated Gross Revenue (RMB/MWh)</th>\n      <th>Estimated Sales Cost (Million RMB)</th>\n      <th>Gross Profit (Million RMB)</th>\n      <th>Gross Profitability</th>\n    </tr>\n  </thead>\n  <tbody>\n    <tr>\n      <th>All Power</th>\n      <td>130.33</td>\n      <td>343.0</td>\n      <td>44012.16</td>\n      <td>NaN</td>\n      <td>NaN</td>\n      <td>nan%</td>\n    </tr>\n    <tr>\n      <th>Coal Power</th>\n      <td>126.52</td>\n      <td>343.0</td>\n      <td>41829.03</td>\n      <td>NaN</td>\n      <td>NaN</td>\n      <td>nan%</td>\n    </tr>\n    <tr>\n      <th>Gas Power</th>\n      <td>3.81</td>\n      <td>343.0</td>\n      <td>2183.13</td>\n      <td>NaN</td>\n      <td>NaN</td>\n      <td>nan%</td>\n    </tr>\n    <tr>\n      <th>Hydro Power</th>\n      <td>0.00</td>\n      <td>343.0</td>\n      <td>0.00</td>\n      <td>NaN</td>\n      <td>NaN</td>\n      <td>nan%</td>\n    </tr>\n  </tbody>\n</table>\n</div>"
     },
     "execution_count": 9,
     "metadata": {},
     "output_type": "execute_result"
    }
   ],
   "source": [
    "params = {\n",
    "    \"types\": \"power\",\n",
    "    \"pct\": 0.5,\n",
    "    \"year\": 2019,\n",
    "    \"coal_price\": 343.0,\n",
    "    \"coal_power\": True,\n",
    "    \"coal_purchase\": False,\n",
    "    \"coal_transportation\": False\n",
    "}\n",
    "\n",
    "model.scenario2(**params)"
   ],
   "metadata": {
    "collapsed": false
   }
  },
  {
   "cell_type": "code",
   "execution_count": 10,
   "outputs": [
    {
     "data": {
      "text/plain": "                                   Reduced by 50%\nPower Dispatched (TWh)                      63.26\nWeighted Average Tariff (RMB/MWh)           343.0\nEstimated Gross Revenue (RMB/MWh)        21698.18\nEstimated Sales Cost (Million RMB)      20601.924\nGross Profit (Million RMB)               1096.256\nGross Profitability                         5.05%",
      "text/html": "<div>\n<style scoped>\n    .dataframe tbody tr th:only-of-type {\n        vertical-align: middle;\n    }\n\n    .dataframe tbody tr th {\n        vertical-align: top;\n    }\n\n    .dataframe thead th {\n        text-align: right;\n    }\n</style>\n<table border=\"1\" class=\"dataframe\">\n  <thead>\n    <tr style=\"text-align: right;\">\n      <th></th>\n      <th>Reduced by 50%</th>\n    </tr>\n  </thead>\n  <tbody>\n    <tr>\n      <th>Power Dispatched (TWh)</th>\n      <td>63.26</td>\n    </tr>\n    <tr>\n      <th>Weighted Average Tariff (RMB/MWh)</th>\n      <td>343.0</td>\n    </tr>\n    <tr>\n      <th>Estimated Gross Revenue (RMB/MWh)</th>\n      <td>21698.18</td>\n    </tr>\n    <tr>\n      <th>Estimated Sales Cost (Million RMB)</th>\n      <td>20601.924</td>\n    </tr>\n    <tr>\n      <th>Gross Profit (Million RMB)</th>\n      <td>1096.256</td>\n    </tr>\n    <tr>\n      <th>Gross Profitability</th>\n      <td>5.05%</td>\n    </tr>\n  </tbody>\n</table>\n</div>"
     },
     "execution_count": 10,
     "metadata": {},
     "output_type": "execute_result"
    }
   ],
   "source": [
    "model.case"
   ],
   "metadata": {
    "collapsed": false
   }
  },
  {
   "cell_type": "code",
   "execution_count": 16,
   "outputs": [
    {
     "data": {
      "text/plain": "['power_sale', 'power_cost', 'elec_cost', 'coal_oper', 'coal_seg', 'coal_sale']"
     },
     "execution_count": 16,
     "metadata": {},
     "output_type": "execute_result"
    }
   ],
   "source": [
    "model.df_lst"
   ],
   "metadata": {
    "collapsed": false
   }
  },
  {
   "cell_type": "code",
   "execution_count": 18,
   "outputs": [
    {
     "data": {
      "text/plain": "      Power Plant Classification              power plant  \\\nyears                                                       \n2018                coal burning  Suizhong Electric Power   \n2018                coal burning   Taishan Electric Power   \n2018                coal burning    Huizhou Thermal Power   \n2018                coal burning   Zheneng Electric Power   \n2018                coal burning  Zhoushan Electric Power   \n...                          ...                      ...   \n2021                coal burning  Jiujiang Electric Power   \n2021                coal burning           Sichuan Energy   \n2021                coal burning             Guohua calls   \n2021                coal burning   Liuzhou Electric Power   \n2021                coal burning            Zhuneng Power   \n\n                      Power grid geographic location  \\\nyears                                                  \n2018       East China Power Grid            liaoning   \n2018   China Southern Power Grid           Guangdong   \n2018   China Southern Power Grid           Guangdong   \n2018       East China Power Grid            zhejiang   \n2018       East China Power Grid            zhejiang   \n...                          ...                 ...   \n2021    Central China Power Grid             Jiangxi   \n2021          Sichuan Power Grid             sichuan   \n2021      North China Power Grid      Inner Mongolia   \n2021          Guangxi Power Grid             Guangxi   \n2021      North China Power Grid      Inner Mongolia   \n\n       Total power generation (100 million kWh)  \\\nyears                                             \n2018                                      176.0   \n2018                                      239.0   \n2018                                       34.0   \n2018                                      224.0   \n2018                                       48.0   \n...                                         ...   \n2021                                      120.5   \n2021                                       61.0   \n2021                                        NaN   \n2021                                       40.8   \n2021                                       36.3   \n\n       Total electricity sales (100 million kWh)  \\\nyears                                              \n2018                                       165.0   \n2018                                       226.0   \n2018                                        31.0   \n2018                                       212.0   \n2018                                        44.0   \n...                                          ...   \n2021                                       115.0   \n2021                                        56.1   \n2021                                         NaN   \n2021                                        38.7   \n2021                                        32.9   \n\n       Average utilization hours (hours)  \\\nyears                                      \n2018                              4672.0   \n2018                              4694.0   \n2018                              5187.0   \n2018                              4944.0   \n2018                              5236.0   \n...                                  ...   \n2021                              6023.0   \n2021                              3468.0   \n2021                                 NaN   \n2021                              5826.0   \n2021                              5504.0   \n\n       Standard coal consumption for electricity sales (g/kWh)  \\\nyears                                                            \n2018                                               310.0         \n2018                                               309.0         \n2018                                               324.0         \n2018                                               299.0         \n2018                                               331.0         \n...                                                  ...         \n2021                                               276.0         \n2021                                               325.0         \n2021                                                 NaN         \n2021                                               314.0         \n2021                                               347.0         \n\n       Electricity sales price (RMB/MWh)  \\\nyears                                      \n2018                               309.0   \n2018                               354.0   \n2018                               358.0   \n2018                               353.0   \n2018                               361.0   \n...                                  ...   \n2021                               364.0   \n2021                               424.0   \n2021                                 NaN   \n2021                               366.0   \n2021                               299.0   \n\n       Total installed capacity at the end of the year (MW)  \\\nyears                                                         \n2018                                              3760.0      \n2018                                              5090.0      \n2018                                               660.0      \n2018                                              4520.0      \n2018                                               910.0      \n...                                                  ...      \n2021                                              2000.0      \n2021                                              3260.0      \n2021                                                 NaN      \n2021                                               700.0      \n2021                                               660.0      \n\n       Equity installed capacity at the end of the year (MW)  \nyears                                                         \n2018                                              1880.0      \n2018                                              4072.0      \n2018                                               660.0      \n2018                                              2712.0      \n2018                                               464.0      \n...                                                  ...      \n2021                                              2000.0      \n2021                                              2102.0      \n2021                                                 NaN      \n2021                                               490.0      \n2021                                               381.0      \n\n[136 rows x 11 columns]",
      "text/html": "<div>\n<style scoped>\n    .dataframe tbody tr th:only-of-type {\n        vertical-align: middle;\n    }\n\n    .dataframe tbody tr th {\n        vertical-align: top;\n    }\n\n    .dataframe thead th {\n        text-align: right;\n    }\n</style>\n<table border=\"1\" class=\"dataframe\">\n  <thead>\n    <tr style=\"text-align: right;\">\n      <th></th>\n      <th>Power Plant Classification</th>\n      <th>power plant</th>\n      <th>Power grid</th>\n      <th>geographic location</th>\n      <th>Total power generation (100 million kWh)</th>\n      <th>Total electricity sales (100 million kWh)</th>\n      <th>Average utilization hours (hours)</th>\n      <th>Standard coal consumption for electricity sales (g/kWh)</th>\n      <th>Electricity sales price (RMB/MWh)</th>\n      <th>Total installed capacity at the end of the year (MW)</th>\n      <th>Equity installed capacity at the end of the year (MW)</th>\n    </tr>\n    <tr>\n      <th>years</th>\n      <th></th>\n      <th></th>\n      <th></th>\n      <th></th>\n      <th></th>\n      <th></th>\n      <th></th>\n      <th></th>\n      <th></th>\n      <th></th>\n      <th></th>\n    </tr>\n  </thead>\n  <tbody>\n    <tr>\n      <th>2018</th>\n      <td>coal burning</td>\n      <td>Suizhong Electric Power</td>\n      <td>East China Power Grid</td>\n      <td>liaoning</td>\n      <td>176.0</td>\n      <td>165.0</td>\n      <td>4672.0</td>\n      <td>310.0</td>\n      <td>309.0</td>\n      <td>3760.0</td>\n      <td>1880.0</td>\n    </tr>\n    <tr>\n      <th>2018</th>\n      <td>coal burning</td>\n      <td>Taishan Electric Power</td>\n      <td>China Southern Power Grid</td>\n      <td>Guangdong</td>\n      <td>239.0</td>\n      <td>226.0</td>\n      <td>4694.0</td>\n      <td>309.0</td>\n      <td>354.0</td>\n      <td>5090.0</td>\n      <td>4072.0</td>\n    </tr>\n    <tr>\n      <th>2018</th>\n      <td>coal burning</td>\n      <td>Huizhou Thermal Power</td>\n      <td>China Southern Power Grid</td>\n      <td>Guangdong</td>\n      <td>34.0</td>\n      <td>31.0</td>\n      <td>5187.0</td>\n      <td>324.0</td>\n      <td>358.0</td>\n      <td>660.0</td>\n      <td>660.0</td>\n    </tr>\n    <tr>\n      <th>2018</th>\n      <td>coal burning</td>\n      <td>Zheneng Electric Power</td>\n      <td>East China Power Grid</td>\n      <td>zhejiang</td>\n      <td>224.0</td>\n      <td>212.0</td>\n      <td>4944.0</td>\n      <td>299.0</td>\n      <td>353.0</td>\n      <td>4520.0</td>\n      <td>2712.0</td>\n    </tr>\n    <tr>\n      <th>2018</th>\n      <td>coal burning</td>\n      <td>Zhoushan Electric Power</td>\n      <td>East China Power Grid</td>\n      <td>zhejiang</td>\n      <td>48.0</td>\n      <td>44.0</td>\n      <td>5236.0</td>\n      <td>331.0</td>\n      <td>361.0</td>\n      <td>910.0</td>\n      <td>464.0</td>\n    </tr>\n    <tr>\n      <th>...</th>\n      <td>...</td>\n      <td>...</td>\n      <td>...</td>\n      <td>...</td>\n      <td>...</td>\n      <td>...</td>\n      <td>...</td>\n      <td>...</td>\n      <td>...</td>\n      <td>...</td>\n      <td>...</td>\n    </tr>\n    <tr>\n      <th>2021</th>\n      <td>coal burning</td>\n      <td>Jiujiang Electric Power</td>\n      <td>Central China Power Grid</td>\n      <td>Jiangxi</td>\n      <td>120.5</td>\n      <td>115.0</td>\n      <td>6023.0</td>\n      <td>276.0</td>\n      <td>364.0</td>\n      <td>2000.0</td>\n      <td>2000.0</td>\n    </tr>\n    <tr>\n      <th>2021</th>\n      <td>coal burning</td>\n      <td>Sichuan Energy</td>\n      <td>Sichuan Power Grid</td>\n      <td>sichuan</td>\n      <td>61.0</td>\n      <td>56.1</td>\n      <td>3468.0</td>\n      <td>325.0</td>\n      <td>424.0</td>\n      <td>3260.0</td>\n      <td>2102.0</td>\n    </tr>\n    <tr>\n      <th>2021</th>\n      <td>coal burning</td>\n      <td>Guohua calls</td>\n      <td>North China Power Grid</td>\n      <td>Inner Mongolia</td>\n      <td>NaN</td>\n      <td>NaN</td>\n      <td>NaN</td>\n      <td>NaN</td>\n      <td>NaN</td>\n      <td>NaN</td>\n      <td>NaN</td>\n    </tr>\n    <tr>\n      <th>2021</th>\n      <td>coal burning</td>\n      <td>Liuzhou Electric Power</td>\n      <td>Guangxi Power Grid</td>\n      <td>Guangxi</td>\n      <td>40.8</td>\n      <td>38.7</td>\n      <td>5826.0</td>\n      <td>314.0</td>\n      <td>366.0</td>\n      <td>700.0</td>\n      <td>490.0</td>\n    </tr>\n    <tr>\n      <th>2021</th>\n      <td>coal burning</td>\n      <td>Zhuneng Power</td>\n      <td>North China Power Grid</td>\n      <td>Inner Mongolia</td>\n      <td>36.3</td>\n      <td>32.9</td>\n      <td>5504.0</td>\n      <td>347.0</td>\n      <td>299.0</td>\n      <td>660.0</td>\n      <td>381.0</td>\n    </tr>\n  </tbody>\n</table>\n<p>136 rows × 11 columns</p>\n</div>"
     },
     "metadata": {},
     "output_type": "display_data"
    },
    {
     "data": {
      "text/plain": "                        cost category  Cost (RMB million)  \\\nyears                                                       \n2019            Other operating costs                52.0   \n2019                      other costs              1238.0   \n2019                 Electricity cost                 NaN   \n2019    Depreciation and amortization              5481.0   \n2019   Raw materials, fuels and power             28739.0   \n2019                 Maintenance fees                 NaN   \n2019                       Labor cost              2371.0   \n2020                      other costs               970.0   \n2020    Depreciation and amortization              5056.0   \n2020            Other operating costs              2852.0   \n2020                 Maintenance fees              2086.0   \n2020                       Labor cost              2307.0   \n2020   Raw materials, fuels and power             24827.0   \n2020                 Electricity cost             35246.0   \n2021    Depreciation and amortization              5254.0   \n2021                       Labor cost              3277.0   \n2021                      other costs              2315.0   \n2021   Raw materials, fuels and power             41686.0   \n2021            Other operating costs              4833.0   \n2021                 Maintenance fees              1808.0   \n2021                 Electricity cost             54360.0   \n\n       Electricity sales (100 million kWh)  Unit cost (yuan/MWh)  \nyears                                                             \n2019                                1440.4                   NaN  \n2019                                1440.4                   8.5  \n2019                                   NaN                   NaN  \n2019                                1440.4                  38.1  \n2019                                1440.4                 199.5  \n2019                                   NaN                   NaN  \n2019                                1440.4                  16.5  \n2020                                1276.5                   7.6  \n2020                                1276.5                  39.6  \n2020                                1277.5                   NaN  \n2020                                1276.5                  16.3  \n2020                                1276.5                  18.1  \n2020                                1276.5                 194.5  \n2020                                1276.5                 276.1  \n2021                                1561.3                  33.7  \n2021                                1561.3                  21.0  \n2021                                1561.3                  14.8  \n2021                                1561.3                 267.0  \n2021                                1561.3                   NaN  \n2021                                1561.3                  11.6  \n2021                                1561.3                 348.1  ",
      "text/html": "<div>\n<style scoped>\n    .dataframe tbody tr th:only-of-type {\n        vertical-align: middle;\n    }\n\n    .dataframe tbody tr th {\n        vertical-align: top;\n    }\n\n    .dataframe thead th {\n        text-align: right;\n    }\n</style>\n<table border=\"1\" class=\"dataframe\">\n  <thead>\n    <tr style=\"text-align: right;\">\n      <th></th>\n      <th>cost category</th>\n      <th>Cost (RMB million)</th>\n      <th>Electricity sales (100 million kWh)</th>\n      <th>Unit cost (yuan/MWh)</th>\n    </tr>\n    <tr>\n      <th>years</th>\n      <th></th>\n      <th></th>\n      <th></th>\n      <th></th>\n    </tr>\n  </thead>\n  <tbody>\n    <tr>\n      <th>2019</th>\n      <td>Other operating costs</td>\n      <td>52.0</td>\n      <td>1440.4</td>\n      <td>NaN</td>\n    </tr>\n    <tr>\n      <th>2019</th>\n      <td>other costs</td>\n      <td>1238.0</td>\n      <td>1440.4</td>\n      <td>8.5</td>\n    </tr>\n    <tr>\n      <th>2019</th>\n      <td>Electricity cost</td>\n      <td>NaN</td>\n      <td>NaN</td>\n      <td>NaN</td>\n    </tr>\n    <tr>\n      <th>2019</th>\n      <td>Depreciation and amortization</td>\n      <td>5481.0</td>\n      <td>1440.4</td>\n      <td>38.1</td>\n    </tr>\n    <tr>\n      <th>2019</th>\n      <td>Raw materials, fuels and power</td>\n      <td>28739.0</td>\n      <td>1440.4</td>\n      <td>199.5</td>\n    </tr>\n    <tr>\n      <th>2019</th>\n      <td>Maintenance fees</td>\n      <td>NaN</td>\n      <td>NaN</td>\n      <td>NaN</td>\n    </tr>\n    <tr>\n      <th>2019</th>\n      <td>Labor cost</td>\n      <td>2371.0</td>\n      <td>1440.4</td>\n      <td>16.5</td>\n    </tr>\n    <tr>\n      <th>2020</th>\n      <td>other costs</td>\n      <td>970.0</td>\n      <td>1276.5</td>\n      <td>7.6</td>\n    </tr>\n    <tr>\n      <th>2020</th>\n      <td>Depreciation and amortization</td>\n      <td>5056.0</td>\n      <td>1276.5</td>\n      <td>39.6</td>\n    </tr>\n    <tr>\n      <th>2020</th>\n      <td>Other operating costs</td>\n      <td>2852.0</td>\n      <td>1277.5</td>\n      <td>NaN</td>\n    </tr>\n    <tr>\n      <th>2020</th>\n      <td>Maintenance fees</td>\n      <td>2086.0</td>\n      <td>1276.5</td>\n      <td>16.3</td>\n    </tr>\n    <tr>\n      <th>2020</th>\n      <td>Labor cost</td>\n      <td>2307.0</td>\n      <td>1276.5</td>\n      <td>18.1</td>\n    </tr>\n    <tr>\n      <th>2020</th>\n      <td>Raw materials, fuels and power</td>\n      <td>24827.0</td>\n      <td>1276.5</td>\n      <td>194.5</td>\n    </tr>\n    <tr>\n      <th>2020</th>\n      <td>Electricity cost</td>\n      <td>35246.0</td>\n      <td>1276.5</td>\n      <td>276.1</td>\n    </tr>\n    <tr>\n      <th>2021</th>\n      <td>Depreciation and amortization</td>\n      <td>5254.0</td>\n      <td>1561.3</td>\n      <td>33.7</td>\n    </tr>\n    <tr>\n      <th>2021</th>\n      <td>Labor cost</td>\n      <td>3277.0</td>\n      <td>1561.3</td>\n      <td>21.0</td>\n    </tr>\n    <tr>\n      <th>2021</th>\n      <td>other costs</td>\n      <td>2315.0</td>\n      <td>1561.3</td>\n      <td>14.8</td>\n    </tr>\n    <tr>\n      <th>2021</th>\n      <td>Raw materials, fuels and power</td>\n      <td>41686.0</td>\n      <td>1561.3</td>\n      <td>267.0</td>\n    </tr>\n    <tr>\n      <th>2021</th>\n      <td>Other operating costs</td>\n      <td>4833.0</td>\n      <td>1561.3</td>\n      <td>NaN</td>\n    </tr>\n    <tr>\n      <th>2021</th>\n      <td>Maintenance fees</td>\n      <td>1808.0</td>\n      <td>1561.3</td>\n      <td>11.6</td>\n    </tr>\n    <tr>\n      <th>2021</th>\n      <td>Electricity cost</td>\n      <td>54360.0</td>\n      <td>1561.3</td>\n      <td>348.1</td>\n    </tr>\n  </tbody>\n</table>\n</div>"
     },
     "metadata": {},
     "output_type": "display_data"
    },
    {
     "data": {
      "text/plain": "                        cost category  Cost (RMB million)  \\\nyears                                                       \n2017                      other costs              1925.0   \n2017                 Maintenance fees                 NaN   \n2017                       Labor cost              3939.0   \n2017   Raw materials, fuels and power             46008.0   \n2017    Depreciation and amortization              9235.0   \n2018                      other costs              1801.0   \n2018                       Labor cost              4453.0   \n2018                 Maintenance fees                 NaN   \n2018   Raw materials, fuels and power             50511.0   \n2018    Depreciation and amortization              8005.0   \n2019                 Maintenance fees                 NaN   \n2019                       Labor cost              2328.0   \n2019   Raw materials, fuels and power             26802.0   \n2019                      other costs              1125.0   \n2019    Depreciation and amortization              5294.0   \n2020    Depreciation and amortization              4886.0   \n2020                      other costs               841.0   \n2020                 Maintenance fees              1989.0   \n2020                       Labor cost              2265.0   \n2020   Raw materials, fuels and power             23103.0   \n2021    Depreciation and amortization              5078.0   \n2021                       Labor cost              3195.0   \n2021                      other costs              2161.0   \n2021   Raw materials, fuels and power             39944.0   \n2021                 Maintenance fees              1688.0   \n2022    Depreciation and amortization              2969.0   \n2022                 Maintenance fees               860.0   \n2022                       Labor cost              2025.0   \n2022                      other costs              1001.0   \n2022   Raw materials, fuels and power             22311.0   \n\n       Coal-fired electricity sales (100 million kWh)  Unit cost (yuan/MWh)  \nyears                                                                        \n2017                                           2462.5                   7.8  \n2017                                              NaN                   NaN  \n2017                                           2462.5                  16.0  \n2017                                           2462.5                 186.8  \n2017                                           2462.5                  37.5  \n2018                                           2675.9                   6.7  \n2018                                           2675.9                  16.6  \n2018                                              NaN                   NaN  \n2018                                           2675.9                 188.8  \n2018                                           2675.9                  29.9  \n2019                                              NaN                   NaN  \n2019                                           1265.4                  18.4  \n2019                                           1265.4                 211.8  \n2019                                           1265.4                   8.9  \n2019                                           1265.4                  41.8  \n2020                                           1232.7                  39.6  \n2020                                           1232.7                   6.8  \n2020                                           1232.7                  16.1  \n2020                                           1232.7                  18.4  \n2020                                           1232.7                 187.4  \n2021                                           1516.4                  33.5  \n2021                                           1516.4                  21.1  \n2021                                           1516.4                  14.3  \n2021                                           1516.4                 263.4  \n2021                                           1516.4                  11.1  \n2022                                            796.0                  37.3  \n2022                                            796.0                  10.8  \n2022                                            796.0                  25.4  \n2022                                            796.0                  12.6  \n2022                                            796.0                 280.3  ",
      "text/html": "<div>\n<style scoped>\n    .dataframe tbody tr th:only-of-type {\n        vertical-align: middle;\n    }\n\n    .dataframe tbody tr th {\n        vertical-align: top;\n    }\n\n    .dataframe thead th {\n        text-align: right;\n    }\n</style>\n<table border=\"1\" class=\"dataframe\">\n  <thead>\n    <tr style=\"text-align: right;\">\n      <th></th>\n      <th>cost category</th>\n      <th>Cost (RMB million)</th>\n      <th>Coal-fired electricity sales (100 million kWh)</th>\n      <th>Unit cost (yuan/MWh)</th>\n    </tr>\n    <tr>\n      <th>years</th>\n      <th></th>\n      <th></th>\n      <th></th>\n      <th></th>\n    </tr>\n  </thead>\n  <tbody>\n    <tr>\n      <th>2017</th>\n      <td>other costs</td>\n      <td>1925.0</td>\n      <td>2462.5</td>\n      <td>7.8</td>\n    </tr>\n    <tr>\n      <th>2017</th>\n      <td>Maintenance fees</td>\n      <td>NaN</td>\n      <td>NaN</td>\n      <td>NaN</td>\n    </tr>\n    <tr>\n      <th>2017</th>\n      <td>Labor cost</td>\n      <td>3939.0</td>\n      <td>2462.5</td>\n      <td>16.0</td>\n    </tr>\n    <tr>\n      <th>2017</th>\n      <td>Raw materials, fuels and power</td>\n      <td>46008.0</td>\n      <td>2462.5</td>\n      <td>186.8</td>\n    </tr>\n    <tr>\n      <th>2017</th>\n      <td>Depreciation and amortization</td>\n      <td>9235.0</td>\n      <td>2462.5</td>\n      <td>37.5</td>\n    </tr>\n    <tr>\n      <th>2018</th>\n      <td>other costs</td>\n      <td>1801.0</td>\n      <td>2675.9</td>\n      <td>6.7</td>\n    </tr>\n    <tr>\n      <th>2018</th>\n      <td>Labor cost</td>\n      <td>4453.0</td>\n      <td>2675.9</td>\n      <td>16.6</td>\n    </tr>\n    <tr>\n      <th>2018</th>\n      <td>Maintenance fees</td>\n      <td>NaN</td>\n      <td>NaN</td>\n      <td>NaN</td>\n    </tr>\n    <tr>\n      <th>2018</th>\n      <td>Raw materials, fuels and power</td>\n      <td>50511.0</td>\n      <td>2675.9</td>\n      <td>188.8</td>\n    </tr>\n    <tr>\n      <th>2018</th>\n      <td>Depreciation and amortization</td>\n      <td>8005.0</td>\n      <td>2675.9</td>\n      <td>29.9</td>\n    </tr>\n    <tr>\n      <th>2019</th>\n      <td>Maintenance fees</td>\n      <td>NaN</td>\n      <td>NaN</td>\n      <td>NaN</td>\n    </tr>\n    <tr>\n      <th>2019</th>\n      <td>Labor cost</td>\n      <td>2328.0</td>\n      <td>1265.4</td>\n      <td>18.4</td>\n    </tr>\n    <tr>\n      <th>2019</th>\n      <td>Raw materials, fuels and power</td>\n      <td>26802.0</td>\n      <td>1265.4</td>\n      <td>211.8</td>\n    </tr>\n    <tr>\n      <th>2019</th>\n      <td>other costs</td>\n      <td>1125.0</td>\n      <td>1265.4</td>\n      <td>8.9</td>\n    </tr>\n    <tr>\n      <th>2019</th>\n      <td>Depreciation and amortization</td>\n      <td>5294.0</td>\n      <td>1265.4</td>\n      <td>41.8</td>\n    </tr>\n    <tr>\n      <th>2020</th>\n      <td>Depreciation and amortization</td>\n      <td>4886.0</td>\n      <td>1232.7</td>\n      <td>39.6</td>\n    </tr>\n    <tr>\n      <th>2020</th>\n      <td>other costs</td>\n      <td>841.0</td>\n      <td>1232.7</td>\n      <td>6.8</td>\n    </tr>\n    <tr>\n      <th>2020</th>\n      <td>Maintenance fees</td>\n      <td>1989.0</td>\n      <td>1232.7</td>\n      <td>16.1</td>\n    </tr>\n    <tr>\n      <th>2020</th>\n      <td>Labor cost</td>\n      <td>2265.0</td>\n      <td>1232.7</td>\n      <td>18.4</td>\n    </tr>\n    <tr>\n      <th>2020</th>\n      <td>Raw materials, fuels and power</td>\n      <td>23103.0</td>\n      <td>1232.7</td>\n      <td>187.4</td>\n    </tr>\n    <tr>\n      <th>2021</th>\n      <td>Depreciation and amortization</td>\n      <td>5078.0</td>\n      <td>1516.4</td>\n      <td>33.5</td>\n    </tr>\n    <tr>\n      <th>2021</th>\n      <td>Labor cost</td>\n      <td>3195.0</td>\n      <td>1516.4</td>\n      <td>21.1</td>\n    </tr>\n    <tr>\n      <th>2021</th>\n      <td>other costs</td>\n      <td>2161.0</td>\n      <td>1516.4</td>\n      <td>14.3</td>\n    </tr>\n    <tr>\n      <th>2021</th>\n      <td>Raw materials, fuels and power</td>\n      <td>39944.0</td>\n      <td>1516.4</td>\n      <td>263.4</td>\n    </tr>\n    <tr>\n      <th>2021</th>\n      <td>Maintenance fees</td>\n      <td>1688.0</td>\n      <td>1516.4</td>\n      <td>11.1</td>\n    </tr>\n    <tr>\n      <th>2022</th>\n      <td>Depreciation and amortization</td>\n      <td>2969.0</td>\n      <td>796.0</td>\n      <td>37.3</td>\n    </tr>\n    <tr>\n      <th>2022</th>\n      <td>Maintenance fees</td>\n      <td>860.0</td>\n      <td>796.0</td>\n      <td>10.8</td>\n    </tr>\n    <tr>\n      <th>2022</th>\n      <td>Labor cost</td>\n      <td>2025.0</td>\n      <td>796.0</td>\n      <td>25.4</td>\n    </tr>\n    <tr>\n      <th>2022</th>\n      <td>other costs</td>\n      <td>1001.0</td>\n      <td>796.0</td>\n      <td>12.6</td>\n    </tr>\n    <tr>\n      <th>2022</th>\n      <td>Raw materials, fuels and power</td>\n      <td>22311.0</td>\n      <td>796.0</td>\n      <td>280.3</td>\n    </tr>\n  </tbody>\n</table>\n</div>"
     },
     "metadata": {},
     "output_type": "display_data"
    },
    {
     "data": {
      "text/plain": "0  years  commercial coal production  coal sales  self-produced coal  \\\n0   2020                       291.6       446.4               296.0   \n1   2019                       282.7       447.1               284.8   \n\n0  purchased coal  \n0           150.4  \n1           162.3  ",
      "text/html": "<div>\n<style scoped>\n    .dataframe tbody tr th:only-of-type {\n        vertical-align: middle;\n    }\n\n    .dataframe tbody tr th {\n        vertical-align: top;\n    }\n\n    .dataframe thead th {\n        text-align: right;\n    }\n</style>\n<table border=\"1\" class=\"dataframe\">\n  <thead>\n    <tr style=\"text-align: right;\">\n      <th></th>\n      <th>years</th>\n      <th>commercial coal production</th>\n      <th>coal sales</th>\n      <th>self-produced coal</th>\n      <th>purchased coal</th>\n    </tr>\n  </thead>\n  <tbody>\n    <tr>\n      <th>0</th>\n      <td>2020</td>\n      <td>291.6</td>\n      <td>446.4</td>\n      <td>296.0</td>\n      <td>150.4</td>\n    </tr>\n    <tr>\n      <th>1</th>\n      <td>2019</td>\n      <td>282.7</td>\n      <td>447.1</td>\n      <td>284.8</td>\n      <td>162.3</td>\n    </tr>\n  </tbody>\n</table>\n</div>"
     },
     "metadata": {},
     "output_type": "display_data"
    },
    {
     "data": {
      "text/plain": "                                0         1         2\n0                             NaN    2020.0    2019.0\n1                             NaN       NaN       NaN\n2             Purchased coal cost   48742.0   53831.0\n3  Raw materials, fuels and power    7897.0    7458.0\n4                      Labor cost    8119.0    7686.0\n5   Depreciation and amortization    5318.0    5410.0\n6             transportation cost   51557.0   52497.0\n7                     other costs   16238.0   16996.0\n8           Total Operating Costs  137871.0  143878.0",
      "text/html": "<div>\n<style scoped>\n    .dataframe tbody tr th:only-of-type {\n        vertical-align: middle;\n    }\n\n    .dataframe tbody tr th {\n        vertical-align: top;\n    }\n\n    .dataframe thead th {\n        text-align: right;\n    }\n</style>\n<table border=\"1\" class=\"dataframe\">\n  <thead>\n    <tr style=\"text-align: right;\">\n      <th></th>\n      <th>0</th>\n      <th>1</th>\n      <th>2</th>\n    </tr>\n  </thead>\n  <tbody>\n    <tr>\n      <th>0</th>\n      <td>NaN</td>\n      <td>2020.0</td>\n      <td>2019.0</td>\n    </tr>\n    <tr>\n      <th>1</th>\n      <td>NaN</td>\n      <td>NaN</td>\n      <td>NaN</td>\n    </tr>\n    <tr>\n      <th>2</th>\n      <td>Purchased coal cost</td>\n      <td>48742.0</td>\n      <td>53831.0</td>\n    </tr>\n    <tr>\n      <th>3</th>\n      <td>Raw materials, fuels and power</td>\n      <td>7897.0</td>\n      <td>7458.0</td>\n    </tr>\n    <tr>\n      <th>4</th>\n      <td>Labor cost</td>\n      <td>8119.0</td>\n      <td>7686.0</td>\n    </tr>\n    <tr>\n      <th>5</th>\n      <td>Depreciation and amortization</td>\n      <td>5318.0</td>\n      <td>5410.0</td>\n    </tr>\n    <tr>\n      <th>6</th>\n      <td>transportation cost</td>\n      <td>51557.0</td>\n      <td>52497.0</td>\n    </tr>\n    <tr>\n      <th>7</th>\n      <td>other costs</td>\n      <td>16238.0</td>\n      <td>16996.0</td>\n    </tr>\n    <tr>\n      <th>8</th>\n      <td>Total Operating Costs</td>\n      <td>137871.0</td>\n      <td>143878.0</td>\n    </tr>\n  </tbody>\n</table>\n</div>"
     },
     "metadata": {},
     "output_type": "display_data"
    },
    {
     "data": {
      "text/plain": "     0       1                                 2      3       4  \\\n0  NaN  2020.0                               NaN    NaN  2019.0   \n1  NaN     NaN  Proportion of total sales volume    NaN     NaN   \n2  NaN   446.4                             100.0  410.0   447.1   \n3  NaN     NaN                               NaN    NaN     NaN   \n4  NaN   430.1                              96.3  419.0   431.0   \n5  NaN   190.0                              42.6  380.0   193.3   \n6  NaN   163.5                              36.6  465.0   176.9   \n7  NaN    76.6                              17.2  418.0    60.8   \n8  NaN    16.3                               3.7  176.0    16.1   \n9  NaN     NaN                               NaN    NaN     NaN   \n10 NaN   394.0                              88.3  416.0   389.9   \n11 NaN    47.7                              10.7  374.0    53.0   \n12 NaN     4.7                               1.1  322.0     4.2   \n13 NaN     NaN                               NaN    NaN     NaN   \n14 NaN   444.3                              99.5  410.0   442.3   \n15 NaN   429.5                              96.2  411.0   430.6   \n16 NaN   162.1                              36.3  317.0   162.6   \n17 NaN   267.4                              59.9  468.0   268.0   \n18 NaN     9.7                               2.2  353.0     8.2   \n19 NaN     5.1                               1.1  418.0     3.5   \n20 NaN     0.7                               0.2  556.0     1.7   \n21 NaN     1.4                               0.3  435.0     3.1   \n\n                                   5      6  \n0                                NaN    NaN  \n1   Proportion of total sales volume    NaN  \n2                              100.0  426.0  \n3                                NaN    NaN  \n4                               96.4  434.0  \n5                               43.2  392.0  \n6                               39.6  478.0  \n7                               13.6  440.0  \n8                                3.6  204.0  \n9                                NaN    NaN  \n10                              87.2  432.0  \n11                              11.9  387.0  \n12                               0.9  363.0  \n13                               NaN    NaN  \n14                              98.9  425.0  \n15                              96.3  427.0  \n16                              36.4  329.0  \n17                              59.9  486.0  \n18                               1.8  343.0  \n19                               0.8  441.0  \n20                               0.4  626.0  \n21                               0.7  446.0  ",
      "text/html": "<div>\n<style scoped>\n    .dataframe tbody tr th:only-of-type {\n        vertical-align: middle;\n    }\n\n    .dataframe tbody tr th {\n        vertical-align: top;\n    }\n\n    .dataframe thead th {\n        text-align: right;\n    }\n</style>\n<table border=\"1\" class=\"dataframe\">\n  <thead>\n    <tr style=\"text-align: right;\">\n      <th></th>\n      <th>0</th>\n      <th>1</th>\n      <th>2</th>\n      <th>3</th>\n      <th>4</th>\n      <th>5</th>\n      <th>6</th>\n    </tr>\n  </thead>\n  <tbody>\n    <tr>\n      <th>0</th>\n      <td>NaN</td>\n      <td>2020.0</td>\n      <td>NaN</td>\n      <td>NaN</td>\n      <td>2019.0</td>\n      <td>NaN</td>\n      <td>NaN</td>\n    </tr>\n    <tr>\n      <th>1</th>\n      <td>NaN</td>\n      <td>NaN</td>\n      <td>Proportion of total sales volume</td>\n      <td>NaN</td>\n      <td>NaN</td>\n      <td>Proportion of total sales volume</td>\n      <td>NaN</td>\n    </tr>\n    <tr>\n      <th>2</th>\n      <td>NaN</td>\n      <td>446.4</td>\n      <td>100.0</td>\n      <td>410.0</td>\n      <td>447.1</td>\n      <td>100.0</td>\n      <td>426.0</td>\n    </tr>\n    <tr>\n      <th>3</th>\n      <td>NaN</td>\n      <td>NaN</td>\n      <td>NaN</td>\n      <td>NaN</td>\n      <td>NaN</td>\n      <td>NaN</td>\n      <td>NaN</td>\n    </tr>\n    <tr>\n      <th>4</th>\n      <td>NaN</td>\n      <td>430.1</td>\n      <td>96.3</td>\n      <td>419.0</td>\n      <td>431.0</td>\n      <td>96.4</td>\n      <td>434.0</td>\n    </tr>\n    <tr>\n      <th>5</th>\n      <td>NaN</td>\n      <td>190.0</td>\n      <td>42.6</td>\n      <td>380.0</td>\n      <td>193.3</td>\n      <td>43.2</td>\n      <td>392.0</td>\n    </tr>\n    <tr>\n      <th>6</th>\n      <td>NaN</td>\n      <td>163.5</td>\n      <td>36.6</td>\n      <td>465.0</td>\n      <td>176.9</td>\n      <td>39.6</td>\n      <td>478.0</td>\n    </tr>\n    <tr>\n      <th>7</th>\n      <td>NaN</td>\n      <td>76.6</td>\n      <td>17.2</td>\n      <td>418.0</td>\n      <td>60.8</td>\n      <td>13.6</td>\n      <td>440.0</td>\n    </tr>\n    <tr>\n      <th>8</th>\n      <td>NaN</td>\n      <td>16.3</td>\n      <td>3.7</td>\n      <td>176.0</td>\n      <td>16.1</td>\n      <td>3.6</td>\n      <td>204.0</td>\n    </tr>\n    <tr>\n      <th>9</th>\n      <td>NaN</td>\n      <td>NaN</td>\n      <td>NaN</td>\n      <td>NaN</td>\n      <td>NaN</td>\n      <td>NaN</td>\n      <td>NaN</td>\n    </tr>\n    <tr>\n      <th>10</th>\n      <td>NaN</td>\n      <td>394.0</td>\n      <td>88.3</td>\n      <td>416.0</td>\n      <td>389.9</td>\n      <td>87.2</td>\n      <td>432.0</td>\n    </tr>\n    <tr>\n      <th>11</th>\n      <td>NaN</td>\n      <td>47.7</td>\n      <td>10.7</td>\n      <td>374.0</td>\n      <td>53.0</td>\n      <td>11.9</td>\n      <td>387.0</td>\n    </tr>\n    <tr>\n      <th>12</th>\n      <td>NaN</td>\n      <td>4.7</td>\n      <td>1.1</td>\n      <td>322.0</td>\n      <td>4.2</td>\n      <td>0.9</td>\n      <td>363.0</td>\n    </tr>\n    <tr>\n      <th>13</th>\n      <td>NaN</td>\n      <td>NaN</td>\n      <td>NaN</td>\n      <td>NaN</td>\n      <td>NaN</td>\n      <td>NaN</td>\n      <td>NaN</td>\n    </tr>\n    <tr>\n      <th>14</th>\n      <td>NaN</td>\n      <td>444.3</td>\n      <td>99.5</td>\n      <td>410.0</td>\n      <td>442.3</td>\n      <td>98.9</td>\n      <td>425.0</td>\n    </tr>\n    <tr>\n      <th>15</th>\n      <td>NaN</td>\n      <td>429.5</td>\n      <td>96.2</td>\n      <td>411.0</td>\n      <td>430.6</td>\n      <td>96.3</td>\n      <td>427.0</td>\n    </tr>\n    <tr>\n      <th>16</th>\n      <td>NaN</td>\n      <td>162.1</td>\n      <td>36.3</td>\n      <td>317.0</td>\n      <td>162.6</td>\n      <td>36.4</td>\n      <td>329.0</td>\n    </tr>\n    <tr>\n      <th>17</th>\n      <td>NaN</td>\n      <td>267.4</td>\n      <td>59.9</td>\n      <td>468.0</td>\n      <td>268.0</td>\n      <td>59.9</td>\n      <td>486.0</td>\n    </tr>\n    <tr>\n      <th>18</th>\n      <td>NaN</td>\n      <td>9.7</td>\n      <td>2.2</td>\n      <td>353.0</td>\n      <td>8.2</td>\n      <td>1.8</td>\n      <td>343.0</td>\n    </tr>\n    <tr>\n      <th>19</th>\n      <td>NaN</td>\n      <td>5.1</td>\n      <td>1.1</td>\n      <td>418.0</td>\n      <td>3.5</td>\n      <td>0.8</td>\n      <td>441.0</td>\n    </tr>\n    <tr>\n      <th>20</th>\n      <td>NaN</td>\n      <td>0.7</td>\n      <td>0.2</td>\n      <td>556.0</td>\n      <td>1.7</td>\n      <td>0.4</td>\n      <td>626.0</td>\n    </tr>\n    <tr>\n      <th>21</th>\n      <td>NaN</td>\n      <td>1.4</td>\n      <td>0.3</td>\n      <td>435.0</td>\n      <td>3.1</td>\n      <td>0.7</td>\n      <td>446.0</td>\n    </tr>\n  </tbody>\n</table>\n</div>"
     },
     "metadata": {},
     "output_type": "display_data"
    }
   ],
   "source": [
    "for i in model.df_lst:\n",
    "    display(eval('model.' + i))"
   ],
   "metadata": {
    "collapsed": false
   }
  },
  {
   "cell_type": "code",
   "execution_count": null,
   "outputs": [],
   "source": [],
   "metadata": {
    "collapsed": false
   }
  },
  {
   "cell_type": "code",
   "execution_count": null,
   "outputs": [],
   "source": [],
   "metadata": {
    "collapsed": false
   }
  }
 ],
 "metadata": {
  "kernelspec": {
   "display_name": "Python 3",
   "language": "python",
   "name": "python3"
  },
  "language_info": {
   "codemirror_mode": {
    "name": "ipython",
    "version": 2
   },
   "file_extension": ".py",
   "mimetype": "text/x-python",
   "name": "python",
   "nbconvert_exporter": "python",
   "pygments_lexer": "ipython2",
   "version": "2.7.6"
  }
 },
 "nbformat": 4,
 "nbformat_minor": 0
}
