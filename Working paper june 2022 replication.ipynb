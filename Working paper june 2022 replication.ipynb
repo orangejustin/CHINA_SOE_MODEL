{
 "cells": [
  {
   "cell_type": "code",
   "execution_count": 1,
   "metadata": {
    "collapsed": true
   },
   "outputs": [],
   "source": [
    "from Modeling import soeModel\n",
    "%load_ext autoreload\n",
    "%autoreload 1\n",
    "%reload_ext autoreload\n",
    "from IPython.display import display, HTML"
   ]
  },
  {
   "cell_type": "code",
   "execution_count": 2,
   "outputs": [
    {
     "data": {
      "text/plain": "<Modeling.soeModel at 0x10d905b40>"
     },
     "execution_count": 2,
     "metadata": {},
     "output_type": "execute_result"
    }
   ],
   "source": [
    "model = soeModel()\n",
    "model.preprocessing()"
   ],
   "metadata": {
    "collapsed": false
   }
  },
  {
   "cell_type": "code",
   "execution_count": 3,
   "outputs": [
    {
     "name": "stdout",
     "output_type": "stream",
     "text": [
      "CPU times: user 23.3 ms, sys: 1 ms, total: 24.4 ms\n",
      "Wall time: 23.8 ms\n"
     ]
    },
    {
     "data": {
      "text/plain": "<Modeling.soeModel at 0x10d905b40>"
     },
     "execution_count": 3,
     "metadata": {},
     "output_type": "execute_result"
    }
   ],
   "source": [
    "%%time\n",
    "model.translate_cells(local_dict_name=\"local_dictionary.json\", local=True)"
   ],
   "metadata": {
    "collapsed": false
   }
  },
  {
   "cell_type": "code",
   "execution_count": 4,
   "outputs": [
    {
     "data": {
      "text/plain": "<Modeling.soeModel at 0x10d905b40>"
     },
     "execution_count": 4,
     "metadata": {},
     "output_type": "execute_result"
    }
   ],
   "source": [
    "model.correct_digital_type()"
   ],
   "metadata": {
    "collapsed": false
   }
  },
  {
   "cell_type": "code",
   "execution_count": 8,
   "outputs": [
    {
     "name": "stderr",
     "output_type": "stream",
     "text": [
      "/Users/zechengli/Documents/davidsonlab/Modeling/Modeling.py:223: RuntimeWarning: invalid value encountered in divide\n",
      "  lst2 = (np.array(lst1) / np.array(sale_cost_lst)).tolist()\n"
     ]
    },
    {
     "data": {
      "text/plain": "             Power Dispatched (TWh)  Weighted Average Tariff (RMB/MWh)  \\\nAll Power                    127.65                         333.440580   \nCoal Power                   123.27                         326.975582   \nGas Power                      3.75                         563.000000   \nHydro Power                    0.63                         232.000000   \n\n             Estimated Gross Revenue (RMB/MWh)  \\\nAll Power                             42563.69   \nCoal Power                            40306.28   \nGas Power                              2111.25   \nHydro Power                             146.16   \n\n             Estimated Sales Cost (Million RMB)  Gross Profit (Million RMB)  \\\nAll Power                                 33160                     9403.69   \nCoal Power                                31095                     9211.28   \nGas Power                                  2065                      192.41   \nHydro Power                                2065                      192.41   \n\n            Gross Profitability  \nAll Power                28.36%  \nCoal Power               29.62%  \nGas Power                 9.32%  \nHydro Power               9.32%  ",
      "text/html": "<div>\n<style scoped>\n    .dataframe tbody tr th:only-of-type {\n        vertical-align: middle;\n    }\n\n    .dataframe tbody tr th {\n        vertical-align: top;\n    }\n\n    .dataframe thead th {\n        text-align: right;\n    }\n</style>\n<table border=\"1\" class=\"dataframe\">\n  <thead>\n    <tr style=\"text-align: right;\">\n      <th></th>\n      <th>Power Dispatched (TWh)</th>\n      <th>Weighted Average Tariff (RMB/MWh)</th>\n      <th>Estimated Gross Revenue (RMB/MWh)</th>\n      <th>Estimated Sales Cost (Million RMB)</th>\n      <th>Gross Profit (Million RMB)</th>\n      <th>Gross Profitability</th>\n    </tr>\n  </thead>\n  <tbody>\n    <tr>\n      <th>All Power</th>\n      <td>127.65</td>\n      <td>333.440580</td>\n      <td>42563.69</td>\n      <td>33160</td>\n      <td>9403.69</td>\n      <td>28.36%</td>\n    </tr>\n    <tr>\n      <th>Coal Power</th>\n      <td>123.27</td>\n      <td>326.975582</td>\n      <td>40306.28</td>\n      <td>31095</td>\n      <td>9211.28</td>\n      <td>29.62%</td>\n    </tr>\n    <tr>\n      <th>Gas Power</th>\n      <td>3.75</td>\n      <td>563.000000</td>\n      <td>2111.25</td>\n      <td>2065</td>\n      <td>192.41</td>\n      <td>9.32%</td>\n    </tr>\n    <tr>\n      <th>Hydro Power</th>\n      <td>0.63</td>\n      <td>232.000000</td>\n      <td>146.16</td>\n      <td>2065</td>\n      <td>192.41</td>\n      <td>9.32%</td>\n    </tr>\n  </tbody>\n</table>\n</div>"
     },
     "execution_count": 8,
     "metadata": {},
     "output_type": "execute_result"
    }
   ],
   "source": [
    "params = {\n",
    "    \"types\": \"power\",\n",
    "    \"pct\": 0.5,\n",
    "    \"year\": 2020,\n",
    "    \"coal_price\": None, # default is none\n",
    "    \"coal_power\": True,\n",
    "    \"coal_purchase\": False,\n",
    "    \"coal_transportation\": False\n",
    "}\n",
    "\n",
    "table = model.scenario(**params)\n",
    "table"
   ],
   "metadata": {
    "collapsed": false
   }
  },
  {
   "cell_type": "code",
   "execution_count": 10,
   "outputs": [
    {
     "data": {
      "text/plain": "                                   Reduced by 50%\nPower Dispatched (TWh)                     61.635\nWeighted Average Tariff (RMB/MWh)      326.975582\nEstimated Gross Revenue (RMB/MWh)        20153.14\nEstimated Sales Cost (Million RMB)      19542.399\nGross Profit (Million RMB)                610.741\nGross Profitability                         3.13%",
      "text/html": "<div>\n<style scoped>\n    .dataframe tbody tr th:only-of-type {\n        vertical-align: middle;\n    }\n\n    .dataframe tbody tr th {\n        vertical-align: top;\n    }\n\n    .dataframe thead th {\n        text-align: right;\n    }\n</style>\n<table border=\"1\" class=\"dataframe\">\n  <thead>\n    <tr style=\"text-align: right;\">\n      <th></th>\n      <th>Reduced by 50%</th>\n    </tr>\n  </thead>\n  <tbody>\n    <tr>\n      <th>Power Dispatched (TWh)</th>\n      <td>61.635</td>\n    </tr>\n    <tr>\n      <th>Weighted Average Tariff (RMB/MWh)</th>\n      <td>326.975582</td>\n    </tr>\n    <tr>\n      <th>Estimated Gross Revenue (RMB/MWh)</th>\n      <td>20153.14</td>\n    </tr>\n    <tr>\n      <th>Estimated Sales Cost (Million RMB)</th>\n      <td>19542.399</td>\n    </tr>\n    <tr>\n      <th>Gross Profit (Million RMB)</th>\n      <td>610.741</td>\n    </tr>\n    <tr>\n      <th>Gross Profitability</th>\n      <td>3.13%</td>\n    </tr>\n  </tbody>\n</table>\n</div>"
     },
     "execution_count": 10,
     "metadata": {},
     "output_type": "execute_result"
    }
   ],
   "source": [
    "model.case"
   ],
   "metadata": {
    "collapsed": false
   }
  },
  {
   "cell_type": "code",
   "execution_count": 16,
   "outputs": [
    {
     "name": "stderr",
     "output_type": "stream",
     "text": [
      "/Users/zechengli/Documents/davidsonlab/Modeling/Modeling.py:223: RuntimeWarning: invalid value encountered in divide\n",
      "  lst2 = (np.array(lst1) / np.array(sale_cost_lst)).tolist()\n"
     ]
    },
    {
     "data": {
      "text/plain": "             Power Dispatched (TWh)  Weighted Average Tariff (RMB/MWh)  \\\nAll Power                    130.33                              343.0   \nCoal Power                   126.52                              343.0   \nGas Power                      3.81                              343.0   \nHydro Power                    0.00                              343.0   \n\n             Estimated Gross Revenue (RMB/MWh)  \\\nAll Power                             44012.16   \nCoal Power                            41829.03   \nGas Power                              2183.13   \nHydro Power                               0.00   \n\n             Estimated Sales Cost (Million RMB)  Gross Profit (Million RMB)  \\\nAll Power                                   NaN                         NaN   \nCoal Power                              33560.0                     8269.03   \nGas Power                                   NaN                         NaN   \nHydro Power                                 NaN                         NaN   \n\n            Gross Profitability  \nAll Power                  nan%  \nCoal Power               24.64%  \nGas Power                  nan%  \nHydro Power                nan%  ",
      "text/html": "<div>\n<style scoped>\n    .dataframe tbody tr th:only-of-type {\n        vertical-align: middle;\n    }\n\n    .dataframe tbody tr th {\n        vertical-align: top;\n    }\n\n    .dataframe thead th {\n        text-align: right;\n    }\n</style>\n<table border=\"1\" class=\"dataframe\">\n  <thead>\n    <tr style=\"text-align: right;\">\n      <th></th>\n      <th>Power Dispatched (TWh)</th>\n      <th>Weighted Average Tariff (RMB/MWh)</th>\n      <th>Estimated Gross Revenue (RMB/MWh)</th>\n      <th>Estimated Sales Cost (Million RMB)</th>\n      <th>Gross Profit (Million RMB)</th>\n      <th>Gross Profitability</th>\n    </tr>\n  </thead>\n  <tbody>\n    <tr>\n      <th>All Power</th>\n      <td>130.33</td>\n      <td>343.0</td>\n      <td>44012.16</td>\n      <td>NaN</td>\n      <td>NaN</td>\n      <td>nan%</td>\n    </tr>\n    <tr>\n      <th>Coal Power</th>\n      <td>126.52</td>\n      <td>343.0</td>\n      <td>41829.03</td>\n      <td>33560.0</td>\n      <td>8269.03</td>\n      <td>24.64%</td>\n    </tr>\n    <tr>\n      <th>Gas Power</th>\n      <td>3.81</td>\n      <td>343.0</td>\n      <td>2183.13</td>\n      <td>NaN</td>\n      <td>NaN</td>\n      <td>nan%</td>\n    </tr>\n    <tr>\n      <th>Hydro Power</th>\n      <td>0.00</td>\n      <td>343.0</td>\n      <td>0.00</td>\n      <td>NaN</td>\n      <td>NaN</td>\n      <td>nan%</td>\n    </tr>\n  </tbody>\n</table>\n</div>"
     },
     "execution_count": 16,
     "metadata": {},
     "output_type": "execute_result"
    }
   ],
   "source": [
    "params = {\n",
    "    \"types\": \"power\",\n",
    "    \"pct\": 0.5,\n",
    "    \"year\": 2019,\n",
    "    \"coal_price\": 343.0,\n",
    "    \"coal_power\": True,\n",
    "    \"coal_purchase\": False,\n",
    "    \"coal_transportation\": False\n",
    "}\n",
    "\n",
    "model.scenario(**params)"
   ],
   "metadata": {
    "collapsed": false
   }
  },
  {
   "cell_type": "code",
   "execution_count": 17,
   "outputs": [
    {
     "data": {
      "text/plain": "                                   Reduced by 50%\nPower Dispatched (TWh)                      63.26\nWeighted Average Tariff (RMB/MWh)           343.0\nEstimated Gross Revenue (RMB/MWh)        21698.18\nEstimated Sales Cost (Million RMB)      25409.684\nGross Profit (Million RMB)              -3711.504\nGross Profitability                       -14.61%",
      "text/html": "<div>\n<style scoped>\n    .dataframe tbody tr th:only-of-type {\n        vertical-align: middle;\n    }\n\n    .dataframe tbody tr th {\n        vertical-align: top;\n    }\n\n    .dataframe thead th {\n        text-align: right;\n    }\n</style>\n<table border=\"1\" class=\"dataframe\">\n  <thead>\n    <tr style=\"text-align: right;\">\n      <th></th>\n      <th>Reduced by 50%</th>\n    </tr>\n  </thead>\n  <tbody>\n    <tr>\n      <th>Power Dispatched (TWh)</th>\n      <td>63.26</td>\n    </tr>\n    <tr>\n      <th>Weighted Average Tariff (RMB/MWh)</th>\n      <td>343.0</td>\n    </tr>\n    <tr>\n      <th>Estimated Gross Revenue (RMB/MWh)</th>\n      <td>21698.18</td>\n    </tr>\n    <tr>\n      <th>Estimated Sales Cost (Million RMB)</th>\n      <td>25409.684</td>\n    </tr>\n    <tr>\n      <th>Gross Profit (Million RMB)</th>\n      <td>-3711.504</td>\n    </tr>\n    <tr>\n      <th>Gross Profitability</th>\n      <td>-14.61%</td>\n    </tr>\n  </tbody>\n</table>\n</div>"
     },
     "execution_count": 17,
     "metadata": {},
     "output_type": "execute_result"
    }
   ],
   "source": [
    "model.case"
   ],
   "metadata": {
    "collapsed": false
   }
  },
  {
   "cell_type": "code",
   "execution_count": 19,
   "outputs": [],
   "source": [
    "# model.elec_cost\n",
    "\n"
   ],
   "metadata": {
    "collapsed": false
   }
  }
 ],
 "metadata": {
  "kernelspec": {
   "display_name": "Python 3",
   "language": "python",
   "name": "python3"
  },
  "language_info": {
   "codemirror_mode": {
    "name": "ipython",
    "version": 2
   },
   "file_extension": ".py",
   "mimetype": "text/x-python",
   "name": "python",
   "nbconvert_exporter": "python",
   "pygments_lexer": "ipython2",
   "version": "2.7.6"
  }
 },
 "nbformat": 4,
 "nbformat_minor": 0
}
