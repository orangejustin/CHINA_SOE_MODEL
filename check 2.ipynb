{
 "cells": [
  {
   "cell_type": "code",
   "execution_count": 9,
   "metadata": {
    "collapsed": true
   },
   "outputs": [
    {
     "name": "stdout",
     "output_type": "stream",
     "text": [
      "The autoreload extension is already loaded. To reload it, use:\n",
      "  %reload_ext autoreload\n"
     ]
    }
   ],
   "source": [
    "from Modeling import soeModel\n",
    "%load_ext autoreload\n",
    "%autoreload 2"
   ]
  },
  {
   "cell_type": "code",
   "execution_count": 10,
   "outputs": [
    {
     "data": {
      "text/plain": "<Modeling.soeModel at 0x10be00790>"
     },
     "execution_count": 10,
     "metadata": {},
     "output_type": "execute_result"
    }
   ],
   "source": [
    "model = soeModel()\n",
    "model.preprocessing()\n",
    "model.translate_cells('local_dictionary.json', False)\n",
    "model.correct_digital_type()"
   ],
   "metadata": {
    "collapsed": false
   }
  },
  {
   "cell_type": "code",
   "execution_count": 11,
   "outputs": [],
   "source": [
    "data = model.types(2020)"
   ],
   "metadata": {
    "collapsed": false
   }
  },
  {
   "cell_type": "code",
   "execution_count": 12,
   "outputs": [
    {
     "data": {
      "text/plain": "                    Sales Volume  Average Coal Price  Gross Revenue  \\\ncoal sales                 446.4               410.0       183024.0   \nself-produced coal         296.0               410.0       121360.0   \npurchased coal             150.4               410.0        61664.0   \n\n                    Estimated Sales Cost  Gross Profit Gross Profitability  \ncoal sales                 137871.000000  45153.000000              24.67%  \nself-produced coal          71758.541219  49601.458781              40.87%  \npurchased coal              66112.458781  -4448.458781              -7.21%  ",
      "text/html": "<div>\n<style scoped>\n    .dataframe tbody tr th:only-of-type {\n        vertical-align: middle;\n    }\n\n    .dataframe tbody tr th {\n        vertical-align: top;\n    }\n\n    .dataframe thead th {\n        text-align: right;\n    }\n</style>\n<table border=\"1\" class=\"dataframe\">\n  <thead>\n    <tr style=\"text-align: right;\">\n      <th></th>\n      <th>Sales Volume</th>\n      <th>Average Coal Price</th>\n      <th>Gross Revenue</th>\n      <th>Estimated Sales Cost</th>\n      <th>Gross Profit</th>\n      <th>Gross Profitability</th>\n    </tr>\n  </thead>\n  <tbody>\n    <tr>\n      <th>coal sales</th>\n      <td>446.4</td>\n      <td>410.0</td>\n      <td>183024.0</td>\n      <td>137871.000000</td>\n      <td>45153.000000</td>\n      <td>24.67%</td>\n    </tr>\n    <tr>\n      <th>self-produced coal</th>\n      <td>296.0</td>\n      <td>410.0</td>\n      <td>121360.0</td>\n      <td>71758.541219</td>\n      <td>49601.458781</td>\n      <td>40.87%</td>\n    </tr>\n    <tr>\n      <th>purchased coal</th>\n      <td>150.4</td>\n      <td>410.0</td>\n      <td>61664.0</td>\n      <td>66112.458781</td>\n      <td>-4448.458781</td>\n      <td>-7.21%</td>\n    </tr>\n  </tbody>\n</table>\n</div>"
     },
     "execution_count": 12,
     "metadata": {},
     "output_type": "execute_result"
    }
   ],
   "source": [
    "model.types_case(data, year=2018, coal_price=None, pct=0.5, reduce_self_produced=True, reduce_purchased=False, cut_purchased_coal=True)"
   ],
   "metadata": {
    "collapsed": false
   }
  },
  {
   "cell_type": "code",
   "execution_count": 5,
   "outputs": [],
   "source": [
    "# for i in [2018,2019]"
   ],
   "metadata": {
    "collapsed": false
   }
  },
  {
   "cell_type": "code",
   "execution_count": 6,
   "outputs": [
    {
     "data": {
      "text/plain": "                          Reduced by 50%\nSelf Produced Coal Volume          223.2\nPurchased Coal Volume                  0\nTotal Coal Volume                  223.2\nAverage Coal Price                 410.0\nSales Revenue                    91512.0\nSales Cost                  61408.264865\nGross Sales Profit          30103.735135\nGross Profitability               32.90%",
      "text/html": "<div>\n<style scoped>\n    .dataframe tbody tr th:only-of-type {\n        vertical-align: middle;\n    }\n\n    .dataframe tbody tr th {\n        vertical-align: top;\n    }\n\n    .dataframe thead th {\n        text-align: right;\n    }\n</style>\n<table border=\"1\" class=\"dataframe\">\n  <thead>\n    <tr style=\"text-align: right;\">\n      <th></th>\n      <th>Reduced by 50%</th>\n    </tr>\n  </thead>\n  <tbody>\n    <tr>\n      <th>Self Produced Coal Volume</th>\n      <td>223.2</td>\n    </tr>\n    <tr>\n      <th>Purchased Coal Volume</th>\n      <td>0</td>\n    </tr>\n    <tr>\n      <th>Total Coal Volume</th>\n      <td>223.2</td>\n    </tr>\n    <tr>\n      <th>Average Coal Price</th>\n      <td>410.0</td>\n    </tr>\n    <tr>\n      <th>Sales Revenue</th>\n      <td>91512.0</td>\n    </tr>\n    <tr>\n      <th>Sales Cost</th>\n      <td>61408.264865</td>\n    </tr>\n    <tr>\n      <th>Gross Sales Profit</th>\n      <td>30103.735135</td>\n    </tr>\n    <tr>\n      <th>Gross Profitability</th>\n      <td>32.90%</td>\n    </tr>\n  </tbody>\n</table>\n</div>"
     },
     "execution_count": 6,
     "metadata": {},
     "output_type": "execute_result"
    }
   ],
   "source": [
    "model.case"
   ],
   "metadata": {
    "collapsed": false
   }
  },
  {
   "cell_type": "code",
   "execution_count": 13,
   "outputs": [
    {
     "data": {
      "text/plain": "             Power Dispatched (TWh)  Weighted Average Tariff (RMB/MWh)  \\\nAll Power                    127.65                         333.440580   \nCoal Power                   123.27                         326.975582   \nGas Power                      3.75                         563.000000   \nHydro Power                    0.63                         232.000000   \n\n             Estimated Gross Revenue (RMB/MWh)  \\\nAll Power                             42563.69   \nCoal Power                            40306.28   \nGas Power                              2111.25   \nHydro Power                             146.16   \n\n             Estimated Sales Cost (Million RMB)  Gross Profit (Million RMB)  \\\nAll Power                               33160.0                     9403.69   \nCoal Power                              31095.0                     9211.28   \nGas Power                                2065.0                      192.41   \nHydro Power                              2065.0                      192.41   \n\n            Gross Profitability  \nAll Power                22.09%  \nCoal Power               22.85%  \nGas Power                 9.11%  \nHydro Power             131.64%  ",
      "text/html": "<div>\n<style scoped>\n    .dataframe tbody tr th:only-of-type {\n        vertical-align: middle;\n    }\n\n    .dataframe tbody tr th {\n        vertical-align: top;\n    }\n\n    .dataframe thead th {\n        text-align: right;\n    }\n</style>\n<table border=\"1\" class=\"dataframe\">\n  <thead>\n    <tr style=\"text-align: right;\">\n      <th></th>\n      <th>Power Dispatched (TWh)</th>\n      <th>Weighted Average Tariff (RMB/MWh)</th>\n      <th>Estimated Gross Revenue (RMB/MWh)</th>\n      <th>Estimated Sales Cost (Million RMB)</th>\n      <th>Gross Profit (Million RMB)</th>\n      <th>Gross Profitability</th>\n    </tr>\n  </thead>\n  <tbody>\n    <tr>\n      <th>All Power</th>\n      <td>127.65</td>\n      <td>333.440580</td>\n      <td>42563.69</td>\n      <td>33160.0</td>\n      <td>9403.69</td>\n      <td>22.09%</td>\n    </tr>\n    <tr>\n      <th>Coal Power</th>\n      <td>123.27</td>\n      <td>326.975582</td>\n      <td>40306.28</td>\n      <td>31095.0</td>\n      <td>9211.28</td>\n      <td>22.85%</td>\n    </tr>\n    <tr>\n      <th>Gas Power</th>\n      <td>3.75</td>\n      <td>563.000000</td>\n      <td>2111.25</td>\n      <td>2065.0</td>\n      <td>192.41</td>\n      <td>9.11%</td>\n    </tr>\n    <tr>\n      <th>Hydro Power</th>\n      <td>0.63</td>\n      <td>232.000000</td>\n      <td>146.16</td>\n      <td>2065.0</td>\n      <td>192.41</td>\n      <td>131.64%</td>\n    </tr>\n  </tbody>\n</table>\n</div>"
     },
     "execution_count": 13,
     "metadata": {},
     "output_type": "execute_result"
    }
   ],
   "source": [
    "model.power_case(model.power(2020), year=2020, coal_price=None, pct=0.5)"
   ],
   "metadata": {
    "collapsed": false
   }
  },
  {
   "cell_type": "code",
   "execution_count": 8,
   "outputs": [
    {
     "data": {
      "text/plain": "                                   Reduced by 50%\nPower Dispatched (TWh)                     61.635\nWeighted Average Tariff (RMB/MWh)      326.975582\nEstimated Gross Revenue (RMB/MWh)        20153.14\nEstimated Sales Cost (Million RMB)      19542.399\nGross Profit (Million RMB)                610.741\nGross Profitability                         3.03%",
      "text/html": "<div>\n<style scoped>\n    .dataframe tbody tr th:only-of-type {\n        vertical-align: middle;\n    }\n\n    .dataframe tbody tr th {\n        vertical-align: top;\n    }\n\n    .dataframe thead th {\n        text-align: right;\n    }\n</style>\n<table border=\"1\" class=\"dataframe\">\n  <thead>\n    <tr style=\"text-align: right;\">\n      <th></th>\n      <th>Reduced by 50%</th>\n    </tr>\n  </thead>\n  <tbody>\n    <tr>\n      <th>Power Dispatched (TWh)</th>\n      <td>61.635</td>\n    </tr>\n    <tr>\n      <th>Weighted Average Tariff (RMB/MWh)</th>\n      <td>326.975582</td>\n    </tr>\n    <tr>\n      <th>Estimated Gross Revenue (RMB/MWh)</th>\n      <td>20153.14</td>\n    </tr>\n    <tr>\n      <th>Estimated Sales Cost (Million RMB)</th>\n      <td>19542.399</td>\n    </tr>\n    <tr>\n      <th>Gross Profit (Million RMB)</th>\n      <td>610.741</td>\n    </tr>\n    <tr>\n      <th>Gross Profitability</th>\n      <td>3.03%</td>\n    </tr>\n  </tbody>\n</table>\n</div>"
     },
     "execution_count": 8,
     "metadata": {},
     "output_type": "execute_result"
    }
   ],
   "source": [
    "model.case"
   ],
   "metadata": {
    "collapsed": false
   }
  }
 ],
 "metadata": {
  "kernelspec": {
   "display_name": "Python 3",
   "language": "python",
   "name": "python3"
  },
  "language_info": {
   "codemirror_mode": {
    "name": "ipython",
    "version": 2
   },
   "file_extension": ".py",
   "mimetype": "text/x-python",
   "name": "python",
   "nbconvert_exporter": "python",
   "pygments_lexer": "ipython2",
   "version": "2.7.6"
  }
 },
 "nbformat": 4,
 "nbformat_minor": 0
}
